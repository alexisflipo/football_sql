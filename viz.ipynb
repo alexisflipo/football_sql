{
 "cells": [
  {
   "cell_type": "code",
   "execution_count": 1,
   "metadata": {
    "ExecuteTime": {
     "end_time": "2021-07-16T07:35:55.576051Z",
     "start_time": "2021-07-16T07:35:53.877484Z"
    }
   },
   "outputs": [],
   "source": [
    "import numpy as np\n",
    "import pandas as pd\n",
    "import seaborn as sns\n",
    "import matplotlib.pyplot as plt\n",
    "import sqlite3\n",
    "from datetime import datetime"
   ]
  },
  {
   "cell_type": "code",
   "execution_count": 2,
   "metadata": {
    "ExecuteTime": {
     "end_time": "2021-07-16T07:35:55.594425Z",
     "start_time": "2021-07-16T07:35:55.590036Z"
    }
   },
   "outputs": [],
   "source": [
    "con=sqlite3.connect('final_db.sqlite')\n",
    "cursor = con.cursor()"
   ]
  },
  {
   "cell_type": "code",
   "execution_count": 3,
   "metadata": {
    "ExecuteTime": {
     "end_time": "2021-07-16T07:35:55.607272Z",
     "start_time": "2021-07-16T07:35:55.597340Z"
    }
   },
   "outputs": [],
   "source": [
    "df = pd.read_pickle('df.pkl')\n",
    "players = pd.read_pickle('players.pkl')\n",
    "df_teams = pd.read_pickle('df_teams.pkl')"
   ]
  },
  {
   "cell_type": "code",
   "execution_count": 4,
   "metadata": {
    "ExecuteTime": {
     "end_time": "2021-07-16T07:35:55.616992Z",
     "start_time": "2021-07-16T07:35:55.609815Z"
    }
   },
   "outputs": [
    {
     "data": {
      "text/plain": [
       "Index(['Equipe domicile', 'Equipe exterieure', 'Vainqueur', 'Score domicile',\n",
       "       'Score extérieur', 'Buteurs', 'Lieu du match', 'Journée', 'Région',\n",
       "       'Temperature moyenne', 'Précipitations en mm', 'Date'],\n",
       "      dtype='object')"
      ]
     },
     "execution_count": 4,
     "metadata": {},
     "output_type": "execute_result"
    }
   ],
   "source": [
    "df.columns"
   ]
  },
  {
   "cell_type": "code",
   "execution_count": 5,
   "metadata": {
    "ExecuteTime": {
     "end_time": "2021-07-16T07:35:55.739876Z",
     "start_time": "2021-07-16T07:35:55.619562Z"
    }
   },
   "outputs": [],
   "source": [
    "df_viz = pd.read_sql(\"\"\"SELECT * FROM matchs\"\"\", con)"
   ]
  },
  {
   "cell_type": "code",
   "execution_count": null,
   "metadata": {
    "ExecuteTime": {
     "end_time": "2021-07-15T06:31:01.781165Z",
     "start_time": "2021-07-15T06:31:01.762311Z"
    }
   },
   "outputs": [],
   "source": []
  },
  {
   "cell_type": "code",
   "execution_count": null,
   "metadata": {},
   "outputs": [],
   "source": []
  },
  {
   "cell_type": "code",
   "execution_count": 6,
   "metadata": {
    "ExecuteTime": {
     "end_time": "2021-07-16T07:35:55.755647Z",
     "start_time": "2021-07-16T07:35:55.746393Z"
    }
   },
   "outputs": [],
   "source": [
    "df_goals_players = pd.read_sql(\"\"\"SELECT players.name, matchs.temperature, matchs.rainfall, matchs.date, matchs.place\n",
    "                            FROM matchs\n",
    "                            JOIN goals\n",
    "                            ON goals.match_id = matchs.id\n",
    "                            JOIN players\n",
    "                            ON players.id = goals.player_id\"\"\",con)"
   ]
  },
  {
   "cell_type": "code",
   "execution_count": 7,
   "metadata": {
    "ExecuteTime": {
     "end_time": "2021-07-16T07:35:55.765024Z",
     "start_time": "2021-07-16T07:35:55.761901Z"
    }
   },
   "outputs": [],
   "source": [
    "## On doit avoir les dates, les buts par date, l'équipe correspondante et la météo\n",
    "## "
   ]
  },
  {
   "cell_type": "code",
   "execution_count": 8,
   "metadata": {
    "ExecuteTime": {
     "end_time": "2021-07-16T07:35:55.769970Z",
     "start_time": "2021-07-16T07:35:55.767279Z"
    }
   },
   "outputs": [],
   "source": [
    "# df_goals_per_match = pd.read_sql(\"\"\"SELECT * FROM match_teams\n",
    "#                                 \"\"\",con)"
   ]
  },
  {
   "cell_type": "code",
   "execution_count": 24,
   "metadata": {
    "ExecuteTime": {
     "end_time": "2021-07-16T08:05:56.955380Z",
     "start_time": "2021-07-16T08:05:56.912721Z"
    }
   },
   "outputs": [],
   "source": [
    "teams_goals_and_meteo = pd.read_sql(\"\"\"SELECT teams.id, teams.name, match_teams.goal, match_teams.match_id, matchs.temperature, matchs.rainfall\n",
    "                                    FROM teams\n",
    "                                    JOIN match_teams \n",
    "                                    ON teams.id = team_id\n",
    "                                    JOIN matchs \n",
    "                                    ON matchs.id = match_teams.match_id\"\"\",con)"
   ]
  },
  {
   "cell_type": "code",
   "execution_count": 119,
   "metadata": {
    "ExecuteTime": {
     "end_time": "2021-07-16T09:58:54.258496Z",
     "start_time": "2021-07-16T09:58:54.236747Z"
    }
   },
   "outputs": [],
   "source": [
    "player_goals_and_meteo = pd.read_sql(\"\"\"\n",
    "                                    SELECT players.id, players.name, goals.match_id, matchs.temperature, matchs.rainfall, COUNT(players.name) as goal\n",
    "                                    FROM players\n",
    "                                    JOIN goals\n",
    "                                    ON players.id= goals.player_id\n",
    "                                    JOIN matchs \n",
    "                                    ON matchs.id = goals.match_id\n",
    "                                    GROUP BY match_id, players.name\n",
    "                                    \"\"\",con)"
   ]
  },
  {
   "cell_type": "code",
   "execution_count": null,
   "metadata": {},
   "outputs": [],
   "source": [
    "player_name = input(\"Tape le nom du joueur\")"
   ]
  },
  {
   "cell_type": "code",
   "execution_count": 120,
   "metadata": {
    "ExecuteTime": {
     "end_time": "2021-07-16T09:59:01.709442Z",
     "start_time": "2021-07-16T09:59:01.705421Z"
    }
   },
   "outputs": [],
   "source": [
    "player =player_goals_and_meteo[player_goals_and_meteo['name'] == player_name]"
   ]
  },
  {
   "cell_type": "code",
   "execution_count": 121,
   "metadata": {
    "ExecuteTime": {
     "end_time": "2021-07-16T09:59:03.115289Z",
     "start_time": "2021-07-16T09:59:03.079602Z"
    }
   },
   "outputs": [
    {
     "data": {
      "text/html": [
       "<div>\n",
       "<style scoped>\n",
       "    .dataframe tbody tr th:only-of-type {\n",
       "        vertical-align: middle;\n",
       "    }\n",
       "\n",
       "    .dataframe tbody tr th {\n",
       "        vertical-align: top;\n",
       "    }\n",
       "\n",
       "    .dataframe thead th {\n",
       "        text-align: right;\n",
       "    }\n",
       "</style>\n",
       "<table border=\"1\" class=\"dataframe\">\n",
       "  <thead>\n",
       "    <tr style=\"text-align: right;\">\n",
       "      <th></th>\n",
       "      <th>id</th>\n",
       "      <th>name</th>\n",
       "      <th>match_id</th>\n",
       "      <th>temperature</th>\n",
       "      <th>rainfall</th>\n",
       "      <th>goal</th>\n",
       "    </tr>\n",
       "  </thead>\n",
       "  <tbody>\n",
       "    <tr>\n",
       "      <th>69</th>\n",
       "      <td>64</td>\n",
       "      <td>K. Mbappé</td>\n",
       "      <td>34</td>\n",
       "      <td>23.0</td>\n",
       "      <td>16.0</td>\n",
       "      <td>1</td>\n",
       "    </tr>\n",
       "    <tr>\n",
       "      <th>117</th>\n",
       "      <td>64</td>\n",
       "      <td>K. Mbappé</td>\n",
       "      <td>51</td>\n",
       "      <td>13.5</td>\n",
       "      <td>31.0</td>\n",
       "      <td>1</td>\n",
       "    </tr>\n",
       "    <tr>\n",
       "      <th>142</th>\n",
       "      <td>64</td>\n",
       "      <td>K. Mbappé</td>\n",
       "      <td>62</td>\n",
       "      <td>12.5</td>\n",
       "      <td>0.0</td>\n",
       "      <td>2</td>\n",
       "    </tr>\n",
       "    <tr>\n",
       "      <th>174</th>\n",
       "      <td>64</td>\n",
       "      <td>K. Mbappé</td>\n",
       "      <td>73</td>\n",
       "      <td>14.5</td>\n",
       "      <td>1.0</td>\n",
       "      <td>2</td>\n",
       "    </tr>\n",
       "    <tr>\n",
       "      <th>196</th>\n",
       "      <td>64</td>\n",
       "      <td>K. Mbappé</td>\n",
       "      <td>82</td>\n",
       "      <td>14.0</td>\n",
       "      <td>0.0</td>\n",
       "      <td>1</td>\n",
       "    </tr>\n",
       "    <tr>\n",
       "      <th>243</th>\n",
       "      <td>64</td>\n",
       "      <td>K. Mbappé</td>\n",
       "      <td>102</td>\n",
       "      <td>14.5</td>\n",
       "      <td>3.0</td>\n",
       "      <td>2</td>\n",
       "    </tr>\n",
       "    <tr>\n",
       "      <th>298</th>\n",
       "      <td>64</td>\n",
       "      <td>K. Mbappé</td>\n",
       "      <td>123</td>\n",
       "      <td>8.0</td>\n",
       "      <td>0.0</td>\n",
       "      <td>1</td>\n",
       "    </tr>\n",
       "    <tr>\n",
       "      <th>355</th>\n",
       "      <td>64</td>\n",
       "      <td>K. Mbappé</td>\n",
       "      <td>147</td>\n",
       "      <td>8.5</td>\n",
       "      <td>0.0</td>\n",
       "      <td>1</td>\n",
       "    </tr>\n",
       "    <tr>\n",
       "      <th>414</th>\n",
       "      <td>64</td>\n",
       "      <td>K. Mbappé</td>\n",
       "      <td>168</td>\n",
       "      <td>12.5</td>\n",
       "      <td>18.0</td>\n",
       "      <td>1</td>\n",
       "    </tr>\n",
       "    <tr>\n",
       "      <th>493</th>\n",
       "      <td>64</td>\n",
       "      <td>K. Mbappé</td>\n",
       "      <td>201</td>\n",
       "      <td>6.0</td>\n",
       "      <td>12.0</td>\n",
       "      <td>2</td>\n",
       "    </tr>\n",
       "    <tr>\n",
       "      <th>552</th>\n",
       "      <td>64</td>\n",
       "      <td>K. Mbappé</td>\n",
       "      <td>227</td>\n",
       "      <td>11.0</td>\n",
       "      <td>12.0</td>\n",
       "      <td>1</td>\n",
       "    </tr>\n",
       "    <tr>\n",
       "      <th>583</th>\n",
       "      <td>64</td>\n",
       "      <td>K. Mbappé</td>\n",
       "      <td>240</td>\n",
       "      <td>11.5</td>\n",
       "      <td>4.0</td>\n",
       "      <td>1</td>\n",
       "    </tr>\n",
       "    <tr>\n",
       "      <th>638</th>\n",
       "      <td>64</td>\n",
       "      <td>K. Mbappé</td>\n",
       "      <td>263</td>\n",
       "      <td>7.5</td>\n",
       "      <td>3.0</td>\n",
       "      <td>2</td>\n",
       "    </tr>\n",
       "    <tr>\n",
       "      <th>724</th>\n",
       "      <td>64</td>\n",
       "      <td>K. Mbappé</td>\n",
       "      <td>300</td>\n",
       "      <td>4.0</td>\n",
       "      <td>0.0</td>\n",
       "      <td>2</td>\n",
       "    </tr>\n",
       "    <tr>\n",
       "      <th>751</th>\n",
       "      <td>64</td>\n",
       "      <td>K. Mbappé</td>\n",
       "      <td>312</td>\n",
       "      <td>13.0</td>\n",
       "      <td>3.0</td>\n",
       "      <td>1</td>\n",
       "    </tr>\n",
       "    <tr>\n",
       "      <th>785</th>\n",
       "      <td>64</td>\n",
       "      <td>K. Mbappé</td>\n",
       "      <td>324</td>\n",
       "      <td>8.5</td>\n",
       "      <td>0.0</td>\n",
       "      <td>2</td>\n",
       "    </tr>\n",
       "    <tr>\n",
       "      <th>805</th>\n",
       "      <td>64</td>\n",
       "      <td>K. Mbappé</td>\n",
       "      <td>333</td>\n",
       "      <td>10.0</td>\n",
       "      <td>0.0</td>\n",
       "      <td>2</td>\n",
       "    </tr>\n",
       "    <tr>\n",
       "      <th>890</th>\n",
       "      <td>64</td>\n",
       "      <td>K. Mbappé</td>\n",
       "      <td>362</td>\n",
       "      <td>13.0</td>\n",
       "      <td>3.0</td>\n",
       "      <td>1</td>\n",
       "    </tr>\n",
       "    <tr>\n",
       "      <th>917</th>\n",
       "      <td>64</td>\n",
       "      <td>K. Mbappé</td>\n",
       "      <td>372</td>\n",
       "      <td>10.5</td>\n",
       "      <td>11.0</td>\n",
       "      <td>1</td>\n",
       "    </tr>\n",
       "  </tbody>\n",
       "</table>\n",
       "</div>"
      ],
      "text/plain": [
       "     id       name  match_id  temperature  rainfall  goal\n",
       "69   64  K. Mbappé        34         23.0      16.0     1\n",
       "117  64  K. Mbappé        51         13.5      31.0     1\n",
       "142  64  K. Mbappé        62         12.5       0.0     2\n",
       "174  64  K. Mbappé        73         14.5       1.0     2\n",
       "196  64  K. Mbappé        82         14.0       0.0     1\n",
       "243  64  K. Mbappé       102         14.5       3.0     2\n",
       "298  64  K. Mbappé       123          8.0       0.0     1\n",
       "355  64  K. Mbappé       147          8.5       0.0     1\n",
       "414  64  K. Mbappé       168         12.5      18.0     1\n",
       "493  64  K. Mbappé       201          6.0      12.0     2\n",
       "552  64  K. Mbappé       227         11.0      12.0     1\n",
       "583  64  K. Mbappé       240         11.5       4.0     1\n",
       "638  64  K. Mbappé       263          7.5       3.0     2\n",
       "724  64  K. Mbappé       300          4.0       0.0     2\n",
       "751  64  K. Mbappé       312         13.0       3.0     1\n",
       "785  64  K. Mbappé       324          8.5       0.0     2\n",
       "805  64  K. Mbappé       333         10.0       0.0     2\n",
       "890  64  K. Mbappé       362         13.0       3.0     1\n",
       "917  64  K. Mbappé       372         10.5      11.0     1"
      ]
     },
     "execution_count": 121,
     "metadata": {},
     "output_type": "execute_result"
    }
   ],
   "source": [
    "player"
   ]
  },
  {
   "cell_type": "code",
   "execution_count": 124,
   "metadata": {
    "ExecuteTime": {
     "end_time": "2021-07-16T09:59:32.502779Z",
     "start_time": "2021-07-16T09:59:32.193705Z"
    }
   },
   "outputs": [
    {
     "data": {
      "text/plain": [
       "<AxesSubplot:xlabel='temperature', ylabel='goal'>"
      ]
     },
     "execution_count": 124,
     "metadata": {},
     "output_type": "execute_result"
    },
    {
     "data": {
      "image/png": "[encoded data removed]",
      "text/plain": [
       "<Figure size 864x576 with 1 Axes>"
      ]
     },
     "metadata": {
      "needs_background": "light"
     },
     "output_type": "display_data"
    }
   ],
   "source": [
    "plt.figure(figsize=(12,8))\n",
    "sns.lineplot(data=player, x=\"temperature\", y=\"goal\", err_style=None)"
   ]
  },
  {
   "cell_type": "code",
   "execution_count": 126,
   "metadata": {
    "ExecuteTime": {
     "end_time": "2021-07-16T10:00:51.030980Z",
     "start_time": "2021-07-16T10:00:50.748879Z"
    }
   },
   "outputs": [
    {
     "data": {
      "text/plain": [
       "(0.0, 5.0)"
      ]
     },
     "execution_count": 126,
     "metadata": {},
     "output_type": "execute_result"
    },
    {
     "data": {
      "image/png": "[encoded data removed]",
      "text/plain": [
       "<Figure size 864x576 with 1 Axes>"
      ]
     },
     "metadata": {
      "needs_background": "light"
     },
     "output_type": "display_data"
    }
   ],
   "source": [
    "plt.figure(figsize=(12,8))\n",
    "sns.lineplot(data=payer, x=\"rainfall\", y=\"goal\", err_style=None)\n",
    "plt.ylim(0,5)"
   ]
  },
  {
   "cell_type": "code",
   "execution_count": 60,
   "metadata": {
    "ExecuteTime": {
     "end_time": "2021-07-16T08:18:41.118667Z",
     "start_time": "2021-07-16T08:18:40.286933Z"
    }
   },
   "outputs": [
    {
     "data": {
      "text/plain": [
       "(0.0, 5.0)"
      ]
     },
     "execution_count": 60,
     "metadata": {},
     "output_type": "execute_result"
    },
    {
     "data": {
      "image/png": "[encoded data removed]",
      "text/plain": [
       "<Figure size 864x576 with 1 Axes>"
      ]
     },
     "metadata": {
      "needs_background": "light"
     },
     "output_type": "display_data"
    },
    {
     "data": {
      "image/png": "[encoded data removed]",
      "text/plain": [
       "<Figure size 864x576 with 1 Axes>"
      ]
     },
     "metadata": {
      "needs_background": "light"
     },
     "output_type": "display_data"
    }
   ],
   "source": [
    "plt.figure(figsize=(12,8))\n",
    "sns.lineplot(data=club_stats, x='temperature', y='goal', err_style=None)\n",
    "plt.ylim(0,7)\n",
    "plt.figure(figsize=(12,8))\n",
    "sns.lineplot(data=club_stats, x='rainfall', y='goal', err_style=None)\n",
    "plt.ylim(0,5)"
   ]
  },
  {
   "cell_type": "code",
   "execution_count": 133,
   "metadata": {
    "ExecuteTime": {
     "end_time": "2021-07-16T10:12:22.358602Z",
     "start_time": "2021-07-16T10:12:22.156942Z"
    },
    "scrolled": false
   },
   "outputs": [
    {
     "data": {
      "application/vnd.plotly.v1+json": {
       "config": {
        "plotlyServerURL": "https://plot.ly"
       },
       "data": [
        {
         "hovertemplate": "name=Bordeaux<br>temperature=%{x}<br>rainfall=%{y}<br>goal=%{marker.size}<extra></extra>",
         "legendgroup": "Bordeaux",
         "marker": {
          "color": "#636efa",
          "size": [
           0,
           0,
           0,
           3,
           2,
           0,
           1,
           1,
           1,
           2,
           2,
           0,
           0,
           1,
           0,
           2,
           0,
           1,
           3,
           2,
           1,
           1,
           0,
           1,
           2,
           1,
           2,
           0,
           3,
           1,
           1,
           0,
           3,
           1,
           1,
           1,
           0,
           2
          ],
          "sizemode": "area",
          "sizeref": 0.015,
          "symbol": "circle"
         },
         "mode": "markers",
         "name": "Bordeaux",
         "orientation": "v",
         "showlegend": true,
         "type": "scatter",
         "x": [
          22.5,
          23.5,
          11.5,
          13.5,
          14.5,
          17,
          8.5,
          10.5,
          13,
          2.5,
          8,
          13,
          8,
          9.5,
          14,
          11.5,
          12,
          12.5,
          14,
          13.5,
          20,
          15,
          17.5,
          7.5,
          9.5,
          5.5,
          7.5,
          0.5,
          8.5,
          11.5,
          5.5,
          12.5,
          4.5,
          8,
          11.5,
          13.5,
          16.5,
          10.5
         ],
         "xaxis": "x",
         "y": [
          5,
          0,
          1,
          13,
          7,
          4,
          4,
          1,
          1,
          0,
          7,
          3,
          0,
          0,
          0,
          0,
          0,
          1,
          8,
          1,
          1,
          0,
          0,
          0,
          0,
          1,
          14,
          2,
          1,
          11,
          1,
          0,
          3,
          0,
          14,
          0,
          1,
          1
         ],
         "yaxis": "y"
        },
        {
         "hovertemplate": "name=Dijon<br>temperature=%{x}<br>rainfall=%{y}<br>goal=%{marker.size}<extra></extra>",
         "legendgroup": "Dijon",
         "marker": {
          "color": "#EF553B",
          "size": [
           0,
           0,
           2,
           1,
           0,
           0,
           0,
           0,
           0,
           0,
           1,
           0,
           0,
           0,
           1,
           0,
           2,
           1,
           0,
           1,
           0,
           0,
           0,
           1,
           3,
           1,
           3,
           0,
           2,
           0,
           2,
           1,
           1,
           0,
           0,
           1,
           0,
           1
          ],
          "sizemode": "area",
          "sizeref": 0.015,
          "symbol": "circle"
         },
         "mode": "markers",
         "name": "Dijon",
         "orientation": "v",
         "showlegend": true,
         "type": "scatter",
         "x": [
          22,
          22,
          8,
          10,
          13.5,
          3.5,
          1.5,
          8.5,
          9,
          -1,
          1.5,
          10.5,
          -2.5,
          7.5,
          4.5,
          3.5,
          7.5,
          8.5,
          11.5,
          21.5,
          19.5,
          13.5,
          14.5,
          11.5,
          14,
          9.5,
          12,
          1,
          11,
          1,
          11,
          11,
          10.5,
          14.5,
          11.5,
          12,
          17.5,
          12
         ],
         "xaxis": "x",
         "y": [
          19,
          0,
          47,
          2,
          5,
          0,
          0,
          1,
          18,
          0,
          1,
          1,
          0,
          3,
          3,
          0,
          2,
          5,
          7,
          20,
          0,
          13,
          1,
          1,
          0,
          2,
          1,
          1,
          9,
          0,
          1,
          0,
          5,
          1,
          29,
          0,
          3,
          0
         ],
         "yaxis": "y"
        },
        {
         "hovertemplate": "name=Lille<br>temperature=%{x}<br>rainfall=%{y}<br>goal=%{marker.size}<extra></extra>",
         "legendgroup": "Lille",
         "marker": {
          "color": "#00cc96",
          "size": [
           1,
           1,
           2,
           4,
           1,
           4,
           2,
           2,
           0,
           1,
           2,
           1,
           0,
           1,
           2,
           1,
           1,
           2,
           0,
           1,
           1,
           3,
           1,
           2,
           1,
           2,
           3,
           1,
           1,
           3,
           2,
           4,
           0,
           1,
           2,
           3,
           3,
           2
          ],
          "sizemode": "area",
          "sizeref": 0.015,
          "symbol": "circle"
         },
         "mode": "markers",
         "name": "Lille",
         "orientation": "v",
         "showlegend": true,
         "type": "scatter",
         "x": [
          19,
          20,
          10.5,
          11.5,
          14.5,
          10.5,
          3.5,
          5.5,
          8,
          2,
          3,
          1,
          0,
          8,
          11,
          8.5,
          6.5,
          9,
          11,
          15,
          24,
          13.5,
          16.5,
          15,
          3.5,
          8.5,
          12.5,
          2.5,
          3,
          13,
          6,
          11,
          12.5,
          8.5,
          7.5,
          16.5,
          9,
          11.5
         ],
         "xaxis": "x",
         "y": [
          1,
          0,
          8,
          2,
          1,
          4,
          0,
          1,
          0,
          2,
          1,
          0,
          0,
          0,
          1,
          1,
          0,
          0,
          6,
          2,
          13,
          2,
          2,
          1,
          0,
          1,
          1,
          0,
          1,
          3,
          1,
          2,
          1,
          0,
          1,
          0,
          1,
          1
         ],
         "yaxis": "y"
        },
        {
         "hovertemplate": "name=Monaco<br>temperature=%{x}<br>rainfall=%{y}<br>goal=%{marker.size}<extra></extra>",
         "legendgroup": "Monaco",
         "marker": {
          "color": "#ab63fa",
          "size": [
           2,
           2,
           3,
           1,
           4,
           3,
           3,
           0,
           2,
           3,
           3,
           2,
           2,
           2,
           0,
           4,
           3,
           2,
           2,
           1,
           1,
           0,
           1,
           2,
           1,
           1,
           1,
           5,
           3,
           2,
           4,
           2,
           0,
           4,
           3,
           1,
           1,
           0
          ],
          "sizemode": "area",
          "sizeref": 0.015,
          "symbol": "circle"
         },
         "mode": "markers",
         "name": "Monaco",
         "orientation": "v",
         "showlegend": true,
         "type": "scatter",
         "x": [
          25.5,
          26.5,
          17.5,
          16,
          17.5,
          14.5,
          14.5,
          13,
          13.5,
          6,
          10,
          12,
          6.5,
          14,
          12.5,
          14,
          11.5,
          15,
          16,
          17,
          20,
          12,
          14.5,
          16,
          3.5,
          10.5,
          9,
          2,
          10,
          9.5,
          11.5,
          12,
          10,
          1.5,
          12,
          13,
          17.5,
          10.5
         ],
         "xaxis": "x",
         "y": [
          1,
          0,
          1,
          1,
          0,
          3,
          0,
          1,
          0,
          0,
          7,
          0,
          1,
          0,
          1,
          7,
          29,
          5,
          0,
          1,
          19,
          7,
          0,
          1,
          0,
          7,
          18,
          0,
          0,
          5,
          1,
          0,
          0,
          0,
          0,
          0,
          2,
          2
         ],
         "yaxis": "y"
        },
        {
         "hovertemplate": "name=Lorient<br>temperature=%{x}<br>rainfall=%{y}<br>goal=%{marker.size}<extra></extra>",
         "legendgroup": "Lorient",
         "marker": {
          "color": "#FFA15A",
          "size": [
           3,
           2,
           1,
           0,
           0,
           0,
           3,
           0,
           2,
           3,
           3,
           1,
           1,
           2,
           1,
           1,
           4,
           2,
           2,
           0,
           2,
           1,
           3,
           0,
           0,
           0,
           0,
           2,
           1,
           0,
           1,
           2,
           1,
           1,
           1,
           2,
           1,
           1
          ],
          "sizemode": "area",
          "sizeref": 0.015,
          "symbol": "circle"
         },
         "mode": "markers",
         "name": "Lorient",
         "orientation": "v",
         "showlegend": true,
         "type": "scatter",
         "x": [
          17,
          18,
          12.5,
          15.5,
          15.5,
          9.5,
          12,
          11,
          2,
          11,
          9,
          7,
          11,
          7.5,
          7.5,
          8,
          13.5,
          8.5,
          12,
          14.5,
          17,
          11,
          9,
          13.5,
          10.5,
          4,
          8.5,
          12.5,
          2.5,
          13.5,
          10,
          6.5,
          11,
          6.5,
          2,
          11,
          15,
          12
         ],
         "xaxis": "x",
         "y": [
          1,
          0,
          0,
          18,
          1,
          0,
          13,
          5,
          0,
          9,
          10,
          0,
          2,
          0,
          1,
          0,
          0,
          2,
          7,
          2,
          0,
          18,
          0,
          5,
          4,
          2,
          0,
          0,
          0,
          0,
          12,
          1,
          0,
          1,
          16,
          0,
          0,
          2
         ],
         "yaxis": "y"
        },
        {
         "hovertemplate": "name=Nîmes<br>temperature=%{x}<br>rainfall=%{y}<br>goal=%{marker.size}<extra></extra>",
         "legendgroup": "Nîmes",
         "marker": {
          "color": "#19d3f3",
          "size": [
           4,
           2,
           1,
           0,
           0,
           1,
           0,
           0,
           1,
           0,
           1,
           3,
           2,
           1,
           1,
           0,
           1,
           2,
           2,
           1,
           0,
           1,
           0,
           1,
           0,
           0,
           2,
           0,
           2,
           1,
           0,
           2,
           1,
           2,
           1,
           1,
           3,
           0
          ],
          "sizemode": "area",
          "sizeref": 0.015,
          "symbol": "circle"
         },
         "mode": "markers",
         "name": "Nîmes",
         "orientation": "v",
         "showlegend": true,
         "type": "scatter",
         "x": [
          26.5,
          27,
          12,
          12.5,
          16.5,
          17,
          9,
          13,
          12,
          2.5,
          13.5,
          11.5,
          12.5,
          11.5,
          10.5,
          11,
          11.5,
          13.5,
          16.5,
          14,
          25.5,
          16,
          14.5,
          6.5,
          14.5,
          12,
          8.5,
          1.5,
          6,
          9.5,
          11,
          -2.5,
          12,
          8.5,
          6,
          8.5,
          16.5,
          10
         ],
         "xaxis": "x",
         "y": [
          0,
          0,
          1,
          0,
          0,
          33,
          2,
          5,
          1,
          0,
          0,
          1,
          0,
          4,
          0,
          0,
          0,
          1,
          1,
          1,
          0,
          2,
          7,
          0,
          0,
          13,
          15,
          6,
          0,
          10,
          12,
          0,
          0,
          1,
          1,
          0,
          1,
          2
         ],
         "yaxis": "y"
        },
        {
         "hovertemplate": "name=Nice<br>temperature=%{x}<br>rainfall=%{y}<br>goal=%{marker.size}<extra></extra>",
         "legendgroup": "Nice",
         "marker": {
          "color": "#FF6692",
          "size": [
           2,
           0,
           2,
           1,
           1,
           1,
           0,
           1,
           2,
           0,
           0,
           3,
           1,
           2,
           3,
           0,
           3,
           3,
           0,
           2,
           1,
           0,
           3,
           3,
           2,
           0,
           2,
           0,
           1,
           1,
           1,
           1,
           2,
           1,
           2,
           0,
           0,
           3
          ],
          "sizemode": "area",
          "sizeref": 0.015,
          "symbol": "circle"
         },
         "mode": "markers",
         "name": "Nice",
         "orientation": "v",
         "showlegend": true,
         "type": "scatter",
         "x": [
          25.5,
          23,
          15.5,
          16.5,
          16,
          14,
          11,
          12.5,
          12.5,
          8.5,
          11.5,
          12.5,
          11.5,
          12,
          9,
          10.5,
          16,
          16.5,
          16.5,
          16.5,
          25,
          11.5,
          6.5,
          17.5,
          11.5,
          2.5,
          13,
          4,
          -1.5,
          4,
          12,
          -1.5,
          6.5,
          7.5,
          7.5,
          7.5,
          9,
          14.5
         ],
         "xaxis": "x",
         "y": [
          1,
          16,
          22,
          2,
          1,
          0,
          0,
          4,
          0,
          1,
          5,
          10,
          0,
          0,
          0,
          30,
          0,
          0,
          0,
          1,
          3,
          1,
          0,
          5,
          1,
          0,
          5,
          8,
          0,
          1,
          0,
          0,
          0,
          1,
          0,
          2,
          0,
          1
         ],
         "yaxis": "y"
        },
        {
         "hovertemplate": "name=Montpellier<br>temperature=%{x}<br>rainfall=%{y}<br>goal=%{marker.size}<extra></extra>",
         "legendgroup": "Montpellier",
         "marker": {
          "color": "#B6E880",
          "size": [
           2,
           3,
           4,
           0,
           0,
           4,
           1,
           0,
           2,
           1,
           2,
           1,
           4,
           2,
           1,
           3,
           3,
           1,
           0,
           1,
           2,
           1,
           1,
           2,
           1,
           3,
           2,
           1,
           0,
           1,
           2,
           0,
           1,
           1,
           1,
           1,
           3,
           2
          ],
          "sizemode": "area",
          "sizeref": 0.015,
          "symbol": "circle"
         },
         "mode": "markers",
         "name": "Montpellier",
         "orientation": "v",
         "showlegend": true,
         "type": "scatter",
         "x": [
          23.5,
          25,
          23,
          16,
          15.5,
          9,
          8,
          13,
          12.5,
          4.5,
          10,
          11,
          11,
          11.5,
          11,
          8,
          10,
          14,
          16.5,
          14,
          8,
          16,
          15.5,
          17,
          9.5,
          8,
          10,
          4.5,
          6,
          10,
          -3.5,
          7,
          10.5,
          8,
          6.5,
          16,
          18,
          12
         ],
         "xaxis": "x",
         "y": [
          0,
          3,
          16,
          2,
          0,
          0,
          0,
          9,
          1,
          0,
          0,
          5,
          1,
          0,
          0,
          0,
          16,
          1,
          3,
          4,
          47,
          1,
          0,
          4,
          0,
          3,
          5,
          0,
          12,
          27,
          3,
          0,
          0,
          0,
          0,
          0,
          0,
          1
         ],
         "yaxis": "y"
        },
        {
         "hovertemplate": "name=Paris-SG<br>temperature=%{x}<br>rainfall=%{y}<br>goal=%{marker.size}<extra></extra>",
         "legendgroup": "Paris-SG",
         "marker": {
          "color": "#FF97FF",
          "size": [
           1,
           0,
           6,
           4,
           3,
           2,
           0,
           2,
           4,
           3,
           4,
           3,
           2,
           0,
           1,
           0,
           3,
           2,
           4,
           0,
           3,
           2,
           4,
           3,
           2,
           3,
           0,
           1,
           1,
           2,
           2,
           4,
           1,
           4,
           4,
           3,
           1,
           2
          ],
          "sizemode": "area",
          "sizeref": 0.015,
          "symbol": "circle"
         },
         "mode": "markers",
         "name": "Paris-SG",
         "orientation": "v",
         "showlegend": true,
         "type": "scatter",
         "x": [
          27,
          26,
          13.5,
          14.5,
          13.5,
          9.5,
          6,
          8.5,
          12.5,
          2,
          6,
          11,
          -1.5,
          12,
          7.5,
          8.5,
          8.5,
          11,
          13,
          19,
          23,
          13,
          12.5,
          14,
          14.5,
          8,
          8,
          -3,
          3,
          9,
          11.5,
          7.5,
          14,
          4,
          13,
          10,
          14.5,
          10.5
         ],
         "xaxis": "x",
         "y": [
          1,
          0,
          31,
          1,
          0,
          0,
          1,
          0,
          18,
          0,
          12,
          12,
          0,
          0,
          2,
          0,
          0,
          0,
          3,
          1,
          16,
          21,
          0,
          0,
          3,
          0,
          0,
          0,
          4,
          10,
          4,
          3,
          0,
          0,
          3,
          0,
          0,
          11
         ],
         "yaxis": "y"
        },
        {
         "hovertemplate": "name=Marseille<br>temperature=%{x}<br>rainfall=%{y}<br>goal=%{marker.size}<extra></extra>",
         "legendgroup": "Marseille",
         "marker": {
          "color": "#FECB52",
          "size": [
           0,
           1,
           1,
           3,
           0,
           3,
           3,
           2,
           1,
           3,
           1,
           1,
           0,
           1,
           3,
           2,
           3,
           1,
           3,
           3,
           1,
           1,
           1,
           1,
           2,
           1,
           1,
           0,
           1,
           2,
           0,
           1,
           0,
           0,
           3,
           3,
           0,
           1
          ],
          "sizemode": "area",
          "sizeref": 0.015,
          "symbol": "circle"
         },
         "mode": "markers",
         "name": "Marseille",
         "orientation": "v",
         "showlegend": true,
         "type": "scatter",
         "x": [
          26.5,
          24,
          14.5,
          15,
          12.5,
          11.5,
          15.5,
          10.5,
          14,
          4.5,
          6,
          12,
          11.5,
          13,
          11.5,
          14.5,
          11,
          16,
          15.5,
          14.5,
          26,
          12.5,
          15.5,
          9,
          9,
          9.5,
          12.5,
          -1,
          10,
          9,
          8,
          14,
          11,
          9,
          10,
          9,
          17,
          10.5
         ],
         "xaxis": "x",
         "y": [
          0,
          13,
          0,
          0,
          6,
          1,
          4,
          7,
          1,
          0,
          0,
          0,
          4,
          4,
          0,
          1,
          0,
          4,
          1,
          1,
          0,
          5,
          18,
          0,
          2,
          1,
          6,
          0,
          7,
          21,
          0,
          0,
          1,
          0,
          16,
          0,
          1,
          1
         ],
         "yaxis": "y"
        },
        {
         "hovertemplate": "name=Lyon<br>temperature=%{x}<br>rainfall=%{y}<br>goal=%{marker.size}<extra></extra>",
         "legendgroup": "Lyon",
         "marker": {
          "color": "#636efa",
          "size": [
           4,
           0,
           1,
           4,
           2,
           3,
           2,
           3,
           3,
           0,
           2,
           3,
           1,
           1,
           2,
           3,
           2,
           4,
           2,
           1,
           0,
           1,
           3,
           1,
           1,
           3,
           1,
           4,
           2,
           5,
           1,
           3,
           1,
           1,
           1,
           2,
           3,
           5
          ],
          "sizemode": "area",
          "sizeref": 0.015,
          "symbol": "circle"
         },
         "mode": "markers",
         "name": "Lyon",
         "orientation": "v",
         "showlegend": true,
         "type": "scatter",
         "x": [
          21.5,
          25.5,
          12.5,
          14.5,
          13.5,
          5,
          9.5,
          11,
          0,
          3,
          11.5,
          12.5,
          -3.5,
          12,
          4,
          13,
          16.5,
          15,
          14.5,
          23.5,
          23.5,
          12.5,
          10,
          14.5,
          8,
          2.5,
          6,
          12.5,
          1,
          1.5,
          10.5,
          10,
          13,
          6.5,
          7.5,
          8.5,
          15,
          16.5
         ],
         "xaxis": "x",
         "y": [
          20,
          0,
          5,
          0,
          4,
          0,
          24,
          0,
          0,
          5,
          11,
          1,
          3,
          0,
          0,
          14,
          0,
          0,
          1,
          0,
          0,
          0,
          2,
          1,
          0,
          0,
          1,
          4,
          0,
          1,
          1,
          3,
          4,
          3,
          0,
          0,
          5,
          1
         ],
         "yaxis": "y"
        },
        {
         "hovertemplate": "name=Rennes<br>temperature=%{x}<br>rainfall=%{y}<br>goal=%{marker.size}<extra></extra>",
         "legendgroup": "Rennes",
         "marker": {
          "color": "#EF553B",
          "size": [
           2,
           2,
           2,
           1,
           2,
           0,
           0,
           2,
           1,
           2,
           0,
           1,
           0,
           1,
           1,
           1,
           5,
           1,
           2,
           1,
           4,
           3,
           1,
           0,
           1,
           1,
           3,
           0,
           2,
           0,
           0,
           1,
           0,
           3,
           2,
           3,
           0,
           1
          ],
          "sizemode": "area",
          "sizeref": 0.015,
          "symbol": "circle"
         },
         "mode": "markers",
         "name": "Rennes",
         "orientation": "v",
         "showlegend": true,
         "type": "scatter",
         "x": [
          14,
          20,
          11.5,
          13,
          12.5,
          7.5,
          4,
          9.5,
          13,
          1,
          3,
          10,
          1,
          6.5,
          6,
          5.5,
          12,
          14.5,
          10,
          19,
          27,
          7.5,
          10,
          13.5,
          5.5,
          11,
          11,
          0.5,
          7,
          12,
          7.5,
          11.5,
          12,
          1.5,
          6.5,
          6.5,
          12.5,
          16
         ],
         "xaxis": "x",
         "y": [
          4,
          19,
          4,
          2,
          2,
          0,
          6,
          1,
          21,
          0,
          1,
          12,
          1,
          0,
          1,
          3,
          0,
          0,
          2,
          1,
          0,
          3,
          2,
          0,
          0,
          0,
          5,
          0,
          0,
          0,
          16,
          0,
          0,
          0,
          0,
          1,
          1,
          0
         ],
         "yaxis": "y"
        },
        {
         "hovertemplate": "name=Strasbourg<br>temperature=%{x}<br>rainfall=%{y}<br>goal=%{marker.size}<extra></extra>",
         "legendgroup": "Strasbourg",
         "marker": {
          "color": "#00cc96",
          "size": [
           0,
           1,
           0,
           2,
           0,
           1,
           2,
           0,
           5,
           1,
           0,
           2,
           0,
           1,
           1,
           1,
           1,
           2,
           1,
           1,
           0,
           2,
           3,
           1,
           3,
           4,
           2,
           0,
           1,
           1,
           0,
           2,
           1,
           0,
           3,
           1,
           1,
           2
          ],
          "sizemode": "area",
          "sizeref": 0.015,
          "symbol": "circle"
         },
         "mode": "markers",
         "name": "Strasbourg",
         "orientation": "v",
         "showlegend": true,
         "type": "scatter",
         "x": [
          16.5,
          19.5,
          13.5,
          10,
          9,
          5.5,
          7,
          7.5,
          1.5,
          1,
          2.5,
          10,
          12,
          10,
          3.5,
          13,
          12,
          18,
          12,
          17,
          19.5,
          17.5,
          11,
          14.5,
          9,
          6.5,
          9,
          12.5,
          2.5,
          1.5,
          12.5,
          -1.5,
          8,
          6,
          11.5,
          11.5,
          16,
          16.5
         ],
         "xaxis": "x",
         "y": [
          1,
          0,
          2,
          2,
          0,
          0,
          3,
          14,
          6,
          8,
          3,
          11,
          0,
          0,
          1,
          3,
          0,
          0,
          2,
          1,
          0,
          1,
          4,
          2,
          0,
          4,
          2,
          18,
          1,
          1,
          1,
          0,
          0,
          1,
          0,
          0,
          4,
          0
         ],
         "yaxis": "y"
        },
        {
         "hovertemplate": "name=Reims<br>temperature=%{x}<br>rainfall=%{y}<br>goal=%{marker.size}<extra></extra>",
         "legendgroup": "Reims",
         "marker": {
          "color": "#ab63fa",
          "size": [
           0,
           0,
           1,
           2,
           0,
           0,
           3,
           0,
           3,
           1,
           0,
           1,
           0,
           1,
           2,
           0,
           1,
           0,
           1,
           2,
           0,
           1,
           2,
           4,
           4,
           0,
           1,
           1,
           3,
           1,
           1,
           0,
           1,
           2,
           1,
           0,
           2,
           0
          ],
          "sizemode": "area",
          "sizeref": 0.015,
          "symbol": "circle"
         },
         "mode": "markers",
         "name": "Reims",
         "orientation": "v",
         "showlegend": true,
         "type": "scatter",
         "x": [
          15,
          13,
          9,
          14.5,
          6.5,
          2.5,
          7,
          1,
          0.5,
          1,
          10,
          -2.5,
          7,
          6.5,
          6.5,
          8,
          9,
          17.5,
          10.5,
          25.5,
          21,
          19,
          11.5,
          15.5,
          13,
          5,
          11.5,
          14,
          13,
          3,
          2.5,
          7,
          9,
          11.5,
          3.5,
          10.5,
          13.5,
          13
         ],
         "xaxis": "x",
         "y": [
          2,
          21,
          0,
          2,
          0,
          0,
          0,
          1,
          0,
          4,
          14,
          0,
          0,
          3,
          0,
          1,
          0,
          2,
          1,
          1,
          0,
          1,
          4,
          0,
          0,
          0,
          10,
          1,
          1,
          1,
          3,
          0,
          0,
          3,
          0,
          30,
          1,
          3
         ],
         "yaxis": "y"
        },
        {
         "hovertemplate": "name=Nantes<br>temperature=%{x}<br>rainfall=%{y}<br>goal=%{marker.size}<extra></extra>",
         "legendgroup": "Nantes",
         "marker": {
          "color": "#FFA15A",
          "size": [
           2,
           2,
           3,
           0,
           1,
           0,
           1,
           1,
           0,
           1,
           1,
           0,
           1,
           1,
           1,
           1,
           1,
           3,
           1,
           0,
           1,
           0,
           1,
           1,
           2,
           1,
           2,
           0,
           1,
           0,
           1,
           3,
           1,
           2,
           0,
           2,
           4,
           4
          ],
          "sizemode": "area",
          "sizeref": 0.015,
          "symbol": "circle"
         },
         "mode": "markers",
         "name": "Nantes",
         "orientation": "v",
         "showlegend": true,
         "type": "scatter",
         "x": [
          14,
          20.5,
          11.5,
          14,
          9,
          6.5,
          9.5,
          10,
          0.5,
          6,
          9.5,
          6,
          14,
          11.5,
          6.5,
          7.5,
          8.5,
          16.5,
          12,
          22.5,
          26.5,
          10.5,
          15.5,
          8,
          15.5,
          15.5,
          7,
          11,
          4.5,
          1,
          10,
          1.5,
          11.5,
          7.5,
          5.5,
          12,
          9,
          11.5
         ],
         "xaxis": "x",
         "y": [
          1,
          2,
          0,
          0,
          0,
          4,
          2,
          1,
          0,
          0,
          5,
          1,
          0,
          3,
          1,
          0,
          0,
          1,
          1,
          5,
          0,
          8,
          22,
          0,
          1,
          4,
          0,
          0,
          0,
          3,
          0,
          0,
          4,
          2,
          3,
          0,
          1,
          7
         ],
         "yaxis": "y"
        },
        {
         "hovertemplate": "name=Saint-Étienne<br>temperature=%{x}<br>rainfall=%{y}<br>goal=%{marker.size}<extra></extra>",
         "legendgroup": "Saint-Étienne",
         "marker": {
          "color": "#19d3f3",
          "size": [
           2,
           2,
           0,
           1,
           0,
           1,
           0,
           2,
           1,
           0,
           1,
           1,
           1,
           2,
           0,
           4,
           1,
           1,
           0,
           2,
           2,
           0,
           0,
           1,
           1,
           0,
           2,
           2,
           1,
           0,
           1,
           2,
           1,
           1,
           2,
           2,
           2,
           0
          ],
          "sizemode": "area",
          "sizeref": 0.015,
          "symbol": "circle"
         },
         "mode": "markers",
         "name": "Saint-Étienne",
         "orientation": "v",
         "showlegend": true,
         "type": "scatter",
         "x": [
          14.5,
          19.5,
          7.5,
          6.5,
          15.5,
          3.5,
          5.5,
          8.5,
          -3,
          1.5,
          10,
          7,
          9,
          9,
          1.5,
          11.5,
          13.5,
          17,
          12,
          26.5,
          20.5,
          13.5,
          11.5,
          13.5,
          10.5,
          1.5,
          10.5,
          13.5,
          0.5,
          1,
          11.5,
          1,
          7.5,
          9.5,
          11,
          8.5,
          14,
          11
         ],
         "xaxis": "x",
         "y": [
          2,
          0,
          3,
          0,
          0,
          0,
          12,
          15,
          0,
          1,
          0,
          25,
          0,
          0,
          0,
          14,
          0,
          1,
          0,
          0,
          2,
          22,
          11,
          4,
          1,
          0,
          1,
          0,
          0,
          8,
          5,
          1,
          0,
          7,
          0,
          0,
          1,
          6
         ],
         "yaxis": "y"
        },
        {
         "hovertemplate": "name=Angers<br>temperature=%{x}<br>rainfall=%{y}<br>goal=%{marker.size}<extra></extra>",
         "legendgroup": "Angers",
         "marker": {
          "color": "#FF6692",
          "size": [
           0,
           1,
           3,
           1,
           0,
           0,
           2,
           0,
           2,
           0,
           3,
           1,
           2,
           0,
           1,
           0,
           0,
           3,
           1,
           1,
           1,
           1,
           2,
           5,
           3,
           0,
           1,
           2,
           0,
           1,
           0,
           0,
           0,
           1,
           0,
           0,
           0,
           2
          ],
          "sizemode": "area",
          "sizeref": 0.015,
          "symbol": "circle"
         },
         "mode": "markers",
         "name": "Angers",
         "orientation": "v",
         "showlegend": true,
         "type": "scatter",
         "x": [
          13.5,
          21,
          11.5,
          12,
          17.5,
          8,
          4,
          9,
          12.5,
          3,
          9.5,
          1.5,
          6.5,
          9.5,
          8,
          6.5,
          13,
          17.5,
          11.5,
          22,
          23,
          13.5,
          13,
          17,
          5.5,
          5.5,
          10,
          2,
          6,
          8,
          10,
          12.5,
          12,
          9,
          9,
          13,
          8.5,
          15.5
         ],
         "xaxis": "x",
         "y": [
          1,
          0,
          0,
          0,
          5,
          0,
          2,
          2,
          6,
          4,
          10,
          0,
          0,
          7,
          0,
          1,
          0,
          3,
          1,
          19,
          16,
          31,
          2,
          33,
          0,
          12,
          1,
          2,
          0,
          7,
          14,
          10,
          0,
          0,
          1,
          14,
          2,
          1
         ],
         "yaxis": "y"
        },
        {
         "hovertemplate": "name=Metz<br>temperature=%{x}<br>rainfall=%{y}<br>goal=%{marker.size}<extra></extra>",
         "legendgroup": "Metz",
         "marker": {
          "color": "#B6E880",
          "size": [
           0,
           2,
           3,
           2,
           1,
           0,
           1,
           2,
           0,
           1,
           2,
           1,
           1,
           0,
           1,
           0,
           1,
           0,
           1,
           0,
           0,
           1,
           1,
           1,
           1,
           2,
           2,
           0,
           1,
           4,
           0,
           2,
           2,
           2,
           0,
           0,
           5,
           1
          ],
          "sizemode": "area",
          "sizeref": 0.015,
          "symbol": "circle"
         },
         "mode": "markers",
         "name": "Metz",
         "orientation": "v",
         "showlegend": true,
         "type": "scatter",
         "x": [
          17,
          19,
          11,
          11.5,
          11.5,
          1,
          2.5,
          8.5,
          0.5,
          -1.5,
          1,
          10,
          -1.5,
          9,
          1.5,
          7.5,
          10,
          16.5,
          10.5,
          27,
          20,
          14.5,
          12,
          16.5,
          9,
          7,
          13,
          13,
          3,
          9,
          7,
          11.5,
          9.5,
          6.5,
          14,
          8,
          8.5,
          12
         ],
         "xaxis": "x",
         "y": [
          1,
          1,
          18,
          11,
          1,
          0,
          0,
          1,
          2,
          0,
          3,
          27,
          0,
          0,
          0,
          1,
          0,
          1,
          1,
          1,
          0,
          0,
          0,
          0,
          0,
          3,
          9,
          21,
          5,
          10,
          25,
          0,
          0,
          2,
          7,
          1,
          5,
          7
         ],
         "yaxis": "y"
        },
        {
         "hovertemplate": "name=Brest<br>temperature=%{x}<br>rainfall=%{y}<br>goal=%{marker.size}<extra></extra>",
         "legendgroup": "Brest",
         "marker": {
          "color": "#FF97FF",
          "size": [
           2,
           3,
           1,
           0,
           3,
           4,
           2,
           2,
           2,
           1,
           2,
           2,
           2,
           3,
           0,
           1,
           1,
           1,
           0,
           0,
           2,
           2,
           1,
           1,
           2,
           0,
           2,
           1,
           0,
           0,
           2,
           0,
           0,
           1,
           0,
           2,
           2,
           0
          ],
          "sizemode": "area",
          "sizeref": 0.015,
          "symbol": "circle"
         },
         "mode": "markers",
         "name": "Brest",
         "orientation": "v",
         "showlegend": true,
         "type": "scatter",
         "x": [
          14.5,
          17,
          12,
          11,
          15,
          10.5,
          11.5,
          10,
          4,
          7,
          9,
          5.5,
          10,
          10.5,
          9,
          6,
          8,
          9,
          10.5,
          26.5,
          22,
          11.5,
          11.5,
          12.5,
          1,
          8.5,
          9.5,
          11,
          2,
          1,
          10,
          0,
          14,
          11.5,
          8,
          13.5,
          16.5,
          16.5
         ],
         "xaxis": "x",
         "y": [
          1,
          0,
          7,
          4,
          1,
          1,
          10,
          5,
          8,
          0,
          10,
          1,
          3,
          5,
          1,
          1,
          0,
          1,
          11,
          0,
          0,
          0,
          0,
          2,
          0,
          4,
          24,
          35,
          0,
          4,
          11,
          0,
          0,
          0,
          0,
          0,
          0,
          3
         ],
         "yaxis": "y"
        },
        {
         "hovertemplate": "name=Lens<br>temperature=%{x}<br>rainfall=%{y}<br>goal=%{marker.size}<extra></extra>",
         "legendgroup": "Lens",
         "marker": {
          "color": "#FECB52",
          "size": [
           1,
           2,
           2,
           1,
           4,
           1,
           2,
           2,
           0,
           0,
           2,
           0,
           2,
           2,
           1,
           4,
           2,
           0,
           0,
           1,
           3,
           1,
           0,
           1,
           1,
           2,
           3,
           0,
           2,
           1,
           2,
           1,
           2,
           3,
           2,
           1,
           1,
           0
          ],
          "sizemode": "area",
          "sizeref": 0.015,
          "symbol": "circle"
         },
         "mode": "markers",
         "name": "Lens",
         "orientation": "v",
         "showlegend": true,
         "type": "scatter",
         "x": [
          19,
          20,
          13.5,
          8,
          13,
          5.5,
          8,
          11,
          2.5,
          4,
          9,
          7.5,
          11,
          6.5,
          7.5,
          2,
          8.5,
          9,
          10.5,
          25.5,
          18,
          12,
          11.5,
          12.5,
          3.5,
          4,
          13,
          8.5,
          0,
          6,
          11,
          -2.5,
          6.5,
          9,
          3.5,
          8,
          11,
          14
         ],
         "xaxis": "x",
         "y": [
          1,
          1,
          22,
          0,
          0,
          0,
          3,
          35,
          1,
          1,
          21,
          16,
          0,
          2,
          0,
          16,
          0,
          1,
          2,
          1,
          0,
          1,
          2,
          6,
          0,
          6,
          1,
          1,
          0,
          0,
          5,
          0,
          0,
          0,
          1,
          0,
          0,
          8
         ],
         "yaxis": "y"
        }
       ],
       "layout": {
        "legend": {
         "itemsizing": "constant",
         "title": {
          "text": "name"
         },
         "tracegroupgap": 0
        },
        "margin": {
         "t": 60
        },
        "template": {
         "data": {
          "bar": [
           {
            "error_x": {
             "color": "#2a3f5f"
            },
            "error_y": {
             "color": "#2a3f5f"
            },
            "marker": {
             "line": {
              "color": "#E5ECF6",
              "width": 0.5
             }
            },
            "type": "bar"
           }
          ],
          "barpolar": [
           {
            "marker": {
             "line": {
              "color": "#E5ECF6",
              "width": 0.5
             }
            },
            "type": "barpolar"
           }
          ],
          "carpet": [
           {
            "aaxis": {
             "endlinecolor": "#2a3f5f",
             "gridcolor": "white",
             "linecolor": "white",
             "minorgridcolor": "white",
             "startlinecolor": "#2a3f5f"
            },
            "baxis": {
             "endlinecolor": "#2a3f5f",
             "gridcolor": "white",
             "linecolor": "white",
             "minorgridcolor": "white",
             "startlinecolor": "#2a3f5f"
            },
            "type": "carpet"
           }
          ],
          "choropleth": [
           {
            "colorbar": {
             "outlinewidth": 0,
             "ticks": ""
            },
            "type": "choropleth"
           }
          ],
          "contour": [
           {
            "colorbar": {
             "outlinewidth": 0,
             "ticks": ""
            },
            "colorscale": [
             [
              0,
              "#0d0887"
             ],
             [
              0.1111111111111111,
              "#46039f"
             ],
             [
              0.2222222222222222,
              "#7201a8"
             ],
             [
              0.3333333333333333,
              "#9c179e"
             ],
             [
              0.4444444444444444,
              "#bd3786"
             ],
             [
              0.5555555555555556,
              "#d8576b"
             ],
             [
              0.6666666666666666,
              "#ed7953"
             ],
             [
              0.7777777777777778,
              "#fb9f3a"
             ],
             [
              0.8888888888888888,
              "#fdca26"
             ],
             [
              1,
              "#f0f921"
             ]
            ],
            "type": "contour"
           }
          ],
          "contourcarpet": [
           {
            "colorbar": {
             "outlinewidth": 0,
             "ticks": ""
            },
            "type": "contourcarpet"
           }
          ],
          "heatmap": [
           {
            "colorbar": {
             "outlinewidth": 0,
             "ticks": ""
            },
            "colorscale": [
             [
              0,
              "#0d0887"
             ],
             [
              0.1111111111111111,
              "#46039f"
             ],
             [
              0.2222222222222222,
              "#7201a8"
             ],
             [
              0.3333333333333333,
              "#9c179e"
             ],
             [
              0.4444444444444444,
              "#bd3786"
             ],
             [
              0.5555555555555556,
              "#d8576b"
             ],
             [
              0.6666666666666666,
              "#ed7953"
             ],
             [
              0.7777777777777778,
              "#fb9f3a"
             ],
             [
              0.8888888888888888,
              "#fdca26"
             ],
             [
              1,
              "#f0f921"
             ]
            ],
            "type": "heatmap"
           }
          ],
          "heatmapgl": [
           {
            "colorbar": {
             "outlinewidth": 0,
             "ticks": ""
            },
            "colorscale": [
             [
              0,
              "#0d0887"
             ],
             [
              0.1111111111111111,
              "#46039f"
             ],
             [
              0.2222222222222222,
              "#7201a8"
             ],
             [
              0.3333333333333333,
              "#9c179e"
             ],
             [
              0.4444444444444444,
              "#bd3786"
             ],
             [
              0.5555555555555556,
              "#d8576b"
             ],
             [
              0.6666666666666666,
              "#ed7953"
             ],
             [
              0.7777777777777778,
              "#fb9f3a"
             ],
             [
              0.8888888888888888,
              "#fdca26"
             ],
             [
              1,
              "#f0f921"
             ]
            ],
            "type": "heatmapgl"
           }
          ],
          "histogram": [
           {
            "marker": {
             "colorbar": {
              "outlinewidth": 0,
              "ticks": ""
             }
            },
            "type": "histogram"
           }
          ],
          "histogram2d": [
           {
            "colorbar": {
             "outlinewidth": 0,
             "ticks": ""
            },
            "colorscale": [
             [
              0,
              "#0d0887"
             ],
             [
              0.1111111111111111,
              "#46039f"
             ],
             [
              0.2222222222222222,
              "#7201a8"
             ],
             [
              0.3333333333333333,
              "#9c179e"
             ],
             [
              0.4444444444444444,
              "#bd3786"
             ],
             [
              0.5555555555555556,
              "#d8576b"
             ],
             [
              0.6666666666666666,
              "#ed7953"
             ],
             [
              0.7777777777777778,
              "#fb9f3a"
             ],
             [
              0.8888888888888888,
              "#fdca26"
             ],
             [
              1,
              "#f0f921"
             ]
            ],
            "type": "histogram2d"
           }
          ],
          "histogram2dcontour": [
           {
            "colorbar": {
             "outlinewidth": 0,
             "ticks": ""
            },
            "colorscale": [
             [
              0,
              "#0d0887"
             ],
             [
              0.1111111111111111,
              "#46039f"
             ],
             [
              0.2222222222222222,
              "#7201a8"
             ],
             [
              0.3333333333333333,
              "#9c179e"
             ],
             [
              0.4444444444444444,
              "#bd3786"
             ],
             [
              0.5555555555555556,
              "#d8576b"
             ],
             [
              0.6666666666666666,
              "#ed7953"
             ],
             [
              0.7777777777777778,
              "#fb9f3a"
             ],
             [
              0.8888888888888888,
              "#fdca26"
             ],
             [
              1,
              "#f0f921"
             ]
            ],
            "type": "histogram2dcontour"
           }
          ],
          "mesh3d": [
           {
            "colorbar": {
             "outlinewidth": 0,
             "ticks": ""
            },
            "type": "mesh3d"
           }
          ],
          "parcoords": [
           {
            "line": {
             "colorbar": {
              "outlinewidth": 0,
              "ticks": ""
             }
            },
            "type": "parcoords"
           }
          ],
          "pie": [
           {
            "automargin": true,
            "type": "pie"
           }
          ],
          "scatter": [
           {
            "marker": {
             "colorbar": {
              "outlinewidth": 0,
              "ticks": ""
             }
            },
            "type": "scatter"
           }
          ],
          "scatter3d": [
           {
            "line": {
             "colorbar": {
              "outlinewidth": 0,
              "ticks": ""
             }
            },
            "marker": {
             "colorbar": {
              "outlinewidth": 0,
              "ticks": ""
             }
            },
            "type": "scatter3d"
           }
          ],
          "scattercarpet": [
           {
            "marker": {
             "colorbar": {
              "outlinewidth": 0,
              "ticks": ""
             }
            },
            "type": "scattercarpet"
           }
          ],
          "scattergeo": [
           {
            "marker": {
             "colorbar": {
              "outlinewidth": 0,
              "ticks": ""
             }
            },
            "type": "scattergeo"
           }
          ],
          "scattergl": [
           {
            "marker": {
             "colorbar": {
              "outlinewidth": 0,
              "ticks": ""
             }
            },
            "type": "scattergl"
           }
          ],
          "scattermapbox": [
           {
            "marker": {
             "colorbar": {
              "outlinewidth": 0,
              "ticks": ""
             }
            },
            "type": "scattermapbox"
           }
          ],
          "scatterpolar": [
           {
            "marker": {
             "colorbar": {
              "outlinewidth": 0,
              "ticks": ""
             }
            },
            "type": "scatterpolar"
           }
          ],
          "scatterpolargl": [
           {
            "marker": {
             "colorbar": {
              "outlinewidth": 0,
              "ticks": ""
             }
            },
            "type": "scatterpolargl"
           }
          ],
          "scatterternary": [
           {
            "marker": {
             "colorbar": {
              "outlinewidth": 0,
              "ticks": ""
             }
            },
            "type": "scatterternary"
           }
          ],
          "surface": [
           {
            "colorbar": {
             "outlinewidth": 0,
             "ticks": ""
            },
            "colorscale": [
             [
              0,
              "#0d0887"
             ],
             [
              0.1111111111111111,
              "#46039f"
             ],
             [
              0.2222222222222222,
              "#7201a8"
             ],
             [
              0.3333333333333333,
              "#9c179e"
             ],
             [
              0.4444444444444444,
              "#bd3786"
             ],
             [
              0.5555555555555556,
              "#d8576b"
             ],
             [
              0.6666666666666666,
              "#ed7953"
             ],
             [
              0.7777777777777778,
              "#fb9f3a"
             ],
             [
              0.8888888888888888,
              "#fdca26"
             ],
             [
              1,
              "#f0f921"
             ]
            ],
            "type": "surface"
           }
          ],
          "table": [
           {
            "cells": {
             "fill": {
              "color": "#EBF0F8"
             },
             "line": {
              "color": "white"
             }
            },
            "header": {
             "fill": {
              "color": "#C8D4E3"
             },
             "line": {
              "color": "white"
             }
            },
            "type": "table"
           }
          ]
         },
         "layout": {
          "annotationdefaults": {
           "arrowcolor": "#2a3f5f",
           "arrowhead": 0,
           "arrowwidth": 1
          },
          "autotypenumbers": "strict",
          "coloraxis": {
           "colorbar": {
            "outlinewidth": 0,
            "ticks": ""
           }
          },
          "colorscale": {
           "diverging": [
            [
             0,
             "#8e0152"
            ],
            [
             0.1,
             "#c51b7d"
            ],
            [
             0.2,
             "#de77ae"
            ],
            [
             0.3,
             "#f1b6da"
            ],
            [
             0.4,
             "#fde0ef"
            ],
            [
             0.5,
             "#f7f7f7"
            ],
            [
             0.6,
             "#e6f5d0"
            ],
            [
             0.7,
             "#b8e186"
            ],
            [
             0.8,
             "#7fbc41"
            ],
            [
             0.9,
             "#4d9221"
            ],
            [
             1,
             "#276419"
            ]
           ],
           "sequential": [
            [
             0,
             "#0d0887"
            ],
            [
             0.1111111111111111,
             "#46039f"
            ],
            [
             0.2222222222222222,
             "#7201a8"
            ],
            [
             0.3333333333333333,
             "#9c179e"
            ],
            [
             0.4444444444444444,
             "#bd3786"
            ],
            [
             0.5555555555555556,
             "#d8576b"
            ],
            [
             0.6666666666666666,
             "#ed7953"
            ],
            [
             0.7777777777777778,
             "#fb9f3a"
            ],
            [
             0.8888888888888888,
             "#fdca26"
            ],
            [
             1,
             "#f0f921"
            ]
           ],
           "sequentialminus": [
            [
             0,
             "#0d0887"
            ],
            [
             0.1111111111111111,
             "#46039f"
            ],
            [
             0.2222222222222222,
             "#7201a8"
            ],
            [
             0.3333333333333333,
             "#9c179e"
            ],
            [
             0.4444444444444444,
             "#bd3786"
            ],
            [
             0.5555555555555556,
             "#d8576b"
            ],
            [
             0.6666666666666666,
             "#ed7953"
            ],
            [
             0.7777777777777778,
             "#fb9f3a"
            ],
            [
             0.8888888888888888,
             "#fdca26"
            ],
            [
             1,
             "#f0f921"
            ]
           ]
          },
          "colorway": [
           "#636efa",
           "#EF553B",
           "#00cc96",
           "#ab63fa",
           "#FFA15A",
           "#19d3f3",
           "#FF6692",
           "#B6E880",
           "#FF97FF",
           "#FECB52"
          ],
          "font": {
           "color": "#2a3f5f"
          },
          "geo": {
           "bgcolor": "white",
           "lakecolor": "white",
           "landcolor": "#E5ECF6",
           "showlakes": true,
           "showland": true,
           "subunitcolor": "white"
          },
          "hoverlabel": {
           "align": "left"
          },
          "hovermode": "closest",
          "mapbox": {
           "style": "light"
          },
          "paper_bgcolor": "white",
          "plot_bgcolor": "#E5ECF6",
          "polar": {
           "angularaxis": {
            "gridcolor": "white",
            "linecolor": "white",
            "ticks": ""
           },
           "bgcolor": "#E5ECF6",
           "radialaxis": {
            "gridcolor": "white",
            "linecolor": "white",
            "ticks": ""
           }
          },
          "scene": {
           "xaxis": {
            "backgroundcolor": "#E5ECF6",
            "gridcolor": "white",
            "gridwidth": 2,
            "linecolor": "white",
            "showbackground": true,
            "ticks": "",
            "zerolinecolor": "white"
           },
           "yaxis": {
            "backgroundcolor": "#E5ECF6",
            "gridcolor": "white",
            "gridwidth": 2,
            "linecolor": "white",
            "showbackground": true,
            "ticks": "",
            "zerolinecolor": "white"
           },
           "zaxis": {
            "backgroundcolor": "#E5ECF6",
            "gridcolor": "white",
            "gridwidth": 2,
            "linecolor": "white",
            "showbackground": true,
            "ticks": "",
            "zerolinecolor": "white"
           }
          },
          "shapedefaults": {
           "line": {
            "color": "#2a3f5f"
           }
          },
          "ternary": {
           "aaxis": {
            "gridcolor": "white",
            "linecolor": "white",
            "ticks": ""
           },
           "baxis": {
            "gridcolor": "white",
            "linecolor": "white",
            "ticks": ""
           },
           "bgcolor": "#E5ECF6",
           "caxis": {
            "gridcolor": "white",
            "linecolor": "white",
            "ticks": ""
           }
          },
          "title": {
           "x": 0.05
          },
          "xaxis": {
           "automargin": true,
           "gridcolor": "white",
           "linecolor": "white",
           "ticks": "",
           "title": {
            "standoff": 15
           },
           "zerolinecolor": "white",
           "zerolinewidth": 2
          },
          "yaxis": {
           "automargin": true,
           "gridcolor": "white",
           "linecolor": "white",
           "ticks": "",
           "title": {
            "standoff": 15
           },
           "zerolinecolor": "white",
           "zerolinewidth": 2
          }
         }
        },
        "xaxis": {
         "anchor": "y",
         "domain": [
          0,
          1
         ],
         "title": {
          "text": "temperature"
         }
        },
        "yaxis": {
         "anchor": "x",
         "domain": [
          0,
          1
         ],
         "title": {
          "text": "rainfall"
         }
        }
       }
      },
      "text/html": [
       "<div>                            <div id=\"d8c64c90-ff12-4097-b9dc-17e6ead29e80\" class=\"plotly-graph-div\" style=\"height:525px; width:100%;\"></div>            <script type=\"text/javascript\">                require([\"plotly\"], function(Plotly) {                    window.PLOTLYENV=window.PLOTLYENV || {};                                    if (document.getElementById(\"d8c64c90-ff12-4097-b9dc-17e6ead29e80\")) {                    Plotly.newPlot(                        \"d8c64c90-ff12-4097-b9dc-17e6ead29e80\",                        [{\"hovertemplate\": \"name=Bordeaux<br>temperature=%{x}<br>rainfall=%{y}<br>goal=%{marker.size}<extra></extra>\", \"legendgroup\": \"Bordeaux\", \"marker\": {\"color\": \"#636efa\", \"size\": [0, 0, 0, 3, 2, 0, 1, 1, 1, 2, 2, 0, 0, 1, 0, 2, 0, 1, 3, 2, 1, 1, 0, 1, 2, 1, 2, 0, 3, 1, 1, 0, 3, 1, 1, 1, 0, 2], \"sizemode\": \"area\", \"sizeref\": 0.015, \"symbol\": \"circle\"}, \"mode\": \"markers\", \"name\": \"Bordeaux\", \"orientation\": \"v\", \"showlegend\": true, \"type\": \"scatter\", \"x\": [22.5, 23.5, 11.5, 13.5, 14.5, 17.0, 8.5, 10.5, 13.0, 2.5, 8.0, 13.0, 8.0, 9.5, 14.0, 11.5, 12.0, 12.5, 14.0, 13.5, 20.0, 15.0, 17.5, 7.5, 9.5, 5.5, 7.5, 0.5, 8.5, 11.5, 5.5, 12.5, 4.5, 8.0, 11.5, 13.5, 16.5, 10.5], \"xaxis\": \"x\", \"y\": [5.0, 0.0, 1.0, 13.0, 7.0, 4.0, 4.0, 1.0, 1.0, 0.0, 7.0, 3.0, 0.0, 0.0, 0.0, 0.0, 0.0, 1.0, 8.0, 1.0, 1.0, 0.0, 0.0, 0.0, 0.0, 1.0, 14.0, 2.0, 1.0, 11.0, 1.0, 0.0, 3.0, 0.0, 14.0, 0.0, 1.0, 1.0], \"yaxis\": \"y\"}, {\"hovertemplate\": \"name=Dijon<br>temperature=%{x}<br>rainfall=%{y}<br>goal=%{marker.size}<extra></extra>\", \"legendgroup\": \"Dijon\", \"marker\": {\"color\": \"#EF553B\", \"size\": [0, 0, 2, 1, 0, 0, 0, 0, 0, 0, 1, 0, 0, 0, 1, 0, 2, 1, 0, 1, 0, 0, 0, 1, 3, 1, 3, 0, 2, 0, 2, 1, 1, 0, 0, 1, 0, 1], \"sizemode\": \"area\", \"sizeref\": 0.015, \"symbol\": \"circle\"}, \"mode\": \"markers\", \"name\": \"Dijon\", \"orientation\": \"v\", \"showlegend\": true, \"type\": \"scatter\", \"x\": [22.0, 22.0, 8.0, 10.0, 13.5, 3.5, 1.5, 8.5, 9.0, -1.0, 1.5, 10.5, -2.5, 7.5, 4.5, 3.5, 7.5, 8.5, 11.5, 21.5, 19.5, 13.5, 14.5, 11.5, 14.0, 9.5, 12.0, 1.0, 11.0, 1.0, 11.0, 11.0, 10.5, 14.5, 11.5, 12.0, 17.5, 12.0], \"xaxis\": \"x\", \"y\": [19.0, 0.0, 47.0, 2.0, 5.0, 0.0, 0.0, 1.0, 18.0, 0.0, 1.0, 1.0, 0.0, 3.0, 3.0, 0.0, 2.0, 5.0, 7.0, 20.0, 0.0, 13.0, 1.0, 1.0, 0.0, 2.0, 1.0, 1.0, 9.0, 0.0, 1.0, 0.0, 5.0, 1.0, 29.0, 0.0, 3.0, 0.0], \"yaxis\": \"y\"}, {\"hovertemplate\": \"name=Lille<br>temperature=%{x}<br>rainfall=%{y}<br>goal=%{marker.size}<extra></extra>\", \"legendgroup\": \"Lille\", \"marker\": {\"color\": \"#00cc96\", \"size\": [1, 1, 2, 4, 1, 4, 2, 2, 0, 1, 2, 1, 0, 1, 2, 1, 1, 2, 0, 1, 1, 3, 1, 2, 1, 2, 3, 1, 1, 3, 2, 4, 0, 1, 2, 3, 3, 2], \"sizemode\": \"area\", \"sizeref\": 0.015, \"symbol\": \"circle\"}, \"mode\": \"markers\", \"name\": \"Lille\", \"orientation\": \"v\", \"showlegend\": true, \"type\": \"scatter\", \"x\": [19.0, 20.0, 10.5, 11.5, 14.5, 10.5, 3.5, 5.5, 8.0, 2.0, 3.0, 1.0, 0.0, 8.0, 11.0, 8.5, 6.5, 9.0, 11.0, 15.0, 24.0, 13.5, 16.5, 15.0, 3.5, 8.5, 12.5, 2.5, 3.0, 13.0, 6.0, 11.0, 12.5, 8.5, 7.5, 16.5, 9.0, 11.5], \"xaxis\": \"x\", \"y\": [1.0, 0.0, 8.0, 2.0, 1.0, 4.0, 0.0, 1.0, 0.0, 2.0, 1.0, 0.0, 0.0, 0.0, 1.0, 1.0, 0.0, 0.0, 6.0, 2.0, 13.0, 2.0, 2.0, 1.0, 0.0, 1.0, 1.0, 0.0, 1.0, 3.0, 1.0, 2.0, 1.0, 0.0, 1.0, 0.0, 1.0, 1.0], \"yaxis\": \"y\"}, {\"hovertemplate\": \"name=Monaco<br>temperature=%{x}<br>rainfall=%{y}<br>goal=%{marker.size}<extra></extra>\", \"legendgroup\": \"Monaco\", \"marker\": {\"color\": \"#ab63fa\", \"size\": [2, 2, 3, 1, 4, 3, 3, 0, 2, 3, 3, 2, 2, 2, 0, 4, 3, 2, 2, 1, 1, 0, 1, 2, 1, 1, 1, 5, 3, 2, 4, 2, 0, 4, 3, 1, 1, 0], \"sizemode\": \"area\", \"sizeref\": 0.015, \"symbol\": \"circle\"}, \"mode\": \"markers\", \"name\": \"Monaco\", \"orientation\": \"v\", \"showlegend\": true, \"type\": \"scatter\", \"x\": [25.5, 26.5, 17.5, 16.0, 17.5, 14.5, 14.5, 13.0, 13.5, 6.0, 10.0, 12.0, 6.5, 14.0, 12.5, 14.0, 11.5, 15.0, 16.0, 17.0, 20.0, 12.0, 14.5, 16.0, 3.5, 10.5, 9.0, 2.0, 10.0, 9.5, 11.5, 12.0, 10.0, 1.5, 12.0, 13.0, 17.5, 10.5], \"xaxis\": \"x\", \"y\": [1.0, 0.0, 1.0, 1.0, 0.0, 3.0, 0.0, 1.0, 0.0, 0.0, 7.0, 0.0, 1.0, 0.0, 1.0, 7.0, 29.0, 5.0, 0.0, 1.0, 19.0, 7.0, 0.0, 1.0, 0.0, 7.0, 18.0, 0.0, 0.0, 5.0, 1.0, 0.0, 0.0, 0.0, 0.0, 0.0, 2.0, 2.0], \"yaxis\": \"y\"}, {\"hovertemplate\": \"name=Lorient<br>temperature=%{x}<br>rainfall=%{y}<br>goal=%{marker.size}<extra></extra>\", \"legendgroup\": \"Lorient\", \"marker\": {\"color\": \"#FFA15A\", \"size\": [3, 2, 1, 0, 0, 0, 3, 0, 2, 3, 3, 1, 1, 2, 1, 1, 4, 2, 2, 0, 2, 1, 3, 0, 0, 0, 0, 2, 1, 0, 1, 2, 1, 1, 1, 2, 1, 1], \"sizemode\": \"area\", \"sizeref\": 0.015, \"symbol\": \"circle\"}, \"mode\": \"markers\", \"name\": \"Lorient\", \"orientation\": \"v\", \"showlegend\": true, \"type\": \"scatter\", \"x\": [17.0, 18.0, 12.5, 15.5, 15.5, 9.5, 12.0, 11.0, 2.0, 11.0, 9.0, 7.0, 11.0, 7.5, 7.5, 8.0, 13.5, 8.5, 12.0, 14.5, 17.0, 11.0, 9.0, 13.5, 10.5, 4.0, 8.5, 12.5, 2.5, 13.5, 10.0, 6.5, 11.0, 6.5, 2.0, 11.0, 15.0, 12.0], \"xaxis\": \"x\", \"y\": [1.0, 0.0, 0.0, 18.0, 1.0, 0.0, 13.0, 5.0, 0.0, 9.0, 10.0, 0.0, 2.0, 0.0, 1.0, 0.0, 0.0, 2.0, 7.0, 2.0, 0.0, 18.0, 0.0, 5.0, 4.0, 2.0, 0.0, 0.0, 0.0, 0.0, 12.0, 1.0, 0.0, 1.0, 16.0, 0.0, 0.0, 2.0], \"yaxis\": \"y\"}, {\"hovertemplate\": \"name=N\\u00eemes<br>temperature=%{x}<br>rainfall=%{y}<br>goal=%{marker.size}<extra></extra>\", \"legendgroup\": \"N\\u00eemes\", \"marker\": {\"color\": \"#19d3f3\", \"size\": [4, 2, 1, 0, 0, 1, 0, 0, 1, 0, 1, 3, 2, 1, 1, 0, 1, 2, 2, 1, 0, 1, 0, 1, 0, 0, 2, 0, 2, 1, 0, 2, 1, 2, 1, 1, 3, 0], \"sizemode\": \"area\", \"sizeref\": 0.015, \"symbol\": \"circle\"}, \"mode\": \"markers\", \"name\": \"N\\u00eemes\", \"orientation\": \"v\", \"showlegend\": true, \"type\": \"scatter\", \"x\": [26.5, 27.0, 12.0, 12.5, 16.5, 17.0, 9.0, 13.0, 12.0, 2.5, 13.5, 11.5, 12.5, 11.5, 10.5, 11.0, 11.5, 13.5, 16.5, 14.0, 25.5, 16.0, 14.5, 6.5, 14.5, 12.0, 8.5, 1.5, 6.0, 9.5, 11.0, -2.5, 12.0, 8.5, 6.0, 8.5, 16.5, 10.0], \"xaxis\": \"x\", \"y\": [0.0, 0.0, 1.0, 0.0, 0.0, 33.0, 2.0, 5.0, 1.0, 0.0, 0.0, 1.0, 0.0, 4.0, 0.0, 0.0, 0.0, 1.0, 1.0, 1.0, 0.0, 2.0, 7.0, 0.0, 0.0, 13.0, 15.0, 6.0, 0.0, 10.0, 12.0, 0.0, 0.0, 1.0, 1.0, 0.0, 1.0, 2.0], \"yaxis\": \"y\"}, {\"hovertemplate\": \"name=Nice<br>temperature=%{x}<br>rainfall=%{y}<br>goal=%{marker.size}<extra></extra>\", \"legendgroup\": \"Nice\", \"marker\": {\"color\": \"#FF6692\", \"size\": [2, 0, 2, 1, 1, 1, 0, 1, 2, 0, 0, 3, 1, 2, 3, 0, 3, 3, 0, 2, 1, 0, 3, 3, 2, 0, 2, 0, 1, 1, 1, 1, 2, 1, 2, 0, 0, 3], \"sizemode\": \"area\", \"sizeref\": 0.015, \"symbol\": \"circle\"}, \"mode\": \"markers\", \"name\": \"Nice\", \"orientation\": \"v\", \"showlegend\": true, \"type\": \"scatter\", \"x\": [25.5, 23.0, 15.5, 16.5, 16.0, 14.0, 11.0, 12.5, 12.5, 8.5, 11.5, 12.5, 11.5, 12.0, 9.0, 10.5, 16.0, 16.5, 16.5, 16.5, 25.0, 11.5, 6.5, 17.5, 11.5, 2.5, 13.0, 4.0, -1.5, 4.0, 12.0, -1.5, 6.5, 7.5, 7.5, 7.5, 9.0, 14.5], \"xaxis\": \"x\", \"y\": [1.0, 16.0, 22.0, 2.0, 1.0, 0.0, 0.0, 4.0, 0.0, 1.0, 5.0, 10.0, 0.0, 0.0, 0.0, 30.0, 0.0, 0.0, 0.0, 1.0, 3.0, 1.0, 0.0, 5.0, 1.0, 0.0, 5.0, 8.0, 0.0, 1.0, 0.0, 0.0, 0.0, 1.0, 0.0, 2.0, 0.0, 1.0], \"yaxis\": \"y\"}, {\"hovertemplate\": \"name=Montpellier<br>temperature=%{x}<br>rainfall=%{y}<br>goal=%{marker.size}<extra></extra>\", \"legendgroup\": \"Montpellier\", \"marker\": {\"color\": \"#B6E880\", \"size\": [2, 3, 4, 0, 0, 4, 1, 0, 2, 1, 2, 1, 4, 2, 1, 3, 3, 1, 0, 1, 2, 1, 1, 2, 1, 3, 2, 1, 0, 1, 2, 0, 1, 1, 1, 1, 3, 2], \"sizemode\": \"area\", \"sizeref\": 0.015, \"symbol\": \"circle\"}, \"mode\": \"markers\", \"name\": \"Montpellier\", \"orientation\": \"v\", \"showlegend\": true, \"type\": \"scatter\", \"x\": [23.5, 25.0, 23.0, 16.0, 15.5, 9.0, 8.0, 13.0, 12.5, 4.5, 10.0, 11.0, 11.0, 11.5, 11.0, 8.0, 10.0, 14.0, 16.5, 14.0, 8.0, 16.0, 15.5, 17.0, 9.5, 8.0, 10.0, 4.5, 6.0, 10.0, -3.5, 7.0, 10.5, 8.0, 6.5, 16.0, 18.0, 12.0], \"xaxis\": \"x\", \"y\": [0.0, 3.0, 16.0, 2.0, 0.0, 0.0, 0.0, 9.0, 1.0, 0.0, 0.0, 5.0, 1.0, 0.0, 0.0, 0.0, 16.0, 1.0, 3.0, 4.0, 47.0, 1.0, 0.0, 4.0, 0.0, 3.0, 5.0, 0.0, 12.0, 27.0, 3.0, 0.0, 0.0, 0.0, 0.0, 0.0, 0.0, 1.0], \"yaxis\": \"y\"}, {\"hovertemplate\": \"name=Paris-SG<br>temperature=%{x}<br>rainfall=%{y}<br>goal=%{marker.size}<extra></extra>\", \"legendgroup\": \"Paris-SG\", \"marker\": {\"color\": \"#FF97FF\", \"size\": [1, 0, 6, 4, 3, 2, 0, 2, 4, 3, 4, 3, 2, 0, 1, 0, 3, 2, 4, 0, 3, 2, 4, 3, 2, 3, 0, 1, 1, 2, 2, 4, 1, 4, 4, 3, 1, 2], \"sizemode\": \"area\", \"sizeref\": 0.015, \"symbol\": \"circle\"}, \"mode\": \"markers\", \"name\": \"Paris-SG\", \"orientation\": \"v\", \"showlegend\": true, \"type\": \"scatter\", \"x\": [27.0, 26.0, 13.5, 14.5, 13.5, 9.5, 6.0, 8.5, 12.5, 2.0, 6.0, 11.0, -1.5, 12.0, 7.5, 8.5, 8.5, 11.0, 13.0, 19.0, 23.0, 13.0, 12.5, 14.0, 14.5, 8.0, 8.0, -3.0, 3.0, 9.0, 11.5, 7.5, 14.0, 4.0, 13.0, 10.0, 14.5, 10.5], \"xaxis\": \"x\", \"y\": [1.0, 0.0, 31.0, 1.0, 0.0, 0.0, 1.0, 0.0, 18.0, 0.0, 12.0, 12.0, 0.0, 0.0, 2.0, 0.0, 0.0, 0.0, 3.0, 1.0, 16.0, 21.0, 0.0, 0.0, 3.0, 0.0, 0.0, 0.0, 4.0, 10.0, 4.0, 3.0, 0.0, 0.0, 3.0, 0.0, 0.0, 11.0], \"yaxis\": \"y\"}, {\"hovertemplate\": \"name=Marseille<br>temperature=%{x}<br>rainfall=%{y}<br>goal=%{marker.size}<extra></extra>\", \"legendgroup\": \"Marseille\", \"marker\": {\"color\": \"#FECB52\", \"size\": [0, 1, 1, 3, 0, 3, 3, 2, 1, 3, 1, 1, 0, 1, 3, 2, 3, 1, 3, 3, 1, 1, 1, 1, 2, 1, 1, 0, 1, 2, 0, 1, 0, 0, 3, 3, 0, 1], \"sizemode\": \"area\", \"sizeref\": 0.015, \"symbol\": \"circle\"}, \"mode\": \"markers\", \"name\": \"Marseille\", \"orientation\": \"v\", \"showlegend\": true, \"type\": \"scatter\", \"x\": [26.5, 24.0, 14.5, 15.0, 12.5, 11.5, 15.5, 10.5, 14.0, 4.5, 6.0, 12.0, 11.5, 13.0, 11.5, 14.5, 11.0, 16.0, 15.5, 14.5, 26.0, 12.5, 15.5, 9.0, 9.0, 9.5, 12.5, -1.0, 10.0, 9.0, 8.0, 14.0, 11.0, 9.0, 10.0, 9.0, 17.0, 10.5], \"xaxis\": \"x\", \"y\": [0.0, 13.0, 0.0, 0.0, 6.0, 1.0, 4.0, 7.0, 1.0, 0.0, 0.0, 0.0, 4.0, 4.0, 0.0, 1.0, 0.0, 4.0, 1.0, 1.0, 0.0, 5.0, 18.0, 0.0, 2.0, 1.0, 6.0, 0.0, 7.0, 21.0, 0.0, 0.0, 1.0, 0.0, 16.0, 0.0, 1.0, 1.0], \"yaxis\": \"y\"}, {\"hovertemplate\": \"name=Lyon<br>temperature=%{x}<br>rainfall=%{y}<br>goal=%{marker.size}<extra></extra>\", \"legendgroup\": \"Lyon\", \"marker\": {\"color\": \"#636efa\", \"size\": [4, 0, 1, 4, 2, 3, 2, 3, 3, 0, 2, 3, 1, 1, 2, 3, 2, 4, 2, 1, 0, 1, 3, 1, 1, 3, 1, 4, 2, 5, 1, 3, 1, 1, 1, 2, 3, 5], \"sizemode\": \"area\", \"sizeref\": 0.015, \"symbol\": \"circle\"}, \"mode\": \"markers\", \"name\": \"Lyon\", \"orientation\": \"v\", \"showlegend\": true, \"type\": \"scatter\", \"x\": [21.5, 25.5, 12.5, 14.5, 13.5, 5.0, 9.5, 11.0, 0.0, 3.0, 11.5, 12.5, -3.5, 12.0, 4.0, 13.0, 16.5, 15.0, 14.5, 23.5, 23.5, 12.5, 10.0, 14.5, 8.0, 2.5, 6.0, 12.5, 1.0, 1.5, 10.5, 10.0, 13.0, 6.5, 7.5, 8.5, 15.0, 16.5], \"xaxis\": \"x\", \"y\": [20.0, 0.0, 5.0, 0.0, 4.0, 0.0, 24.0, 0.0, 0.0, 5.0, 11.0, 1.0, 3.0, 0.0, 0.0, 14.0, 0.0, 0.0, 1.0, 0.0, 0.0, 0.0, 2.0, 1.0, 0.0, 0.0, 1.0, 4.0, 0.0, 1.0, 1.0, 3.0, 4.0, 3.0, 0.0, 0.0, 5.0, 1.0], \"yaxis\": \"y\"}, {\"hovertemplate\": \"name=Rennes<br>temperature=%{x}<br>rainfall=%{y}<br>goal=%{marker.size}<extra></extra>\", \"legendgroup\": \"Rennes\", \"marker\": {\"color\": \"#EF553B\", \"size\": [2, 2, 2, 1, 2, 0, 0, 2, 1, 2, 0, 1, 0, 1, 1, 1, 5, 1, 2, 1, 4, 3, 1, 0, 1, 1, 3, 0, 2, 0, 0, 1, 0, 3, 2, 3, 0, 1], \"sizemode\": \"area\", \"sizeref\": 0.015, \"symbol\": \"circle\"}, \"mode\": \"markers\", \"name\": \"Rennes\", \"orientation\": \"v\", \"showlegend\": true, \"type\": \"scatter\", \"x\": [14.0, 20.0, 11.5, 13.0, 12.5, 7.5, 4.0, 9.5, 13.0, 1.0, 3.0, 10.0, 1.0, 6.5, 6.0, 5.5, 12.0, 14.5, 10.0, 19.0, 27.0, 7.5, 10.0, 13.5, 5.5, 11.0, 11.0, 0.5, 7.0, 12.0, 7.5, 11.5, 12.0, 1.5, 6.5, 6.5, 12.5, 16.0], \"xaxis\": \"x\", \"y\": [4.0, 19.0, 4.0, 2.0, 2.0, 0.0, 6.0, 1.0, 21.0, 0.0, 1.0, 12.0, 1.0, 0.0, 1.0, 3.0, 0.0, 0.0, 2.0, 1.0, 0.0, 3.0, 2.0, 0.0, 0.0, 0.0, 5.0, 0.0, 0.0, 0.0, 16.0, 0.0, 0.0, 0.0, 0.0, 1.0, 1.0, 0.0], \"yaxis\": \"y\"}, {\"hovertemplate\": \"name=Strasbourg<br>temperature=%{x}<br>rainfall=%{y}<br>goal=%{marker.size}<extra></extra>\", \"legendgroup\": \"Strasbourg\", \"marker\": {\"color\": \"#00cc96\", \"size\": [0, 1, 0, 2, 0, 1, 2, 0, 5, 1, 0, 2, 0, 1, 1, 1, 1, 2, 1, 1, 0, 2, 3, 1, 3, 4, 2, 0, 1, 1, 0, 2, 1, 0, 3, 1, 1, 2], \"sizemode\": \"area\", \"sizeref\": 0.015, \"symbol\": \"circle\"}, \"mode\": \"markers\", \"name\": \"Strasbourg\", \"orientation\": \"v\", \"showlegend\": true, \"type\": \"scatter\", \"x\": [16.5, 19.5, 13.5, 10.0, 9.0, 5.5, 7.0, 7.5, 1.5, 1.0, 2.5, 10.0, 12.0, 10.0, 3.5, 13.0, 12.0, 18.0, 12.0, 17.0, 19.5, 17.5, 11.0, 14.5, 9.0, 6.5, 9.0, 12.5, 2.5, 1.5, 12.5, -1.5, 8.0, 6.0, 11.5, 11.5, 16.0, 16.5], \"xaxis\": \"x\", \"y\": [1.0, 0.0, 2.0, 2.0, 0.0, 0.0, 3.0, 14.0, 6.0, 8.0, 3.0, 11.0, 0.0, 0.0, 1.0, 3.0, 0.0, 0.0, 2.0, 1.0, 0.0, 1.0, 4.0, 2.0, 0.0, 4.0, 2.0, 18.0, 1.0, 1.0, 1.0, 0.0, 0.0, 1.0, 0.0, 0.0, 4.0, 0.0], \"yaxis\": \"y\"}, {\"hovertemplate\": \"name=Reims<br>temperature=%{x}<br>rainfall=%{y}<br>goal=%{marker.size}<extra></extra>\", \"legendgroup\": \"Reims\", \"marker\": {\"color\": \"#ab63fa\", \"size\": [0, 0, 1, 2, 0, 0, 3, 0, 3, 1, 0, 1, 0, 1, 2, 0, 1, 0, 1, 2, 0, 1, 2, 4, 4, 0, 1, 1, 3, 1, 1, 0, 1, 2, 1, 0, 2, 0], \"sizemode\": \"area\", \"sizeref\": 0.015, \"symbol\": \"circle\"}, \"mode\": \"markers\", \"name\": \"Reims\", \"orientation\": \"v\", \"showlegend\": true, \"type\": \"scatter\", \"x\": [15.0, 13.0, 9.0, 14.5, 6.5, 2.5, 7.0, 1.0, 0.5, 1.0, 10.0, -2.5, 7.0, 6.5, 6.5, 8.0, 9.0, 17.5, 10.5, 25.5, 21.0, 19.0, 11.5, 15.5, 13.0, 5.0, 11.5, 14.0, 13.0, 3.0, 2.5, 7.0, 9.0, 11.5, 3.5, 10.5, 13.5, 13.0], \"xaxis\": \"x\", \"y\": [2.0, 21.0, 0.0, 2.0, 0.0, 0.0, 0.0, 1.0, 0.0, 4.0, 14.0, 0.0, 0.0, 3.0, 0.0, 1.0, 0.0, 2.0, 1.0, 1.0, 0.0, 1.0, 4.0, 0.0, 0.0, 0.0, 10.0, 1.0, 1.0, 1.0, 3.0, 0.0, 0.0, 3.0, 0.0, 30.0, 1.0, 3.0], \"yaxis\": \"y\"}, {\"hovertemplate\": \"name=Nantes<br>temperature=%{x}<br>rainfall=%{y}<br>goal=%{marker.size}<extra></extra>\", \"legendgroup\": \"Nantes\", \"marker\": {\"color\": \"#FFA15A\", \"size\": [2, 2, 3, 0, 1, 0, 1, 1, 0, 1, 1, 0, 1, 1, 1, 1, 1, 3, 1, 0, 1, 0, 1, 1, 2, 1, 2, 0, 1, 0, 1, 3, 1, 2, 0, 2, 4, 4], \"sizemode\": \"area\", \"sizeref\": 0.015, \"symbol\": \"circle\"}, \"mode\": \"markers\", \"name\": \"Nantes\", \"orientation\": \"v\", \"showlegend\": true, \"type\": \"scatter\", \"x\": [14.0, 20.5, 11.5, 14.0, 9.0, 6.5, 9.5, 10.0, 0.5, 6.0, 9.5, 6.0, 14.0, 11.5, 6.5, 7.5, 8.5, 16.5, 12.0, 22.5, 26.5, 10.5, 15.5, 8.0, 15.5, 15.5, 7.0, 11.0, 4.5, 1.0, 10.0, 1.5, 11.5, 7.5, 5.5, 12.0, 9.0, 11.5], \"xaxis\": \"x\", \"y\": [1.0, 2.0, 0.0, 0.0, 0.0, 4.0, 2.0, 1.0, 0.0, 0.0, 5.0, 1.0, 0.0, 3.0, 1.0, 0.0, 0.0, 1.0, 1.0, 5.0, 0.0, 8.0, 22.0, 0.0, 1.0, 4.0, 0.0, 0.0, 0.0, 3.0, 0.0, 0.0, 4.0, 2.0, 3.0, 0.0, 1.0, 7.0], \"yaxis\": \"y\"}, {\"hovertemplate\": \"name=Saint-\\u00c9tienne<br>temperature=%{x}<br>rainfall=%{y}<br>goal=%{marker.size}<extra></extra>\", \"legendgroup\": \"Saint-\\u00c9tienne\", \"marker\": {\"color\": \"#19d3f3\", \"size\": [2, 2, 0, 1, 0, 1, 0, 2, 1, 0, 1, 1, 1, 2, 0, 4, 1, 1, 0, 2, 2, 0, 0, 1, 1, 0, 2, 2, 1, 0, 1, 2, 1, 1, 2, 2, 2, 0], \"sizemode\": \"area\", \"sizeref\": 0.015, \"symbol\": \"circle\"}, \"mode\": \"markers\", \"name\": \"Saint-\\u00c9tienne\", \"orientation\": \"v\", \"showlegend\": true, \"type\": \"scatter\", \"x\": [14.5, 19.5, 7.5, 6.5, 15.5, 3.5, 5.5, 8.5, -3.0, 1.5, 10.0, 7.0, 9.0, 9.0, 1.5, 11.5, 13.5, 17.0, 12.0, 26.5, 20.5, 13.5, 11.5, 13.5, 10.5, 1.5, 10.5, 13.5, 0.5, 1.0, 11.5, 1.0, 7.5, 9.5, 11.0, 8.5, 14.0, 11.0], \"xaxis\": \"x\", \"y\": [2.0, 0.0, 3.0, 0.0, 0.0, 0.0, 12.0, 15.0, 0.0, 1.0, 0.0, 25.0, 0.0, 0.0, 0.0, 14.0, 0.0, 1.0, 0.0, 0.0, 2.0, 22.0, 11.0, 4.0, 1.0, 0.0, 1.0, 0.0, 0.0, 8.0, 5.0, 1.0, 0.0, 7.0, 0.0, 0.0, 1.0, 6.0], \"yaxis\": \"y\"}, {\"hovertemplate\": \"name=Angers<br>temperature=%{x}<br>rainfall=%{y}<br>goal=%{marker.size}<extra></extra>\", \"legendgroup\": \"Angers\", \"marker\": {\"color\": \"#FF6692\", \"size\": [0, 1, 3, 1, 0, 0, 2, 0, 2, 0, 3, 1, 2, 0, 1, 0, 0, 3, 1, 1, 1, 1, 2, 5, 3, 0, 1, 2, 0, 1, 0, 0, 0, 1, 0, 0, 0, 2], \"sizemode\": \"area\", \"sizeref\": 0.015, \"symbol\": \"circle\"}, \"mode\": \"markers\", \"name\": \"Angers\", \"orientation\": \"v\", \"showlegend\": true, \"type\": \"scatter\", \"x\": [13.5, 21.0, 11.5, 12.0, 17.5, 8.0, 4.0, 9.0, 12.5, 3.0, 9.5, 1.5, 6.5, 9.5, 8.0, 6.5, 13.0, 17.5, 11.5, 22.0, 23.0, 13.5, 13.0, 17.0, 5.5, 5.5, 10.0, 2.0, 6.0, 8.0, 10.0, 12.5, 12.0, 9.0, 9.0, 13.0, 8.5, 15.5], \"xaxis\": \"x\", \"y\": [1.0, 0.0, 0.0, 0.0, 5.0, 0.0, 2.0, 2.0, 6.0, 4.0, 10.0, 0.0, 0.0, 7.0, 0.0, 1.0, 0.0, 3.0, 1.0, 19.0, 16.0, 31.0, 2.0, 33.0, 0.0, 12.0, 1.0, 2.0, 0.0, 7.0, 14.0, 10.0, 0.0, 0.0, 1.0, 14.0, 2.0, 1.0], \"yaxis\": \"y\"}, {\"hovertemplate\": \"name=Metz<br>temperature=%{x}<br>rainfall=%{y}<br>goal=%{marker.size}<extra></extra>\", \"legendgroup\": \"Metz\", \"marker\": {\"color\": \"#B6E880\", \"size\": [0, 2, 3, 2, 1, 0, 1, 2, 0, 1, 2, 1, 1, 0, 1, 0, 1, 0, 1, 0, 0, 1, 1, 1, 1, 2, 2, 0, 1, 4, 0, 2, 2, 2, 0, 0, 5, 1], \"sizemode\": \"area\", \"sizeref\": 0.015, \"symbol\": \"circle\"}, \"mode\": \"markers\", \"name\": \"Metz\", \"orientation\": \"v\", \"showlegend\": true, \"type\": \"scatter\", \"x\": [17.0, 19.0, 11.0, 11.5, 11.5, 1.0, 2.5, 8.5, 0.5, -1.5, 1.0, 10.0, -1.5, 9.0, 1.5, 7.5, 10.0, 16.5, 10.5, 27.0, 20.0, 14.5, 12.0, 16.5, 9.0, 7.0, 13.0, 13.0, 3.0, 9.0, 7.0, 11.5, 9.5, 6.5, 14.0, 8.0, 8.5, 12.0], \"xaxis\": \"x\", \"y\": [1.0, 1.0, 18.0, 11.0, 1.0, 0.0, 0.0, 1.0, 2.0, 0.0, 3.0, 27.0, 0.0, 0.0, 0.0, 1.0, 0.0, 1.0, 1.0, 1.0, 0.0, 0.0, 0.0, 0.0, 0.0, 3.0, 9.0, 21.0, 5.0, 10.0, 25.0, 0.0, 0.0, 2.0, 7.0, 1.0, 5.0, 7.0], \"yaxis\": \"y\"}, {\"hovertemplate\": \"name=Brest<br>temperature=%{x}<br>rainfall=%{y}<br>goal=%{marker.size}<extra></extra>\", \"legendgroup\": \"Brest\", \"marker\": {\"color\": \"#FF97FF\", \"size\": [2, 3, 1, 0, 3, 4, 2, 2, 2, 1, 2, 2, 2, 3, 0, 1, 1, 1, 0, 0, 2, 2, 1, 1, 2, 0, 2, 1, 0, 0, 2, 0, 0, 1, 0, 2, 2, 0], \"sizemode\": \"area\", \"sizeref\": 0.015, \"symbol\": \"circle\"}, \"mode\": \"markers\", \"name\": \"Brest\", \"orientation\": \"v\", \"showlegend\": true, \"type\": \"scatter\", \"x\": [14.5, 17.0, 12.0, 11.0, 15.0, 10.5, 11.5, 10.0, 4.0, 7.0, 9.0, 5.5, 10.0, 10.5, 9.0, 6.0, 8.0, 9.0, 10.5, 26.5, 22.0, 11.5, 11.5, 12.5, 1.0, 8.5, 9.5, 11.0, 2.0, 1.0, 10.0, 0.0, 14.0, 11.5, 8.0, 13.5, 16.5, 16.5], \"xaxis\": \"x\", \"y\": [1.0, 0.0, 7.0, 4.0, 1.0, 1.0, 10.0, 5.0, 8.0, 0.0, 10.0, 1.0, 3.0, 5.0, 1.0, 1.0, 0.0, 1.0, 11.0, 0.0, 0.0, 0.0, 0.0, 2.0, 0.0, 4.0, 24.0, 35.0, 0.0, 4.0, 11.0, 0.0, 0.0, 0.0, 0.0, 0.0, 0.0, 3.0], \"yaxis\": \"y\"}, {\"hovertemplate\": \"name=Lens<br>temperature=%{x}<br>rainfall=%{y}<br>goal=%{marker.size}<extra></extra>\", \"legendgroup\": \"Lens\", \"marker\": {\"color\": \"#FECB52\", \"size\": [1, 2, 2, 1, 4, 1, 2, 2, 0, 0, 2, 0, 2, 2, 1, 4, 2, 0, 0, 1, 3, 1, 0, 1, 1, 2, 3, 0, 2, 1, 2, 1, 2, 3, 2, 1, 1, 0], \"sizemode\": \"area\", \"sizeref\": 0.015, \"symbol\": \"circle\"}, \"mode\": \"markers\", \"name\": \"Lens\", \"orientation\": \"v\", \"showlegend\": true, \"type\": \"scatter\", \"x\": [19.0, 20.0, 13.5, 8.0, 13.0, 5.5, 8.0, 11.0, 2.5, 4.0, 9.0, 7.5, 11.0, 6.5, 7.5, 2.0, 8.5, 9.0, 10.5, 25.5, 18.0, 12.0, 11.5, 12.5, 3.5, 4.0, 13.0, 8.5, 0.0, 6.0, 11.0, -2.5, 6.5, 9.0, 3.5, 8.0, 11.0, 14.0], \"xaxis\": \"x\", \"y\": [1.0, 1.0, 22.0, 0.0, 0.0, 0.0, 3.0, 35.0, 1.0, 1.0, 21.0, 16.0, 0.0, 2.0, 0.0, 16.0, 0.0, 1.0, 2.0, 1.0, 0.0, 1.0, 2.0, 6.0, 0.0, 6.0, 1.0, 1.0, 0.0, 0.0, 5.0, 0.0, 0.0, 0.0, 1.0, 0.0, 0.0, 8.0], \"yaxis\": \"y\"}],                        {\"legend\": {\"itemsizing\": \"constant\", \"title\": {\"text\": \"name\"}, \"tracegroupgap\": 0}, \"margin\": {\"t\": 60}, \"template\": {\"data\": {\"bar\": [{\"error_x\": {\"color\": \"#2a3f5f\"}, \"error_y\": {\"color\": \"#2a3f5f\"}, \"marker\": {\"line\": {\"color\": \"#E5ECF6\", \"width\": 0.5}}, \"type\": \"bar\"}], \"barpolar\": [{\"marker\": {\"line\": {\"color\": \"#E5ECF6\", \"width\": 0.5}}, \"type\": \"barpolar\"}], \"carpet\": [{\"aaxis\": {\"endlinecolor\": \"#2a3f5f\", \"gridcolor\": \"white\", \"linecolor\": \"white\", \"minorgridcolor\": \"white\", \"startlinecolor\": \"#2a3f5f\"}, \"baxis\": {\"endlinecolor\": \"#2a3f5f\", \"gridcolor\": \"white\", \"linecolor\": \"white\", \"minorgridcolor\": \"white\", \"startlinecolor\": \"#2a3f5f\"}, \"type\": \"carpet\"}], \"choropleth\": [{\"colorbar\": {\"outlinewidth\": 0, \"ticks\": \"\"}, \"type\": \"choropleth\"}], \"contour\": [{\"colorbar\": {\"outlinewidth\": 0, \"ticks\": \"\"}, \"colorscale\": [[0.0, \"#0d0887\"], [0.1111111111111111, \"#46039f\"], [0.2222222222222222, \"#7201a8\"], [0.3333333333333333, \"#9c179e\"], [0.4444444444444444, \"#bd3786\"], [0.5555555555555556, \"#d8576b\"], [0.6666666666666666, \"#ed7953\"], [0.7777777777777778, \"#fb9f3a\"], [0.8888888888888888, \"#fdca26\"], [1.0, \"#f0f921\"]], \"type\": \"contour\"}], \"contourcarpet\": [{\"colorbar\": {\"outlinewidth\": 0, \"ticks\": \"\"}, \"type\": \"contourcarpet\"}], \"heatmap\": [{\"colorbar\": {\"outlinewidth\": 0, \"ticks\": \"\"}, \"colorscale\": [[0.0, \"#0d0887\"], [0.1111111111111111, \"#46039f\"], [0.2222222222222222, \"#7201a8\"], [0.3333333333333333, \"#9c179e\"], [0.4444444444444444, \"#bd3786\"], [0.5555555555555556, \"#d8576b\"], [0.6666666666666666, \"#ed7953\"], [0.7777777777777778, \"#fb9f3a\"], [0.8888888888888888, \"#fdca26\"], [1.0, \"#f0f921\"]], \"type\": \"heatmap\"}], \"heatmapgl\": [{\"colorbar\": {\"outlinewidth\": 0, \"ticks\": \"\"}, \"colorscale\": [[0.0, \"#0d0887\"], [0.1111111111111111, \"#46039f\"], [0.2222222222222222, \"#7201a8\"], [0.3333333333333333, \"#9c179e\"], [0.4444444444444444, \"#bd3786\"], [0.5555555555555556, \"#d8576b\"], [0.6666666666666666, \"#ed7953\"], [0.7777777777777778, \"#fb9f3a\"], [0.8888888888888888, \"#fdca26\"], [1.0, \"#f0f921\"]], \"type\": \"heatmapgl\"}], \"histogram\": [{\"marker\": {\"colorbar\": {\"outlinewidth\": 0, \"ticks\": \"\"}}, \"type\": \"histogram\"}], \"histogram2d\": [{\"colorbar\": {\"outlinewidth\": 0, \"ticks\": \"\"}, \"colorscale\": [[0.0, \"#0d0887\"], [0.1111111111111111, \"#46039f\"], [0.2222222222222222, \"#7201a8\"], [0.3333333333333333, \"#9c179e\"], [0.4444444444444444, \"#bd3786\"], [0.5555555555555556, \"#d8576b\"], [0.6666666666666666, \"#ed7953\"], [0.7777777777777778, \"#fb9f3a\"], [0.8888888888888888, \"#fdca26\"], [1.0, \"#f0f921\"]], \"type\": \"histogram2d\"}], \"histogram2dcontour\": [{\"colorbar\": {\"outlinewidth\": 0, \"ticks\": \"\"}, \"colorscale\": [[0.0, \"#0d0887\"], [0.1111111111111111, \"#46039f\"], [0.2222222222222222, \"#7201a8\"], [0.3333333333333333, \"#9c179e\"], [0.4444444444444444, \"#bd3786\"], [0.5555555555555556, \"#d8576b\"], [0.6666666666666666, \"#ed7953\"], [0.7777777777777778, \"#fb9f3a\"], [0.8888888888888888, \"#fdca26\"], [1.0, \"#f0f921\"]], \"type\": \"histogram2dcontour\"}], \"mesh3d\": [{\"colorbar\": {\"outlinewidth\": 0, \"ticks\": \"\"}, \"type\": \"mesh3d\"}], \"parcoords\": [{\"line\": {\"colorbar\": {\"outlinewidth\": 0, \"ticks\": \"\"}}, \"type\": \"parcoords\"}], \"pie\": [{\"automargin\": true, \"type\": \"pie\"}], \"scatter\": [{\"marker\": {\"colorbar\": {\"outlinewidth\": 0, \"ticks\": \"\"}}, \"type\": \"scatter\"}], \"scatter3d\": [{\"line\": {\"colorbar\": {\"outlinewidth\": 0, \"ticks\": \"\"}}, \"marker\": {\"colorbar\": {\"outlinewidth\": 0, \"ticks\": \"\"}}, \"type\": \"scatter3d\"}], \"scattercarpet\": [{\"marker\": {\"colorbar\": {\"outlinewidth\": 0, \"ticks\": \"\"}}, \"type\": \"scattercarpet\"}], \"scattergeo\": [{\"marker\": {\"colorbar\": {\"outlinewidth\": 0, \"ticks\": \"\"}}, \"type\": \"scattergeo\"}], \"scattergl\": [{\"marker\": {\"colorbar\": {\"outlinewidth\": 0, \"ticks\": \"\"}}, \"type\": \"scattergl\"}], \"scattermapbox\": [{\"marker\": {\"colorbar\": {\"outlinewidth\": 0, \"ticks\": \"\"}}, \"type\": \"scattermapbox\"}], \"scatterpolar\": [{\"marker\": {\"colorbar\": {\"outlinewidth\": 0, \"ticks\": \"\"}}, \"type\": \"scatterpolar\"}], \"scatterpolargl\": [{\"marker\": {\"colorbar\": {\"outlinewidth\": 0, \"ticks\": \"\"}}, \"type\": \"scatterpolargl\"}], \"scatterternary\": [{\"marker\": {\"colorbar\": {\"outlinewidth\": 0, \"ticks\": \"\"}}, \"type\": \"scatterternary\"}], \"surface\": [{\"colorbar\": {\"outlinewidth\": 0, \"ticks\": \"\"}, \"colorscale\": [[0.0, \"#0d0887\"], [0.1111111111111111, \"#46039f\"], [0.2222222222222222, \"#7201a8\"], [0.3333333333333333, \"#9c179e\"], [0.4444444444444444, \"#bd3786\"], [0.5555555555555556, \"#d8576b\"], [0.6666666666666666, \"#ed7953\"], [0.7777777777777778, \"#fb9f3a\"], [0.8888888888888888, \"#fdca26\"], [1.0, \"#f0f921\"]], \"type\": \"surface\"}], \"table\": [{\"cells\": {\"fill\": {\"color\": \"#EBF0F8\"}, \"line\": {\"color\": \"white\"}}, \"header\": {\"fill\": {\"color\": \"#C8D4E3\"}, \"line\": {\"color\": \"white\"}}, \"type\": \"table\"}]}, \"layout\": {\"annotationdefaults\": {\"arrowcolor\": \"#2a3f5f\", \"arrowhead\": 0, \"arrowwidth\": 1}, \"autotypenumbers\": \"strict\", \"coloraxis\": {\"colorbar\": {\"outlinewidth\": 0, \"ticks\": \"\"}}, \"colorscale\": {\"diverging\": [[0, \"#8e0152\"], [0.1, \"#c51b7d\"], [0.2, \"#de77ae\"], [0.3, \"#f1b6da\"], [0.4, \"#fde0ef\"], [0.5, \"#f7f7f7\"], [0.6, \"#e6f5d0\"], [0.7, \"#b8e186\"], [0.8, \"#7fbc41\"], [0.9, \"#4d9221\"], [1, \"#276419\"]], \"sequential\": [[0.0, \"#0d0887\"], [0.1111111111111111, \"#46039f\"], [0.2222222222222222, \"#7201a8\"], [0.3333333333333333, \"#9c179e\"], [0.4444444444444444, \"#bd3786\"], [0.5555555555555556, \"#d8576b\"], [0.6666666666666666, \"#ed7953\"], [0.7777777777777778, \"#fb9f3a\"], [0.8888888888888888, \"#fdca26\"], [1.0, \"#f0f921\"]], \"sequentialminus\": [[0.0, \"#0d0887\"], [0.1111111111111111, \"#46039f\"], [0.2222222222222222, \"#7201a8\"], [0.3333333333333333, \"#9c179e\"], [0.4444444444444444, \"#bd3786\"], [0.5555555555555556, \"#d8576b\"], [0.6666666666666666, \"#ed7953\"], [0.7777777777777778, \"#fb9f3a\"], [0.8888888888888888, \"#fdca26\"], [1.0, \"#f0f921\"]]}, \"colorway\": [\"#636efa\", \"#EF553B\", \"#00cc96\", \"#ab63fa\", \"#FFA15A\", \"#19d3f3\", \"#FF6692\", \"#B6E880\", \"#FF97FF\", \"#FECB52\"], \"font\": {\"color\": \"#2a3f5f\"}, \"geo\": {\"bgcolor\": \"white\", \"lakecolor\": \"white\", \"landcolor\": \"#E5ECF6\", \"showlakes\": true, \"showland\": true, \"subunitcolor\": \"white\"}, \"hoverlabel\": {\"align\": \"left\"}, \"hovermode\": \"closest\", \"mapbox\": {\"style\": \"light\"}, \"paper_bgcolor\": \"white\", \"plot_bgcolor\": \"#E5ECF6\", \"polar\": {\"angularaxis\": {\"gridcolor\": \"white\", \"linecolor\": \"white\", \"ticks\": \"\"}, \"bgcolor\": \"#E5ECF6\", \"radialaxis\": {\"gridcolor\": \"white\", \"linecolor\": \"white\", \"ticks\": \"\"}}, \"scene\": {\"xaxis\": {\"backgroundcolor\": \"#E5ECF6\", \"gridcolor\": \"white\", \"gridwidth\": 2, \"linecolor\": \"white\", \"showbackground\": true, \"ticks\": \"\", \"zerolinecolor\": \"white\"}, \"yaxis\": {\"backgroundcolor\": \"#E5ECF6\", \"gridcolor\": \"white\", \"gridwidth\": 2, \"linecolor\": \"white\", \"showbackground\": true, \"ticks\": \"\", \"zerolinecolor\": \"white\"}, \"zaxis\": {\"backgroundcolor\": \"#E5ECF6\", \"gridcolor\": \"white\", \"gridwidth\": 2, \"linecolor\": \"white\", \"showbackground\": true, \"ticks\": \"\", \"zerolinecolor\": \"white\"}}, \"shapedefaults\": {\"line\": {\"color\": \"#2a3f5f\"}}, \"ternary\": {\"aaxis\": {\"gridcolor\": \"white\", \"linecolor\": \"white\", \"ticks\": \"\"}, \"baxis\": {\"gridcolor\": \"white\", \"linecolor\": \"white\", \"ticks\": \"\"}, \"bgcolor\": \"#E5ECF6\", \"caxis\": {\"gridcolor\": \"white\", \"linecolor\": \"white\", \"ticks\": \"\"}}, \"title\": {\"x\": 0.05}, \"xaxis\": {\"automargin\": true, \"gridcolor\": \"white\", \"linecolor\": \"white\", \"ticks\": \"\", \"title\": {\"standoff\": 15}, \"zerolinecolor\": \"white\", \"zerolinewidth\": 2}, \"yaxis\": {\"automargin\": true, \"gridcolor\": \"white\", \"linecolor\": \"white\", \"ticks\": \"\", \"title\": {\"standoff\": 15}, \"zerolinecolor\": \"white\", \"zerolinewidth\": 2}}}, \"xaxis\": {\"anchor\": \"y\", \"domain\": [0.0, 1.0], \"title\": {\"text\": \"temperature\"}}, \"yaxis\": {\"anchor\": \"x\", \"domain\": [0.0, 1.0], \"title\": {\"text\": \"rainfall\"}}},                        {\"responsive\": true}                    ).then(function(){\n",
       "                            \n",
       "var gd = document.getElementById('d8c64c90-ff12-4097-b9dc-17e6ead29e80');\n",
       "var x = new MutationObserver(function (mutations, observer) {{\n",
       "        var display = window.getComputedStyle(gd).display;\n",
       "        if (!display || display === 'none') {{\n",
       "            console.log([gd, 'removed!']);\n",
       "            Plotly.purge(gd);\n",
       "            observer.disconnect();\n",
       "        }}\n",
       "}});\n",
       "\n",
       "// Listen for the removal of the full notebook cells\n",
       "var notebookContainer = gd.closest('#notebook-container');\n",
       "if (notebookContainer) {{\n",
       "    x.observe(notebookContainer, {childList: true});\n",
       "}}\n",
       "\n",
       "// Listen for the clearing of the current output cell\n",
       "var outputEl = gd.closest('.output');\n",
       "if (outputEl) {{\n",
       "    x.observe(outputEl, {childList: true});\n",
       "}}\n",
       "\n",
       "                        })                };                });            </script>        </div>"
      ]
     },
     "metadata": {},
     "output_type": "display_data"
    }
   ],
   "source": [
    "import plotly.express as px\n",
    "fig = px.scatter(teams_goals_and_meteo, x=\"temperature\", y=\"rainfall\", color=\"name\", size='goal')\n",
    "fig.show()"
   ]
  },
  {
   "cell_type": "code",
   "execution_count": 64,
   "metadata": {
    "ExecuteTime": {
     "end_time": "2021-07-16T08:28:34.006817Z",
     "start_time": "2021-07-16T08:28:33.921439Z"
    }
   },
   "outputs": [
    {
     "data": {
      "application/vnd.plotly.v1+json": {
       "config": {
        "plotlyServerURL": "https://plot.ly"
       },
       "data": [
        {
         "domain": {
          "x": [
           0,
           1
          ],
          "y": [
           0,
           1
          ]
         },
         "hovertemplate": "name=%{label}<br>goal=%{value}<extra></extra>",
         "labels": [
          "Bordeaux",
          "Dijon",
          "Lille",
          "Monaco",
          "Lorient",
          "Nîmes",
          "Nice",
          "Montpellier",
          "Paris-SG",
          "Marseille",
          "Lyon",
          "Rennes",
          "Strasbourg",
          "Reims",
          "Nantes",
          "Saint-Étienne",
          "Angers",
          "Metz",
          "Brest",
          "Lens",
          "Bordeaux",
          "Montpellier",
          "Saint-Étienne",
          "Lille",
          "Nîmes",
          "Lorient",
          "Angers",
          "Dijon",
          "Monaco",
          "Paris-SG",
          "Lyon",
          "Lens",
          "Rennes",
          "Nice",
          "Montpellier",
          "Brest",
          "Metz",
          "Strasbourg",
          "Nantes",
          "Marseille",
          "Lille",
          "Saint-Étienne",
          "Marseille",
          "Bordeaux",
          "Dijon",
          "Nîmes",
          "Monaco",
          "Angers",
          "Lorient",
          "Reims",
          "Paris-SG",
          "Lens",
          "Nice",
          "Montpellier",
          "Strasbourg",
          "Brest",
          "Bordeaux",
          "Metz",
          "Rennes",
          "Lyon",
          "Dijon",
          "Nîmes",
          "Reims",
          "Marseille",
          "Strasbourg",
          "Monaco",
          "Nantes",
          "Angers",
          "Saint-Étienne",
          "Lille",
          "Rennes",
          "Lorient",
          "Paris-SG",
          "Montpellier",
          "Metz",
          "Bordeaux",
          "Brest",
          "Nice",
          "Lyon",
          "Lens",
          "Rennes",
          "Nantes",
          "Saint-Étienne",
          "Angers",
          "Nîmes",
          "Dijon",
          "Reims",
          "Monaco",
          "Lille",
          "Marseille",
          "Strasbourg",
          "Bordeaux",
          "Paris-SG",
          "Brest",
          "Lens",
          "Metz",
          "Nîmes",
          "Lorient",
          "Nice",
          "Lyon",
          "Rennes",
          "Monaco",
          "Brest",
          "Nantes",
          "Montpellier",
          "Dijon",
          "Reims",
          "Angers",
          "Lille",
          "Marseille",
          "Strasbourg",
          "Marseille",
          "Paris-SG",
          "Lyon",
          "Lens",
          "Lorient",
          "Monaco",
          "Metz",
          "Nice",
          "Saint-Étienne",
          "Nîmes",
          "Rennes",
          "Montpellier",
          "Lille",
          "Angers",
          "Bordeaux",
          "Nantes",
          "Dijon",
          "Reims",
          "Metz",
          "Saint-Étienne",
          "Marseille",
          "Lens",
          "Nice",
          "Brest",
          "Strasbourg",
          "Nantes",
          "Lorient",
          "Lille",
          "Paris-SG",
          "Dijon",
          "Montpellier",
          "Angers",
          "Nîmes",
          "Reims",
          "Lyon",
          "Paris-SG",
          "Rennes",
          "Monaco",
          "Bordeaux",
          "Metz",
          "Marseille",
          "Nice",
          "Brest",
          "Dijon",
          "Nantes",
          "Strasbourg",
          "Saint-Étienne",
          "Lorient",
          "Lille",
          "Rennes",
          "Lens",
          "Bordeaux",
          "Nice",
          "Nîmes",
          "Montpellier",
          "Lyon",
          "Paris-SG",
          "Angers",
          "Monaco",
          "Nantes",
          "Lorient",
          "Metz",
          "Brest",
          "Strasbourg",
          "Lyon",
          "Lille",
          "Saint-Étienne",
          "Marseille",
          "Reims",
          "Rennes",
          "Paris-SG",
          "Nîmes",
          "Dijon",
          "Monaco",
          "Lens",
          "Montpellier",
          "Metz",
          "Bordeaux",
          "Reims",
          "Montpellier",
          "Marseille",
          "Angers",
          "Brest",
          "Nantes",
          "Nice",
          "Strasbourg",
          "Lille",
          "Lyon",
          "Lorient",
          "Paris-SG",
          "Lens",
          "Monaco",
          "Bordeaux",
          "Metz",
          "Reims",
          "Dijon",
          "Rennes",
          "Saint-Étienne",
          "Nîmes",
          "Lyon",
          "Montpellier",
          "Nice",
          "Lorient",
          "Brest",
          "Angers",
          "Strasbourg",
          "Lille",
          "Nantes",
          "Marseille",
          "Bordeaux",
          "Rennes",
          "Metz",
          "Reims",
          "Strasbourg",
          "Dijon",
          "Paris-SG",
          "Monaco",
          "Lens",
          "Saint-Étienne",
          "Lorient",
          "Lyon",
          "Lens",
          "Brest",
          "Nîmes",
          "Saint-Étienne",
          "Nice",
          "Montpellier",
          "Nantes",
          "Marseille",
          "Paris-SG",
          "Reims",
          "Lyon",
          "Monaco",
          "Rennes",
          "Metz",
          "Angers",
          "Dijon",
          "Lille",
          "Bordeaux",
          "Brest",
          "Saint-Étienne",
          "Nantes",
          "Montpellier",
          "Lens",
          "Nice",
          "Strasbourg",
          "Nîmes",
          "Lorient",
          "Paris-SG",
          "Rennes",
          "Bordeaux",
          "Dijon",
          "Monaco",
          "Angers",
          "Reims",
          "Lorient",
          "Nîmes",
          "Lille",
          "Marseille",
          "Lyon",
          "Metz",
          "Saint-Étienne",
          "Nice",
          "Brest",
          "Lille",
          "Bordeaux",
          "Strasbourg",
          "Montpellier",
          "Nantes",
          "Reims",
          "Angers",
          "Marseille",
          "Nîmes",
          "Lens",
          "Rennes",
          "Lorient",
          "Dijon",
          "Monaco",
          "Paris-SG",
          "Saint-Étienne",
          "Metz",
          "Nice",
          "Strasbourg",
          "Montpellier",
          "Brest",
          "Dijon",
          "Nantes",
          "Lille",
          "Lyon",
          "Monaco",
          "Paris-SG",
          "Lens",
          "Angers",
          "Reims",
          "Nantes",
          "Bordeaux",
          "Lorient",
          "Nîmes",
          "Marseille",
          "Metz",
          "Strasbourg",
          "Montpellier",
          "Rennes",
          "Lens",
          "Nice",
          "Saint-Étienne",
          "Brest",
          "Monaco",
          "Lyon",
          "Lille",
          "Angers",
          "Marseille",
          "Paris-SG",
          "Brest",
          "Dijon",
          "Reims",
          "Nîmes",
          "Bordeaux",
          "Nantes",
          "Reims",
          "Saint-Étienne",
          "Metz",
          "Nice",
          "Lens",
          "Rennes",
          "Strasbourg",
          "Lorient",
          "Angers",
          "Lyon",
          "Marseille",
          "Paris-SG",
          "Lille",
          "Bordeaux",
          "Dijon",
          "Nîmes",
          "Lorient",
          "Brest",
          "Montpellier",
          "Monaco",
          "Lens",
          "Nantes",
          "Lyon",
          "Saint-Étienne",
          "Strasbourg",
          "Metz",
          "Nice",
          "Angers",
          "Reims",
          "Rennes",
          "Lille",
          "Paris-SG",
          "Monaco",
          "Nîmes",
          "Marseille",
          "Bordeaux",
          "Montpellier",
          "Nice",
          "Lorient",
          "Dijon",
          "Angers",
          "Brest",
          "Lens",
          "Lyon",
          "Metz",
          "Rennes",
          "Nantes",
          "Saint-Étienne",
          "Reims",
          "Strasbourg",
          "Nantes",
          "Angers",
          "Rennes",
          "Reims",
          "Strasbourg",
          "Brest",
          "Lens",
          "Lyon",
          "Metz",
          "Saint-Étienne",
          "Dijon",
          "Montpellier",
          "Nice",
          "Lille",
          "Nîmes",
          "Lorient",
          "Bordeaux",
          "Monaco",
          "Marseille",
          "Paris-SG",
          "Lyon",
          "Nice",
          "Strasbourg",
          "Metz",
          "Rennes",
          "Lens",
          "Reims",
          "Brest",
          "Nantes",
          "Marseille",
          "Nîmes",
          "Bordeaux",
          "Monaco",
          "Paris-SG",
          "Angers",
          "Lorient",
          "Reims",
          "Dijon",
          "Saint-Étienne",
          "Lille",
          "Nantes",
          "Rennes",
          "Metz",
          "Nice",
          "Montpellier",
          "Lens",
          "Strasbourg",
          "Brest",
          "Lyon",
          "Paris-SG",
          "Angers",
          "Saint-Étienne",
          "Nantes",
          "Nîmes",
          "Lille",
          "Monaco",
          "Dijon",
          "Lorient",
          "Reims",
          "Marseille",
          "Rennes",
          "Paris-SG",
          "Lorient",
          "Bordeaux",
          "Lyon",
          "Montpellier",
          "Brest",
          "Metz",
          "Nice",
          "Lens",
          "Angers",
          "Marseille",
          "Dijon",
          "Reims",
          "Saint-Étienne",
          "Nîmes",
          "Strasbourg",
          "Lille",
          "Monaco",
          "Nantes",
          "Brest",
          "Paris-SG",
          "Montpellier",
          "Nice",
          "Metz",
          "Lorient",
          "Strasbourg",
          "Bordeaux",
          "Lyon",
          "Lens",
          "Marseille",
          "Montpellier",
          "Rennes",
          "Lille",
          "Reims",
          "Dijon",
          "Angers",
          "Nantes",
          "Monaco",
          "Saint-Étienne",
          "Bordeaux",
          "Paris-SG",
          "Saint-Étienne",
          "Metz",
          "Strasbourg",
          "Lens",
          "Nîmes",
          "Lyon",
          "Lorient",
          "Nice",
          "Rennes",
          "Nantes",
          "Bordeaux",
          "Reims",
          "Angers",
          "Montpellier",
          "Nîmes",
          "Brest",
          "Dijon",
          "Lille",
          "Marseille",
          "Lens",
          "Paris-SG",
          "Monaco",
          "Lorient",
          "Brest",
          "Strasbourg",
          "Saint-Étienne",
          "Nice",
          "Lyon",
          "Angers",
          "Monaco",
          "Montpellier",
          "Rennes",
          "Reims",
          "Metz",
          "Dijon",
          "Nîmes",
          "Bordeaux",
          "Lyon",
          "Lille",
          "Metz",
          "Strasbourg",
          "Nice",
          "Nantes",
          "Brest",
          "Lorient",
          "Marseille",
          "Lens",
          "Saint-Étienne",
          "Lens",
          "Reims",
          "Lyon",
          "Montpellier",
          "Monaco",
          "Angers",
          "Bordeaux",
          "Nîmes",
          "Rennes",
          "Paris-SG",
          "Metz",
          "Brest",
          "Reims",
          "Lorient",
          "Dijon",
          "Lille",
          "Nantes",
          "Strasbourg",
          "Marseille",
          "Saint-Étienne",
          "Rennes",
          "Monaco",
          "Bordeaux",
          "Nice",
          "Nîmes",
          "Lens",
          "Angers",
          "Paris-SG",
          "Montpellier",
          "Dijon",
          "Lyon",
          "Brest",
          "Lille",
          "Marseille",
          "Angers",
          "Strasbourg",
          "Nantes",
          "Nice",
          "Lorient",
          "Saint-Étienne",
          "Monaco",
          "Nîmes",
          "Paris-SG",
          "Rennes",
          "Lens",
          "Bordeaux",
          "Saint-Étienne",
          "Reims",
          "Metz",
          "Dijon",
          "Montpellier",
          "Nice",
          "Marseille",
          "Angers",
          "Nantes",
          "Brest",
          "Strasbourg",
          "Lille",
          "Lyon",
          "Lorient",
          "Bordeaux",
          "Lens",
          "Saint-Étienne",
          "Paris-SG",
          "Metz",
          "Nîmes",
          "Reims",
          "Dijon",
          "Monaco",
          "Rennes",
          "Lille",
          "Lorient",
          "Montpellier",
          "Angers",
          "Brest",
          "Lyon",
          "Nîmes",
          "Nice",
          "Marseille",
          "Nantes",
          "Reims",
          "Strasbourg",
          "Rennes",
          "Bordeaux",
          "Monaco",
          "Metz",
          "Angers",
          "Dijon",
          "Lille",
          "Paris-SG",
          "Nice",
          "Lens",
          "Montpellier",
          "Lorient",
          "Saint-Étienne",
          "Strasbourg",
          "Nantes",
          "Nîmes",
          "Brest",
          "Marseille",
          "Lyon",
          "Reims",
          "Marseille",
          "Rennes",
          "Dijon",
          "Metz",
          "Angers",
          "Bordeaux",
          "Lille",
          "Monaco",
          "Nice",
          "Metz",
          "Paris-SG",
          "Brest",
          "Lens",
          "Montpellier",
          "Saint-Étienne",
          "Nantes",
          "Strasbourg",
          "Lyon",
          "Rennes",
          "Angers",
          "Lens",
          "Nîmes",
          "Dijon",
          "Marseille",
          "Paris-SG",
          "Monaco",
          "Lorient",
          "Reims",
          "Lyon",
          "Saint-Étienne",
          "Brest",
          "Montpellier",
          "Metz",
          "Strasbourg",
          "Nice",
          "Bordeaux",
          "Lille",
          "Nantes",
          "Monaco",
          "Rennes",
          "Marseille",
          "Lens",
          "Bordeaux",
          "Angers",
          "Reims",
          "Lorient",
          "Nîmes",
          "Paris-SG",
          "Metz",
          "Lille",
          "Lyon",
          "Montpellier",
          "Rennes",
          "Nice",
          "Strasbourg",
          "Brest",
          "Saint-Étienne",
          "Dijon",
          "Lille",
          "Paris-SG",
          "Marseille",
          "Nantes",
          "Lorient",
          "Reims",
          "Bordeaux",
          "Nîmes",
          "Dijon",
          "Angers",
          "Montpellier",
          "Rennes",
          "Lorient",
          "Saint-Étienne",
          "Lens",
          "Nice",
          "Metz",
          "Strasbourg",
          "Monaco",
          "Lyon",
          "Marseille",
          "Brest",
          "Paris-SG",
          "Montpellier",
          "Nîmes",
          "Dijon",
          "Nantes",
          "Bordeaux",
          "Monaco",
          "Lille",
          "Strasbourg",
          "Lens",
          "Nice",
          "Rennes",
          "Metz",
          "Reims",
          "Angers",
          "Nantes",
          "Saint-Étienne",
          "Lyon",
          "Lille",
          "Bordeaux",
          "Lorient",
          "Marseille",
          "Montpellier",
          "Nîmes",
          "Brest",
          "Dijon",
          "Monaco",
          "Paris-SG",
          "Saint-Étienne",
          "Reims",
          "Rennes",
          "Lyon",
          "Angers",
          "Lens",
          "Brest",
          "Strasbourg",
          "Metz",
          "Nantes",
          "Lille",
          "Paris-SG",
          "Monaco",
          "Nice",
          "Marseille",
          "Nîmes",
          "Montpellier",
          "Dijon",
          "Bordeaux",
          "Lorient"
         ],
         "legendgroup": "",
         "name": "",
         "showlegend": true,
         "type": "pie",
         "values": [
          0,
          0,
          1,
          2,
          3,
          4,
          2,
          2,
          1,
          0,
          4,
          2,
          0,
          0,
          2,
          2,
          0,
          0,
          2,
          1,
          0,
          3,
          2,
          1,
          2,
          2,
          1,
          0,
          2,
          0,
          0,
          2,
          2,
          0,
          4,
          3,
          2,
          1,
          2,
          1,
          2,
          0,
          1,
          0,
          2,
          1,
          3,
          3,
          1,
          0,
          6,
          2,
          2,
          0,
          0,
          1,
          3,
          3,
          2,
          1,
          1,
          0,
          1,
          3,
          2,
          1,
          3,
          1,
          1,
          4,
          1,
          0,
          4,
          0,
          2,
          2,
          0,
          1,
          4,
          1,
          2,
          0,
          0,
          0,
          0,
          0,
          2,
          4,
          1,
          0,
          0,
          0,
          3,
          3,
          4,
          1,
          1,
          0,
          1,
          2,
          0,
          3,
          4,
          1,
          4,
          0,
          0,
          0,
          4,
          3,
          1,
          3,
          2,
          3,
          1,
          0,
          3,
          0,
          1,
          1,
          0,
          0,
          1,
          2,
          2,
          1,
          0,
          0,
          0,
          1,
          0,
          2,
          2,
          0,
          2,
          2,
          1,
          3,
          2,
          0,
          0,
          0,
          0,
          0,
          3,
          2,
          2,
          2,
          0,
          1,
          2,
          1,
          1,
          2,
          0,
          1,
          0,
          2,
          0,
          0,
          1,
          2,
          1,
          2,
          1,
          2,
          3,
          4,
          2,
          2,
          0,
          2,
          0,
          2,
          5,
          3,
          1,
          1,
          3,
          0,
          2,
          3,
          0,
          0,
          3,
          0,
          1,
          1,
          2,
          3,
          2,
          1,
          0,
          1,
          1,
          0,
          1,
          2,
          0,
          3,
          4,
          0,
          3,
          2,
          2,
          1,
          1,
          0,
          0,
          1,
          2,
          1,
          0,
          3,
          2,
          3,
          0,
          1,
          1,
          1,
          0,
          1,
          1,
          0,
          2,
          0,
          3,
          2,
          2,
          1,
          1,
          3,
          0,
          2,
          3,
          1,
          3,
          4,
          0,
          0,
          2,
          1,
          1,
          2,
          0,
          1,
          1,
          0,
          0,
          0,
          2,
          1,
          1,
          2,
          2,
          1,
          0,
          2,
          1,
          0,
          1,
          1,
          0,
          2,
          2,
          0,
          2,
          1,
          1,
          1,
          1,
          0,
          2,
          2,
          3,
          2,
          0,
          1,
          1,
          1,
          1,
          0,
          3,
          1,
          2,
          1,
          1,
          1,
          0,
          1,
          0,
          1,
          3,
          1,
          3,
          0,
          0,
          1,
          1,
          2,
          4,
          0,
          1,
          1,
          2,
          1,
          2,
          1,
          0,
          2,
          0,
          1,
          3,
          1,
          4,
          0,
          4,
          1,
          3,
          3,
          1,
          0,
          3,
          3,
          1,
          2,
          0,
          1,
          0,
          1,
          1,
          1,
          1,
          3,
          2,
          5,
          1,
          4,
          0,
          2,
          1,
          2,
          2,
          1,
          1,
          2,
          2,
          1,
          1,
          2,
          0,
          3,
          4,
          1,
          2,
          0,
          3,
          3,
          0,
          1,
          0,
          4,
          2,
          2,
          3,
          3,
          0,
          0,
          2,
          0,
          1,
          0,
          0,
          2,
          1,
          2,
          1,
          0,
          1,
          1,
          0,
          1,
          1,
          2,
          1,
          0,
          1,
          1,
          0,
          2,
          1,
          1,
          2,
          1,
          1,
          0,
          2,
          1,
          3,
          0,
          0,
          1,
          0,
          0,
          4,
          3,
          0,
          2,
          1,
          1,
          0,
          1,
          1,
          3,
          1,
          2,
          1,
          0,
          2,
          1,
          0,
          3,
          1,
          0,
          2,
          1,
          2,
          2,
          1,
          2,
          1,
          0,
          1,
          1,
          3,
          0,
          0,
          1,
          2,
          1,
          1,
          4,
          3,
          1,
          3,
          1,
          1,
          1,
          3,
          0,
          2,
          1,
          0,
          4,
          0,
          0,
          3,
          1,
          1,
          1,
          1,
          3,
          1,
          3,
          1,
          0,
          1,
          0,
          1,
          1,
          1,
          2,
          0,
          2,
          4,
          1,
          5,
          2,
          2,
          1,
          1,
          2,
          1,
          1,
          3,
          1,
          1,
          1,
          0,
          2,
          1,
          1,
          2,
          0,
          3,
          1,
          0,
          2,
          3,
          1,
          2,
          2,
          3,
          1,
          0,
          0,
          4,
          0,
          0,
          3,
          0,
          1,
          3,
          1,
          1,
          2,
          1,
          0,
          1,
          1,
          2,
          2,
          2,
          2,
          2,
          2,
          0,
          1,
          3,
          2,
          0,
          1,
          4,
          2,
          1,
          1,
          2,
          2,
          3,
          0,
          0,
          1,
          3,
          2,
          3,
          3,
          0,
          0,
          1,
          2,
          0,
          5,
          0,
          0,
          0,
          2,
          2,
          1,
          1,
          0,
          2,
          0,
          1,
          0,
          0,
          1,
          1,
          1,
          1,
          1,
          3,
          2,
          1,
          2,
          1,
          3,
          0,
          1,
          1,
          2,
          0,
          1,
          1,
          1,
          0,
          0,
          1,
          1,
          5,
          0,
          1,
          2,
          1,
          2,
          4,
          1,
          1,
          0,
          2,
          0,
          3,
          1,
          1,
          0,
          2,
          1,
          0,
          1,
          2,
          1,
          0,
          0,
          0,
          1,
          4,
          0,
          0,
          2,
          2,
          2,
          1,
          1,
          2,
          2,
          2,
          2,
          3,
          2,
          0,
          0,
          3,
          1,
          1,
          1,
          1,
          2,
          0,
          0,
          4,
          2,
          2,
          2,
          4,
          0,
          2,
          0,
          1,
          1,
          1,
          1,
          0,
          1,
          3,
          1,
          1,
          0,
          1,
          0,
          1,
          2,
          1,
          1,
          1,
          1,
          2,
          0,
          1,
          3,
          0,
          2,
          4,
          3,
          0,
          2,
          1,
          0,
          1,
          1,
          2,
          4,
          0,
          1,
          1,
          1,
          2,
          2,
          3,
          0,
          2,
          0,
          2,
          4,
          3,
          0,
          1,
          0,
          1,
          1,
          0,
          0,
          1,
          3,
          2,
          2,
          1,
          0,
          0,
          1,
          3,
          2,
          3,
          2,
          3,
          1,
          1,
          1,
          2,
          1,
          1,
          3,
          1,
          1,
          0,
          0,
          5,
          2,
          0,
          4,
          2,
          3,
          3,
          0,
          1,
          0,
          3,
          3,
          2,
          0,
          1,
          1,
          0,
          0,
          1,
          5,
          2,
          0,
          0,
          2,
          1,
          4,
          2,
          2,
          0,
          3,
          1,
          0,
          2,
          1,
          2,
          1
         ]
        }
       ],
       "layout": {
        "legend": {
         "tracegroupgap": 0
        },
        "margin": {
         "t": 60
        },
        "template": {
         "data": {
          "bar": [
           {
            "error_x": {
             "color": "#2a3f5f"
            },
            "error_y": {
             "color": "#2a3f5f"
            },
            "marker": {
             "line": {
              "color": "#E5ECF6",
              "width": 0.5
             }
            },
            "type": "bar"
           }
          ],
          "barpolar": [
           {
            "marker": {
             "line": {
              "color": "#E5ECF6",
              "width": 0.5
             }
            },
            "type": "barpolar"
           }
          ],
          "carpet": [
           {
            "aaxis": {
             "endlinecolor": "#2a3f5f",
             "gridcolor": "white",
             "linecolor": "white",
             "minorgridcolor": "white",
             "startlinecolor": "#2a3f5f"
            },
            "baxis": {
             "endlinecolor": "#2a3f5f",
             "gridcolor": "white",
             "linecolor": "white",
             "minorgridcolor": "white",
             "startlinecolor": "#2a3f5f"
            },
            "type": "carpet"
           }
          ],
          "choropleth": [
           {
            "colorbar": {
             "outlinewidth": 0,
             "ticks": ""
            },
            "type": "choropleth"
           }
          ],
          "contour": [
           {
            "colorbar": {
             "outlinewidth": 0,
             "ticks": ""
            },
            "colorscale": [
             [
              0,
              "#0d0887"
             ],
             [
              0.1111111111111111,
              "#46039f"
             ],
             [
              0.2222222222222222,
              "#7201a8"
             ],
             [
              0.3333333333333333,
              "#9c179e"
             ],
             [
              0.4444444444444444,
              "#bd3786"
             ],
             [
              0.5555555555555556,
              "#d8576b"
             ],
             [
              0.6666666666666666,
              "#ed7953"
             ],
             [
              0.7777777777777778,
              "#fb9f3a"
             ],
             [
              0.8888888888888888,
              "#fdca26"
             ],
             [
              1,
              "#f0f921"
             ]
            ],
            "type": "contour"
           }
          ],
          "contourcarpet": [
           {
            "colorbar": {
             "outlinewidth": 0,
             "ticks": ""
            },
            "type": "contourcarpet"
           }
          ],
          "heatmap": [
           {
            "colorbar": {
             "outlinewidth": 0,
             "ticks": ""
            },
            "colorscale": [
             [
              0,
              "#0d0887"
             ],
             [
              0.1111111111111111,
              "#46039f"
             ],
             [
              0.2222222222222222,
              "#7201a8"
             ],
             [
              0.3333333333333333,
              "#9c179e"
             ],
             [
              0.4444444444444444,
              "#bd3786"
             ],
             [
              0.5555555555555556,
              "#d8576b"
             ],
             [
              0.6666666666666666,
              "#ed7953"
             ],
             [
              0.7777777777777778,
              "#fb9f3a"
             ],
             [
              0.8888888888888888,
              "#fdca26"
             ],
             [
              1,
              "#f0f921"
             ]
            ],
            "type": "heatmap"
           }
          ],
          "heatmapgl": [
           {
            "colorbar": {
             "outlinewidth": 0,
             "ticks": ""
            },
            "colorscale": [
             [
              0,
              "#0d0887"
             ],
             [
              0.1111111111111111,
              "#46039f"
             ],
             [
              0.2222222222222222,
              "#7201a8"
             ],
             [
              0.3333333333333333,
              "#9c179e"
             ],
             [
              0.4444444444444444,
              "#bd3786"
             ],
             [
              0.5555555555555556,
              "#d8576b"
             ],
             [
              0.6666666666666666,
              "#ed7953"
             ],
             [
              0.7777777777777778,
              "#fb9f3a"
             ],
             [
              0.8888888888888888,
              "#fdca26"
             ],
             [
              1,
              "#f0f921"
             ]
            ],
            "type": "heatmapgl"
           }
          ],
          "histogram": [
           {
            "marker": {
             "colorbar": {
              "outlinewidth": 0,
              "ticks": ""
             }
            },
            "type": "histogram"
           }
          ],
          "histogram2d": [
           {
            "colorbar": {
             "outlinewidth": 0,
             "ticks": ""
            },
            "colorscale": [
             [
              0,
              "#0d0887"
             ],
             [
              0.1111111111111111,
              "#46039f"
             ],
             [
              0.2222222222222222,
              "#7201a8"
             ],
             [
              0.3333333333333333,
              "#9c179e"
             ],
             [
              0.4444444444444444,
              "#bd3786"
             ],
             [
              0.5555555555555556,
              "#d8576b"
             ],
             [
              0.6666666666666666,
              "#ed7953"
             ],
             [
              0.7777777777777778,
              "#fb9f3a"
             ],
             [
              0.8888888888888888,
              "#fdca26"
             ],
             [
              1,
              "#f0f921"
             ]
            ],
            "type": "histogram2d"
           }
          ],
          "histogram2dcontour": [
           {
            "colorbar": {
             "outlinewidth": 0,
             "ticks": ""
            },
            "colorscale": [
             [
              0,
              "#0d0887"
             ],
             [
              0.1111111111111111,
              "#46039f"
             ],
             [
              0.2222222222222222,
              "#7201a8"
             ],
             [
              0.3333333333333333,
              "#9c179e"
             ],
             [
              0.4444444444444444,
              "#bd3786"
             ],
             [
              0.5555555555555556,
              "#d8576b"
             ],
             [
              0.6666666666666666,
              "#ed7953"
             ],
             [
              0.7777777777777778,
              "#fb9f3a"
             ],
             [
              0.8888888888888888,
              "#fdca26"
             ],
             [
              1,
              "#f0f921"
             ]
            ],
            "type": "histogram2dcontour"
           }
          ],
          "mesh3d": [
           {
            "colorbar": {
             "outlinewidth": 0,
             "ticks": ""
            },
            "type": "mesh3d"
           }
          ],
          "parcoords": [
           {
            "line": {
             "colorbar": {
              "outlinewidth": 0,
              "ticks": ""
             }
            },
            "type": "parcoords"
           }
          ],
          "pie": [
           {
            "automargin": true,
            "type": "pie"
           }
          ],
          "scatter": [
           {
            "marker": {
             "colorbar": {
              "outlinewidth": 0,
              "ticks": ""
             }
            },
            "type": "scatter"
           }
          ],
          "scatter3d": [
           {
            "line": {
             "colorbar": {
              "outlinewidth": 0,
              "ticks": ""
             }
            },
            "marker": {
             "colorbar": {
              "outlinewidth": 0,
              "ticks": ""
             }
            },
            "type": "scatter3d"
           }
          ],
          "scattercarpet": [
           {
            "marker": {
             "colorbar": {
              "outlinewidth": 0,
              "ticks": ""
             }
            },
            "type": "scattercarpet"
           }
          ],
          "scattergeo": [
           {
            "marker": {
             "colorbar": {
              "outlinewidth": 0,
              "ticks": ""
             }
            },
            "type": "scattergeo"
           }
          ],
          "scattergl": [
           {
            "marker": {
             "colorbar": {
              "outlinewidth": 0,
              "ticks": ""
             }
            },
            "type": "scattergl"
           }
          ],
          "scattermapbox": [
           {
            "marker": {
             "colorbar": {
              "outlinewidth": 0,
              "ticks": ""
             }
            },
            "type": "scattermapbox"
           }
          ],
          "scatterpolar": [
           {
            "marker": {
             "colorbar": {
              "outlinewidth": 0,
              "ticks": ""
             }
            },
            "type": "scatterpolar"
           }
          ],
          "scatterpolargl": [
           {
            "marker": {
             "colorbar": {
              "outlinewidth": 0,
              "ticks": ""
             }
            },
            "type": "scatterpolargl"
           }
          ],
          "scatterternary": [
           {
            "marker": {
             "colorbar": {
              "outlinewidth": 0,
              "ticks": ""
             }
            },
            "type": "scatterternary"
           }
          ],
          "surface": [
           {
            "colorbar": {
             "outlinewidth": 0,
             "ticks": ""
            },
            "colorscale": [
             [
              0,
              "#0d0887"
             ],
             [
              0.1111111111111111,
              "#46039f"
             ],
             [
              0.2222222222222222,
              "#7201a8"
             ],
             [
              0.3333333333333333,
              "#9c179e"
             ],
             [
              0.4444444444444444,
              "#bd3786"
             ],
             [
              0.5555555555555556,
              "#d8576b"
             ],
             [
              0.6666666666666666,
              "#ed7953"
             ],
             [
              0.7777777777777778,
              "#fb9f3a"
             ],
             [
              0.8888888888888888,
              "#fdca26"
             ],
             [
              1,
              "#f0f921"
             ]
            ],
            "type": "surface"
           }
          ],
          "table": [
           {
            "cells": {
             "fill": {
              "color": "#EBF0F8"
             },
             "line": {
              "color": "white"
             }
            },
            "header": {
             "fill": {
              "color": "#C8D4E3"
             },
             "line": {
              "color": "white"
             }
            },
            "type": "table"
           }
          ]
         },
         "layout": {
          "annotationdefaults": {
           "arrowcolor": "#2a3f5f",
           "arrowhead": 0,
           "arrowwidth": 1
          },
          "autotypenumbers": "strict",
          "coloraxis": {
           "colorbar": {
            "outlinewidth": 0,
            "ticks": ""
           }
          },
          "colorscale": {
           "diverging": [
            [
             0,
             "#8e0152"
            ],
            [
             0.1,
             "#c51b7d"
            ],
            [
             0.2,
             "#de77ae"
            ],
            [
             0.3,
             "#f1b6da"
            ],
            [
             0.4,
             "#fde0ef"
            ],
            [
             0.5,
             "#f7f7f7"
            ],
            [
             0.6,
             "#e6f5d0"
            ],
            [
             0.7,
             "#b8e186"
            ],
            [
             0.8,
             "#7fbc41"
            ],
            [
             0.9,
             "#4d9221"
            ],
            [
             1,
             "#276419"
            ]
           ],
           "sequential": [
            [
             0,
             "#0d0887"
            ],
            [
             0.1111111111111111,
             "#46039f"
            ],
            [
             0.2222222222222222,
             "#7201a8"
            ],
            [
             0.3333333333333333,
             "#9c179e"
            ],
            [
             0.4444444444444444,
             "#bd3786"
            ],
            [
             0.5555555555555556,
             "#d8576b"
            ],
            [
             0.6666666666666666,
             "#ed7953"
            ],
            [
             0.7777777777777778,
             "#fb9f3a"
            ],
            [
             0.8888888888888888,
             "#fdca26"
            ],
            [
             1,
             "#f0f921"
            ]
           ],
           "sequentialminus": [
            [
             0,
             "#0d0887"
            ],
            [
             0.1111111111111111,
             "#46039f"
            ],
            [
             0.2222222222222222,
             "#7201a8"
            ],
            [
             0.3333333333333333,
             "#9c179e"
            ],
            [
             0.4444444444444444,
             "#bd3786"
            ],
            [
             0.5555555555555556,
             "#d8576b"
            ],
            [
             0.6666666666666666,
             "#ed7953"
            ],
            [
             0.7777777777777778,
             "#fb9f3a"
            ],
            [
             0.8888888888888888,
             "#fdca26"
            ],
            [
             1,
             "#f0f921"
            ]
           ]
          },
          "colorway": [
           "#636efa",
           "#EF553B",
           "#00cc96",
           "#ab63fa",
           "#FFA15A",
           "#19d3f3",
           "#FF6692",
           "#B6E880",
           "#FF97FF",
           "#FECB52"
          ],
          "font": {
           "color": "#2a3f5f"
          },
          "geo": {
           "bgcolor": "white",
           "lakecolor": "white",
           "landcolor": "#E5ECF6",
           "showlakes": true,
           "showland": true,
           "subunitcolor": "white"
          },
          "hoverlabel": {
           "align": "left"
          },
          "hovermode": "closest",
          "mapbox": {
           "style": "light"
          },
          "paper_bgcolor": "white",
          "plot_bgcolor": "#E5ECF6",
          "polar": {
           "angularaxis": {
            "gridcolor": "white",
            "linecolor": "white",
            "ticks": ""
           },
           "bgcolor": "#E5ECF6",
           "radialaxis": {
            "gridcolor": "white",
            "linecolor": "white",
            "ticks": ""
           }
          },
          "scene": {
           "xaxis": {
            "backgroundcolor": "#E5ECF6",
            "gridcolor": "white",
            "gridwidth": 2,
            "linecolor": "white",
            "showbackground": true,
            "ticks": "",
            "zerolinecolor": "white"
           },
           "yaxis": {
            "backgroundcolor": "#E5ECF6",
            "gridcolor": "white",
            "gridwidth": 2,
            "linecolor": "white",
            "showbackground": true,
            "ticks": "",
            "zerolinecolor": "white"
           },
           "zaxis": {
            "backgroundcolor": "#E5ECF6",
            "gridcolor": "white",
            "gridwidth": 2,
            "linecolor": "white",
            "showbackground": true,
            "ticks": "",
            "zerolinecolor": "white"
           }
          },
          "shapedefaults": {
           "line": {
            "color": "#2a3f5f"
           }
          },
          "ternary": {
           "aaxis": {
            "gridcolor": "white",
            "linecolor": "white",
            "ticks": ""
           },
           "baxis": {
            "gridcolor": "white",
            "linecolor": "white",
            "ticks": ""
           },
           "bgcolor": "#E5ECF6",
           "caxis": {
            "gridcolor": "white",
            "linecolor": "white",
            "ticks": ""
           }
          },
          "title": {
           "x": 0.05
          },
          "xaxis": {
           "automargin": true,
           "gridcolor": "white",
           "linecolor": "white",
           "ticks": "",
           "title": {
            "standoff": 15
           },
           "zerolinecolor": "white",
           "zerolinewidth": 2
          },
          "yaxis": {
           "automargin": true,
           "gridcolor": "white",
           "linecolor": "white",
           "ticks": "",
           "title": {
            "standoff": 15
           },
           "zerolinecolor": "white",
           "zerolinewidth": 2
          }
         }
        }
       }
      },
      "text/html": [
       "<div>                            <div id=\"873c1080-17c0-4fd6-ad2c-445238bdff2b\" class=\"plotly-graph-div\" style=\"height:525px; width:100%;\"></div>            <script type=\"text/javascript\">                require([\"plotly\"], function(Plotly) {                    window.PLOTLYENV=window.PLOTLYENV || {};                                    if (document.getElementById(\"873c1080-17c0-4fd6-ad2c-445238bdff2b\")) {                    Plotly.newPlot(                        \"873c1080-17c0-4fd6-ad2c-445238bdff2b\",                        [{\"domain\": {\"x\": [0.0, 1.0], \"y\": [0.0, 1.0]}, \"hovertemplate\": \"name=%{label}<br>goal=%{value}<extra></extra>\", \"labels\": [\"Bordeaux\", \"Dijon\", \"Lille\", \"Monaco\", \"Lorient\", \"N\\u00eemes\", \"Nice\", \"Montpellier\", \"Paris-SG\", \"Marseille\", \"Lyon\", \"Rennes\", \"Strasbourg\", \"Reims\", \"Nantes\", \"Saint-\\u00c9tienne\", \"Angers\", \"Metz\", \"Brest\", \"Lens\", \"Bordeaux\", \"Montpellier\", \"Saint-\\u00c9tienne\", \"Lille\", \"N\\u00eemes\", \"Lorient\", \"Angers\", \"Dijon\", \"Monaco\", \"Paris-SG\", \"Lyon\", \"Lens\", \"Rennes\", \"Nice\", \"Montpellier\", \"Brest\", \"Metz\", \"Strasbourg\", \"Nantes\", \"Marseille\", \"Lille\", \"Saint-\\u00c9tienne\", \"Marseille\", \"Bordeaux\", \"Dijon\", \"N\\u00eemes\", \"Monaco\", \"Angers\", \"Lorient\", \"Reims\", \"Paris-SG\", \"Lens\", \"Nice\", \"Montpellier\", \"Strasbourg\", \"Brest\", \"Bordeaux\", \"Metz\", \"Rennes\", \"Lyon\", \"Dijon\", \"N\\u00eemes\", \"Reims\", \"Marseille\", \"Strasbourg\", \"Monaco\", \"Nantes\", \"Angers\", \"Saint-\\u00c9tienne\", \"Lille\", \"Rennes\", \"Lorient\", \"Paris-SG\", \"Montpellier\", \"Metz\", \"Bordeaux\", \"Brest\", \"Nice\", \"Lyon\", \"Lens\", \"Rennes\", \"Nantes\", \"Saint-\\u00c9tienne\", \"Angers\", \"N\\u00eemes\", \"Dijon\", \"Reims\", \"Monaco\", \"Lille\", \"Marseille\", \"Strasbourg\", \"Bordeaux\", \"Paris-SG\", \"Brest\", \"Lens\", \"Metz\", \"N\\u00eemes\", \"Lorient\", \"Nice\", \"Lyon\", \"Rennes\", \"Monaco\", \"Brest\", \"Nantes\", \"Montpellier\", \"Dijon\", \"Reims\", \"Angers\", \"Lille\", \"Marseille\", \"Strasbourg\", \"Marseille\", \"Paris-SG\", \"Lyon\", \"Lens\", \"Lorient\", \"Monaco\", \"Metz\", \"Nice\", \"Saint-\\u00c9tienne\", \"N\\u00eemes\", \"Rennes\", \"Montpellier\", \"Lille\", \"Angers\", \"Bordeaux\", \"Nantes\", \"Dijon\", \"Reims\", \"Metz\", \"Saint-\\u00c9tienne\", \"Marseille\", \"Lens\", \"Nice\", \"Brest\", \"Strasbourg\", \"Nantes\", \"Lorient\", \"Lille\", \"Paris-SG\", \"Dijon\", \"Montpellier\", \"Angers\", \"N\\u00eemes\", \"Reims\", \"Lyon\", \"Paris-SG\", \"Rennes\", \"Monaco\", \"Bordeaux\", \"Metz\", \"Marseille\", \"Nice\", \"Brest\", \"Dijon\", \"Nantes\", \"Strasbourg\", \"Saint-\\u00c9tienne\", \"Lorient\", \"Lille\", \"Rennes\", \"Lens\", \"Bordeaux\", \"Nice\", \"N\\u00eemes\", \"Montpellier\", \"Lyon\", \"Paris-SG\", \"Angers\", \"Monaco\", \"Nantes\", \"Lorient\", \"Metz\", \"Brest\", \"Strasbourg\", \"Lyon\", \"Lille\", \"Saint-\\u00c9tienne\", \"Marseille\", \"Reims\", \"Rennes\", \"Paris-SG\", \"N\\u00eemes\", \"Dijon\", \"Monaco\", \"Lens\", \"Montpellier\", \"Metz\", \"Bordeaux\", \"Reims\", \"Montpellier\", \"Marseille\", \"Angers\", \"Brest\", \"Nantes\", \"Nice\", \"Strasbourg\", \"Lille\", \"Lyon\", \"Lorient\", \"Paris-SG\", \"Lens\", \"Monaco\", \"Bordeaux\", \"Metz\", \"Reims\", \"Dijon\", \"Rennes\", \"Saint-\\u00c9tienne\", \"N\\u00eemes\", \"Lyon\", \"Montpellier\", \"Nice\", \"Lorient\", \"Brest\", \"Angers\", \"Strasbourg\", \"Lille\", \"Nantes\", \"Marseille\", \"Bordeaux\", \"Rennes\", \"Metz\", \"Reims\", \"Strasbourg\", \"Dijon\", \"Paris-SG\", \"Monaco\", \"Lens\", \"Saint-\\u00c9tienne\", \"Lorient\", \"Lyon\", \"Lens\", \"Brest\", \"N\\u00eemes\", \"Saint-\\u00c9tienne\", \"Nice\", \"Montpellier\", \"Nantes\", \"Marseille\", \"Paris-SG\", \"Reims\", \"Lyon\", \"Monaco\", \"Rennes\", \"Metz\", \"Angers\", \"Dijon\", \"Lille\", \"Bordeaux\", \"Brest\", \"Saint-\\u00c9tienne\", \"Nantes\", \"Montpellier\", \"Lens\", \"Nice\", \"Strasbourg\", \"N\\u00eemes\", \"Lorient\", \"Paris-SG\", \"Rennes\", \"Bordeaux\", \"Dijon\", \"Monaco\", \"Angers\", \"Reims\", \"Lorient\", \"N\\u00eemes\", \"Lille\", \"Marseille\", \"Lyon\", \"Metz\", \"Saint-\\u00c9tienne\", \"Nice\", \"Brest\", \"Lille\", \"Bordeaux\", \"Strasbourg\", \"Montpellier\", \"Nantes\", \"Reims\", \"Angers\", \"Marseille\", \"N\\u00eemes\", \"Lens\", \"Rennes\", \"Lorient\", \"Dijon\", \"Monaco\", \"Paris-SG\", \"Saint-\\u00c9tienne\", \"Metz\", \"Nice\", \"Strasbourg\", \"Montpellier\", \"Brest\", \"Dijon\", \"Nantes\", \"Lille\", \"Lyon\", \"Monaco\", \"Paris-SG\", \"Lens\", \"Angers\", \"Reims\", \"Nantes\", \"Bordeaux\", \"Lorient\", \"N\\u00eemes\", \"Marseille\", \"Metz\", \"Strasbourg\", \"Montpellier\", \"Rennes\", \"Lens\", \"Nice\", \"Saint-\\u00c9tienne\", \"Brest\", \"Monaco\", \"Lyon\", \"Lille\", \"Angers\", \"Marseille\", \"Paris-SG\", \"Brest\", \"Dijon\", \"Reims\", \"N\\u00eemes\", \"Bordeaux\", \"Nantes\", \"Reims\", \"Saint-\\u00c9tienne\", \"Metz\", \"Nice\", \"Lens\", \"Rennes\", \"Strasbourg\", \"Lorient\", \"Angers\", \"Lyon\", \"Marseille\", \"Paris-SG\", \"Lille\", \"Bordeaux\", \"Dijon\", \"N\\u00eemes\", \"Lorient\", \"Brest\", \"Montpellier\", \"Monaco\", \"Lens\", \"Nantes\", \"Lyon\", \"Saint-\\u00c9tienne\", \"Strasbourg\", \"Metz\", \"Nice\", \"Angers\", \"Reims\", \"Rennes\", \"Lille\", \"Paris-SG\", \"Monaco\", \"N\\u00eemes\", \"Marseille\", \"Bordeaux\", \"Montpellier\", \"Nice\", \"Lorient\", \"Dijon\", \"Angers\", \"Brest\", \"Lens\", \"Lyon\", \"Metz\", \"Rennes\", \"Nantes\", \"Saint-\\u00c9tienne\", \"Reims\", \"Strasbourg\", \"Nantes\", \"Angers\", \"Rennes\", \"Reims\", \"Strasbourg\", \"Brest\", \"Lens\", \"Lyon\", \"Metz\", \"Saint-\\u00c9tienne\", \"Dijon\", \"Montpellier\", \"Nice\", \"Lille\", \"N\\u00eemes\", \"Lorient\", \"Bordeaux\", \"Monaco\", \"Marseille\", \"Paris-SG\", \"Lyon\", \"Nice\", \"Strasbourg\", \"Metz\", \"Rennes\", \"Lens\", \"Reims\", \"Brest\", \"Nantes\", \"Marseille\", \"N\\u00eemes\", \"Bordeaux\", \"Monaco\", \"Paris-SG\", \"Angers\", \"Lorient\", \"Reims\", \"Dijon\", \"Saint-\\u00c9tienne\", \"Lille\", \"Nantes\", \"Rennes\", \"Metz\", \"Nice\", \"Montpellier\", \"Lens\", \"Strasbourg\", \"Brest\", \"Lyon\", \"Paris-SG\", \"Angers\", \"Saint-\\u00c9tienne\", \"Nantes\", \"N\\u00eemes\", \"Lille\", \"Monaco\", \"Dijon\", \"Lorient\", \"Reims\", \"Marseille\", \"Rennes\", \"Paris-SG\", \"Lorient\", \"Bordeaux\", \"Lyon\", \"Montpellier\", \"Brest\", \"Metz\", \"Nice\", \"Lens\", \"Angers\", \"Marseille\", \"Dijon\", \"Reims\", \"Saint-\\u00c9tienne\", \"N\\u00eemes\", \"Strasbourg\", \"Lille\", \"Monaco\", \"Nantes\", \"Brest\", \"Paris-SG\", \"Montpellier\", \"Nice\", \"Metz\", \"Lorient\", \"Strasbourg\", \"Bordeaux\", \"Lyon\", \"Lens\", \"Marseille\", \"Montpellier\", \"Rennes\", \"Lille\", \"Reims\", \"Dijon\", \"Angers\", \"Nantes\", \"Monaco\", \"Saint-\\u00c9tienne\", \"Bordeaux\", \"Paris-SG\", \"Saint-\\u00c9tienne\", \"Metz\", \"Strasbourg\", \"Lens\", \"N\\u00eemes\", \"Lyon\", \"Lorient\", \"Nice\", \"Rennes\", \"Nantes\", \"Bordeaux\", \"Reims\", \"Angers\", \"Montpellier\", \"N\\u00eemes\", \"Brest\", \"Dijon\", \"Lille\", \"Marseille\", \"Lens\", \"Paris-SG\", \"Monaco\", \"Lorient\", \"Brest\", \"Strasbourg\", \"Saint-\\u00c9tienne\", \"Nice\", \"Lyon\", \"Angers\", \"Monaco\", \"Montpellier\", \"Rennes\", \"Reims\", \"Metz\", \"Dijon\", \"N\\u00eemes\", \"Bordeaux\", \"Lyon\", \"Lille\", \"Metz\", \"Strasbourg\", \"Nice\", \"Nantes\", \"Brest\", \"Lorient\", \"Marseille\", \"Lens\", \"Saint-\\u00c9tienne\", \"Lens\", \"Reims\", \"Lyon\", \"Montpellier\", \"Monaco\", \"Angers\", \"Bordeaux\", \"N\\u00eemes\", \"Rennes\", \"Paris-SG\", \"Metz\", \"Brest\", \"Reims\", \"Lorient\", \"Dijon\", \"Lille\", \"Nantes\", \"Strasbourg\", \"Marseille\", \"Saint-\\u00c9tienne\", \"Rennes\", \"Monaco\", \"Bordeaux\", \"Nice\", \"N\\u00eemes\", \"Lens\", \"Angers\", \"Paris-SG\", \"Montpellier\", \"Dijon\", \"Lyon\", \"Brest\", \"Lille\", \"Marseille\", \"Angers\", \"Strasbourg\", \"Nantes\", \"Nice\", \"Lorient\", \"Saint-\\u00c9tienne\", \"Monaco\", \"N\\u00eemes\", \"Paris-SG\", \"Rennes\", \"Lens\", \"Bordeaux\", \"Saint-\\u00c9tienne\", \"Reims\", \"Metz\", \"Dijon\", \"Montpellier\", \"Nice\", \"Marseille\", \"Angers\", \"Nantes\", \"Brest\", \"Strasbourg\", \"Lille\", \"Lyon\", \"Lorient\", \"Bordeaux\", \"Lens\", \"Saint-\\u00c9tienne\", \"Paris-SG\", \"Metz\", \"N\\u00eemes\", \"Reims\", \"Dijon\", \"Monaco\", \"Rennes\", \"Lille\", \"Lorient\", \"Montpellier\", \"Angers\", \"Brest\", \"Lyon\", \"N\\u00eemes\", \"Nice\", \"Marseille\", \"Nantes\", \"Reims\", \"Strasbourg\", \"Rennes\", \"Bordeaux\", \"Monaco\", \"Metz\", \"Angers\", \"Dijon\", \"Lille\", \"Paris-SG\", \"Nice\", \"Lens\", \"Montpellier\", \"Lorient\", \"Saint-\\u00c9tienne\", \"Strasbourg\", \"Nantes\", \"N\\u00eemes\", \"Brest\", \"Marseille\", \"Lyon\", \"Reims\", \"Marseille\", \"Rennes\", \"Dijon\", \"Metz\", \"Angers\", \"Bordeaux\", \"Lille\", \"Monaco\", \"Nice\", \"Metz\", \"Paris-SG\", \"Brest\", \"Lens\", \"Montpellier\", \"Saint-\\u00c9tienne\", \"Nantes\", \"Strasbourg\", \"Lyon\", \"Rennes\", \"Angers\", \"Lens\", \"N\\u00eemes\", \"Dijon\", \"Marseille\", \"Paris-SG\", \"Monaco\", \"Lorient\", \"Reims\", \"Lyon\", \"Saint-\\u00c9tienne\", \"Brest\", \"Montpellier\", \"Metz\", \"Strasbourg\", \"Nice\", \"Bordeaux\", \"Lille\", \"Nantes\", \"Monaco\", \"Rennes\", \"Marseille\", \"Lens\", \"Bordeaux\", \"Angers\", \"Reims\", \"Lorient\", \"N\\u00eemes\", \"Paris-SG\", \"Metz\", \"Lille\", \"Lyon\", \"Montpellier\", \"Rennes\", \"Nice\", \"Strasbourg\", \"Brest\", \"Saint-\\u00c9tienne\", \"Dijon\", \"Lille\", \"Paris-SG\", \"Marseille\", \"Nantes\", \"Lorient\", \"Reims\", \"Bordeaux\", \"N\\u00eemes\", \"Dijon\", \"Angers\", \"Montpellier\", \"Rennes\", \"Lorient\", \"Saint-\\u00c9tienne\", \"Lens\", \"Nice\", \"Metz\", \"Strasbourg\", \"Monaco\", \"Lyon\", \"Marseille\", \"Brest\", \"Paris-SG\", \"Montpellier\", \"N\\u00eemes\", \"Dijon\", \"Nantes\", \"Bordeaux\", \"Monaco\", \"Lille\", \"Strasbourg\", \"Lens\", \"Nice\", \"Rennes\", \"Metz\", \"Reims\", \"Angers\", \"Nantes\", \"Saint-\\u00c9tienne\", \"Lyon\", \"Lille\", \"Bordeaux\", \"Lorient\", \"Marseille\", \"Montpellier\", \"N\\u00eemes\", \"Brest\", \"Dijon\", \"Monaco\", \"Paris-SG\", \"Saint-\\u00c9tienne\", \"Reims\", \"Rennes\", \"Lyon\", \"Angers\", \"Lens\", \"Brest\", \"Strasbourg\", \"Metz\", \"Nantes\", \"Lille\", \"Paris-SG\", \"Monaco\", \"Nice\", \"Marseille\", \"N\\u00eemes\", \"Montpellier\", \"Dijon\", \"Bordeaux\", \"Lorient\"], \"legendgroup\": \"\", \"name\": \"\", \"showlegend\": true, \"type\": \"pie\", \"values\": [0, 0, 1, 2, 3, 4, 2, 2, 1, 0, 4, 2, 0, 0, 2, 2, 0, 0, 2, 1, 0, 3, 2, 1, 2, 2, 1, 0, 2, 0, 0, 2, 2, 0, 4, 3, 2, 1, 2, 1, 2, 0, 1, 0, 2, 1, 3, 3, 1, 0, 6, 2, 2, 0, 0, 1, 3, 3, 2, 1, 1, 0, 1, 3, 2, 1, 3, 1, 1, 4, 1, 0, 4, 0, 2, 2, 0, 1, 4, 1, 2, 0, 0, 0, 0, 0, 2, 4, 1, 0, 0, 0, 3, 3, 4, 1, 1, 0, 1, 2, 0, 3, 4, 1, 4, 0, 0, 0, 4, 3, 1, 3, 2, 3, 1, 0, 3, 0, 1, 1, 0, 0, 1, 2, 2, 1, 0, 0, 0, 1, 0, 2, 2, 0, 2, 2, 1, 3, 2, 0, 0, 0, 0, 0, 3, 2, 2, 2, 0, 1, 2, 1, 1, 2, 0, 1, 0, 2, 0, 0, 1, 2, 1, 2, 1, 2, 3, 4, 2, 2, 0, 2, 0, 2, 5, 3, 1, 1, 3, 0, 2, 3, 0, 0, 3, 0, 1, 1, 2, 3, 2, 1, 0, 1, 1, 0, 1, 2, 0, 3, 4, 0, 3, 2, 2, 1, 1, 0, 0, 1, 2, 1, 0, 3, 2, 3, 0, 1, 1, 1, 0, 1, 1, 0, 2, 0, 3, 2, 2, 1, 1, 3, 0, 2, 3, 1, 3, 4, 0, 0, 2, 1, 1, 2, 0, 1, 1, 0, 0, 0, 2, 1, 1, 2, 2, 1, 0, 2, 1, 0, 1, 1, 0, 2, 2, 0, 2, 1, 1, 1, 1, 0, 2, 2, 3, 2, 0, 1, 1, 1, 1, 0, 3, 1, 2, 1, 1, 1, 0, 1, 0, 1, 3, 1, 3, 0, 0, 1, 1, 2, 4, 0, 1, 1, 2, 1, 2, 1, 0, 2, 0, 1, 3, 1, 4, 0, 4, 1, 3, 3, 1, 0, 3, 3, 1, 2, 0, 1, 0, 1, 1, 1, 1, 3, 2, 5, 1, 4, 0, 2, 1, 2, 2, 1, 1, 2, 2, 1, 1, 2, 0, 3, 4, 1, 2, 0, 3, 3, 0, 1, 0, 4, 2, 2, 3, 3, 0, 0, 2, 0, 1, 0, 0, 2, 1, 2, 1, 0, 1, 1, 0, 1, 1, 2, 1, 0, 1, 1, 0, 2, 1, 1, 2, 1, 1, 0, 2, 1, 3, 0, 0, 1, 0, 0, 4, 3, 0, 2, 1, 1, 0, 1, 1, 3, 1, 2, 1, 0, 2, 1, 0, 3, 1, 0, 2, 1, 2, 2, 1, 2, 1, 0, 1, 1, 3, 0, 0, 1, 2, 1, 1, 4, 3, 1, 3, 1, 1, 1, 3, 0, 2, 1, 0, 4, 0, 0, 3, 1, 1, 1, 1, 3, 1, 3, 1, 0, 1, 0, 1, 1, 1, 2, 0, 2, 4, 1, 5, 2, 2, 1, 1, 2, 1, 1, 3, 1, 1, 1, 0, 2, 1, 1, 2, 0, 3, 1, 0, 2, 3, 1, 2, 2, 3, 1, 0, 0, 4, 0, 0, 3, 0, 1, 3, 1, 1, 2, 1, 0, 1, 1, 2, 2, 2, 2, 2, 2, 0, 1, 3, 2, 0, 1, 4, 2, 1, 1, 2, 2, 3, 0, 0, 1, 3, 2, 3, 3, 0, 0, 1, 2, 0, 5, 0, 0, 0, 2, 2, 1, 1, 0, 2, 0, 1, 0, 0, 1, 1, 1, 1, 1, 3, 2, 1, 2, 1, 3, 0, 1, 1, 2, 0, 1, 1, 1, 0, 0, 1, 1, 5, 0, 1, 2, 1, 2, 4, 1, 1, 0, 2, 0, 3, 1, 1, 0, 2, 1, 0, 1, 2, 1, 0, 0, 0, 1, 4, 0, 0, 2, 2, 2, 1, 1, 2, 2, 2, 2, 3, 2, 0, 0, 3, 1, 1, 1, 1, 2, 0, 0, 4, 2, 2, 2, 4, 0, 2, 0, 1, 1, 1, 1, 0, 1, 3, 1, 1, 0, 1, 0, 1, 2, 1, 1, 1, 1, 2, 0, 1, 3, 0, 2, 4, 3, 0, 2, 1, 0, 1, 1, 2, 4, 0, 1, 1, 1, 2, 2, 3, 0, 2, 0, 2, 4, 3, 0, 1, 0, 1, 1, 0, 0, 1, 3, 2, 2, 1, 0, 0, 1, 3, 2, 3, 2, 3, 1, 1, 1, 2, 1, 1, 3, 1, 1, 0, 0, 5, 2, 0, 4, 2, 3, 3, 0, 1, 0, 3, 3, 2, 0, 1, 1, 0, 0, 1, 5, 2, 0, 0, 2, 1, 4, 2, 2, 0, 3, 1, 0, 2, 1, 2, 1]}],                        {\"legend\": {\"tracegroupgap\": 0}, \"margin\": {\"t\": 60}, \"template\": {\"data\": {\"bar\": [{\"error_x\": {\"color\": \"#2a3f5f\"}, \"error_y\": {\"color\": \"#2a3f5f\"}, \"marker\": {\"line\": {\"color\": \"#E5ECF6\", \"width\": 0.5}}, \"type\": \"bar\"}], \"barpolar\": [{\"marker\": {\"line\": {\"color\": \"#E5ECF6\", \"width\": 0.5}}, \"type\": \"barpolar\"}], \"carpet\": [{\"aaxis\": {\"endlinecolor\": \"#2a3f5f\", \"gridcolor\": \"white\", \"linecolor\": \"white\", \"minorgridcolor\": \"white\", \"startlinecolor\": \"#2a3f5f\"}, \"baxis\": {\"endlinecolor\": \"#2a3f5f\", \"gridcolor\": \"white\", \"linecolor\": \"white\", \"minorgridcolor\": \"white\", \"startlinecolor\": \"#2a3f5f\"}, \"type\": \"carpet\"}], \"choropleth\": [{\"colorbar\": {\"outlinewidth\": 0, \"ticks\": \"\"}, \"type\": \"choropleth\"}], \"contour\": [{\"colorbar\": {\"outlinewidth\": 0, \"ticks\": \"\"}, \"colorscale\": [[0.0, \"#0d0887\"], [0.1111111111111111, \"#46039f\"], [0.2222222222222222, \"#7201a8\"], [0.3333333333333333, \"#9c179e\"], [0.4444444444444444, \"#bd3786\"], [0.5555555555555556, \"#d8576b\"], [0.6666666666666666, \"#ed7953\"], [0.7777777777777778, \"#fb9f3a\"], [0.8888888888888888, \"#fdca26\"], [1.0, \"#f0f921\"]], \"type\": \"contour\"}], \"contourcarpet\": [{\"colorbar\": {\"outlinewidth\": 0, \"ticks\": \"\"}, \"type\": \"contourcarpet\"}], \"heatmap\": [{\"colorbar\": {\"outlinewidth\": 0, \"ticks\": \"\"}, \"colorscale\": [[0.0, \"#0d0887\"], [0.1111111111111111, \"#46039f\"], [0.2222222222222222, \"#7201a8\"], [0.3333333333333333, \"#9c179e\"], [0.4444444444444444, \"#bd3786\"], [0.5555555555555556, \"#d8576b\"], [0.6666666666666666, \"#ed7953\"], [0.7777777777777778, \"#fb9f3a\"], [0.8888888888888888, \"#fdca26\"], [1.0, \"#f0f921\"]], \"type\": \"heatmap\"}], \"heatmapgl\": [{\"colorbar\": {\"outlinewidth\": 0, \"ticks\": \"\"}, \"colorscale\": [[0.0, \"#0d0887\"], [0.1111111111111111, \"#46039f\"], [0.2222222222222222, \"#7201a8\"], [0.3333333333333333, \"#9c179e\"], [0.4444444444444444, \"#bd3786\"], [0.5555555555555556, \"#d8576b\"], [0.6666666666666666, \"#ed7953\"], [0.7777777777777778, \"#fb9f3a\"], [0.8888888888888888, \"#fdca26\"], [1.0, \"#f0f921\"]], \"type\": \"heatmapgl\"}], \"histogram\": [{\"marker\": {\"colorbar\": {\"outlinewidth\": 0, \"ticks\": \"\"}}, \"type\": \"histogram\"}], \"histogram2d\": [{\"colorbar\": {\"outlinewidth\": 0, \"ticks\": \"\"}, \"colorscale\": [[0.0, \"#0d0887\"], [0.1111111111111111, \"#46039f\"], [0.2222222222222222, \"#7201a8\"], [0.3333333333333333, \"#9c179e\"], [0.4444444444444444, \"#bd3786\"], [0.5555555555555556, \"#d8576b\"], [0.6666666666666666, \"#ed7953\"], [0.7777777777777778, \"#fb9f3a\"], [0.8888888888888888, \"#fdca26\"], [1.0, \"#f0f921\"]], \"type\": \"histogram2d\"}], \"histogram2dcontour\": [{\"colorbar\": {\"outlinewidth\": 0, \"ticks\": \"\"}, \"colorscale\": [[0.0, \"#0d0887\"], [0.1111111111111111, \"#46039f\"], [0.2222222222222222, \"#7201a8\"], [0.3333333333333333, \"#9c179e\"], [0.4444444444444444, \"#bd3786\"], [0.5555555555555556, \"#d8576b\"], [0.6666666666666666, \"#ed7953\"], [0.7777777777777778, \"#fb9f3a\"], [0.8888888888888888, \"#fdca26\"], [1.0, \"#f0f921\"]], \"type\": \"histogram2dcontour\"}], \"mesh3d\": [{\"colorbar\": {\"outlinewidth\": 0, \"ticks\": \"\"}, \"type\": \"mesh3d\"}], \"parcoords\": [{\"line\": {\"colorbar\": {\"outlinewidth\": 0, \"ticks\": \"\"}}, \"type\": \"parcoords\"}], \"pie\": [{\"automargin\": true, \"type\": \"pie\"}], \"scatter\": [{\"marker\": {\"colorbar\": {\"outlinewidth\": 0, \"ticks\": \"\"}}, \"type\": \"scatter\"}], \"scatter3d\": [{\"line\": {\"colorbar\": {\"outlinewidth\": 0, \"ticks\": \"\"}}, \"marker\": {\"colorbar\": {\"outlinewidth\": 0, \"ticks\": \"\"}}, \"type\": \"scatter3d\"}], \"scattercarpet\": [{\"marker\": {\"colorbar\": {\"outlinewidth\": 0, \"ticks\": \"\"}}, \"type\": \"scattercarpet\"}], \"scattergeo\": [{\"marker\": {\"colorbar\": {\"outlinewidth\": 0, \"ticks\": \"\"}}, \"type\": \"scattergeo\"}], \"scattergl\": [{\"marker\": {\"colorbar\": {\"outlinewidth\": 0, \"ticks\": \"\"}}, \"type\": \"scattergl\"}], \"scattermapbox\": [{\"marker\": {\"colorbar\": {\"outlinewidth\": 0, \"ticks\": \"\"}}, \"type\": \"scattermapbox\"}], \"scatterpolar\": [{\"marker\": {\"colorbar\": {\"outlinewidth\": 0, \"ticks\": \"\"}}, \"type\": \"scatterpolar\"}], \"scatterpolargl\": [{\"marker\": {\"colorbar\": {\"outlinewidth\": 0, \"ticks\": \"\"}}, \"type\": \"scatterpolargl\"}], \"scatterternary\": [{\"marker\": {\"colorbar\": {\"outlinewidth\": 0, \"ticks\": \"\"}}, \"type\": \"scatterternary\"}], \"surface\": [{\"colorbar\": {\"outlinewidth\": 0, \"ticks\": \"\"}, \"colorscale\": [[0.0, \"#0d0887\"], [0.1111111111111111, \"#46039f\"], [0.2222222222222222, \"#7201a8\"], [0.3333333333333333, \"#9c179e\"], [0.4444444444444444, \"#bd3786\"], [0.5555555555555556, \"#d8576b\"], [0.6666666666666666, \"#ed7953\"], [0.7777777777777778, \"#fb9f3a\"], [0.8888888888888888, \"#fdca26\"], [1.0, \"#f0f921\"]], \"type\": \"surface\"}], \"table\": [{\"cells\": {\"fill\": {\"color\": \"#EBF0F8\"}, \"line\": {\"color\": \"white\"}}, \"header\": {\"fill\": {\"color\": \"#C8D4E3\"}, \"line\": {\"color\": \"white\"}}, \"type\": \"table\"}]}, \"layout\": {\"annotationdefaults\": {\"arrowcolor\": \"#2a3f5f\", \"arrowhead\": 0, \"arrowwidth\": 1}, \"autotypenumbers\": \"strict\", \"coloraxis\": {\"colorbar\": {\"outlinewidth\": 0, \"ticks\": \"\"}}, \"colorscale\": {\"diverging\": [[0, \"#8e0152\"], [0.1, \"#c51b7d\"], [0.2, \"#de77ae\"], [0.3, \"#f1b6da\"], [0.4, \"#fde0ef\"], [0.5, \"#f7f7f7\"], [0.6, \"#e6f5d0\"], [0.7, \"#b8e186\"], [0.8, \"#7fbc41\"], [0.9, \"#4d9221\"], [1, \"#276419\"]], \"sequential\": [[0.0, \"#0d0887\"], [0.1111111111111111, \"#46039f\"], [0.2222222222222222, \"#7201a8\"], [0.3333333333333333, \"#9c179e\"], [0.4444444444444444, \"#bd3786\"], [0.5555555555555556, \"#d8576b\"], [0.6666666666666666, \"#ed7953\"], [0.7777777777777778, \"#fb9f3a\"], [0.8888888888888888, \"#fdca26\"], [1.0, \"#f0f921\"]], \"sequentialminus\": [[0.0, \"#0d0887\"], [0.1111111111111111, \"#46039f\"], [0.2222222222222222, \"#7201a8\"], [0.3333333333333333, \"#9c179e\"], [0.4444444444444444, \"#bd3786\"], [0.5555555555555556, \"#d8576b\"], [0.6666666666666666, \"#ed7953\"], [0.7777777777777778, \"#fb9f3a\"], [0.8888888888888888, \"#fdca26\"], [1.0, \"#f0f921\"]]}, \"colorway\": [\"#636efa\", \"#EF553B\", \"#00cc96\", \"#ab63fa\", \"#FFA15A\", \"#19d3f3\", \"#FF6692\", \"#B6E880\", \"#FF97FF\", \"#FECB52\"], \"font\": {\"color\": \"#2a3f5f\"}, \"geo\": {\"bgcolor\": \"white\", \"lakecolor\": \"white\", \"landcolor\": \"#E5ECF6\", \"showlakes\": true, \"showland\": true, \"subunitcolor\": \"white\"}, \"hoverlabel\": {\"align\": \"left\"}, \"hovermode\": \"closest\", \"mapbox\": {\"style\": \"light\"}, \"paper_bgcolor\": \"white\", \"plot_bgcolor\": \"#E5ECF6\", \"polar\": {\"angularaxis\": {\"gridcolor\": \"white\", \"linecolor\": \"white\", \"ticks\": \"\"}, \"bgcolor\": \"#E5ECF6\", \"radialaxis\": {\"gridcolor\": \"white\", \"linecolor\": \"white\", \"ticks\": \"\"}}, \"scene\": {\"xaxis\": {\"backgroundcolor\": \"#E5ECF6\", \"gridcolor\": \"white\", \"gridwidth\": 2, \"linecolor\": \"white\", \"showbackground\": true, \"ticks\": \"\", \"zerolinecolor\": \"white\"}, \"yaxis\": {\"backgroundcolor\": \"#E5ECF6\", \"gridcolor\": \"white\", \"gridwidth\": 2, \"linecolor\": \"white\", \"showbackground\": true, \"ticks\": \"\", \"zerolinecolor\": \"white\"}, \"zaxis\": {\"backgroundcolor\": \"#E5ECF6\", \"gridcolor\": \"white\", \"gridwidth\": 2, \"linecolor\": \"white\", \"showbackground\": true, \"ticks\": \"\", \"zerolinecolor\": \"white\"}}, \"shapedefaults\": {\"line\": {\"color\": \"#2a3f5f\"}}, \"ternary\": {\"aaxis\": {\"gridcolor\": \"white\", \"linecolor\": \"white\", \"ticks\": \"\"}, \"baxis\": {\"gridcolor\": \"white\", \"linecolor\": \"white\", \"ticks\": \"\"}, \"bgcolor\": \"#E5ECF6\", \"caxis\": {\"gridcolor\": \"white\", \"linecolor\": \"white\", \"ticks\": \"\"}}, \"title\": {\"x\": 0.05}, \"xaxis\": {\"automargin\": true, \"gridcolor\": \"white\", \"linecolor\": \"white\", \"ticks\": \"\", \"title\": {\"standoff\": 15}, \"zerolinecolor\": \"white\", \"zerolinewidth\": 2}, \"yaxis\": {\"automargin\": true, \"gridcolor\": \"white\", \"linecolor\": \"white\", \"ticks\": \"\", \"title\": {\"standoff\": 15}, \"zerolinecolor\": \"white\", \"zerolinewidth\": 2}}}},                        {\"responsive\": true}                    ).then(function(){\n",
       "                            \n",
       "var gd = document.getElementById('873c1080-17c0-4fd6-ad2c-445238bdff2b');\n",
       "var x = new MutationObserver(function (mutations, observer) {{\n",
       "        var display = window.getComputedStyle(gd).display;\n",
       "        if (!display || display === 'none') {{\n",
       "            console.log([gd, 'removed!']);\n",
       "            Plotly.purge(gd);\n",
       "            observer.disconnect();\n",
       "        }}\n",
       "}});\n",
       "\n",
       "// Listen for the removal of the full notebook cells\n",
       "var notebookContainer = gd.closest('#notebook-container');\n",
       "if (notebookContainer) {{\n",
       "    x.observe(notebookContainer, {childList: true});\n",
       "}}\n",
       "\n",
       "// Listen for the clearing of the current output cell\n",
       "var outputEl = gd.closest('.output');\n",
       "if (outputEl) {{\n",
       "    x.observe(outputEl, {childList: true});\n",
       "}}\n",
       "\n",
       "                        })                };                });            </script>        </div>"
      ]
     },
     "metadata": {},
     "output_type": "display_data"
    }
   ],
   "source": [
    "fig = px.pie(teams_goals_and_meteo, values=\"goal\", names=\"name\")\n",
    "fig.show()"
   ]
  },
  {
   "cell_type": "code",
   "execution_count": 70,
   "metadata": {
    "ExecuteTime": {
     "end_time": "2021-07-16T08:45:30.087018Z",
     "start_time": "2021-07-16T08:45:29.822534Z"
    }
   },
   "outputs": [
    {
     "data": {
      "application/vnd.plotly.v1+json": {
       "config": {
        "plotlyServerURL": "https://plot.ly"
       },
       "data": [
        {
         "alignmentgroup": "True",
         "bingroup": "x",
         "histfunc": "sum",
         "hovertemplate": "name=Bordeaux<br>temperature=%{x}<br>sum of goal=%{y}<extra></extra>",
         "legendgroup": "Bordeaux",
         "marker": {
          "color": "#636efa"
         },
         "name": "Bordeaux",
         "offsetgroup": "Bordeaux",
         "orientation": "v",
         "showlegend": true,
         "type": "histogram",
         "x": [
          22.5,
          23.5,
          11.5,
          13.5,
          14.5,
          17,
          8.5,
          10.5,
          13,
          2.5,
          8,
          13,
          8,
          9.5,
          14,
          11.5,
          12,
          12.5,
          14,
          13.5,
          20,
          15,
          17.5,
          7.5,
          9.5,
          5.5,
          7.5,
          0.5,
          8.5,
          11.5,
          5.5,
          12.5,
          4.5,
          8,
          11.5,
          13.5,
          16.5,
          10.5
         ],
         "xaxis": "x",
         "y": [
          0,
          0,
          0,
          3,
          2,
          0,
          1,
          1,
          1,
          2,
          2,
          0,
          0,
          1,
          0,
          2,
          0,
          1,
          3,
          2,
          1,
          1,
          0,
          1,
          2,
          1,
          2,
          0,
          3,
          1,
          1,
          0,
          3,
          1,
          1,
          1,
          0,
          2
         ],
         "yaxis": "y"
        },
        {
         "alignmentgroup": "True",
         "boxpoints": "all",
         "customdata": [
          [
           12,
           "Bordeaux",
           1,
           5
          ],
          [
           12,
           "Bordeaux",
           21,
           0
          ],
          [
           12,
           "Bordeaux",
           44,
           1
          ],
          [
           12,
           "Bordeaux",
           57,
           13
          ],
          [
           12,
           "Bordeaux",
           76,
           7
          ],
          [
           12,
           "Bordeaux",
           92,
           4
          ],
          [
           12,
           "Bordeaux",
           126,
           4
          ],
          [
           12,
           "Bordeaux",
           150,
           1
          ],
          [
           12,
           "Bordeaux",
           163,
           1
          ],
          [
           12,
           "Bordeaux",
           189,
           0
          ],
          [
           12,
           "Bordeaux",
           204,
           7
          ],
          [
           12,
           "Bordeaux",
           221,
           3
          ],
          [
           12,
           "Bordeaux",
           250,
           0
          ],
          [
           12,
           "Bordeaux",
           262,
           0
          ],
          [
           12,
           "Bordeaux",
           277,
           0
          ],
          [
           12,
           "Bordeaux",
           307,
           0
          ],
          [
           12,
           "Bordeaux",
           329,
           0
          ],
          [
           12,
           "Bordeaux",
           344,
           1
          ],
          [
           12,
           "Bordeaux",
           366,
           8
          ],
          [
           12,
           "Bordeaux",
           17,
           1
          ],
          [
           12,
           "Bordeaux",
           32,
           1
          ],
          [
           12,
           "Bordeaux",
           64,
           0
          ],
          [
           12,
           "Bordeaux",
           88,
           0
          ],
          [
           12,
           "Bordeaux",
           101,
           0
          ],
          [
           12,
           "Bordeaux",
           113,
           0
          ],
          [
           12,
           "Bordeaux",
           139,
           1
          ],
          [
           12,
           "Bordeaux",
           157,
           14
          ],
          [
           12,
           "Bordeaux",
           173,
           2
          ],
          [
           12,
           "Bordeaux",
           196,
           1
          ],
          [
           12,
           "Bordeaux",
           211,
           11
          ],
          [
           12,
           "Bordeaux",
           234,
           1
          ],
          [
           12,
           "Bordeaux",
           258,
           0
          ],
          [
           12,
           "Bordeaux",
           288,
           3
          ],
          [
           12,
           "Bordeaux",
           295,
           0
          ],
          [
           12,
           "Bordeaux",
           317,
           14
          ],
          [
           12,
           "Bordeaux",
           338,
           0
          ],
          [
           12,
           "Bordeaux",
           352,
           1
          ],
          [
           12,
           "Bordeaux",
           379,
           1
          ]
         ],
         "fillcolor": "rgba(255,255,255,0)",
         "hoveron": "points",
         "hovertemplate": "name=%{customdata[1]}<br>temperature=%{x}<br>id=%{customdata[0]}<br>match_id=%{customdata[2]}<br>rainfall=%{customdata[3]}<extra></extra>",
         "jitter": 0,
         "legendgroup": "Bordeaux",
         "line": {
          "color": "rgba(255,255,255,0)"
         },
         "marker": {
          "color": "#636efa",
          "symbol": "line-ns-open"
         },
         "name": "Bordeaux",
         "offsetgroup": "Bordeaux",
         "showlegend": false,
         "type": "box",
         "x": [
          22.5,
          23.5,
          11.5,
          13.5,
          14.5,
          17,
          8.5,
          10.5,
          13,
          2.5,
          8,
          13,
          8,
          9.5,
          14,
          11.5,
          12,
          12.5,
          14,
          13.5,
          20,
          15,
          17.5,
          7.5,
          9.5,
          5.5,
          7.5,
          0.5,
          8.5,
          11.5,
          5.5,
          12.5,
          4.5,
          8,
          11.5,
          13.5,
          16.5,
          10.5
         ],
         "xaxis": "x2",
         "yaxis": "y2"
        },
        {
         "alignmentgroup": "True",
         "bingroup": "x",
         "histfunc": "sum",
         "hovertemplate": "name=Dijon<br>temperature=%{x}<br>sum of goal=%{y}<extra></extra>",
         "legendgroup": "Dijon",
         "marker": {
          "color": "#EF553B"
         },
         "name": "Dijon",
         "offsetgroup": "Dijon",
         "orientation": "v",
         "showlegend": true,
         "type": "histogram",
         "x": [
          22,
          22,
          8,
          10,
          13.5,
          3.5,
          1.5,
          8.5,
          9,
          -1,
          1.5,
          10.5,
          -2.5,
          7.5,
          4.5,
          3.5,
          7.5,
          8.5,
          11.5,
          21.5,
          19.5,
          13.5,
          14.5,
          11.5,
          14,
          9.5,
          12,
          1,
          11,
          1,
          11,
          11,
          10.5,
          14.5,
          11.5,
          12,
          17.5,
          12
         ],
         "xaxis": "x",
         "y": [
          0,
          0,
          2,
          1,
          0,
          0,
          0,
          0,
          0,
          0,
          1,
          0,
          0,
          0,
          1,
          0,
          2,
          1,
          0,
          1,
          0,
          0,
          0,
          1,
          3,
          1,
          3,
          0,
          2,
          0,
          2,
          1,
          1,
          0,
          0,
          1,
          0,
          1
         ],
         "yaxis": "y"
        },
        {
         "alignmentgroup": "True",
         "boxpoints": "all",
         "customdata": [
          [
           20,
           "Dijon",
           2,
           19
          ],
          [
           20,
           "Dijon",
           28,
           0
          ],
          [
           20,
           "Dijon",
           45,
           47
          ],
          [
           20,
           "Dijon",
           61,
           2
          ],
          [
           20,
           "Dijon",
           86,
           5
          ],
          [
           20,
           "Dijon",
           106,
           0
          ],
          [
           20,
           "Dijon",
           128,
           0
          ],
          [
           20,
           "Dijon",
           141,
           1
          ],
          [
           20,
           "Dijon",
           155,
           18
          ],
          [
           20,
           "Dijon",
           184,
           0
          ],
          [
           20,
           "Dijon",
           207,
           1
          ],
          [
           20,
           "Dijon",
           226,
           1
          ],
          [
           20,
           "Dijon",
           248,
           0
          ],
          [
           20,
           "Dijon",
           263,
           3
          ],
          [
           20,
           "Dijon",
           288,
           3
          ],
          [
           20,
           "Dijon",
           297,
           0
          ],
          [
           20,
           "Dijon",
           326,
           2
          ],
          [
           20,
           "Dijon",
           345,
           5
          ],
          [
           20,
           "Dijon",
           370,
           7
          ],
          [
           20,
           "Dijon",
           11,
           20
          ],
          [
           20,
           "Dijon",
           38,
           0
          ],
          [
           20,
           "Dijon",
           57,
           13
          ],
          [
           20,
           "Dijon",
           73,
           1
          ],
          [
           20,
           "Dijon",
           96,
           1
          ],
          [
           20,
           "Dijon",
           119,
           0
          ],
          [
           20,
           "Dijon",
           137,
           2
          ],
          [
           20,
           "Dijon",
           165,
           1
          ],
          [
           20,
           "Dijon",
           180,
           1
          ],
          [
           20,
           "Dijon",
           200,
           9
          ],
          [
           20,
           "Dijon",
           218,
           0
          ],
          [
           20,
           "Dijon",
           238,
           1
          ],
          [
           20,
           "Dijon",
           255,
           0
          ],
          [
           20,
           "Dijon",
           275,
           5
          ],
          [
           20,
           "Dijon",
           310,
           1
          ],
          [
           20,
           "Dijon",
           319,
           29
          ],
          [
           20,
           "Dijon",
           336,
           0
          ],
          [
           20,
           "Dijon",
           358,
           3
          ],
          [
           20,
           "Dijon",
           378,
           0
          ]
         ],
         "fillcolor": "rgba(255,255,255,0)",
         "hoveron": "points",
         "hovertemplate": "name=%{customdata[1]}<br>temperature=%{x}<br>id=%{customdata[0]}<br>match_id=%{customdata[2]}<br>rainfall=%{customdata[3]}<extra></extra>",
         "jitter": 0,
         "legendgroup": "Dijon",
         "line": {
          "color": "rgba(255,255,255,0)"
         },
         "marker": {
          "color": "#EF553B",
          "symbol": "line-ns-open"
         },
         "name": "Dijon",
         "offsetgroup": "Dijon",
         "showlegend": false,
         "type": "box",
         "x": [
          22,
          22,
          8,
          10,
          13.5,
          3.5,
          1.5,
          8.5,
          9,
          -1,
          1.5,
          10.5,
          -2.5,
          7.5,
          4.5,
          3.5,
          7.5,
          8.5,
          11.5,
          21.5,
          19.5,
          13.5,
          14.5,
          11.5,
          14,
          9.5,
          12,
          1,
          11,
          1,
          11,
          11,
          10.5,
          14.5,
          11.5,
          12,
          17.5,
          12
         ],
         "xaxis": "x2",
         "yaxis": "y2"
        },
        {
         "alignmentgroup": "True",
         "bingroup": "x",
         "histfunc": "sum",
         "hovertemplate": "name=Lille<br>temperature=%{x}<br>sum of goal=%{y}<extra></extra>",
         "legendgroup": "Lille",
         "marker": {
          "color": "#00cc96"
         },
         "name": "Lille",
         "offsetgroup": "Lille",
         "orientation": "v",
         "showlegend": true,
         "type": "histogram",
         "x": [
          19,
          20,
          10.5,
          11.5,
          14.5,
          10.5,
          3.5,
          5.5,
          8,
          2,
          3,
          1,
          0,
          8,
          11,
          8.5,
          6.5,
          9,
          11,
          15,
          24,
          13.5,
          16.5,
          15,
          3.5,
          8.5,
          12.5,
          2.5,
          3,
          13,
          6,
          11,
          12.5,
          8.5,
          7.5,
          16.5,
          9,
          11.5
         ],
         "xaxis": "x",
         "y": [
          1,
          1,
          2,
          4,
          1,
          4,
          2,
          2,
          0,
          1,
          2,
          1,
          0,
          1,
          2,
          1,
          1,
          2,
          0,
          1,
          1,
          3,
          1,
          2,
          1,
          2,
          3,
          1,
          1,
          3,
          2,
          4,
          0,
          1,
          2,
          3,
          3,
          2
         ],
         "yaxis": "y"
        },
        {
         "alignmentgroup": "True",
         "boxpoints": "all",
         "customdata": [
          [
           1,
           "Lille",
           3,
           1
          ],
          [
           1,
           "Lille",
           24,
           0
          ],
          [
           1,
           "Lille",
           41,
           8
          ],
          [
           1,
           "Lille",
           70,
           2
          ],
          [
           1,
           "Lille",
           89,
           1
          ],
          [
           1,
           "Lille",
           109,
           4
          ],
          [
           1,
           "Lille",
           124,
           0
          ],
          [
           1,
           "Lille",
           139,
           1
          ],
          [
           1,
           "Lille",
           160,
           0
          ],
          [
           1,
           "Lille",
           177,
           2
          ],
          [
           1,
           "Lille",
           198,
           1
          ],
          [
           1,
           "Lille",
           218,
           0
          ],
          [
           1,
           "Lille",
           249,
           0
          ],
          [
           1,
           "Lille",
           269,
           0
          ],
          [
           1,
           "Lille",
           276,
           1
          ],
          [
           1,
           "Lille",
           299,
           1
          ],
          [
           1,
           "Lille",
           321,
           0
          ],
          [
           1,
           "Lille",
           343,
           0
          ],
          [
           1,
           "Lille",
           361,
           6
          ],
          [
           1,
           "Lille",
           14,
           2
          ],
          [
           1,
           "Lille",
           40,
           13
          ],
          [
           1,
           "Lille",
           55,
           2
          ],
          [
           1,
           "Lille",
           78,
           2
          ],
          [
           1,
           "Lille",
           94,
           1
          ],
          [
           1,
           "Lille",
           120,
           0
          ],
          [
           1,
           "Lille",
           141,
           1
          ],
          [
           1,
           "Lille",
           166,
           1
          ],
          [
           1,
           "Lille",
           183,
           0
          ],
          [
           1,
           "Lille",
           208,
           1
          ],
          [
           1,
           "Lille",
           221,
           3
          ],
          [
           1,
           "Lille",
           239,
           1
          ],
          [
           1,
           "Lille",
           259,
           2
          ],
          [
           1,
           "Lille",
           289,
           1
          ],
          [
           1,
           "Lille",
           302,
           0
          ],
          [
           1,
           "Lille",
           311,
           1
          ],
          [
           1,
           "Lille",
           340,
           0
          ],
          [
           1,
           "Lille",
           351,
           1
          ],
          [
           1,
           "Lille",
           371,
           1
          ]
         ],
         "fillcolor": "rgba(255,255,255,0)",
         "hoveron": "points",
         "hovertemplate": "name=%{customdata[1]}<br>temperature=%{x}<br>id=%{customdata[0]}<br>match_id=%{customdata[2]}<br>rainfall=%{customdata[3]}<extra></extra>",
         "jitter": 0,
         "legendgroup": "Lille",
         "line": {
          "color": "rgba(255,255,255,0)"
         },
         "marker": {
          "color": "#00cc96",
          "symbol": "line-ns-open"
         },
         "name": "Lille",
         "offsetgroup": "Lille",
         "showlegend": false,
         "type": "box",
         "x": [
          19,
          20,
          10.5,
          11.5,
          14.5,
          10.5,
          3.5,
          5.5,
          8,
          2,
          3,
          1,
          0,
          8,
          11,
          8.5,
          6.5,
          9,
          11,
          15,
          24,
          13.5,
          16.5,
          15,
          3.5,
          8.5,
          12.5,
          2.5,
          3,
          13,
          6,
          11,
          12.5,
          8.5,
          7.5,
          16.5,
          9,
          11.5
         ],
         "xaxis": "x2",
         "yaxis": "y2"
        },
        {
         "alignmentgroup": "True",
         "bingroup": "x",
         "histfunc": "sum",
         "hovertemplate": "name=Monaco<br>temperature=%{x}<br>sum of goal=%{y}<extra></extra>",
         "legendgroup": "Monaco",
         "marker": {
          "color": "#ab63fa"
         },
         "name": "Monaco",
         "offsetgroup": "Monaco",
         "orientation": "v",
         "showlegend": true,
         "type": "histogram",
         "x": [
          25.5,
          26.5,
          17.5,
          16,
          17.5,
          14.5,
          14.5,
          13,
          13.5,
          6,
          10,
          12,
          6.5,
          14,
          12.5,
          14,
          11.5,
          15,
          16,
          17,
          20,
          12,
          14.5,
          16,
          3.5,
          10.5,
          9,
          2,
          10,
          9.5,
          11.5,
          12,
          10,
          1.5,
          12,
          13,
          17.5,
          10.5
         ],
         "xaxis": "x",
         "y": [
          2,
          2,
          3,
          1,
          4,
          3,
          3,
          0,
          2,
          3,
          3,
          2,
          2,
          2,
          0,
          4,
          3,
          2,
          2,
          1,
          1,
          0,
          1,
          2,
          1,
          1,
          1,
          5,
          3,
          2,
          4,
          2,
          0,
          4,
          3,
          1,
          1,
          0
         ],
         "yaxis": "y"
        },
        {
         "alignmentgroup": "True",
         "boxpoints": "all",
         "customdata": [
          [
           3,
           "Monaco",
           4,
           1
          ],
          [
           3,
           "Monaco",
           29,
           0
          ],
          [
           3,
           "Monaco",
           47,
           1
          ],
          [
           3,
           "Monaco",
           66,
           1
          ],
          [
           3,
           "Monaco",
           88,
           0
          ],
          [
           3,
           "Monaco",
           102,
           3
          ],
          [
           3,
           "Monaco",
           117,
           0
          ],
          [
           3,
           "Monaco",
           149,
           1
          ],
          [
           3,
           "Monaco",
           170,
           0
          ],
          [
           3,
           "Monaco",
           185,
           0
          ],
          [
           3,
           "Monaco",
           203,
           7
          ],
          [
           3,
           "Monaco",
           228,
           0
          ],
          [
           3,
           "Monaco",
           244,
           1
          ],
          [
           3,
           "Monaco",
           264,
           0
          ],
          [
           3,
           "Monaco",
           289,
           1
          ],
          [
           3,
           "Monaco",
           301,
           7
          ],
          [
           3,
           "Monaco",
           319,
           29
          ],
          [
           3,
           "Monaco",
           350,
           5
          ],
          [
           3,
           "Monaco",
           363,
           0
          ],
          [
           3,
           "Monaco",
           18,
           1
          ],
          [
           3,
           "Monaco",
           33,
           19
          ],
          [
           3,
           "Monaco",
           56,
           7
          ],
          [
           3,
           "Monaco",
           79,
           0
          ],
          [
           3,
           "Monaco",
           99,
           1
          ],
          [
           3,
           "Monaco",
           124,
           0
          ],
          [
           3,
           "Monaco",
           132,
           7
          ],
          [
           3,
           "Monaco",
           155,
           18
          ],
          [
           3,
           "Monaco",
           172,
           0
          ],
          [
           3,
           "Monaco",
           191,
           0
          ],
          [
           3,
           "Monaco",
           219,
           5
          ],
          [
           3,
           "Monaco",
           235,
           1
          ],
          [
           3,
           "Monaco",
           260,
           0
          ],
          [
           3,
           "Monaco",
           278,
           0
          ],
          [
           3,
           "Monaco",
           291,
           0
          ],
          [
           3,
           "Monaco",
           329,
           0
          ],
          [
           3,
           "Monaco",
           339,
           0
          ],
          [
           3,
           "Monaco",
           359,
           2
          ],
          [
           3,
           "Monaco",
           373,
           2
          ]
         ],
         "fillcolor": "rgba(255,255,255,0)",
         "hoveron": "points",
         "hovertemplate": "name=%{customdata[1]}<br>temperature=%{x}<br>id=%{customdata[0]}<br>match_id=%{customdata[2]}<br>rainfall=%{customdata[3]}<extra></extra>",
         "jitter": 0,
         "legendgroup": "Monaco",
         "line": {
          "color": "rgba(255,255,255,0)"
         },
         "marker": {
          "color": "#ab63fa",
          "symbol": "line-ns-open"
         },
         "name": "Monaco",
         "offsetgroup": "Monaco",
         "showlegend": false,
         "type": "box",
         "x": [
          25.5,
          26.5,
          17.5,
          16,
          17.5,
          14.5,
          14.5,
          13,
          13.5,
          6,
          10,
          12,
          6.5,
          14,
          12.5,
          14,
          11.5,
          15,
          16,
          17,
          20,
          12,
          14.5,
          16,
          3.5,
          10.5,
          9,
          2,
          10,
          9.5,
          11.5,
          12,
          10,
          1.5,
          12,
          13,
          17.5,
          10.5
         ],
         "xaxis": "x2",
         "yaxis": "y2"
        },
        {
         "alignmentgroup": "True",
         "bingroup": "x",
         "histfunc": "sum",
         "hovertemplate": "name=Lorient<br>temperature=%{x}<br>sum of goal=%{y}<extra></extra>",
         "legendgroup": "Lorient",
         "marker": {
          "color": "#FFA15A"
         },
         "name": "Lorient",
         "offsetgroup": "Lorient",
         "orientation": "v",
         "showlegend": true,
         "type": "histogram",
         "x": [
          17,
          18,
          12.5,
          15.5,
          15.5,
          9.5,
          12,
          11,
          2,
          11,
          9,
          7,
          11,
          7.5,
          7.5,
          8,
          13.5,
          8.5,
          12,
          14.5,
          17,
          11,
          9,
          13.5,
          10.5,
          4,
          8.5,
          12.5,
          2.5,
          13.5,
          10,
          6.5,
          11,
          6.5,
          2,
          11,
          15,
          12
         ],
         "xaxis": "x",
         "y": [
          3,
          2,
          1,
          0,
          0,
          0,
          3,
          0,
          2,
          3,
          3,
          1,
          1,
          2,
          1,
          1,
          4,
          2,
          2,
          0,
          2,
          1,
          3,
          0,
          0,
          0,
          0,
          2,
          1,
          0,
          1,
          2,
          1,
          1,
          1,
          2,
          1,
          1
         ],
         "yaxis": "y"
        },
        {
         "alignmentgroup": "True",
         "boxpoints": "all",
         "customdata": [
          [
           16,
           "Lorient",
           5,
           1
          ],
          [
           16,
           "Lorient",
           26,
           0
          ],
          [
           16,
           "Lorient",
           49,
           0
          ],
          [
           16,
           "Lorient",
           72,
           18
          ],
          [
           16,
           "Lorient",
           98,
           1
          ],
          [
           16,
           "Lorient",
           116,
           0
          ],
          [
           16,
           "Lorient",
           138,
           13
          ],
          [
           16,
           "Lorient",
           159,
           5
          ],
          [
           16,
           "Lorient",
           172,
           0
          ],
          [
           16,
           "Lorient",
           200,
           9
          ],
          [
           16,
           "Lorient",
           214,
           10
          ],
          [
           16,
           "Lorient",
           231,
           0
          ],
          [
           16,
           "Lorient",
           259,
           2
          ],
          [
           16,
           "Lorient",
           267,
           0
          ],
          [
           16,
           "Lorient",
           287,
           1
          ],
          [
           16,
           "Lorient",
           308,
           0
          ],
          [
           16,
           "Lorient",
           338,
           0
          ],
          [
           16,
           "Lorient",
           347,
           2
          ],
          [
           16,
           "Lorient",
           369,
           7
          ],
          [
           16,
           "Lorient",
           16,
           2
          ],
          [
           16,
           "Lorient",
           36,
           0
          ],
          [
           16,
           "Lorient",
           58,
           18
          ],
          [
           16,
           "Lorient",
           63,
           0
          ],
          [
           16,
           "Lorient",
           86,
           5
          ],
          [
           16,
           "Lorient",
           109,
           4
          ],
          [
           16,
           "Lorient",
           125,
           2
          ],
          [
           16,
           "Lorient",
           147,
           0
          ],
          [
           16,
           "Lorient",
           164,
           0
          ],
          [
           16,
           "Lorient",
           189,
           0
          ],
          [
           16,
           "Lorient",
           210,
           0
          ],
          [
           16,
           "Lorient",
           222,
           12
          ],
          [
           16,
           "Lorient",
           244,
           1
          ],
          [
           16,
           "Lorient",
           279,
           0
          ],
          [
           16,
           "Lorient",
           298,
           1
          ],
          [
           16,
           "Lorient",
           315,
           16
          ],
          [
           16,
           "Lorient",
           323,
           0
          ],
          [
           16,
           "Lorient",
           353,
           0
          ],
          [
           16,
           "Lorient",
           380,
           2
          ]
         ],
         "fillcolor": "rgba(255,255,255,0)",
         "hoveron": "points",
         "hovertemplate": "name=%{customdata[1]}<br>temperature=%{x}<br>id=%{customdata[0]}<br>match_id=%{customdata[2]}<br>rainfall=%{customdata[3]}<extra></extra>",
         "jitter": 0,
         "legendgroup": "Lorient",
         "line": {
          "color": "rgba(255,255,255,0)"
         },
         "marker": {
          "color": "#FFA15A",
          "symbol": "line-ns-open"
         },
         "name": "Lorient",
         "offsetgroup": "Lorient",
         "showlegend": false,
         "type": "box",
         "x": [
          17,
          18,
          12.5,
          15.5,
          15.5,
          9.5,
          12,
          11,
          2,
          11,
          9,
          7,
          11,
          7.5,
          7.5,
          8,
          13.5,
          8.5,
          12,
          14.5,
          17,
          11,
          9,
          13.5,
          10.5,
          4,
          8.5,
          12.5,
          2.5,
          13.5,
          10,
          6.5,
          11,
          6.5,
          2,
          11,
          15,
          12
         ],
         "xaxis": "x2",
         "yaxis": "y2"
        },
        {
         "alignmentgroup": "True",
         "bingroup": "x",
         "histfunc": "sum",
         "hovertemplate": "name=Nîmes<br>temperature=%{x}<br>sum of goal=%{y}<extra></extra>",
         "legendgroup": "Nîmes",
         "marker": {
          "color": "#19d3f3"
         },
         "name": "Nîmes",
         "offsetgroup": "Nîmes",
         "orientation": "v",
         "showlegend": true,
         "type": "histogram",
         "x": [
          26.5,
          27,
          12,
          12.5,
          16.5,
          17,
          9,
          13,
          12,
          2.5,
          13.5,
          11.5,
          12.5,
          11.5,
          10.5,
          11,
          11.5,
          13.5,
          16.5,
          14,
          25.5,
          16,
          14.5,
          6.5,
          14.5,
          12,
          8.5,
          1.5,
          6,
          9.5,
          11,
          -2.5,
          12,
          8.5,
          6,
          8.5,
          16.5,
          10
         ],
         "xaxis": "x",
         "y": [
          4,
          2,
          1,
          0,
          0,
          1,
          0,
          0,
          1,
          0,
          1,
          3,
          2,
          1,
          1,
          0,
          1,
          2,
          2,
          1,
          0,
          1,
          0,
          1,
          0,
          0,
          2,
          0,
          2,
          1,
          0,
          2,
          1,
          2,
          1,
          1,
          3,
          0
         ],
         "yaxis": "y"
        },
        {
         "alignmentgroup": "True",
         "boxpoints": "all",
         "customdata": [
          [
           19,
           "Nîmes",
           6,
           0
          ],
          [
           19,
           "Nîmes",
           25,
           0
          ],
          [
           19,
           "Nîmes",
           46,
           1
          ],
          [
           19,
           "Nîmes",
           62,
           0
          ],
          [
           19,
           "Nîmes",
           85,
           0
          ],
          [
           19,
           "Nîmes",
           97,
           33
          ],
          [
           19,
           "Nîmes",
           121,
           2
          ],
          [
           19,
           "Nîmes",
           144,
           5
          ],
          [
           19,
           "Nîmes",
           165,
           1
          ],
          [
           19,
           "Nîmes",
           183,
           0
          ],
          [
           19,
           "Nîmes",
           210,
           0
          ],
          [
           19,
           "Nîmes",
           235,
           1
          ],
          [
           19,
           "Nîmes",
           258,
           0
          ],
          [
           19,
           "Nîmes",
           268,
           4
          ],
          [
           19,
           "Nîmes",
           284,
           0
          ],
          [
           19,
           "Nîmes",
           309,
           0
          ],
          [
           19,
           "Nîmes",
           328,
           0
          ],
          [
           19,
           "Nîmes",
           346,
           1
          ],
          [
           19,
           "Nîmes",
           364,
           1
          ],
          [
           19,
           "Nîmes",
           15,
           1
          ],
          [
           19,
           "Nîmes",
           31,
           0
          ],
          [
           19,
           "Nîmes",
           54,
           2
          ],
          [
           19,
           "Nîmes",
           76,
           7
          ],
          [
           19,
           "Nîmes",
           107,
           0
          ],
          [
           19,
           "Nîmes",
           117,
           0
          ],
          [
           19,
           "Nîmes",
           138,
           13
          ],
          [
           19,
           "Nîmes",
           158,
           15
          ],
          [
           19,
           "Nîmes",
           175,
           6
          ],
          [
           19,
           "Nîmes",
           192,
           0
          ],
          [
           19,
           "Nîmes",
           216,
           10
          ],
          [
           19,
           "Nîmes",
           227,
           12
          ],
          [
           19,
           "Nîmes",
           248,
           0
          ],
          [
           19,
           "Nîmes",
           274,
           0
          ],
          [
           19,
           "Nîmes",
           299,
           1
          ],
          [
           19,
           "Nîmes",
           318,
           1
          ],
          [
           19,
           "Nîmes",
           335,
           0
          ],
          [
           19,
           "Nîmes",
           356,
           1
          ],
          [
           19,
           "Nîmes",
           376,
           2
          ]
         ],
         "fillcolor": "rgba(255,255,255,0)",
         "hoveron": "points",
         "hovertemplate": "name=%{customdata[1]}<br>temperature=%{x}<br>id=%{customdata[0]}<br>match_id=%{customdata[2]}<br>rainfall=%{customdata[3]}<extra></extra>",
         "jitter": 0,
         "legendgroup": "Nîmes",
         "line": {
          "color": "rgba(255,255,255,0)"
         },
         "marker": {
          "color": "#19d3f3",
          "symbol": "line-ns-open"
         },
         "name": "Nîmes",
         "offsetgroup": "Nîmes",
         "showlegend": false,
         "type": "box",
         "x": [
          26.5,
          27,
          12,
          12.5,
          16.5,
          17,
          9,
          13,
          12,
          2.5,
          13.5,
          11.5,
          12.5,
          11.5,
          10.5,
          11,
          11.5,
          13.5,
          16.5,
          14,
          25.5,
          16,
          14.5,
          6.5,
          14.5,
          12,
          8.5,
          1.5,
          6,
          9.5,
          11,
          -2.5,
          12,
          8.5,
          6,
          8.5,
          16.5,
          10
         ],
         "xaxis": "x2",
         "yaxis": "y2"
        },
        {
         "alignmentgroup": "True",
         "bingroup": "x",
         "histfunc": "sum",
         "hovertemplate": "name=Nice<br>temperature=%{x}<br>sum of goal=%{y}<extra></extra>",
         "legendgroup": "Nice",
         "marker": {
          "color": "#FF6692"
         },
         "name": "Nice",
         "offsetgroup": "Nice",
         "orientation": "v",
         "showlegend": true,
         "type": "histogram",
         "x": [
          25.5,
          23,
          15.5,
          16.5,
          16,
          14,
          11,
          12.5,
          12.5,
          8.5,
          11.5,
          12.5,
          11.5,
          12,
          9,
          10.5,
          16,
          16.5,
          16.5,
          16.5,
          25,
          11.5,
          6.5,
          17.5,
          11.5,
          2.5,
          13,
          4,
          -1.5,
          4,
          12,
          -1.5,
          6.5,
          7.5,
          7.5,
          7.5,
          9,
          14.5
         ],
         "xaxis": "x",
         "y": [
          2,
          0,
          2,
          1,
          1,
          1,
          0,
          1,
          2,
          0,
          0,
          3,
          1,
          2,
          3,
          0,
          3,
          3,
          0,
          2,
          1,
          0,
          3,
          3,
          2,
          0,
          2,
          0,
          1,
          1,
          1,
          1,
          2,
          1,
          2,
          0,
          0,
          3
         ],
         "yaxis": "y"
        },
        {
         "alignmentgroup": "True",
         "boxpoints": "all",
         "customdata": [
          [
           9,
           "Nice",
           7,
           1
          ],
          [
           9,
           "Nice",
           34,
           16
          ],
          [
           9,
           "Nice",
           53,
           22
          ],
          [
           9,
           "Nice",
           78,
           2
          ],
          [
           9,
           "Nice",
           99,
           1
          ],
          [
           9,
           "Nice",
           119,
           0
          ],
          [
           9,
           "Nice",
           134,
           0
          ],
          [
           9,
           "Nice",
           153,
           4
          ],
          [
           9,
           "Nice",
           164,
           0
          ],
          [
           9,
           "Nice",
           196,
           1
          ],
          [
           9,
           "Nice",
           213,
           5
          ],
          [
           9,
           "Nice",
           237,
           10
          ],
          [
           9,
           "Nice",
           256,
           0
          ],
          [
           9,
           "Nice",
           274,
           0
          ],
          [
           9,
           "Nice",
           293,
           0
          ],
          [
           9,
           "Nice",
           316,
           30
          ],
          [
           9,
           "Nice",
           334,
           0
          ],
          [
           9,
           "Nice",
           357,
           0
          ],
          [
           9,
           "Nice",
           368,
           0
          ],
          [
           9,
           "Nice",
           13,
           1
          ],
          [
           9,
           "Nice",
           22,
           3
          ],
          [
           9,
           "Nice",
           44,
           1
          ],
          [
           9,
           "Nice",
           69,
           0
          ],
          [
           9,
           "Nice",
           84,
           5
          ],
          [
           9,
           "Nice",
           110,
           1
          ],
          [
           9,
           "Nice",
           129,
           0
          ],
          [
           9,
           "Nice",
           144,
           5
          ],
          [
           9,
           "Nice",
           174,
           8
          ],
          [
           9,
           "Nice",
           188,
           0
          ],
          [
           9,
           "Nice",
           202,
           1
          ],
          [
           9,
           "Nice",
           228,
           0
          ],
          [
           9,
           "Nice",
           241,
           0
          ],
          [
           9,
           "Nice",
           261,
           0
          ],
          [
           9,
           "Nice",
           287,
           1
          ],
          [
           9,
           "Nice",
           306,
           0
          ],
          [
           9,
           "Nice",
           326,
           2
          ],
          [
           9,
           "Nice",
           343,
           0
          ],
          [
           9,
           "Nice",
           374,
           1
          ]
         ],
         "fillcolor": "rgba(255,255,255,0)",
         "hoveron": "points",
         "hovertemplate": "name=%{customdata[1]}<br>temperature=%{x}<br>id=%{customdata[0]}<br>match_id=%{customdata[2]}<br>rainfall=%{customdata[3]}<extra></extra>",
         "jitter": 0,
         "legendgroup": "Nice",
         "line": {
          "color": "rgba(255,255,255,0)"
         },
         "marker": {
          "color": "#FF6692",
          "symbol": "line-ns-open"
         },
         "name": "Nice",
         "offsetgroup": "Nice",
         "showlegend": false,
         "type": "box",
         "x": [
          25.5,
          23,
          15.5,
          16.5,
          16,
          14,
          11,
          12.5,
          12.5,
          8.5,
          11.5,
          12.5,
          11.5,
          12,
          9,
          10.5,
          16,
          16.5,
          16.5,
          16.5,
          25,
          11.5,
          6.5,
          17.5,
          11.5,
          2.5,
          13,
          4,
          -1.5,
          4,
          12,
          -1.5,
          6.5,
          7.5,
          7.5,
          7.5,
          9,
          14.5
         ],
         "xaxis": "x2",
         "yaxis": "y2"
        },
        {
         "alignmentgroup": "True",
         "bingroup": "x",
         "histfunc": "sum",
         "hovertemplate": "name=Montpellier<br>temperature=%{x}<br>sum of goal=%{y}<extra></extra>",
         "legendgroup": "Montpellier",
         "marker": {
          "color": "#B6E880"
         },
         "name": "Montpellier",
         "offsetgroup": "Montpellier",
         "orientation": "v",
         "showlegend": true,
         "type": "histogram",
         "x": [
          23.5,
          25,
          23,
          16,
          15.5,
          9,
          8,
          13,
          12.5,
          4.5,
          10,
          11,
          11,
          11.5,
          11,
          8,
          10,
          14,
          16.5,
          14,
          8,
          16,
          15.5,
          17,
          9.5,
          8,
          10,
          4.5,
          6,
          10,
          -3.5,
          7,
          10.5,
          8,
          6.5,
          16,
          18,
          12
         ],
         "xaxis": "x",
         "y": [
          2,
          3,
          4,
          0,
          0,
          4,
          1,
          0,
          2,
          1,
          2,
          1,
          4,
          2,
          1,
          3,
          3,
          1,
          0,
          1,
          2,
          1,
          1,
          2,
          1,
          3,
          2,
          1,
          0,
          1,
          2,
          0,
          1,
          1,
          1,
          1,
          3,
          2
         ],
         "yaxis": "y"
        },
        {
         "alignmentgroup": "True",
         "boxpoints": "all",
         "customdata": [
          [
           8,
           "Montpellier",
           8,
           0
          ],
          [
           8,
           "Montpellier",
           22,
           3
          ],
          [
           8,
           "Montpellier",
           35,
           16
          ],
          [
           8,
           "Montpellier",
           54,
           2
          ],
          [
           8,
           "Montpellier",
           74,
           0
          ],
          [
           8,
           "Montpellier",
           105,
           0
          ],
          [
           8,
           "Montpellier",
           123,
           0
          ],
          [
           8,
           "Montpellier",
           142,
           9
          ],
          [
           8,
           "Montpellier",
           166,
           1
          ],
          [
           8,
           "Montpellier",
           187,
           0
          ],
          [
           8,
           "Montpellier",
           191,
           0
          ],
          [
           8,
           "Montpellier",
           212,
           5
          ],
          [
           8,
           "Montpellier",
           238,
           1
          ],
          [
           8,
           "Montpellier",
           254,
           0
          ],
          [
           8,
           "Montpellier",
           279,
           0
          ],
          [
           8,
           "Montpellier",
           295,
           0
          ],
          [
           8,
           "Montpellier",
           313,
           16
          ],
          [
           8,
           "Montpellier",
           349,
           1
          ],
          [
           8,
           "Montpellier",
           367,
           3
          ],
          [
           8,
           "Montpellier",
           12,
           4
          ],
          [
           8,
           "Montpellier",
           45,
           47
          ],
          [
           8,
           "Montpellier",
           66,
           1
          ],
          [
           8,
           "Montpellier",
           83,
           0
          ],
          [
           8,
           "Montpellier",
           92,
           4
          ],
          [
           8,
           "Montpellier",
           116,
           0
          ],
          [
           8,
           "Montpellier",
           133,
           3
          ],
          [
           8,
           "Montpellier",
           154,
           5
          ],
          [
           8,
           "Montpellier",
           179,
           0
          ],
          [
           8,
           "Montpellier",
           201,
           12
          ],
          [
           8,
           "Montpellier",
           223,
           27
          ],
          [
           8,
           "Montpellier",
           243,
           3
          ],
          [
           8,
           "Montpellier",
           266,
           0
          ],
          [
           8,
           "Montpellier",
           284,
           0
          ],
          [
           8,
           "Montpellier",
           304,
           0
          ],
          [
           8,
           "Montpellier",
           321,
           0
          ],
          [
           8,
           "Montpellier",
           334,
           0
          ],
          [
           8,
           "Montpellier",
           355,
           0
          ],
          [
           8,
           "Montpellier",
           377,
           1
          ]
         ],
         "fillcolor": "rgba(255,255,255,0)",
         "hoveron": "points",
         "hovertemplate": "name=%{customdata[1]}<br>temperature=%{x}<br>id=%{customdata[0]}<br>match_id=%{customdata[2]}<br>rainfall=%{customdata[3]}<extra></extra>",
         "jitter": 0,
         "legendgroup": "Montpellier",
         "line": {
          "color": "rgba(255,255,255,0)"
         },
         "marker": {
          "color": "#B6E880",
          "symbol": "line-ns-open"
         },
         "name": "Montpellier",
         "offsetgroup": "Montpellier",
         "showlegend": false,
         "type": "box",
         "x": [
          23.5,
          25,
          23,
          16,
          15.5,
          9,
          8,
          13,
          12.5,
          4.5,
          10,
          11,
          11,
          11.5,
          11,
          8,
          10,
          14,
          16.5,
          14,
          8,
          16,
          15.5,
          17,
          9.5,
          8,
          10,
          4.5,
          6,
          10,
          -3.5,
          7,
          10.5,
          8,
          6.5,
          16,
          18,
          12
         ],
         "xaxis": "x2",
         "yaxis": "y2"
        },
        {
         "alignmentgroup": "True",
         "bingroup": "x",
         "histfunc": "sum",
         "hovertemplate": "name=Paris-SG<br>temperature=%{x}<br>sum of goal=%{y}<extra></extra>",
         "legendgroup": "Paris-SG",
         "marker": {
          "color": "#FF97FF"
         },
         "name": "Paris-SG",
         "offsetgroup": "Paris-SG",
         "orientation": "v",
         "showlegend": true,
         "type": "histogram",
         "x": [
          27,
          26,
          13.5,
          14.5,
          13.5,
          9.5,
          6,
          8.5,
          12.5,
          2,
          6,
          11,
          -1.5,
          12,
          7.5,
          8.5,
          8.5,
          11,
          13,
          19,
          23,
          13,
          12.5,
          14,
          14.5,
          8,
          8,
          -3,
          3,
          9,
          11.5,
          7.5,
          14,
          4,
          13,
          10,
          14.5,
          10.5
         ],
         "xaxis": "x",
         "y": [
          1,
          0,
          6,
          4,
          3,
          2,
          0,
          2,
          4,
          3,
          4,
          3,
          2,
          0,
          1,
          0,
          3,
          2,
          4,
          0,
          3,
          2,
          4,
          3,
          2,
          3,
          0,
          1,
          1,
          2,
          2,
          4,
          1,
          4,
          4,
          3,
          1,
          2
         ],
         "yaxis": "y"
        },
        {
         "alignmentgroup": "True",
         "boxpoints": "all",
         "customdata": [
          [
           2,
           "Paris-SG",
           9,
           1
          ],
          [
           2,
           "Paris-SG",
           30,
           0
          ],
          [
           2,
           "Paris-SG",
           51,
           31
          ],
          [
           2,
           "Paris-SG",
           73,
           1
          ],
          [
           2,
           "Paris-SG",
           93,
           0
          ],
          [
           2,
           "Paris-SG",
           113,
           0
          ],
          [
           2,
           "Paris-SG",
           140,
           1
          ],
          [
           2,
           "Paris-SG",
           147,
           0
          ],
          [
           2,
           "Paris-SG",
           168,
           18
          ],
          [
           2,
           "Paris-SG",
           182,
           0
          ],
          [
           2,
           "Paris-SG",
           201,
           12
          ],
          [
           2,
           "Paris-SG",
           227,
           12
          ],
          [
           2,
           "Paris-SG",
           241,
           0
          ],
          [
           2,
           "Paris-SG",
           260,
           0
          ],
          [
           2,
           "Paris-SG",
           290,
           2
          ],
          [
           2,
           "Paris-SG",
           302,
           0
          ],
          [
           2,
           "Paris-SG",
           324,
           0
          ],
          [
           2,
           "Paris-SG",
           342,
           0
          ],
          [
           2,
           "Paris-SG",
           362,
           3
          ],
          [
           2,
           "Paris-SG",
           20,
           1
          ],
          [
           2,
           "Paris-SG",
           34,
           16
          ],
          [
           2,
           "Paris-SG",
           50,
           21
          ],
          [
           2,
           "Paris-SG",
           62,
           0
          ],
          [
           2,
           "Paris-SG",
           82,
           0
          ],
          [
           2,
           "Paris-SG",
           102,
           3
          ],
          [
           2,
           "Paris-SG",
           123,
           0
          ],
          [
           2,
           "Paris-SG",
           160,
           0
          ],
          [
           2,
           "Paris-SG",
           178,
           0
          ],
          [
           2,
           "Paris-SG",
           193,
           4
          ],
          [
           2,
           "Paris-SG",
           214,
           10
          ],
          [
           2,
           "Paris-SG",
           240,
           4
          ],
          [
           2,
           "Paris-SG",
           263,
           3
          ],
          [
           2,
           "Paris-SG",
           277,
           0
          ],
          [
           2,
           "Paris-SG",
           300,
           0
          ],
          [
           2,
           "Paris-SG",
           312,
           3
          ],
          [
           2,
           "Paris-SG",
           333,
           0
          ],
          [
           2,
           "Paris-SG",
           360,
           0
          ],
          [
           2,
           "Paris-SG",
           372,
           11
          ]
         ],
         "fillcolor": "rgba(255,255,255,0)",
         "hoveron": "points",
         "hovertemplate": "name=%{customdata[1]}<br>temperature=%{x}<br>id=%{customdata[0]}<br>match_id=%{customdata[2]}<br>rainfall=%{customdata[3]}<extra></extra>",
         "jitter": 0,
         "legendgroup": "Paris-SG",
         "line": {
          "color": "rgba(255,255,255,0)"
         },
         "marker": {
          "color": "#FF97FF",
          "symbol": "line-ns-open"
         },
         "name": "Paris-SG",
         "offsetgroup": "Paris-SG",
         "showlegend": false,
         "type": "box",
         "x": [
          27,
          26,
          13.5,
          14.5,
          13.5,
          9.5,
          6,
          8.5,
          12.5,
          2,
          6,
          11,
          -1.5,
          12,
          7.5,
          8.5,
          8.5,
          11,
          13,
          19,
          23,
          13,
          12.5,
          14,
          14.5,
          8,
          8,
          -3,
          3,
          9,
          11.5,
          7.5,
          14,
          4,
          13,
          10,
          14.5,
          10.5
         ],
         "xaxis": "x2",
         "yaxis": "y2"
        },
        {
         "alignmentgroup": "True",
         "bingroup": "x",
         "histfunc": "sum",
         "hovertemplate": "name=Marseille<br>temperature=%{x}<br>sum of goal=%{y}<extra></extra>",
         "legendgroup": "Marseille",
         "marker": {
          "color": "#FECB52"
         },
         "name": "Marseille",
         "offsetgroup": "Marseille",
         "orientation": "v",
         "showlegend": true,
         "type": "histogram",
         "x": [
          26.5,
          24,
          14.5,
          15,
          12.5,
          11.5,
          15.5,
          10.5,
          14,
          4.5,
          6,
          12,
          11.5,
          13,
          11.5,
          14.5,
          11,
          16,
          15.5,
          14.5,
          26,
          12.5,
          15.5,
          9,
          9,
          9.5,
          12.5,
          -1,
          10,
          9,
          8,
          14,
          11,
          9,
          10,
          9,
          17,
          10.5
         ],
         "xaxis": "x",
         "y": [
          0,
          1,
          1,
          3,
          0,
          3,
          3,
          2,
          1,
          3,
          1,
          1,
          0,
          1,
          3,
          2,
          3,
          1,
          3,
          3,
          1,
          1,
          1,
          1,
          2,
          1,
          1,
          0,
          1,
          2,
          0,
          1,
          0,
          0,
          3,
          3,
          0,
          1
         ],
         "yaxis": "y"
        },
        {
         "alignmentgroup": "True",
         "boxpoints": "all",
         "customdata": [
          [
           5,
           "Marseille",
           10,
           0
          ],
          [
           5,
           "Marseille",
           40,
           13
          ],
          [
           5,
           "Marseille",
           43,
           0
          ],
          [
           5,
           "Marseille",
           64,
           0
          ],
          [
           5,
           "Marseille",
           90,
           6
          ],
          [
           5,
           "Marseille",
           110,
           1
          ],
          [
           5,
           "Marseille",
           112,
           4
          ],
          [
           5,
           "Marseille",
           132,
           7
          ],
          [
           5,
           "Marseille",
           152,
           1
          ],
          [
           5,
           "Marseille",
           179,
           0
          ],
          [
           5,
           "Marseille",
           192,
           0
          ],
          [
           5,
           "Marseille",
           220,
           0
          ],
          [
           5,
           "Marseille",
           240,
           4
          ],
          [
           5,
           "Marseille",
           270,
           4
          ],
          [
           5,
           "Marseille",
           283,
           0
          ],
          [
           5,
           "Marseille",
           310,
           1
          ],
          [
           5,
           "Marseille",
           323,
           0
          ],
          [
           5,
           "Marseille",
           341,
           4
          ],
          [
           5,
           "Marseille",
           365,
           1
          ],
          [
           5,
           "Marseille",
           19,
           1
          ],
          [
           5,
           "Marseille",
           30,
           0
          ],
          [
           5,
           "Marseille",
           60,
           5
          ],
          [
           5,
           "Marseille",
           72,
           18
          ],
          [
           5,
           "Marseille",
           91,
           0
          ],
          [
           5,
           "Marseille",
           121,
           2
          ],
          [
           5,
           "Marseille",
           148,
           1
          ],
          [
           5,
           "Marseille",
           169,
           6
          ],
          [
           5,
           "Marseille",
           184,
           0
          ],
          [
           5,
           "Marseille",
           203,
           7
          ],
          [
           5,
           "Marseille",
           229,
           21
          ],
          [
           5,
           "Marseille",
           250,
           0
          ],
          [
           5,
           "Marseille",
           253,
           0
          ],
          [
           5,
           "Marseille",
           276,
           1
          ],
          [
           5,
           "Marseille",
           293,
           0
          ],
          [
           5,
           "Marseille",
           313,
           16
          ],
          [
           5,
           "Marseille",
           331,
           0
          ],
          [
           5,
           "Marseille",
           354,
           1
          ],
          [
           5,
           "Marseille",
           375,
           1
          ]
         ],
         "fillcolor": "rgba(255,255,255,0)",
         "hoveron": "points",
         "hovertemplate": "name=%{customdata[1]}<br>temperature=%{x}<br>id=%{customdata[0]}<br>match_id=%{customdata[2]}<br>rainfall=%{customdata[3]}<extra></extra>",
         "jitter": 0,
         "legendgroup": "Marseille",
         "line": {
          "color": "rgba(255,255,255,0)"
         },
         "marker": {
          "color": "#FECB52",
          "symbol": "line-ns-open"
         },
         "name": "Marseille",
         "offsetgroup": "Marseille",
         "showlegend": false,
         "type": "box",
         "x": [
          26.5,
          24,
          14.5,
          15,
          12.5,
          11.5,
          15.5,
          10.5,
          14,
          4.5,
          6,
          12,
          11.5,
          13,
          11.5,
          14.5,
          11,
          16,
          15.5,
          14.5,
          26,
          12.5,
          15.5,
          9,
          9,
          9.5,
          12.5,
          -1,
          10,
          9,
          8,
          14,
          11,
          9,
          10,
          9,
          17,
          10.5
         ],
         "xaxis": "x2",
         "yaxis": "y2"
        },
        {
         "alignmentgroup": "True",
         "bingroup": "x",
         "histfunc": "sum",
         "hovertemplate": "name=Lyon<br>temperature=%{x}<br>sum of goal=%{y}<extra></extra>",
         "legendgroup": "Lyon",
         "marker": {
          "color": "#636efa"
         },
         "name": "Lyon",
         "offsetgroup": "Lyon",
         "orientation": "v",
         "showlegend": true,
         "type": "histogram",
         "x": [
          21.5,
          25.5,
          12.5,
          14.5,
          13.5,
          5,
          9.5,
          11,
          0,
          3,
          11.5,
          12.5,
          -3.5,
          12,
          4,
          13,
          16.5,
          15,
          14.5,
          23.5,
          23.5,
          12.5,
          10,
          14.5,
          8,
          2.5,
          6,
          12.5,
          1,
          1.5,
          10.5,
          10,
          13,
          6.5,
          7.5,
          8.5,
          15,
          16.5
         ],
         "xaxis": "x",
         "y": [
          4,
          0,
          1,
          4,
          2,
          3,
          2,
          3,
          3,
          0,
          2,
          3,
          1,
          1,
          2,
          3,
          2,
          4,
          2,
          1,
          0,
          1,
          3,
          1,
          1,
          3,
          1,
          4,
          2,
          5,
          1,
          3,
          1,
          1,
          1,
          2,
          3,
          5
         ],
         "yaxis": "y"
        },
        {
         "alignmentgroup": "True",
         "boxpoints": "all",
         "customdata": [
          [
           4,
           "Lyon",
           11,
           20
          ],
          [
           4,
           "Lyon",
           31,
           0
          ],
          [
           4,
           "Lyon",
           60,
           5
          ],
          [
           4,
           "Lyon",
           79,
           0
          ],
          [
           4,
           "Lyon",
           100,
           4
          ],
          [
           4,
           "Lyon",
           114,
           0
          ],
          [
           4,
           "Lyon",
           146,
           24
          ],
          [
           4,
           "Lyon",
           167,
           0
          ],
          [
           4,
           "Lyon",
           176,
           0
          ],
          [
           4,
           "Lyon",
           199,
           5
          ],
          [
           4,
           "Lyon",
           211,
           11
          ],
          [
           4,
           "Lyon",
           232,
           1
          ],
          [
           4,
           "Lyon",
           243,
           3
          ],
          [
           4,
           "Lyon",
           271,
           0
          ],
          [
           4,
           "Lyon",
           300,
           0
          ],
          [
           4,
           "Lyon",
           320,
           14
          ],
          [
           4,
           "Lyon",
           340,
           0
          ],
          [
           4,
           "Lyon",
           353,
           0
          ],
          [
           4,
           "Lyon",
           374,
           1
          ],
          [
           4,
           "Lyon",
           8,
           0
          ],
          [
           4,
           "Lyon",
           21,
           0
          ],
          [
           4,
           "Lyon",
           49,
           0
          ],
          [
           4,
           "Lyon",
           65,
           2
          ],
          [
           4,
           "Lyon",
           89,
           1
          ],
          [
           4,
           "Lyon",
           108,
           0
          ],
          [
           4,
           "Lyon",
           130,
           0
          ],
          [
           4,
           "Lyon",
           140,
           1
          ],
          [
           4,
           "Lyon",
           153,
           4
          ],
          [
           4,
           "Lyon",
           181,
           0
          ],
          [
           4,
           "Lyon",
           209,
           1
          ],
          [
           4,
           "Lyon",
           226,
           1
          ],
          [
           4,
           "Lyon",
           251,
           3
          ],
          [
           4,
           "Lyon",
           270,
           4
          ],
          [
           4,
           "Lyon",
           281,
           3
          ],
          [
           4,
           "Lyon",
           303,
           0
          ],
          [
           4,
           "Lyon",
           330,
           0
          ],
          [
           4,
           "Lyon",
           350,
           5
          ],
          [
           4,
           "Lyon",
           364,
           1
          ]
         ],
         "fillcolor": "rgba(255,255,255,0)",
         "hoveron": "points",
         "hovertemplate": "name=%{customdata[1]}<br>temperature=%{x}<br>id=%{customdata[0]}<br>match_id=%{customdata[2]}<br>rainfall=%{customdata[3]}<extra></extra>",
         "jitter": 0,
         "legendgroup": "Lyon",
         "line": {
          "color": "rgba(255,255,255,0)"
         },
         "marker": {
          "color": "#636efa",
          "symbol": "line-ns-open"
         },
         "name": "Lyon",
         "offsetgroup": "Lyon",
         "showlegend": false,
         "type": "box",
         "x": [
          21.5,
          25.5,
          12.5,
          14.5,
          13.5,
          5,
          9.5,
          11,
          0,
          3,
          11.5,
          12.5,
          -3.5,
          12,
          4,
          13,
          16.5,
          15,
          14.5,
          23.5,
          23.5,
          12.5,
          10,
          14.5,
          8,
          2.5,
          6,
          12.5,
          1,
          1.5,
          10.5,
          10,
          13,
          6.5,
          7.5,
          8.5,
          15,
          16.5
         ],
         "xaxis": "x2",
         "yaxis": "y2"
        },
        {
         "alignmentgroup": "True",
         "bingroup": "x",
         "histfunc": "sum",
         "hovertemplate": "name=Rennes<br>temperature=%{x}<br>sum of goal=%{y}<extra></extra>",
         "legendgroup": "Rennes",
         "marker": {
          "color": "#EF553B"
         },
         "name": "Rennes",
         "offsetgroup": "Rennes",
         "orientation": "v",
         "showlegend": true,
         "type": "histogram",
         "x": [
          14,
          20,
          11.5,
          13,
          12.5,
          7.5,
          4,
          9.5,
          13,
          1,
          3,
          10,
          1,
          6.5,
          6,
          5.5,
          12,
          14.5,
          10,
          19,
          27,
          7.5,
          10,
          13.5,
          5.5,
          11,
          11,
          0.5,
          7,
          12,
          7.5,
          11.5,
          12,
          1.5,
          6.5,
          6.5,
          12.5,
          16
         ],
         "xaxis": "x",
         "y": [
          2,
          2,
          2,
          1,
          2,
          0,
          0,
          2,
          1,
          2,
          0,
          1,
          0,
          1,
          1,
          1,
          5,
          1,
          2,
          1,
          4,
          3,
          1,
          0,
          1,
          1,
          3,
          0,
          2,
          0,
          0,
          1,
          0,
          3,
          2,
          3,
          0,
          1
         ],
         "yaxis": "y"
        },
        {
         "alignmentgroup": "True",
         "boxpoints": "all",
         "customdata": [
          [
           6,
           "Rennes",
           12,
           4
          ],
          [
           6,
           "Rennes",
           33,
           19
          ],
          [
           6,
           "Rennes",
           59,
           4
          ],
          [
           6,
           "Rennes",
           71,
           2
          ],
          [
           6,
           "Rennes",
           81,
           2
          ],
          [
           6,
           "Rennes",
           101,
           0
          ],
          [
           6,
           "Rennes",
           122,
           6
          ],
          [
           6,
           "Rennes",
           148,
           1
          ],
          [
           6,
           "Rennes",
           161,
           21
          ],
          [
           6,
           "Rennes",
           181,
           0
          ],
          [
           6,
           "Rennes",
           208,
           1
          ],
          [
           6,
           "Rennes",
           222,
           12
          ],
          [
           6,
           "Rennes",
           245,
           1
          ],
          [
           6,
           "Rennes",
           261,
           0
          ],
          [
           6,
           "Rennes",
           286,
           1
          ],
          [
           6,
           "Rennes",
           314,
           3
          ],
          [
           6,
           "Rennes",
           336,
           0
          ],
          [
           6,
           "Rennes",
           360,
           0
          ],
          [
           6,
           "Rennes",
           376,
           2
          ],
          [
           6,
           "Rennes",
           3,
           1
          ],
          [
           6,
           "Rennes",
           25,
           0
          ],
          [
           6,
           "Rennes",
           42,
           3
          ],
          [
           6,
           "Rennes",
           61,
           2
          ],
          [
           6,
           "Rennes",
           93,
           0
          ],
          [
           6,
           "Rennes",
           111,
           0
          ],
          [
           6,
           "Rennes",
           134,
           0
          ],
          [
           6,
           "Rennes",
           159,
           5
          ],
          [
           6,
           "Rennes",
           171,
           0
          ],
          [
           6,
           "Rennes",
           194,
           0
          ],
          [
           6,
           "Rennes",
           220,
           0
          ],
          [
           6,
           "Rennes",
           233,
           16
          ],
          [
           6,
           "Rennes",
           254,
           0
          ],
          [
           6,
           "Rennes",
           271,
           0
          ],
          [
           6,
           "Rennes",
           292,
           0
          ],
          [
           6,
           "Rennes",
           305,
           0
          ],
          [
           6,
           "Rennes",
           322,
           1
          ],
          [
           6,
           "Rennes",
           344,
           1
          ],
          [
           6,
           "Rennes",
           363,
           0
          ]
         ],
         "fillcolor": "rgba(255,255,255,0)",
         "hoveron": "points",
         "hovertemplate": "name=%{customdata[1]}<br>temperature=%{x}<br>id=%{customdata[0]}<br>match_id=%{customdata[2]}<br>rainfall=%{customdata[3]}<extra></extra>",
         "jitter": 0,
         "legendgroup": "Rennes",
         "line": {
          "color": "rgba(255,255,255,0)"
         },
         "marker": {
          "color": "#EF553B",
          "symbol": "line-ns-open"
         },
         "name": "Rennes",
         "offsetgroup": "Rennes",
         "showlegend": false,
         "type": "box",
         "x": [
          14,
          20,
          11.5,
          13,
          12.5,
          7.5,
          4,
          9.5,
          13,
          1,
          3,
          10,
          1,
          6.5,
          6,
          5.5,
          12,
          14.5,
          10,
          19,
          27,
          7.5,
          10,
          13.5,
          5.5,
          11,
          11,
          0.5,
          7,
          12,
          7.5,
          11.5,
          12,
          1.5,
          6.5,
          6.5,
          12.5,
          16
         ],
         "xaxis": "x2",
         "yaxis": "y2"
        },
        {
         "alignmentgroup": "True",
         "bingroup": "x",
         "histfunc": "sum",
         "hovertemplate": "name=Strasbourg<br>temperature=%{x}<br>sum of goal=%{y}<extra></extra>",
         "legendgroup": "Strasbourg",
         "marker": {
          "color": "#00cc96"
         },
         "name": "Strasbourg",
         "offsetgroup": "Strasbourg",
         "orientation": "v",
         "showlegend": true,
         "type": "histogram",
         "x": [
          16.5,
          19.5,
          13.5,
          10,
          9,
          5.5,
          7,
          7.5,
          1.5,
          1,
          2.5,
          10,
          12,
          10,
          3.5,
          13,
          12,
          18,
          12,
          17,
          19.5,
          17.5,
          11,
          14.5,
          9,
          6.5,
          9,
          12.5,
          2.5,
          1.5,
          12.5,
          -1.5,
          8,
          6,
          11.5,
          11.5,
          16,
          16.5
         ],
         "xaxis": "x",
         "y": [
          0,
          1,
          0,
          2,
          0,
          1,
          2,
          0,
          5,
          1,
          0,
          2,
          0,
          1,
          1,
          1,
          1,
          2,
          1,
          1,
          0,
          2,
          3,
          1,
          3,
          4,
          2,
          0,
          1,
          1,
          0,
          2,
          1,
          0,
          3,
          1,
          1,
          2
         ],
         "yaxis": "y"
        },
        {
         "alignmentgroup": "True",
         "boxpoints": "all",
         "customdata": [
          [
           15,
           "Strasbourg",
           13,
           1
          ],
          [
           15,
           "Strasbourg",
           38,
           0
          ],
          [
           15,
           "Strasbourg",
           55,
           2
          ],
          [
           15,
           "Strasbourg",
           65,
           2
          ],
          [
           15,
           "Strasbourg",
           91,
           0
          ],
          [
           15,
           "Strasbourg",
           111,
           0
          ],
          [
           15,
           "Strasbourg",
           136,
           3
          ],
          [
           15,
           "Strasbourg",
           157,
           14
          ],
          [
           15,
           "Strasbourg",
           175,
           6
          ],
          [
           15,
           "Strasbourg",
           197,
           8
          ],
          [
           15,
           "Strasbourg",
           217,
           3
          ],
          [
           15,
           "Strasbourg",
           225,
           11
          ],
          [
           15,
           "Strasbourg",
           257,
           0
          ],
          [
           15,
           "Strasbourg",
           278,
           0
          ],
          [
           15,
           "Strasbourg",
           294,
           1
          ],
          [
           15,
           "Strasbourg",
           312,
           3
          ],
          [
           15,
           "Strasbourg",
           337,
           0
          ],
          [
           15,
           "Strasbourg",
           355,
           0
          ],
          [
           15,
           "Strasbourg",
           380,
           2
          ],
          [
           15,
           "Strasbourg",
           5,
           1
          ],
          [
           15,
           "Strasbourg",
           23,
           0
          ],
          [
           15,
           "Strasbourg",
           47,
           1
          ],
          [
           15,
           "Strasbourg",
           77,
           4
          ],
          [
           15,
           "Strasbourg",
           87,
           2
          ],
          [
           15,
           "Strasbourg",
           105,
           0
          ],
          [
           15,
           "Strasbourg",
           127,
           4
          ],
          [
           15,
           "Strasbourg",
           143,
           2
          ],
          [
           15,
           "Strasbourg",
           168,
           18
          ],
          [
           15,
           "Strasbourg",
           186,
           1
          ],
          [
           15,
           "Strasbourg",
           207,
           1
          ],
          [
           15,
           "Strasbourg",
           232,
           1
          ],
          [
           15,
           "Strasbourg",
           246,
           0
          ],
          [
           15,
           "Strasbourg",
           269,
           0
          ],
          [
           15,
           "Strasbourg",
           286,
           1
          ],
          [
           15,
           "Strasbourg",
           307,
           0
          ],
          [
           15,
           "Strasbourg",
           328,
           0
          ],
          [
           15,
           "Strasbourg",
           341,
           4
          ],
          [
           15,
           "Strasbourg",
           368,
           0
          ]
         ],
         "fillcolor": "rgba(255,255,255,0)",
         "hoveron": "points",
         "hovertemplate": "name=%{customdata[1]}<br>temperature=%{x}<br>id=%{customdata[0]}<br>match_id=%{customdata[2]}<br>rainfall=%{customdata[3]}<extra></extra>",
         "jitter": 0,
         "legendgroup": "Strasbourg",
         "line": {
          "color": "rgba(255,255,255,0)"
         },
         "marker": {
          "color": "#00cc96",
          "symbol": "line-ns-open"
         },
         "name": "Strasbourg",
         "offsetgroup": "Strasbourg",
         "showlegend": false,
         "type": "box",
         "x": [
          16.5,
          19.5,
          13.5,
          10,
          9,
          5.5,
          7,
          7.5,
          1.5,
          1,
          2.5,
          10,
          12,
          10,
          3.5,
          13,
          12,
          18,
          12,
          17,
          19.5,
          17.5,
          11,
          14.5,
          9,
          6.5,
          9,
          12.5,
          2.5,
          1.5,
          12.5,
          -1.5,
          8,
          6,
          11.5,
          11.5,
          16,
          16.5
         ],
         "xaxis": "x2",
         "yaxis": "y2"
        },
        {
         "alignmentgroup": "True",
         "bingroup": "x",
         "histfunc": "sum",
         "hovertemplate": "name=Reims<br>temperature=%{x}<br>sum of goal=%{y}<extra></extra>",
         "legendgroup": "Reims",
         "marker": {
          "color": "#ab63fa"
         },
         "name": "Reims",
         "offsetgroup": "Reims",
         "orientation": "v",
         "showlegend": true,
         "type": "histogram",
         "x": [
          15,
          13,
          9,
          14.5,
          6.5,
          2.5,
          7,
          1,
          0.5,
          1,
          10,
          -2.5,
          7,
          6.5,
          6.5,
          8,
          9,
          17.5,
          10.5,
          25.5,
          21,
          19,
          11.5,
          15.5,
          13,
          5,
          11.5,
          14,
          13,
          3,
          2.5,
          7,
          9,
          11.5,
          3.5,
          10.5,
          13.5,
          13
         ],
         "xaxis": "x",
         "y": [
          0,
          0,
          1,
          2,
          0,
          0,
          3,
          0,
          3,
          1,
          0,
          1,
          0,
          1,
          2,
          0,
          1,
          0,
          1,
          2,
          0,
          1,
          2,
          4,
          4,
          0,
          1,
          1,
          3,
          1,
          1,
          0,
          1,
          2,
          1,
          0,
          2,
          0
         ],
         "yaxis": "y"
        },
        {
         "alignmentgroup": "True",
         "boxpoints": "all",
         "customdata": [
          [
           14,
           "Reims",
           14,
           2
          ],
          [
           14,
           "Reims",
           50,
           21
          ],
          [
           14,
           "Reims",
           63,
           0
          ],
          [
           14,
           "Reims",
           87,
           2
          ],
          [
           14,
           "Reims",
           107,
           0
          ],
          [
           14,
           "Reims",
           129,
           0
          ],
          [
           14,
           "Reims",
           145,
           0
          ],
          [
           14,
           "Reims",
           180,
           1
          ],
          [
           14,
           "Reims",
           190,
           0
          ],
          [
           14,
           "Reims",
           206,
           4
          ],
          [
           14,
           "Reims",
           224,
           14
          ],
          [
           14,
           "Reims",
           242,
           0
          ],
          [
           14,
           "Reims",
           266,
           0
          ],
          [
           14,
           "Reims",
           281,
           3
          ],
          [
           14,
           "Reims",
           305,
           0
          ],
          [
           14,
           "Reims",
           327,
           1
          ],
          [
           14,
           "Reims",
           331,
           0
          ],
          [
           14,
           "Reims",
           359,
           2
          ],
          [
           14,
           "Reims",
           379,
           1
          ],
          [
           14,
           "Reims",
           4,
           1
          ],
          [
           14,
           "Reims",
           27,
           0
          ],
          [
           14,
           "Reims",
           37,
           1
          ],
          [
           14,
           "Reims",
           59,
           4
          ],
          [
           14,
           "Reims",
           74,
           0
          ],
          [
           14,
           "Reims",
           95,
           0
          ],
          [
           14,
           "Reims",
           114,
           0
          ],
          [
           14,
           "Reims",
           135,
           10
          ],
          [
           14,
           "Reims",
           152,
           1
          ],
          [
           14,
           "Reims",
           163,
           1
          ],
          [
           14,
           "Reims",
           198,
           1
          ],
          [
           14,
           "Reims",
           217,
           3
          ],
          [
           14,
           "Reims",
           231,
           0
          ],
          [
           14,
           "Reims",
           252,
           0
          ],
          [
           14,
           "Reims",
           280,
           3
          ],
          [
           14,
           "Reims",
           297,
           0
          ],
          [
           14,
           "Reims",
           316,
           30
          ],
          [
           14,
           "Reims",
           346,
           1
          ],
          [
           14,
           "Reims",
           362,
           3
          ]
         ],
         "fillcolor": "rgba(255,255,255,0)",
         "hoveron": "points",
         "hovertemplate": "name=%{customdata[1]}<br>temperature=%{x}<br>id=%{customdata[0]}<br>match_id=%{customdata[2]}<br>rainfall=%{customdata[3]}<extra></extra>",
         "jitter": 0,
         "legendgroup": "Reims",
         "line": {
          "color": "rgba(255,255,255,0)"
         },
         "marker": {
          "color": "#ab63fa",
          "symbol": "line-ns-open"
         },
         "name": "Reims",
         "offsetgroup": "Reims",
         "showlegend": false,
         "type": "box",
         "x": [
          15,
          13,
          9,
          14.5,
          6.5,
          2.5,
          7,
          1,
          0.5,
          1,
          10,
          -2.5,
          7,
          6.5,
          6.5,
          8,
          9,
          17.5,
          10.5,
          25.5,
          21,
          19,
          11.5,
          15.5,
          13,
          5,
          11.5,
          14,
          13,
          3,
          2.5,
          7,
          9,
          11.5,
          3.5,
          10.5,
          13.5,
          13
         ],
         "xaxis": "x2",
         "yaxis": "y2"
        },
        {
         "alignmentgroup": "True",
         "bingroup": "x",
         "histfunc": "sum",
         "hovertemplate": "name=Nantes<br>temperature=%{x}<br>sum of goal=%{y}<extra></extra>",
         "legendgroup": "Nantes",
         "marker": {
          "color": "#FFA15A"
         },
         "name": "Nantes",
         "offsetgroup": "Nantes",
         "orientation": "v",
         "showlegend": true,
         "type": "histogram",
         "x": [
          14,
          20.5,
          11.5,
          14,
          9,
          6.5,
          9.5,
          10,
          0.5,
          6,
          9.5,
          6,
          14,
          11.5,
          6.5,
          7.5,
          8.5,
          16.5,
          12,
          22.5,
          26.5,
          10.5,
          15.5,
          8,
          15.5,
          15.5,
          7,
          11,
          4.5,
          1,
          10,
          1.5,
          11.5,
          7.5,
          5.5,
          12,
          9,
          11.5
         ],
         "xaxis": "x",
         "y": [
          2,
          2,
          3,
          0,
          1,
          0,
          1,
          1,
          0,
          1,
          1,
          0,
          1,
          1,
          1,
          1,
          1,
          3,
          1,
          0,
          1,
          0,
          1,
          1,
          2,
          1,
          2,
          0,
          1,
          0,
          1,
          3,
          1,
          2,
          0,
          2,
          4,
          4
         ],
         "yaxis": "y"
        },
        {
         "alignmentgroup": "True",
         "boxpoints": "all",
         "customdata": [
          [
           18,
           "Nantes",
           15,
           1
          ],
          [
           18,
           "Nantes",
           39,
           2
          ],
          [
           18,
           "Nantes",
           67,
           0
          ],
          [
           18,
           "Nantes",
           82,
           0
          ],
          [
           18,
           "Nantes",
           104,
           0
          ],
          [
           18,
           "Nantes",
           127,
           4
          ],
          [
           18,
           "Nantes",
           137,
           2
          ],
          [
           18,
           "Nantes",
           156,
           1
          ],
          [
           18,
           "Nantes",
           171,
           0
          ],
          [
           18,
           "Nantes",
           195,
           0
          ],
          [
           18,
           "Nantes",
           219,
           5
          ],
          [
           18,
           "Nantes",
           239,
           1
          ],
          [
           18,
           "Nantes",
           253,
           0
          ],
          [
           18,
           "Nantes",
           280,
           3
          ],
          [
           18,
           "Nantes",
           298,
           1
          ],
          [
           18,
           "Nantes",
           306,
           0
          ],
          [
           18,
           "Nantes",
           330,
           0
          ],
          [
           18,
           "Nantes",
           352,
           1
          ],
          [
           18,
           "Nantes",
           377,
           1
          ],
          [
           18,
           "Nantes",
           1,
           5
          ],
          [
           18,
           "Nantes",
           29,
           0
          ],
          [
           18,
           "Nantes",
           41,
           8
          ],
          [
           18,
           "Nantes",
           53,
           22
          ],
          [
           18,
           "Nantes",
           80,
           0
          ],
          [
           18,
           "Nantes",
           98,
           1
          ],
          [
           18,
           "Nantes",
           112,
           4
          ],
          [
           18,
           "Nantes",
           145,
           0
          ],
          [
           18,
           "Nantes",
           167,
           0
          ],
          [
           18,
           "Nantes",
           187,
           0
          ],
          [
           18,
           "Nantes",
           205,
           3
          ],
          [
           18,
           "Nantes",
           230,
           0
          ],
          [
           18,
           "Nantes",
           247,
           0
          ],
          [
           18,
           "Nantes",
           268,
           4
          ],
          [
           18,
           "Nantes",
           290,
           2
          ],
          [
           18,
           "Nantes",
           314,
           3
          ],
          [
           18,
           "Nantes",
           337,
           0
          ],
          [
           18,
           "Nantes",
           348,
           1
          ],
          [
           18,
           "Nantes",
           370,
           7
          ]
         ],
         "fillcolor": "rgba(255,255,255,0)",
         "hoveron": "points",
         "hovertemplate": "name=%{customdata[1]}<br>temperature=%{x}<br>id=%{customdata[0]}<br>match_id=%{customdata[2]}<br>rainfall=%{customdata[3]}<extra></extra>",
         "jitter": 0,
         "legendgroup": "Nantes",
         "line": {
          "color": "rgba(255,255,255,0)"
         },
         "marker": {
          "color": "#FFA15A",
          "symbol": "line-ns-open"
         },
         "name": "Nantes",
         "offsetgroup": "Nantes",
         "showlegend": false,
         "type": "box",
         "x": [
          14,
          20.5,
          11.5,
          14,
          9,
          6.5,
          9.5,
          10,
          0.5,
          6,
          9.5,
          6,
          14,
          11.5,
          6.5,
          7.5,
          8.5,
          16.5,
          12,
          22.5,
          26.5,
          10.5,
          15.5,
          8,
          15.5,
          15.5,
          7,
          11,
          4.5,
          1,
          10,
          1.5,
          11.5,
          7.5,
          5.5,
          12,
          9,
          11.5
         ],
         "xaxis": "x2",
         "yaxis": "y2"
        },
        {
         "alignmentgroup": "True",
         "bingroup": "x",
         "histfunc": "sum",
         "hovertemplate": "name=Saint-Étienne<br>temperature=%{x}<br>sum of goal=%{y}<extra></extra>",
         "legendgroup": "Saint-Étienne",
         "marker": {
          "color": "#19d3f3"
         },
         "name": "Saint-Étienne",
         "offsetgroup": "Saint-Étienne",
         "orientation": "v",
         "showlegend": true,
         "type": "histogram",
         "x": [
          14.5,
          19.5,
          7.5,
          6.5,
          15.5,
          3.5,
          5.5,
          8.5,
          -3,
          1.5,
          10,
          7,
          9,
          9,
          1.5,
          11.5,
          13.5,
          17,
          12,
          26.5,
          20.5,
          13.5,
          11.5,
          13.5,
          10.5,
          1.5,
          10.5,
          13.5,
          0.5,
          1,
          11.5,
          1,
          7.5,
          9.5,
          11,
          8.5,
          14,
          11
         ],
         "xaxis": "x",
         "y": [
          2,
          2,
          0,
          1,
          0,
          1,
          0,
          2,
          1,
          0,
          1,
          1,
          1,
          2,
          0,
          4,
          1,
          1,
          0,
          2,
          2,
          0,
          0,
          1,
          1,
          0,
          2,
          2,
          1,
          0,
          1,
          2,
          1,
          1,
          2,
          2,
          2,
          0
         ],
         "yaxis": "y"
        },
        {
         "alignmentgroup": "True",
         "boxpoints": "all",
         "customdata": [
          [
           11,
           "Saint-Étienne",
           16,
           2
          ],
          [
           11,
           "Saint-Étienne",
           23,
           0
          ],
          [
           11,
           "Saint-Étienne",
           42,
           3
          ],
          [
           11,
           "Saint-Étienne",
           69,
           0
          ],
          [
           11,
           "Saint-Étienne",
           83,
           0
          ],
          [
           11,
           "Saint-Étienne",
           120,
           0
          ],
          [
           11,
           "Saint-Étienne",
           131,
           12
          ],
          [
           11,
           "Saint-Étienne",
           158,
           15
          ],
          [
           11,
           "Saint-Étienne",
           178,
           0
          ],
          [
           11,
           "Saint-Étienne",
           209,
           1
          ],
          [
           11,
           "Saint-Étienne",
           230,
           0
          ],
          [
           11,
           "Saint-Étienne",
           236,
           25
          ],
          [
           11,
           "Saint-Étienne",
           252,
           0
          ],
          [
           11,
           "Saint-Étienne",
           273,
           0
          ],
          [
           11,
           "Saint-Étienne",
           291,
           0
          ],
          [
           11,
           "Saint-Étienne",
           317,
           14
          ],
          [
           11,
           "Saint-Étienne",
           332,
           0
          ],
          [
           11,
           "Saint-Étienne",
           354,
           1
          ],
          [
           11,
           "Saint-Étienne",
           378,
           0
          ],
          [
           11,
           "Saint-Étienne",
           10,
           0
          ],
          [
           11,
           "Saint-Étienne",
           39,
           2
          ],
          [
           11,
           "Saint-Étienne",
           52,
           22
          ],
          [
           11,
           "Saint-Étienne",
           75,
           11
          ],
          [
           11,
           "Saint-Étienne",
           100,
           4
          ],
          [
           11,
           "Saint-Étienne",
           103,
           1
          ],
          [
           11,
           "Saint-Étienne",
           128,
           0
          ],
          [
           11,
           "Saint-Étienne",
           150,
           1
          ],
          [
           11,
           "Saint-Étienne",
           170,
           0
          ],
          [
           11,
           "Saint-Étienne",
           190,
           0
          ],
          [
           11,
           "Saint-Étienne",
           197,
           8
          ],
          [
           11,
           "Saint-Étienne",
           213,
           5
          ],
          [
           11,
           "Saint-Étienne",
           245,
           1
          ],
          [
           11,
           "Saint-Étienne",
           267,
           0
          ],
          [
           11,
           "Saint-Étienne",
           282,
           7
          ],
          [
           11,
           "Saint-Étienne",
           309,
           0
          ],
          [
           11,
           "Saint-Étienne",
           324,
           0
          ],
          [
           11,
           "Saint-Étienne",
           349,
           1
          ],
          [
           11,
           "Saint-Étienne",
           361,
           6
          ]
         ],
         "fillcolor": "rgba(255,255,255,0)",
         "hoveron": "points",
         "hovertemplate": "name=%{customdata[1]}<br>temperature=%{x}<br>id=%{customdata[0]}<br>match_id=%{customdata[2]}<br>rainfall=%{customdata[3]}<extra></extra>",
         "jitter": 0,
         "legendgroup": "Saint-Étienne",
         "line": {
          "color": "rgba(255,255,255,0)"
         },
         "marker": {
          "color": "#19d3f3",
          "symbol": "line-ns-open"
         },
         "name": "Saint-Étienne",
         "offsetgroup": "Saint-Étienne",
         "showlegend": false,
         "type": "box",
         "x": [
          14.5,
          19.5,
          7.5,
          6.5,
          15.5,
          3.5,
          5.5,
          8.5,
          -3,
          1.5,
          10,
          7,
          9,
          9,
          1.5,
          11.5,
          13.5,
          17,
          12,
          26.5,
          20.5,
          13.5,
          11.5,
          13.5,
          10.5,
          1.5,
          10.5,
          13.5,
          0.5,
          1,
          11.5,
          1,
          7.5,
          9.5,
          11,
          8.5,
          14,
          11
         ],
         "xaxis": "x2",
         "yaxis": "y2"
        },
        {
         "alignmentgroup": "True",
         "bingroup": "x",
         "histfunc": "sum",
         "hovertemplate": "name=Angers<br>temperature=%{x}<br>sum of goal=%{y}<extra></extra>",
         "legendgroup": "Angers",
         "marker": {
          "color": "#FF6692"
         },
         "name": "Angers",
         "offsetgroup": "Angers",
         "orientation": "v",
         "showlegend": true,
         "type": "histogram",
         "x": [
          13.5,
          21,
          11.5,
          12,
          17.5,
          8,
          4,
          9,
          12.5,
          3,
          9.5,
          1.5,
          6.5,
          9.5,
          8,
          6.5,
          13,
          17.5,
          11.5,
          22,
          23,
          13.5,
          13,
          17,
          5.5,
          5.5,
          10,
          2,
          6,
          8,
          10,
          12.5,
          12,
          9,
          9,
          13,
          8.5,
          15.5
         ],
         "xaxis": "x",
         "y": [
          0,
          1,
          3,
          1,
          0,
          0,
          2,
          0,
          2,
          0,
          3,
          1,
          2,
          0,
          1,
          0,
          0,
          3,
          1,
          1,
          1,
          1,
          2,
          5,
          3,
          0,
          1,
          2,
          0,
          1,
          0,
          0,
          0,
          1,
          0,
          0,
          0,
          2
         ],
         "yaxis": "y"
        },
        {
         "alignmentgroup": "True",
         "boxpoints": "all",
         "customdata": [
          [
           13,
           "Angers",
           17,
           1
          ],
          [
           13,
           "Angers",
           27,
           0
          ],
          [
           13,
           "Angers",
           48,
           0
          ],
          [
           13,
           "Angers",
           68,
           0
          ],
          [
           13,
           "Angers",
           84,
           5
          ],
          [
           13,
           "Angers",
           108,
           0
          ],
          [
           13,
           "Angers",
           125,
           2
          ],
          [
           13,
           "Angers",
           143,
           2
          ],
          [
           13,
           "Angers",
           169,
           6
          ],
          [
           13,
           "Angers",
           193,
           4
          ],
          [
           13,
           "Angers",
           216,
           10
          ],
          [
           13,
           "Angers",
           247,
           0
          ],
          [
           13,
           "Angers",
           265,
           0
          ],
          [
           13,
           "Angers",
           282,
           7
          ],
          [
           13,
           "Angers",
           304,
           0
          ],
          [
           13,
           "Angers",
           322,
           1
          ],
          [
           13,
           "Angers",
           339,
           0
          ],
          [
           13,
           "Angers",
           358,
           3
          ],
          [
           13,
           "Angers",
           371,
           1
          ],
          [
           13,
           "Angers",
           2,
           19
          ],
          [
           13,
           "Angers",
           35,
           16
          ],
          [
           13,
           "Angers",
           51,
           31
          ],
          [
           13,
           "Angers",
           71,
           2
          ],
          [
           13,
           "Angers",
           97,
           33
          ],
          [
           13,
           "Angers",
           115,
           0
          ],
          [
           13,
           "Angers",
           131,
           12
          ],
          [
           13,
           "Angers",
           156,
           1
          ],
          [
           13,
           "Angers",
           177,
           2
          ],
          [
           13,
           "Angers",
           185,
           0
          ],
          [
           13,
           "Angers",
           204,
           7
          ],
          [
           13,
           "Angers",
           224,
           14
          ],
          [
           13,
           "Angers",
           237,
           10
          ],
          [
           13,
           "Angers",
           257,
           0
          ],
          [
           13,
           "Angers",
           272,
           0
          ],
          [
           13,
           "Angers",
           296,
           1
          ],
          [
           13,
           "Angers",
           320,
           14
          ],
          [
           13,
           "Angers",
           347,
           2
          ],
          [
           13,
           "Angers",
           365,
           1
          ]
         ],
         "fillcolor": "rgba(255,255,255,0)",
         "hoveron": "points",
         "hovertemplate": "name=%{customdata[1]}<br>temperature=%{x}<br>id=%{customdata[0]}<br>match_id=%{customdata[2]}<br>rainfall=%{customdata[3]}<extra></extra>",
         "jitter": 0,
         "legendgroup": "Angers",
         "line": {
          "color": "rgba(255,255,255,0)"
         },
         "marker": {
          "color": "#FF6692",
          "symbol": "line-ns-open"
         },
         "name": "Angers",
         "offsetgroup": "Angers",
         "showlegend": false,
         "type": "box",
         "x": [
          13.5,
          21,
          11.5,
          12,
          17.5,
          8,
          4,
          9,
          12.5,
          3,
          9.5,
          1.5,
          6.5,
          9.5,
          8,
          6.5,
          13,
          17.5,
          11.5,
          22,
          23,
          13.5,
          13,
          17,
          5.5,
          5.5,
          10,
          2,
          6,
          8,
          10,
          12.5,
          12,
          9,
          9,
          13,
          8.5,
          15.5
         ],
         "xaxis": "x2",
         "yaxis": "y2"
        },
        {
         "alignmentgroup": "True",
         "bingroup": "x",
         "histfunc": "sum",
         "hovertemplate": "name=Metz<br>temperature=%{x}<br>sum of goal=%{y}<extra></extra>",
         "legendgroup": "Metz",
         "marker": {
          "color": "#B6E880"
         },
         "name": "Metz",
         "offsetgroup": "Metz",
         "orientation": "v",
         "showlegend": true,
         "type": "histogram",
         "x": [
          17,
          19,
          11,
          11.5,
          11.5,
          1,
          2.5,
          8.5,
          0.5,
          -1.5,
          1,
          10,
          -1.5,
          9,
          1.5,
          7.5,
          10,
          16.5,
          10.5,
          27,
          20,
          14.5,
          12,
          16.5,
          9,
          7,
          13,
          13,
          3,
          9,
          7,
          11.5,
          9.5,
          6.5,
          14,
          8,
          8.5,
          12
         ],
         "xaxis": "x",
         "y": [
          0,
          2,
          3,
          2,
          1,
          0,
          1,
          2,
          0,
          1,
          2,
          1,
          1,
          0,
          1,
          0,
          1,
          0,
          1,
          0,
          0,
          1,
          1,
          1,
          1,
          2,
          2,
          0,
          1,
          4,
          0,
          2,
          2,
          2,
          0,
          0,
          5,
          1
         ],
         "yaxis": "y"
        },
        {
         "alignmentgroup": "True",
         "boxpoints": "all",
         "customdata": [
          [
           10,
           "Metz",
           18,
           1
          ],
          [
           10,
           "Metz",
           37,
           1
          ],
          [
           10,
           "Metz",
           58,
           18
          ],
          [
           10,
           "Metz",
           75,
           11
          ],
          [
           10,
           "Metz",
           96,
           1
          ],
          [
           10,
           "Metz",
           118,
           0
          ],
          [
           10,
           "Metz",
           130,
           0
          ],
          [
           10,
           "Metz",
           151,
           1
          ],
          [
           10,
           "Metz",
           173,
           2
          ],
          [
           10,
           "Metz",
           188,
           0
          ],
          [
           10,
           "Metz",
           205,
           3
          ],
          [
           10,
           "Metz",
           223,
           27
          ],
          [
           10,
           "Metz",
           246,
           0
          ],
          [
           10,
           "Metz",
           272,
           0
          ],
          [
           10,
           "Metz",
           292,
           0
          ],
          [
           10,
           "Metz",
           311,
           1
          ],
          [
           10,
           "Metz",
           333,
           0
          ],
          [
           10,
           "Metz",
           356,
           1
          ],
          [
           10,
           "Metz",
           375,
           1
          ],
          [
           10,
           "Metz",
           9,
           1
          ],
          [
           10,
           "Metz",
           24,
           0
          ],
          [
           10,
           "Metz",
           43,
           0
          ],
          [
           10,
           "Metz",
           68,
           0
          ],
          [
           10,
           "Metz",
           85,
           0
          ],
          [
           10,
           "Metz",
           104,
           0
          ],
          [
           10,
           "Metz",
           136,
           3
          ],
          [
           10,
           "Metz",
           142,
           9
          ],
          [
           10,
           "Metz",
           161,
           21
          ],
          [
           10,
           "Metz",
           199,
           5
          ],
          [
           10,
           "Metz",
           215,
           10
          ],
          [
           10,
           "Metz",
           236,
           25
          ],
          [
           10,
           "Metz",
           256,
           0
          ],
          [
           10,
           "Metz",
           262,
           0
          ],
          [
           10,
           "Metz",
           285,
           2
          ],
          [
           10,
           "Metz",
           301,
           7
          ],
          [
           10,
           "Metz",
           327,
           1
          ],
          [
           10,
           "Metz",
           345,
           5
          ],
          [
           10,
           "Metz",
           369,
           7
          ]
         ],
         "fillcolor": "rgba(255,255,255,0)",
         "hoveron": "points",
         "hovertemplate": "name=%{customdata[1]}<br>temperature=%{x}<br>id=%{customdata[0]}<br>match_id=%{customdata[2]}<br>rainfall=%{customdata[3]}<extra></extra>",
         "jitter": 0,
         "legendgroup": "Metz",
         "line": {
          "color": "rgba(255,255,255,0)"
         },
         "marker": {
          "color": "#B6E880",
          "symbol": "line-ns-open"
         },
         "name": "Metz",
         "offsetgroup": "Metz",
         "showlegend": false,
         "type": "box",
         "x": [
          17,
          19,
          11,
          11.5,
          11.5,
          1,
          2.5,
          8.5,
          0.5,
          -1.5,
          1,
          10,
          -1.5,
          9,
          1.5,
          7.5,
          10,
          16.5,
          10.5,
          27,
          20,
          14.5,
          12,
          16.5,
          9,
          7,
          13,
          13,
          3,
          9,
          7,
          11.5,
          9.5,
          6.5,
          14,
          8,
          8.5,
          12
         ],
         "xaxis": "x2",
         "yaxis": "y2"
        },
        {
         "alignmentgroup": "True",
         "bingroup": "x",
         "histfunc": "sum",
         "hovertemplate": "name=Brest<br>temperature=%{x}<br>sum of goal=%{y}<extra></extra>",
         "legendgroup": "Brest",
         "marker": {
          "color": "#FF97FF"
         },
         "name": "Brest",
         "offsetgroup": "Brest",
         "orientation": "v",
         "showlegend": true,
         "type": "histogram",
         "x": [
          14.5,
          17,
          12,
          11,
          15,
          10.5,
          11.5,
          10,
          4,
          7,
          9,
          5.5,
          10,
          10.5,
          9,
          6,
          8,
          9,
          10.5,
          26.5,
          22,
          11.5,
          11.5,
          12.5,
          1,
          8.5,
          9.5,
          11,
          2,
          1,
          10,
          0,
          14,
          11.5,
          8,
          13.5,
          16.5,
          16.5
         ],
         "xaxis": "x",
         "y": [
          2,
          3,
          1,
          0,
          3,
          4,
          2,
          2,
          2,
          1,
          2,
          2,
          2,
          3,
          0,
          1,
          1,
          1,
          0,
          0,
          2,
          2,
          1,
          1,
          2,
          0,
          2,
          1,
          0,
          0,
          2,
          0,
          0,
          1,
          0,
          2,
          2,
          0
         ],
         "yaxis": "y"
        },
        {
         "alignmentgroup": "True",
         "boxpoints": "all",
         "customdata": [
          [
           17,
           "Brest",
           19,
           1
          ],
          [
           17,
           "Brest",
           36,
           0
          ],
          [
           17,
           "Brest",
           56,
           7
          ],
          [
           17,
           "Brest",
           77,
           4
          ],
          [
           17,
           "Brest",
           94,
           1
          ],
          [
           17,
           "Brest",
           103,
           1
          ],
          [
           17,
           "Brest",
           135,
           10
          ],
          [
           17,
           "Brest",
           154,
           5
          ],
          [
           17,
           "Brest",
           174,
           8
          ],
          [
           17,
           "Brest",
           194,
           0
          ],
          [
           17,
           "Brest",
           215,
           10
          ],
          [
           17,
           "Brest",
           234,
           1
          ],
          [
           17,
           "Brest",
           251,
           3
          ],
          [
           17,
           "Brest",
           275,
           5
          ],
          [
           17,
           "Brest",
           296,
           1
          ],
          [
           17,
           "Brest",
           318,
           1
          ],
          [
           17,
           "Brest",
           325,
           0
          ],
          [
           17,
           "Brest",
           348,
           1
          ],
          [
           17,
           "Brest",
           372,
           11
          ],
          [
           17,
           "Brest",
           6,
           0
          ],
          [
           17,
           "Brest",
           28,
           0
          ],
          [
           17,
           "Brest",
           48,
           0
          ],
          [
           17,
           "Brest",
           67,
           0
          ],
          [
           17,
           "Brest",
           81,
           2
          ],
          [
           17,
           "Brest",
           118,
           0
          ],
          [
           17,
           "Brest",
           126,
           4
          ],
          [
           17,
           "Brest",
           146,
           24
          ],
          [
           17,
           "Brest",
           162,
           35
          ],
          [
           17,
           "Brest",
           182,
           0
          ],
          [
           17,
           "Brest",
           206,
           4
          ],
          [
           17,
           "Brest",
           225,
           11
          ],
          [
           17,
           "Brest",
           249,
           0
          ],
          [
           17,
           "Brest",
           264,
           0
          ],
          [
           17,
           "Brest",
           283,
           0
          ],
          [
           17,
           "Brest",
           308,
           0
          ],
          [
           17,
           "Brest",
           332,
           0
          ],
          [
           17,
           "Brest",
           357,
           0
          ],
          [
           17,
           "Brest",
           367,
           3
          ]
         ],
         "fillcolor": "rgba(255,255,255,0)",
         "hoveron": "points",
         "hovertemplate": "name=%{customdata[1]}<br>temperature=%{x}<br>id=%{customdata[0]}<br>match_id=%{customdata[2]}<br>rainfall=%{customdata[3]}<extra></extra>",
         "jitter": 0,
         "legendgroup": "Brest",
         "line": {
          "color": "rgba(255,255,255,0)"
         },
         "marker": {
          "color": "#FF97FF",
          "symbol": "line-ns-open"
         },
         "name": "Brest",
         "offsetgroup": "Brest",
         "showlegend": false,
         "type": "box",
         "x": [
          14.5,
          17,
          12,
          11,
          15,
          10.5,
          11.5,
          10,
          4,
          7,
          9,
          5.5,
          10,
          10.5,
          9,
          6,
          8,
          9,
          10.5,
          26.5,
          22,
          11.5,
          11.5,
          12.5,
          1,
          8.5,
          9.5,
          11,
          2,
          1,
          10,
          0,
          14,
          11.5,
          8,
          13.5,
          16.5,
          16.5
         ],
         "xaxis": "x2",
         "yaxis": "y2"
        },
        {
         "alignmentgroup": "True",
         "bingroup": "x",
         "histfunc": "sum",
         "hovertemplate": "name=Lens<br>temperature=%{x}<br>sum of goal=%{y}<extra></extra>",
         "legendgroup": "Lens",
         "marker": {
          "color": "#FECB52"
         },
         "name": "Lens",
         "offsetgroup": "Lens",
         "orientation": "v",
         "showlegend": true,
         "type": "histogram",
         "x": [
          19,
          20,
          13.5,
          8,
          13,
          5.5,
          8,
          11,
          2.5,
          4,
          9,
          7.5,
          11,
          6.5,
          7.5,
          2,
          8.5,
          9,
          10.5,
          25.5,
          18,
          12,
          11.5,
          12.5,
          3.5,
          4,
          13,
          8.5,
          0,
          6,
          11,
          -2.5,
          6.5,
          9,
          3.5,
          8,
          11,
          14
         ],
         "xaxis": "x",
         "y": [
          1,
          2,
          2,
          1,
          4,
          1,
          2,
          2,
          0,
          0,
          2,
          0,
          2,
          2,
          1,
          4,
          2,
          0,
          0,
          1,
          3,
          1,
          0,
          1,
          1,
          2,
          3,
          0,
          2,
          1,
          2,
          1,
          2,
          3,
          2,
          1,
          1,
          0
         ],
         "yaxis": "y"
        },
        {
         "alignmentgroup": "True",
         "boxpoints": "all",
         "customdata": [
          [
           7,
           "Lens",
           20,
           1
          ],
          [
           7,
           "Lens",
           32,
           1
          ],
          [
           7,
           "Lens",
           52,
           22
          ],
          [
           7,
           "Lens",
           80,
           0
          ],
          [
           7,
           "Lens",
           95,
           0
          ],
          [
           7,
           "Lens",
           115,
           0
          ],
          [
           7,
           "Lens",
           133,
           3
          ],
          [
           7,
           "Lens",
           162,
           35
          ],
          [
           7,
           "Lens",
           186,
           1
          ],
          [
           7,
           "Lens",
           202,
           1
          ],
          [
           7,
           "Lens",
           229,
           21
          ],
          [
           7,
           "Lens",
           233,
           16
          ],
          [
           7,
           "Lens",
           255,
           0
          ],
          [
           7,
           "Lens",
           285,
           2
          ],
          [
           7,
           "Lens",
           303,
           0
          ],
          [
           7,
           "Lens",
           315,
           16
          ],
          [
           7,
           "Lens",
           335,
           0
          ],
          [
           7,
           "Lens",
           351,
           1
          ],
          [
           7,
           "Lens",
           373,
           2
          ],
          [
           7,
           "Lens",
           7,
           1
          ],
          [
           7,
           "Lens",
           26,
           0
          ],
          [
           7,
           "Lens",
           46,
           1
          ],
          [
           7,
           "Lens",
           70,
           2
          ],
          [
           7,
           "Lens",
           90,
           6
          ],
          [
           7,
           "Lens",
           106,
           0
          ],
          [
           7,
           "Lens",
           122,
           6
          ],
          [
           7,
           "Lens",
           149,
           1
          ],
          [
           7,
           "Lens",
           151,
           1
          ],
          [
           7,
           "Lens",
           176,
           0
          ],
          [
           7,
           "Lens",
           195,
           0
          ],
          [
           7,
           "Lens",
           212,
           5
          ],
          [
           7,
           "Lens",
           242,
           0
          ],
          [
           7,
           "Lens",
           265,
           0
          ],
          [
           7,
           "Lens",
           273,
           0
          ],
          [
           7,
           "Lens",
           294,
           1
          ],
          [
           7,
           "Lens",
           325,
           0
          ],
          [
           7,
           "Lens",
           342,
           0
          ],
          [
           7,
           "Lens",
           366,
           8
          ]
         ],
         "fillcolor": "rgba(255,255,255,0)",
         "hoveron": "points",
         "hovertemplate": "name=%{customdata[1]}<br>temperature=%{x}<br>id=%{customdata[0]}<br>match_id=%{customdata[2]}<br>rainfall=%{customdata[3]}<extra></extra>",
         "jitter": 0,
         "legendgroup": "Lens",
         "line": {
          "color": "rgba(255,255,255,0)"
         },
         "marker": {
          "color": "#FECB52",
          "symbol": "line-ns-open"
         },
         "name": "Lens",
         "offsetgroup": "Lens",
         "showlegend": false,
         "type": "box",
         "x": [
          19,
          20,
          13.5,
          8,
          13,
          5.5,
          8,
          11,
          2.5,
          4,
          9,
          7.5,
          11,
          6.5,
          7.5,
          2,
          8.5,
          9,
          10.5,
          25.5,
          18,
          12,
          11.5,
          12.5,
          3.5,
          4,
          13,
          8.5,
          0,
          6,
          11,
          -2.5,
          6.5,
          9,
          3.5,
          8,
          11,
          14
         ],
         "xaxis": "x2",
         "yaxis": "y2"
        }
       ],
       "layout": {
        "barmode": "relative",
        "legend": {
         "title": {
          "text": "name"
         },
         "tracegroupgap": 0
        },
        "margin": {
         "t": 60
        },
        "template": {
         "data": {
          "bar": [
           {
            "error_x": {
             "color": "#2a3f5f"
            },
            "error_y": {
             "color": "#2a3f5f"
            },
            "marker": {
             "line": {
              "color": "#E5ECF6",
              "width": 0.5
             }
            },
            "type": "bar"
           }
          ],
          "barpolar": [
           {
            "marker": {
             "line": {
              "color": "#E5ECF6",
              "width": 0.5
             }
            },
            "type": "barpolar"
           }
          ],
          "carpet": [
           {
            "aaxis": {
             "endlinecolor": "#2a3f5f",
             "gridcolor": "white",
             "linecolor": "white",
             "minorgridcolor": "white",
             "startlinecolor": "#2a3f5f"
            },
            "baxis": {
             "endlinecolor": "#2a3f5f",
             "gridcolor": "white",
             "linecolor": "white",
             "minorgridcolor": "white",
             "startlinecolor": "#2a3f5f"
            },
            "type": "carpet"
           }
          ],
          "choropleth": [
           {
            "colorbar": {
             "outlinewidth": 0,
             "ticks": ""
            },
            "type": "choropleth"
           }
          ],
          "contour": [
           {
            "colorbar": {
             "outlinewidth": 0,
             "ticks": ""
            },
            "colorscale": [
             [
              0,
              "#0d0887"
             ],
             [
              0.1111111111111111,
              "#46039f"
             ],
             [
              0.2222222222222222,
              "#7201a8"
             ],
             [
              0.3333333333333333,
              "#9c179e"
             ],
             [
              0.4444444444444444,
              "#bd3786"
             ],
             [
              0.5555555555555556,
              "#d8576b"
             ],
             [
              0.6666666666666666,
              "#ed7953"
             ],
             [
              0.7777777777777778,
              "#fb9f3a"
             ],
             [
              0.8888888888888888,
              "#fdca26"
             ],
             [
              1,
              "#f0f921"
             ]
            ],
            "type": "contour"
           }
          ],
          "contourcarpet": [
           {
            "colorbar": {
             "outlinewidth": 0,
             "ticks": ""
            },
            "type": "contourcarpet"
           }
          ],
          "heatmap": [
           {
            "colorbar": {
             "outlinewidth": 0,
             "ticks": ""
            },
            "colorscale": [
             [
              0,
              "#0d0887"
             ],
             [
              0.1111111111111111,
              "#46039f"
             ],
             [
              0.2222222222222222,
              "#7201a8"
             ],
             [
              0.3333333333333333,
              "#9c179e"
             ],
             [
              0.4444444444444444,
              "#bd3786"
             ],
             [
              0.5555555555555556,
              "#d8576b"
             ],
             [
              0.6666666666666666,
              "#ed7953"
             ],
             [
              0.7777777777777778,
              "#fb9f3a"
             ],
             [
              0.8888888888888888,
              "#fdca26"
             ],
             [
              1,
              "#f0f921"
             ]
            ],
            "type": "heatmap"
           }
          ],
          "heatmapgl": [
           {
            "colorbar": {
             "outlinewidth": 0,
             "ticks": ""
            },
            "colorscale": [
             [
              0,
              "#0d0887"
             ],
             [
              0.1111111111111111,
              "#46039f"
             ],
             [
              0.2222222222222222,
              "#7201a8"
             ],
             [
              0.3333333333333333,
              "#9c179e"
             ],
             [
              0.4444444444444444,
              "#bd3786"
             ],
             [
              0.5555555555555556,
              "#d8576b"
             ],
             [
              0.6666666666666666,
              "#ed7953"
             ],
             [
              0.7777777777777778,
              "#fb9f3a"
             ],
             [
              0.8888888888888888,
              "#fdca26"
             ],
             [
              1,
              "#f0f921"
             ]
            ],
            "type": "heatmapgl"
           }
          ],
          "histogram": [
           {
            "marker": {
             "colorbar": {
              "outlinewidth": 0,
              "ticks": ""
             }
            },
            "type": "histogram"
           }
          ],
          "histogram2d": [
           {
            "colorbar": {
             "outlinewidth": 0,
             "ticks": ""
            },
            "colorscale": [
             [
              0,
              "#0d0887"
             ],
             [
              0.1111111111111111,
              "#46039f"
             ],
             [
              0.2222222222222222,
              "#7201a8"
             ],
             [
              0.3333333333333333,
              "#9c179e"
             ],
             [
              0.4444444444444444,
              "#bd3786"
             ],
             [
              0.5555555555555556,
              "#d8576b"
             ],
             [
              0.6666666666666666,
              "#ed7953"
             ],
             [
              0.7777777777777778,
              "#fb9f3a"
             ],
             [
              0.8888888888888888,
              "#fdca26"
             ],
             [
              1,
              "#f0f921"
             ]
            ],
            "type": "histogram2d"
           }
          ],
          "histogram2dcontour": [
           {
            "colorbar": {
             "outlinewidth": 0,
             "ticks": ""
            },
            "colorscale": [
             [
              0,
              "#0d0887"
             ],
             [
              0.1111111111111111,
              "#46039f"
             ],
             [
              0.2222222222222222,
              "#7201a8"
             ],
             [
              0.3333333333333333,
              "#9c179e"
             ],
             [
              0.4444444444444444,
              "#bd3786"
             ],
             [
              0.5555555555555556,
              "#d8576b"
             ],
             [
              0.6666666666666666,
              "#ed7953"
             ],
             [
              0.7777777777777778,
              "#fb9f3a"
             ],
             [
              0.8888888888888888,
              "#fdca26"
             ],
             [
              1,
              "#f0f921"
             ]
            ],
            "type": "histogram2dcontour"
           }
          ],
          "mesh3d": [
           {
            "colorbar": {
             "outlinewidth": 0,
             "ticks": ""
            },
            "type": "mesh3d"
           }
          ],
          "parcoords": [
           {
            "line": {
             "colorbar": {
              "outlinewidth": 0,
              "ticks": ""
             }
            },
            "type": "parcoords"
           }
          ],
          "pie": [
           {
            "automargin": true,
            "type": "pie"
           }
          ],
          "scatter": [
           {
            "marker": {
             "colorbar": {
              "outlinewidth": 0,
              "ticks": ""
             }
            },
            "type": "scatter"
           }
          ],
          "scatter3d": [
           {
            "line": {
             "colorbar": {
              "outlinewidth": 0,
              "ticks": ""
             }
            },
            "marker": {
             "colorbar": {
              "outlinewidth": 0,
              "ticks": ""
             }
            },
            "type": "scatter3d"
           }
          ],
          "scattercarpet": [
           {
            "marker": {
             "colorbar": {
              "outlinewidth": 0,
              "ticks": ""
             }
            },
            "type": "scattercarpet"
           }
          ],
          "scattergeo": [
           {
            "marker": {
             "colorbar": {
              "outlinewidth": 0,
              "ticks": ""
             }
            },
            "type": "scattergeo"
           }
          ],
          "scattergl": [
           {
            "marker": {
             "colorbar": {
              "outlinewidth": 0,
              "ticks": ""
             }
            },
            "type": "scattergl"
           }
          ],
          "scattermapbox": [
           {
            "marker": {
             "colorbar": {
              "outlinewidth": 0,
              "ticks": ""
             }
            },
            "type": "scattermapbox"
           }
          ],
          "scatterpolar": [
           {
            "marker": {
             "colorbar": {
              "outlinewidth": 0,
              "ticks": ""
             }
            },
            "type": "scatterpolar"
           }
          ],
          "scatterpolargl": [
           {
            "marker": {
             "colorbar": {
              "outlinewidth": 0,
              "ticks": ""
             }
            },
            "type": "scatterpolargl"
           }
          ],
          "scatterternary": [
           {
            "marker": {
             "colorbar": {
              "outlinewidth": 0,
              "ticks": ""
             }
            },
            "type": "scatterternary"
           }
          ],
          "surface": [
           {
            "colorbar": {
             "outlinewidth": 0,
             "ticks": ""
            },
            "colorscale": [
             [
              0,
              "#0d0887"
             ],
             [
              0.1111111111111111,
              "#46039f"
             ],
             [
              0.2222222222222222,
              "#7201a8"
             ],
             [
              0.3333333333333333,
              "#9c179e"
             ],
             [
              0.4444444444444444,
              "#bd3786"
             ],
             [
              0.5555555555555556,
              "#d8576b"
             ],
             [
              0.6666666666666666,
              "#ed7953"
             ],
             [
              0.7777777777777778,
              "#fb9f3a"
             ],
             [
              0.8888888888888888,
              "#fdca26"
             ],
             [
              1,
              "#f0f921"
             ]
            ],
            "type": "surface"
           }
          ],
          "table": [
           {
            "cells": {
             "fill": {
              "color": "#EBF0F8"
             },
             "line": {
              "color": "white"
             }
            },
            "header": {
             "fill": {
              "color": "#C8D4E3"
             },
             "line": {
              "color": "white"
             }
            },
            "type": "table"
           }
          ]
         },
         "layout": {
          "annotationdefaults": {
           "arrowcolor": "#2a3f5f",
           "arrowhead": 0,
           "arrowwidth": 1
          },
          "autotypenumbers": "strict",
          "coloraxis": {
           "colorbar": {
            "outlinewidth": 0,
            "ticks": ""
           }
          },
          "colorscale": {
           "diverging": [
            [
             0,
             "#8e0152"
            ],
            [
             0.1,
             "#c51b7d"
            ],
            [
             0.2,
             "#de77ae"
            ],
            [
             0.3,
             "#f1b6da"
            ],
            [
             0.4,
             "#fde0ef"
            ],
            [
             0.5,
             "#f7f7f7"
            ],
            [
             0.6,
             "#e6f5d0"
            ],
            [
             0.7,
             "#b8e186"
            ],
            [
             0.8,
             "#7fbc41"
            ],
            [
             0.9,
             "#4d9221"
            ],
            [
             1,
             "#276419"
            ]
           ],
           "sequential": [
            [
             0,
             "#0d0887"
            ],
            [
             0.1111111111111111,
             "#46039f"
            ],
            [
             0.2222222222222222,
             "#7201a8"
            ],
            [
             0.3333333333333333,
             "#9c179e"
            ],
            [
             0.4444444444444444,
             "#bd3786"
            ],
            [
             0.5555555555555556,
             "#d8576b"
            ],
            [
             0.6666666666666666,
             "#ed7953"
            ],
            [
             0.7777777777777778,
             "#fb9f3a"
            ],
            [
             0.8888888888888888,
             "#fdca26"
            ],
            [
             1,
             "#f0f921"
            ]
           ],
           "sequentialminus": [
            [
             0,
             "#0d0887"
            ],
            [
             0.1111111111111111,
             "#46039f"
            ],
            [
             0.2222222222222222,
             "#7201a8"
            ],
            [
             0.3333333333333333,
             "#9c179e"
            ],
            [
             0.4444444444444444,
             "#bd3786"
            ],
            [
             0.5555555555555556,
             "#d8576b"
            ],
            [
             0.6666666666666666,
             "#ed7953"
            ],
            [
             0.7777777777777778,
             "#fb9f3a"
            ],
            [
             0.8888888888888888,
             "#fdca26"
            ],
            [
             1,
             "#f0f921"
            ]
           ]
          },
          "colorway": [
           "#636efa",
           "#EF553B",
           "#00cc96",
           "#ab63fa",
           "#FFA15A",
           "#19d3f3",
           "#FF6692",
           "#B6E880",
           "#FF97FF",
           "#FECB52"
          ],
          "font": {
           "color": "#2a3f5f"
          },
          "geo": {
           "bgcolor": "white",
           "lakecolor": "white",
           "landcolor": "#E5ECF6",
           "showlakes": true,
           "showland": true,
           "subunitcolor": "white"
          },
          "hoverlabel": {
           "align": "left"
          },
          "hovermode": "closest",
          "mapbox": {
           "style": "light"
          },
          "paper_bgcolor": "white",
          "plot_bgcolor": "#E5ECF6",
          "polar": {
           "angularaxis": {
            "gridcolor": "white",
            "linecolor": "white",
            "ticks": ""
           },
           "bgcolor": "#E5ECF6",
           "radialaxis": {
            "gridcolor": "white",
            "linecolor": "white",
            "ticks": ""
           }
          },
          "scene": {
           "xaxis": {
            "backgroundcolor": "#E5ECF6",
            "gridcolor": "white",
            "gridwidth": 2,
            "linecolor": "white",
            "showbackground": true,
            "ticks": "",
            "zerolinecolor": "white"
           },
           "yaxis": {
            "backgroundcolor": "#E5ECF6",
            "gridcolor": "white",
            "gridwidth": 2,
            "linecolor": "white",
            "showbackground": true,
            "ticks": "",
            "zerolinecolor": "white"
           },
           "zaxis": {
            "backgroundcolor": "#E5ECF6",
            "gridcolor": "white",
            "gridwidth": 2,
            "linecolor": "white",
            "showbackground": true,
            "ticks": "",
            "zerolinecolor": "white"
           }
          },
          "shapedefaults": {
           "line": {
            "color": "#2a3f5f"
           }
          },
          "ternary": {
           "aaxis": {
            "gridcolor": "white",
            "linecolor": "white",
            "ticks": ""
           },
           "baxis": {
            "gridcolor": "white",
            "linecolor": "white",
            "ticks": ""
           },
           "bgcolor": "#E5ECF6",
           "caxis": {
            "gridcolor": "white",
            "linecolor": "white",
            "ticks": ""
           }
          },
          "title": {
           "x": 0.05
          },
          "xaxis": {
           "automargin": true,
           "gridcolor": "white",
           "linecolor": "white",
           "ticks": "",
           "title": {
            "standoff": 15
           },
           "zerolinecolor": "white",
           "zerolinewidth": 2
          },
          "yaxis": {
           "automargin": true,
           "gridcolor": "white",
           "linecolor": "white",
           "ticks": "",
           "title": {
            "standoff": 15
           },
           "zerolinecolor": "white",
           "zerolinewidth": 2
          }
         }
        },
        "xaxis": {
         "anchor": "y",
         "domain": [
          0,
          1
         ],
         "title": {
          "text": "temperature"
         }
        },
        "xaxis2": {
         "anchor": "y2",
         "domain": [
          0,
          1
         ],
         "matches": "x",
         "showgrid": true,
         "showticklabels": false
        },
        "yaxis": {
         "anchor": "x",
         "domain": [
          0,
          0.7326
         ],
         "title": {
          "text": "sum of goal"
         }
        },
        "yaxis2": {
         "anchor": "x2",
         "domain": [
          0.7426,
          1
         ],
         "matches": "y2",
         "showgrid": false,
         "showline": false,
         "showticklabels": false,
         "ticks": ""
        }
       }
      },
      "text/html": [
       "<div>                            <div id=\"6b1387fb-6fe2-4233-ad9c-78a03ad95aad\" class=\"plotly-graph-div\" style=\"height:525px; width:100%;\"></div>            <script type=\"text/javascript\">                require([\"plotly\"], function(Plotly) {                    window.PLOTLYENV=window.PLOTLYENV || {};                                    if (document.getElementById(\"6b1387fb-6fe2-4233-ad9c-78a03ad95aad\")) {                    Plotly.newPlot(                        \"6b1387fb-6fe2-4233-ad9c-78a03ad95aad\",                        [{\"alignmentgroup\": \"True\", \"bingroup\": \"x\", \"histfunc\": \"sum\", \"hovertemplate\": \"name=Bordeaux<br>temperature=%{x}<br>sum of goal=%{y}<extra></extra>\", \"legendgroup\": \"Bordeaux\", \"marker\": {\"color\": \"#636efa\"}, \"name\": \"Bordeaux\", \"offsetgroup\": \"Bordeaux\", \"orientation\": \"v\", \"showlegend\": true, \"type\": \"histogram\", \"x\": [22.5, 23.5, 11.5, 13.5, 14.5, 17.0, 8.5, 10.5, 13.0, 2.5, 8.0, 13.0, 8.0, 9.5, 14.0, 11.5, 12.0, 12.5, 14.0, 13.5, 20.0, 15.0, 17.5, 7.5, 9.5, 5.5, 7.5, 0.5, 8.5, 11.5, 5.5, 12.5, 4.5, 8.0, 11.5, 13.5, 16.5, 10.5], \"xaxis\": \"x\", \"y\": [0, 0, 0, 3, 2, 0, 1, 1, 1, 2, 2, 0, 0, 1, 0, 2, 0, 1, 3, 2, 1, 1, 0, 1, 2, 1, 2, 0, 3, 1, 1, 0, 3, 1, 1, 1, 0, 2], \"yaxis\": \"y\"}, {\"alignmentgroup\": \"True\", \"boxpoints\": \"all\", \"customdata\": [[12, \"Bordeaux\", 1, 5.0], [12, \"Bordeaux\", 21, 0.0], [12, \"Bordeaux\", 44, 1.0], [12, \"Bordeaux\", 57, 13.0], [12, \"Bordeaux\", 76, 7.0], [12, \"Bordeaux\", 92, 4.0], [12, \"Bordeaux\", 126, 4.0], [12, \"Bordeaux\", 150, 1.0], [12, \"Bordeaux\", 163, 1.0], [12, \"Bordeaux\", 189, 0.0], [12, \"Bordeaux\", 204, 7.0], [12, \"Bordeaux\", 221, 3.0], [12, \"Bordeaux\", 250, 0.0], [12, \"Bordeaux\", 262, 0.0], [12, \"Bordeaux\", 277, 0.0], [12, \"Bordeaux\", 307, 0.0], [12, \"Bordeaux\", 329, 0.0], [12, \"Bordeaux\", 344, 1.0], [12, \"Bordeaux\", 366, 8.0], [12, \"Bordeaux\", 17, 1.0], [12, \"Bordeaux\", 32, 1.0], [12, \"Bordeaux\", 64, 0.0], [12, \"Bordeaux\", 88, 0.0], [12, \"Bordeaux\", 101, 0.0], [12, \"Bordeaux\", 113, 0.0], [12, \"Bordeaux\", 139, 1.0], [12, \"Bordeaux\", 157, 14.0], [12, \"Bordeaux\", 173, 2.0], [12, \"Bordeaux\", 196, 1.0], [12, \"Bordeaux\", 211, 11.0], [12, \"Bordeaux\", 234, 1.0], [12, \"Bordeaux\", 258, 0.0], [12, \"Bordeaux\", 288, 3.0], [12, \"Bordeaux\", 295, 0.0], [12, \"Bordeaux\", 317, 14.0], [12, \"Bordeaux\", 338, 0.0], [12, \"Bordeaux\", 352, 1.0], [12, \"Bordeaux\", 379, 1.0]], \"fillcolor\": \"rgba(255,255,255,0)\", \"hoveron\": \"points\", \"hovertemplate\": \"name=%{customdata[1]}<br>temperature=%{x}<br>id=%{customdata[0]}<br>match_id=%{customdata[2]}<br>rainfall=%{customdata[3]}<extra></extra>\", \"jitter\": 0, \"legendgroup\": \"Bordeaux\", \"line\": {\"color\": \"rgba(255,255,255,0)\"}, \"marker\": {\"color\": \"#636efa\", \"symbol\": \"line-ns-open\"}, \"name\": \"Bordeaux\", \"offsetgroup\": \"Bordeaux\", \"showlegend\": false, \"type\": \"box\", \"x\": [22.5, 23.5, 11.5, 13.5, 14.5, 17.0, 8.5, 10.5, 13.0, 2.5, 8.0, 13.0, 8.0, 9.5, 14.0, 11.5, 12.0, 12.5, 14.0, 13.5, 20.0, 15.0, 17.5, 7.5, 9.5, 5.5, 7.5, 0.5, 8.5, 11.5, 5.5, 12.5, 4.5, 8.0, 11.5, 13.5, 16.5, 10.5], \"xaxis\": \"x2\", \"yaxis\": \"y2\"}, {\"alignmentgroup\": \"True\", \"bingroup\": \"x\", \"histfunc\": \"sum\", \"hovertemplate\": \"name=Dijon<br>temperature=%{x}<br>sum of goal=%{y}<extra></extra>\", \"legendgroup\": \"Dijon\", \"marker\": {\"color\": \"#EF553B\"}, \"name\": \"Dijon\", \"offsetgroup\": \"Dijon\", \"orientation\": \"v\", \"showlegend\": true, \"type\": \"histogram\", \"x\": [22.0, 22.0, 8.0, 10.0, 13.5, 3.5, 1.5, 8.5, 9.0, -1.0, 1.5, 10.5, -2.5, 7.5, 4.5, 3.5, 7.5, 8.5, 11.5, 21.5, 19.5, 13.5, 14.5, 11.5, 14.0, 9.5, 12.0, 1.0, 11.0, 1.0, 11.0, 11.0, 10.5, 14.5, 11.5, 12.0, 17.5, 12.0], \"xaxis\": \"x\", \"y\": [0, 0, 2, 1, 0, 0, 0, 0, 0, 0, 1, 0, 0, 0, 1, 0, 2, 1, 0, 1, 0, 0, 0, 1, 3, 1, 3, 0, 2, 0, 2, 1, 1, 0, 0, 1, 0, 1], \"yaxis\": \"y\"}, {\"alignmentgroup\": \"True\", \"boxpoints\": \"all\", \"customdata\": [[20, \"Dijon\", 2, 19.0], [20, \"Dijon\", 28, 0.0], [20, \"Dijon\", 45, 47.0], [20, \"Dijon\", 61, 2.0], [20, \"Dijon\", 86, 5.0], [20, \"Dijon\", 106, 0.0], [20, \"Dijon\", 128, 0.0], [20, \"Dijon\", 141, 1.0], [20, \"Dijon\", 155, 18.0], [20, \"Dijon\", 184, 0.0], [20, \"Dijon\", 207, 1.0], [20, \"Dijon\", 226, 1.0], [20, \"Dijon\", 248, 0.0], [20, \"Dijon\", 263, 3.0], [20, \"Dijon\", 288, 3.0], [20, \"Dijon\", 297, 0.0], [20, \"Dijon\", 326, 2.0], [20, \"Dijon\", 345, 5.0], [20, \"Dijon\", 370, 7.0], [20, \"Dijon\", 11, 20.0], [20, \"Dijon\", 38, 0.0], [20, \"Dijon\", 57, 13.0], [20, \"Dijon\", 73, 1.0], [20, \"Dijon\", 96, 1.0], [20, \"Dijon\", 119, 0.0], [20, \"Dijon\", 137, 2.0], [20, \"Dijon\", 165, 1.0], [20, \"Dijon\", 180, 1.0], [20, \"Dijon\", 200, 9.0], [20, \"Dijon\", 218, 0.0], [20, \"Dijon\", 238, 1.0], [20, \"Dijon\", 255, 0.0], [20, \"Dijon\", 275, 5.0], [20, \"Dijon\", 310, 1.0], [20, \"Dijon\", 319, 29.0], [20, \"Dijon\", 336, 0.0], [20, \"Dijon\", 358, 3.0], [20, \"Dijon\", 378, 0.0]], \"fillcolor\": \"rgba(255,255,255,0)\", \"hoveron\": \"points\", \"hovertemplate\": \"name=%{customdata[1]}<br>temperature=%{x}<br>id=%{customdata[0]}<br>match_id=%{customdata[2]}<br>rainfall=%{customdata[3]}<extra></extra>\", \"jitter\": 0, \"legendgroup\": \"Dijon\", \"line\": {\"color\": \"rgba(255,255,255,0)\"}, \"marker\": {\"color\": \"#EF553B\", \"symbol\": \"line-ns-open\"}, \"name\": \"Dijon\", \"offsetgroup\": \"Dijon\", \"showlegend\": false, \"type\": \"box\", \"x\": [22.0, 22.0, 8.0, 10.0, 13.5, 3.5, 1.5, 8.5, 9.0, -1.0, 1.5, 10.5, -2.5, 7.5, 4.5, 3.5, 7.5, 8.5, 11.5, 21.5, 19.5, 13.5, 14.5, 11.5, 14.0, 9.5, 12.0, 1.0, 11.0, 1.0, 11.0, 11.0, 10.5, 14.5, 11.5, 12.0, 17.5, 12.0], \"xaxis\": \"x2\", \"yaxis\": \"y2\"}, {\"alignmentgroup\": \"True\", \"bingroup\": \"x\", \"histfunc\": \"sum\", \"hovertemplate\": \"name=Lille<br>temperature=%{x}<br>sum of goal=%{y}<extra></extra>\", \"legendgroup\": \"Lille\", \"marker\": {\"color\": \"#00cc96\"}, \"name\": \"Lille\", \"offsetgroup\": \"Lille\", \"orientation\": \"v\", \"showlegend\": true, \"type\": \"histogram\", \"x\": [19.0, 20.0, 10.5, 11.5, 14.5, 10.5, 3.5, 5.5, 8.0, 2.0, 3.0, 1.0, 0.0, 8.0, 11.0, 8.5, 6.5, 9.0, 11.0, 15.0, 24.0, 13.5, 16.5, 15.0, 3.5, 8.5, 12.5, 2.5, 3.0, 13.0, 6.0, 11.0, 12.5, 8.5, 7.5, 16.5, 9.0, 11.5], \"xaxis\": \"x\", \"y\": [1, 1, 2, 4, 1, 4, 2, 2, 0, 1, 2, 1, 0, 1, 2, 1, 1, 2, 0, 1, 1, 3, 1, 2, 1, 2, 3, 1, 1, 3, 2, 4, 0, 1, 2, 3, 3, 2], \"yaxis\": \"y\"}, {\"alignmentgroup\": \"True\", \"boxpoints\": \"all\", \"customdata\": [[1, \"Lille\", 3, 1.0], [1, \"Lille\", 24, 0.0], [1, \"Lille\", 41, 8.0], [1, \"Lille\", 70, 2.0], [1, \"Lille\", 89, 1.0], [1, \"Lille\", 109, 4.0], [1, \"Lille\", 124, 0.0], [1, \"Lille\", 139, 1.0], [1, \"Lille\", 160, 0.0], [1, \"Lille\", 177, 2.0], [1, \"Lille\", 198, 1.0], [1, \"Lille\", 218, 0.0], [1, \"Lille\", 249, 0.0], [1, \"Lille\", 269, 0.0], [1, \"Lille\", 276, 1.0], [1, \"Lille\", 299, 1.0], [1, \"Lille\", 321, 0.0], [1, \"Lille\", 343, 0.0], [1, \"Lille\", 361, 6.0], [1, \"Lille\", 14, 2.0], [1, \"Lille\", 40, 13.0], [1, \"Lille\", 55, 2.0], [1, \"Lille\", 78, 2.0], [1, \"Lille\", 94, 1.0], [1, \"Lille\", 120, 0.0], [1, \"Lille\", 141, 1.0], [1, \"Lille\", 166, 1.0], [1, \"Lille\", 183, 0.0], [1, \"Lille\", 208, 1.0], [1, \"Lille\", 221, 3.0], [1, \"Lille\", 239, 1.0], [1, \"Lille\", 259, 2.0], [1, \"Lille\", 289, 1.0], [1, \"Lille\", 302, 0.0], [1, \"Lille\", 311, 1.0], [1, \"Lille\", 340, 0.0], [1, \"Lille\", 351, 1.0], [1, \"Lille\", 371, 1.0]], \"fillcolor\": \"rgba(255,255,255,0)\", \"hoveron\": \"points\", \"hovertemplate\": \"name=%{customdata[1]}<br>temperature=%{x}<br>id=%{customdata[0]}<br>match_id=%{customdata[2]}<br>rainfall=%{customdata[3]}<extra></extra>\", \"jitter\": 0, \"legendgroup\": \"Lille\", \"line\": {\"color\": \"rgba(255,255,255,0)\"}, \"marker\": {\"color\": \"#00cc96\", \"symbol\": \"line-ns-open\"}, \"name\": \"Lille\", \"offsetgroup\": \"Lille\", \"showlegend\": false, \"type\": \"box\", \"x\": [19.0, 20.0, 10.5, 11.5, 14.5, 10.5, 3.5, 5.5, 8.0, 2.0, 3.0, 1.0, 0.0, 8.0, 11.0, 8.5, 6.5, 9.0, 11.0, 15.0, 24.0, 13.5, 16.5, 15.0, 3.5, 8.5, 12.5, 2.5, 3.0, 13.0, 6.0, 11.0, 12.5, 8.5, 7.5, 16.5, 9.0, 11.5], \"xaxis\": \"x2\", \"yaxis\": \"y2\"}, {\"alignmentgroup\": \"True\", \"bingroup\": \"x\", \"histfunc\": \"sum\", \"hovertemplate\": \"name=Monaco<br>temperature=%{x}<br>sum of goal=%{y}<extra></extra>\", \"legendgroup\": \"Monaco\", \"marker\": {\"color\": \"#ab63fa\"}, \"name\": \"Monaco\", \"offsetgroup\": \"Monaco\", \"orientation\": \"v\", \"showlegend\": true, \"type\": \"histogram\", \"x\": [25.5, 26.5, 17.5, 16.0, 17.5, 14.5, 14.5, 13.0, 13.5, 6.0, 10.0, 12.0, 6.5, 14.0, 12.5, 14.0, 11.5, 15.0, 16.0, 17.0, 20.0, 12.0, 14.5, 16.0, 3.5, 10.5, 9.0, 2.0, 10.0, 9.5, 11.5, 12.0, 10.0, 1.5, 12.0, 13.0, 17.5, 10.5], \"xaxis\": \"x\", \"y\": [2, 2, 3, 1, 4, 3, 3, 0, 2, 3, 3, 2, 2, 2, 0, 4, 3, 2, 2, 1, 1, 0, 1, 2, 1, 1, 1, 5, 3, 2, 4, 2, 0, 4, 3, 1, 1, 0], \"yaxis\": \"y\"}, {\"alignmentgroup\": \"True\", \"boxpoints\": \"all\", \"customdata\": [[3, \"Monaco\", 4, 1.0], [3, \"Monaco\", 29, 0.0], [3, \"Monaco\", 47, 1.0], [3, \"Monaco\", 66, 1.0], [3, \"Monaco\", 88, 0.0], [3, \"Monaco\", 102, 3.0], [3, \"Monaco\", 117, 0.0], [3, \"Monaco\", 149, 1.0], [3, \"Monaco\", 170, 0.0], [3, \"Monaco\", 185, 0.0], [3, \"Monaco\", 203, 7.0], [3, \"Monaco\", 228, 0.0], [3, \"Monaco\", 244, 1.0], [3, \"Monaco\", 264, 0.0], [3, \"Monaco\", 289, 1.0], [3, \"Monaco\", 301, 7.0], [3, \"Monaco\", 319, 29.0], [3, \"Monaco\", 350, 5.0], [3, \"Monaco\", 363, 0.0], [3, \"Monaco\", 18, 1.0], [3, \"Monaco\", 33, 19.0], [3, \"Monaco\", 56, 7.0], [3, \"Monaco\", 79, 0.0], [3, \"Monaco\", 99, 1.0], [3, \"Monaco\", 124, 0.0], [3, \"Monaco\", 132, 7.0], [3, \"Monaco\", 155, 18.0], [3, \"Monaco\", 172, 0.0], [3, \"Monaco\", 191, 0.0], [3, \"Monaco\", 219, 5.0], [3, \"Monaco\", 235, 1.0], [3, \"Monaco\", 260, 0.0], [3, \"Monaco\", 278, 0.0], [3, \"Monaco\", 291, 0.0], [3, \"Monaco\", 329, 0.0], [3, \"Monaco\", 339, 0.0], [3, \"Monaco\", 359, 2.0], [3, \"Monaco\", 373, 2.0]], \"fillcolor\": \"rgba(255,255,255,0)\", \"hoveron\": \"points\", \"hovertemplate\": \"name=%{customdata[1]}<br>temperature=%{x}<br>id=%{customdata[0]}<br>match_id=%{customdata[2]}<br>rainfall=%{customdata[3]}<extra></extra>\", \"jitter\": 0, \"legendgroup\": \"Monaco\", \"line\": {\"color\": \"rgba(255,255,255,0)\"}, \"marker\": {\"color\": \"#ab63fa\", \"symbol\": \"line-ns-open\"}, \"name\": \"Monaco\", \"offsetgroup\": \"Monaco\", \"showlegend\": false, \"type\": \"box\", \"x\": [25.5, 26.5, 17.5, 16.0, 17.5, 14.5, 14.5, 13.0, 13.5, 6.0, 10.0, 12.0, 6.5, 14.0, 12.5, 14.0, 11.5, 15.0, 16.0, 17.0, 20.0, 12.0, 14.5, 16.0, 3.5, 10.5, 9.0, 2.0, 10.0, 9.5, 11.5, 12.0, 10.0, 1.5, 12.0, 13.0, 17.5, 10.5], \"xaxis\": \"x2\", \"yaxis\": \"y2\"}, {\"alignmentgroup\": \"True\", \"bingroup\": \"x\", \"histfunc\": \"sum\", \"hovertemplate\": \"name=Lorient<br>temperature=%{x}<br>sum of goal=%{y}<extra></extra>\", \"legendgroup\": \"Lorient\", \"marker\": {\"color\": \"#FFA15A\"}, \"name\": \"Lorient\", \"offsetgroup\": \"Lorient\", \"orientation\": \"v\", \"showlegend\": true, \"type\": \"histogram\", \"x\": [17.0, 18.0, 12.5, 15.5, 15.5, 9.5, 12.0, 11.0, 2.0, 11.0, 9.0, 7.0, 11.0, 7.5, 7.5, 8.0, 13.5, 8.5, 12.0, 14.5, 17.0, 11.0, 9.0, 13.5, 10.5, 4.0, 8.5, 12.5, 2.5, 13.5, 10.0, 6.5, 11.0, 6.5, 2.0, 11.0, 15.0, 12.0], \"xaxis\": \"x\", \"y\": [3, 2, 1, 0, 0, 0, 3, 0, 2, 3, 3, 1, 1, 2, 1, 1, 4, 2, 2, 0, 2, 1, 3, 0, 0, 0, 0, 2, 1, 0, 1, 2, 1, 1, 1, 2, 1, 1], \"yaxis\": \"y\"}, {\"alignmentgroup\": \"True\", \"boxpoints\": \"all\", \"customdata\": [[16, \"Lorient\", 5, 1.0], [16, \"Lorient\", 26, 0.0], [16, \"Lorient\", 49, 0.0], [16, \"Lorient\", 72, 18.0], [16, \"Lorient\", 98, 1.0], [16, \"Lorient\", 116, 0.0], [16, \"Lorient\", 138, 13.0], [16, \"Lorient\", 159, 5.0], [16, \"Lorient\", 172, 0.0], [16, \"Lorient\", 200, 9.0], [16, \"Lorient\", 214, 10.0], [16, \"Lorient\", 231, 0.0], [16, \"Lorient\", 259, 2.0], [16, \"Lorient\", 267, 0.0], [16, \"Lorient\", 287, 1.0], [16, \"Lorient\", 308, 0.0], [16, \"Lorient\", 338, 0.0], [16, \"Lorient\", 347, 2.0], [16, \"Lorient\", 369, 7.0], [16, \"Lorient\", 16, 2.0], [16, \"Lorient\", 36, 0.0], [16, \"Lorient\", 58, 18.0], [16, \"Lorient\", 63, 0.0], [16, \"Lorient\", 86, 5.0], [16, \"Lorient\", 109, 4.0], [16, \"Lorient\", 125, 2.0], [16, \"Lorient\", 147, 0.0], [16, \"Lorient\", 164, 0.0], [16, \"Lorient\", 189, 0.0], [16, \"Lorient\", 210, 0.0], [16, \"Lorient\", 222, 12.0], [16, \"Lorient\", 244, 1.0], [16, \"Lorient\", 279, 0.0], [16, \"Lorient\", 298, 1.0], [16, \"Lorient\", 315, 16.0], [16, \"Lorient\", 323, 0.0], [16, \"Lorient\", 353, 0.0], [16, \"Lorient\", 380, 2.0]], \"fillcolor\": \"rgba(255,255,255,0)\", \"hoveron\": \"points\", \"hovertemplate\": \"name=%{customdata[1]}<br>temperature=%{x}<br>id=%{customdata[0]}<br>match_id=%{customdata[2]}<br>rainfall=%{customdata[3]}<extra></extra>\", \"jitter\": 0, \"legendgroup\": \"Lorient\", \"line\": {\"color\": \"rgba(255,255,255,0)\"}, \"marker\": {\"color\": \"#FFA15A\", \"symbol\": \"line-ns-open\"}, \"name\": \"Lorient\", \"offsetgroup\": \"Lorient\", \"showlegend\": false, \"type\": \"box\", \"x\": [17.0, 18.0, 12.5, 15.5, 15.5, 9.5, 12.0, 11.0, 2.0, 11.0, 9.0, 7.0, 11.0, 7.5, 7.5, 8.0, 13.5, 8.5, 12.0, 14.5, 17.0, 11.0, 9.0, 13.5, 10.5, 4.0, 8.5, 12.5, 2.5, 13.5, 10.0, 6.5, 11.0, 6.5, 2.0, 11.0, 15.0, 12.0], \"xaxis\": \"x2\", \"yaxis\": \"y2\"}, {\"alignmentgroup\": \"True\", \"bingroup\": \"x\", \"histfunc\": \"sum\", \"hovertemplate\": \"name=N\\u00eemes<br>temperature=%{x}<br>sum of goal=%{y}<extra></extra>\", \"legendgroup\": \"N\\u00eemes\", \"marker\": {\"color\": \"#19d3f3\"}, \"name\": \"N\\u00eemes\", \"offsetgroup\": \"N\\u00eemes\", \"orientation\": \"v\", \"showlegend\": true, \"type\": \"histogram\", \"x\": [26.5, 27.0, 12.0, 12.5, 16.5, 17.0, 9.0, 13.0, 12.0, 2.5, 13.5, 11.5, 12.5, 11.5, 10.5, 11.0, 11.5, 13.5, 16.5, 14.0, 25.5, 16.0, 14.5, 6.5, 14.5, 12.0, 8.5, 1.5, 6.0, 9.5, 11.0, -2.5, 12.0, 8.5, 6.0, 8.5, 16.5, 10.0], \"xaxis\": \"x\", \"y\": [4, 2, 1, 0, 0, 1, 0, 0, 1, 0, 1, 3, 2, 1, 1, 0, 1, 2, 2, 1, 0, 1, 0, 1, 0, 0, 2, 0, 2, 1, 0, 2, 1, 2, 1, 1, 3, 0], \"yaxis\": \"y\"}, {\"alignmentgroup\": \"True\", \"boxpoints\": \"all\", \"customdata\": [[19, \"N\\u00eemes\", 6, 0.0], [19, \"N\\u00eemes\", 25, 0.0], [19, \"N\\u00eemes\", 46, 1.0], [19, \"N\\u00eemes\", 62, 0.0], [19, \"N\\u00eemes\", 85, 0.0], [19, \"N\\u00eemes\", 97, 33.0], [19, \"N\\u00eemes\", 121, 2.0], [19, \"N\\u00eemes\", 144, 5.0], [19, \"N\\u00eemes\", 165, 1.0], [19, \"N\\u00eemes\", 183, 0.0], [19, \"N\\u00eemes\", 210, 0.0], [19, \"N\\u00eemes\", 235, 1.0], [19, \"N\\u00eemes\", 258, 0.0], [19, \"N\\u00eemes\", 268, 4.0], [19, \"N\\u00eemes\", 284, 0.0], [19, \"N\\u00eemes\", 309, 0.0], [19, \"N\\u00eemes\", 328, 0.0], [19, \"N\\u00eemes\", 346, 1.0], [19, \"N\\u00eemes\", 364, 1.0], [19, \"N\\u00eemes\", 15, 1.0], [19, \"N\\u00eemes\", 31, 0.0], [19, \"N\\u00eemes\", 54, 2.0], [19, \"N\\u00eemes\", 76, 7.0], [19, \"N\\u00eemes\", 107, 0.0], [19, \"N\\u00eemes\", 117, 0.0], [19, \"N\\u00eemes\", 138, 13.0], [19, \"N\\u00eemes\", 158, 15.0], [19, \"N\\u00eemes\", 175, 6.0], [19, \"N\\u00eemes\", 192, 0.0], [19, \"N\\u00eemes\", 216, 10.0], [19, \"N\\u00eemes\", 227, 12.0], [19, \"N\\u00eemes\", 248, 0.0], [19, \"N\\u00eemes\", 274, 0.0], [19, \"N\\u00eemes\", 299, 1.0], [19, \"N\\u00eemes\", 318, 1.0], [19, \"N\\u00eemes\", 335, 0.0], [19, \"N\\u00eemes\", 356, 1.0], [19, \"N\\u00eemes\", 376, 2.0]], \"fillcolor\": \"rgba(255,255,255,0)\", \"hoveron\": \"points\", \"hovertemplate\": \"name=%{customdata[1]}<br>temperature=%{x}<br>id=%{customdata[0]}<br>match_id=%{customdata[2]}<br>rainfall=%{customdata[3]}<extra></extra>\", \"jitter\": 0, \"legendgroup\": \"N\\u00eemes\", \"line\": {\"color\": \"rgba(255,255,255,0)\"}, \"marker\": {\"color\": \"#19d3f3\", \"symbol\": \"line-ns-open\"}, \"name\": \"N\\u00eemes\", \"offsetgroup\": \"N\\u00eemes\", \"showlegend\": false, \"type\": \"box\", \"x\": [26.5, 27.0, 12.0, 12.5, 16.5, 17.0, 9.0, 13.0, 12.0, 2.5, 13.5, 11.5, 12.5, 11.5, 10.5, 11.0, 11.5, 13.5, 16.5, 14.0, 25.5, 16.0, 14.5, 6.5, 14.5, 12.0, 8.5, 1.5, 6.0, 9.5, 11.0, -2.5, 12.0, 8.5, 6.0, 8.5, 16.5, 10.0], \"xaxis\": \"x2\", \"yaxis\": \"y2\"}, {\"alignmentgroup\": \"True\", \"bingroup\": \"x\", \"histfunc\": \"sum\", \"hovertemplate\": \"name=Nice<br>temperature=%{x}<br>sum of goal=%{y}<extra></extra>\", \"legendgroup\": \"Nice\", \"marker\": {\"color\": \"#FF6692\"}, \"name\": \"Nice\", \"offsetgroup\": \"Nice\", \"orientation\": \"v\", \"showlegend\": true, \"type\": \"histogram\", \"x\": [25.5, 23.0, 15.5, 16.5, 16.0, 14.0, 11.0, 12.5, 12.5, 8.5, 11.5, 12.5, 11.5, 12.0, 9.0, 10.5, 16.0, 16.5, 16.5, 16.5, 25.0, 11.5, 6.5, 17.5, 11.5, 2.5, 13.0, 4.0, -1.5, 4.0, 12.0, -1.5, 6.5, 7.5, 7.5, 7.5, 9.0, 14.5], \"xaxis\": \"x\", \"y\": [2, 0, 2, 1, 1, 1, 0, 1, 2, 0, 0, 3, 1, 2, 3, 0, 3, 3, 0, 2, 1, 0, 3, 3, 2, 0, 2, 0, 1, 1, 1, 1, 2, 1, 2, 0, 0, 3], \"yaxis\": \"y\"}, {\"alignmentgroup\": \"True\", \"boxpoints\": \"all\", \"customdata\": [[9, \"Nice\", 7, 1.0], [9, \"Nice\", 34, 16.0], [9, \"Nice\", 53, 22.0], [9, \"Nice\", 78, 2.0], [9, \"Nice\", 99, 1.0], [9, \"Nice\", 119, 0.0], [9, \"Nice\", 134, 0.0], [9, \"Nice\", 153, 4.0], [9, \"Nice\", 164, 0.0], [9, \"Nice\", 196, 1.0], [9, \"Nice\", 213, 5.0], [9, \"Nice\", 237, 10.0], [9, \"Nice\", 256, 0.0], [9, \"Nice\", 274, 0.0], [9, \"Nice\", 293, 0.0], [9, \"Nice\", 316, 30.0], [9, \"Nice\", 334, 0.0], [9, \"Nice\", 357, 0.0], [9, \"Nice\", 368, 0.0], [9, \"Nice\", 13, 1.0], [9, \"Nice\", 22, 3.0], [9, \"Nice\", 44, 1.0], [9, \"Nice\", 69, 0.0], [9, \"Nice\", 84, 5.0], [9, \"Nice\", 110, 1.0], [9, \"Nice\", 129, 0.0], [9, \"Nice\", 144, 5.0], [9, \"Nice\", 174, 8.0], [9, \"Nice\", 188, 0.0], [9, \"Nice\", 202, 1.0], [9, \"Nice\", 228, 0.0], [9, \"Nice\", 241, 0.0], [9, \"Nice\", 261, 0.0], [9, \"Nice\", 287, 1.0], [9, \"Nice\", 306, 0.0], [9, \"Nice\", 326, 2.0], [9, \"Nice\", 343, 0.0], [9, \"Nice\", 374, 1.0]], \"fillcolor\": \"rgba(255,255,255,0)\", \"hoveron\": \"points\", \"hovertemplate\": \"name=%{customdata[1]}<br>temperature=%{x}<br>id=%{customdata[0]}<br>match_id=%{customdata[2]}<br>rainfall=%{customdata[3]}<extra></extra>\", \"jitter\": 0, \"legendgroup\": \"Nice\", \"line\": {\"color\": \"rgba(255,255,255,0)\"}, \"marker\": {\"color\": \"#FF6692\", \"symbol\": \"line-ns-open\"}, \"name\": \"Nice\", \"offsetgroup\": \"Nice\", \"showlegend\": false, \"type\": \"box\", \"x\": [25.5, 23.0, 15.5, 16.5, 16.0, 14.0, 11.0, 12.5, 12.5, 8.5, 11.5, 12.5, 11.5, 12.0, 9.0, 10.5, 16.0, 16.5, 16.5, 16.5, 25.0, 11.5, 6.5, 17.5, 11.5, 2.5, 13.0, 4.0, -1.5, 4.0, 12.0, -1.5, 6.5, 7.5, 7.5, 7.5, 9.0, 14.5], \"xaxis\": \"x2\", \"yaxis\": \"y2\"}, {\"alignmentgroup\": \"True\", \"bingroup\": \"x\", \"histfunc\": \"sum\", \"hovertemplate\": \"name=Montpellier<br>temperature=%{x}<br>sum of goal=%{y}<extra></extra>\", \"legendgroup\": \"Montpellier\", \"marker\": {\"color\": \"#B6E880\"}, \"name\": \"Montpellier\", \"offsetgroup\": \"Montpellier\", \"orientation\": \"v\", \"showlegend\": true, \"type\": \"histogram\", \"x\": [23.5, 25.0, 23.0, 16.0, 15.5, 9.0, 8.0, 13.0, 12.5, 4.5, 10.0, 11.0, 11.0, 11.5, 11.0, 8.0, 10.0, 14.0, 16.5, 14.0, 8.0, 16.0, 15.5, 17.0, 9.5, 8.0, 10.0, 4.5, 6.0, 10.0, -3.5, 7.0, 10.5, 8.0, 6.5, 16.0, 18.0, 12.0], \"xaxis\": \"x\", \"y\": [2, 3, 4, 0, 0, 4, 1, 0, 2, 1, 2, 1, 4, 2, 1, 3, 3, 1, 0, 1, 2, 1, 1, 2, 1, 3, 2, 1, 0, 1, 2, 0, 1, 1, 1, 1, 3, 2], \"yaxis\": \"y\"}, {\"alignmentgroup\": \"True\", \"boxpoints\": \"all\", \"customdata\": [[8, \"Montpellier\", 8, 0.0], [8, \"Montpellier\", 22, 3.0], [8, \"Montpellier\", 35, 16.0], [8, \"Montpellier\", 54, 2.0], [8, \"Montpellier\", 74, 0.0], [8, \"Montpellier\", 105, 0.0], [8, \"Montpellier\", 123, 0.0], [8, \"Montpellier\", 142, 9.0], [8, \"Montpellier\", 166, 1.0], [8, \"Montpellier\", 187, 0.0], [8, \"Montpellier\", 191, 0.0], [8, \"Montpellier\", 212, 5.0], [8, \"Montpellier\", 238, 1.0], [8, \"Montpellier\", 254, 0.0], [8, \"Montpellier\", 279, 0.0], [8, \"Montpellier\", 295, 0.0], [8, \"Montpellier\", 313, 16.0], [8, \"Montpellier\", 349, 1.0], [8, \"Montpellier\", 367, 3.0], [8, \"Montpellier\", 12, 4.0], [8, \"Montpellier\", 45, 47.0], [8, \"Montpellier\", 66, 1.0], [8, \"Montpellier\", 83, 0.0], [8, \"Montpellier\", 92, 4.0], [8, \"Montpellier\", 116, 0.0], [8, \"Montpellier\", 133, 3.0], [8, \"Montpellier\", 154, 5.0], [8, \"Montpellier\", 179, 0.0], [8, \"Montpellier\", 201, 12.0], [8, \"Montpellier\", 223, 27.0], [8, \"Montpellier\", 243, 3.0], [8, \"Montpellier\", 266, 0.0], [8, \"Montpellier\", 284, 0.0], [8, \"Montpellier\", 304, 0.0], [8, \"Montpellier\", 321, 0.0], [8, \"Montpellier\", 334, 0.0], [8, \"Montpellier\", 355, 0.0], [8, \"Montpellier\", 377, 1.0]], \"fillcolor\": \"rgba(255,255,255,0)\", \"hoveron\": \"points\", \"hovertemplate\": \"name=%{customdata[1]}<br>temperature=%{x}<br>id=%{customdata[0]}<br>match_id=%{customdata[2]}<br>rainfall=%{customdata[3]}<extra></extra>\", \"jitter\": 0, \"legendgroup\": \"Montpellier\", \"line\": {\"color\": \"rgba(255,255,255,0)\"}, \"marker\": {\"color\": \"#B6E880\", \"symbol\": \"line-ns-open\"}, \"name\": \"Montpellier\", \"offsetgroup\": \"Montpellier\", \"showlegend\": false, \"type\": \"box\", \"x\": [23.5, 25.0, 23.0, 16.0, 15.5, 9.0, 8.0, 13.0, 12.5, 4.5, 10.0, 11.0, 11.0, 11.5, 11.0, 8.0, 10.0, 14.0, 16.5, 14.0, 8.0, 16.0, 15.5, 17.0, 9.5, 8.0, 10.0, 4.5, 6.0, 10.0, -3.5, 7.0, 10.5, 8.0, 6.5, 16.0, 18.0, 12.0], \"xaxis\": \"x2\", \"yaxis\": \"y2\"}, {\"alignmentgroup\": \"True\", \"bingroup\": \"x\", \"histfunc\": \"sum\", \"hovertemplate\": \"name=Paris-SG<br>temperature=%{x}<br>sum of goal=%{y}<extra></extra>\", \"legendgroup\": \"Paris-SG\", \"marker\": {\"color\": \"#FF97FF\"}, \"name\": \"Paris-SG\", \"offsetgroup\": \"Paris-SG\", \"orientation\": \"v\", \"showlegend\": true, \"type\": \"histogram\", \"x\": [27.0, 26.0, 13.5, 14.5, 13.5, 9.5, 6.0, 8.5, 12.5, 2.0, 6.0, 11.0, -1.5, 12.0, 7.5, 8.5, 8.5, 11.0, 13.0, 19.0, 23.0, 13.0, 12.5, 14.0, 14.5, 8.0, 8.0, -3.0, 3.0, 9.0, 11.5, 7.5, 14.0, 4.0, 13.0, 10.0, 14.5, 10.5], \"xaxis\": \"x\", \"y\": [1, 0, 6, 4, 3, 2, 0, 2, 4, 3, 4, 3, 2, 0, 1, 0, 3, 2, 4, 0, 3, 2, 4, 3, 2, 3, 0, 1, 1, 2, 2, 4, 1, 4, 4, 3, 1, 2], \"yaxis\": \"y\"}, {\"alignmentgroup\": \"True\", \"boxpoints\": \"all\", \"customdata\": [[2, \"Paris-SG\", 9, 1.0], [2, \"Paris-SG\", 30, 0.0], [2, \"Paris-SG\", 51, 31.0], [2, \"Paris-SG\", 73, 1.0], [2, \"Paris-SG\", 93, 0.0], [2, \"Paris-SG\", 113, 0.0], [2, \"Paris-SG\", 140, 1.0], [2, \"Paris-SG\", 147, 0.0], [2, \"Paris-SG\", 168, 18.0], [2, \"Paris-SG\", 182, 0.0], [2, \"Paris-SG\", 201, 12.0], [2, \"Paris-SG\", 227, 12.0], [2, \"Paris-SG\", 241, 0.0], [2, \"Paris-SG\", 260, 0.0], [2, \"Paris-SG\", 290, 2.0], [2, \"Paris-SG\", 302, 0.0], [2, \"Paris-SG\", 324, 0.0], [2, \"Paris-SG\", 342, 0.0], [2, \"Paris-SG\", 362, 3.0], [2, \"Paris-SG\", 20, 1.0], [2, \"Paris-SG\", 34, 16.0], [2, \"Paris-SG\", 50, 21.0], [2, \"Paris-SG\", 62, 0.0], [2, \"Paris-SG\", 82, 0.0], [2, \"Paris-SG\", 102, 3.0], [2, \"Paris-SG\", 123, 0.0], [2, \"Paris-SG\", 160, 0.0], [2, \"Paris-SG\", 178, 0.0], [2, \"Paris-SG\", 193, 4.0], [2, \"Paris-SG\", 214, 10.0], [2, \"Paris-SG\", 240, 4.0], [2, \"Paris-SG\", 263, 3.0], [2, \"Paris-SG\", 277, 0.0], [2, \"Paris-SG\", 300, 0.0], [2, \"Paris-SG\", 312, 3.0], [2, \"Paris-SG\", 333, 0.0], [2, \"Paris-SG\", 360, 0.0], [2, \"Paris-SG\", 372, 11.0]], \"fillcolor\": \"rgba(255,255,255,0)\", \"hoveron\": \"points\", \"hovertemplate\": \"name=%{customdata[1]}<br>temperature=%{x}<br>id=%{customdata[0]}<br>match_id=%{customdata[2]}<br>rainfall=%{customdata[3]}<extra></extra>\", \"jitter\": 0, \"legendgroup\": \"Paris-SG\", \"line\": {\"color\": \"rgba(255,255,255,0)\"}, \"marker\": {\"color\": \"#FF97FF\", \"symbol\": \"line-ns-open\"}, \"name\": \"Paris-SG\", \"offsetgroup\": \"Paris-SG\", \"showlegend\": false, \"type\": \"box\", \"x\": [27.0, 26.0, 13.5, 14.5, 13.5, 9.5, 6.0, 8.5, 12.5, 2.0, 6.0, 11.0, -1.5, 12.0, 7.5, 8.5, 8.5, 11.0, 13.0, 19.0, 23.0, 13.0, 12.5, 14.0, 14.5, 8.0, 8.0, -3.0, 3.0, 9.0, 11.5, 7.5, 14.0, 4.0, 13.0, 10.0, 14.5, 10.5], \"xaxis\": \"x2\", \"yaxis\": \"y2\"}, {\"alignmentgroup\": \"True\", \"bingroup\": \"x\", \"histfunc\": \"sum\", \"hovertemplate\": \"name=Marseille<br>temperature=%{x}<br>sum of goal=%{y}<extra></extra>\", \"legendgroup\": \"Marseille\", \"marker\": {\"color\": \"#FECB52\"}, \"name\": \"Marseille\", \"offsetgroup\": \"Marseille\", \"orientation\": \"v\", \"showlegend\": true, \"type\": \"histogram\", \"x\": [26.5, 24.0, 14.5, 15.0, 12.5, 11.5, 15.5, 10.5, 14.0, 4.5, 6.0, 12.0, 11.5, 13.0, 11.5, 14.5, 11.0, 16.0, 15.5, 14.5, 26.0, 12.5, 15.5, 9.0, 9.0, 9.5, 12.5, -1.0, 10.0, 9.0, 8.0, 14.0, 11.0, 9.0, 10.0, 9.0, 17.0, 10.5], \"xaxis\": \"x\", \"y\": [0, 1, 1, 3, 0, 3, 3, 2, 1, 3, 1, 1, 0, 1, 3, 2, 3, 1, 3, 3, 1, 1, 1, 1, 2, 1, 1, 0, 1, 2, 0, 1, 0, 0, 3, 3, 0, 1], \"yaxis\": \"y\"}, {\"alignmentgroup\": \"True\", \"boxpoints\": \"all\", \"customdata\": [[5, \"Marseille\", 10, 0.0], [5, \"Marseille\", 40, 13.0], [5, \"Marseille\", 43, 0.0], [5, \"Marseille\", 64, 0.0], [5, \"Marseille\", 90, 6.0], [5, \"Marseille\", 110, 1.0], [5, \"Marseille\", 112, 4.0], [5, \"Marseille\", 132, 7.0], [5, \"Marseille\", 152, 1.0], [5, \"Marseille\", 179, 0.0], [5, \"Marseille\", 192, 0.0], [5, \"Marseille\", 220, 0.0], [5, \"Marseille\", 240, 4.0], [5, \"Marseille\", 270, 4.0], [5, \"Marseille\", 283, 0.0], [5, \"Marseille\", 310, 1.0], [5, \"Marseille\", 323, 0.0], [5, \"Marseille\", 341, 4.0], [5, \"Marseille\", 365, 1.0], [5, \"Marseille\", 19, 1.0], [5, \"Marseille\", 30, 0.0], [5, \"Marseille\", 60, 5.0], [5, \"Marseille\", 72, 18.0], [5, \"Marseille\", 91, 0.0], [5, \"Marseille\", 121, 2.0], [5, \"Marseille\", 148, 1.0], [5, \"Marseille\", 169, 6.0], [5, \"Marseille\", 184, 0.0], [5, \"Marseille\", 203, 7.0], [5, \"Marseille\", 229, 21.0], [5, \"Marseille\", 250, 0.0], [5, \"Marseille\", 253, 0.0], [5, \"Marseille\", 276, 1.0], [5, \"Marseille\", 293, 0.0], [5, \"Marseille\", 313, 16.0], [5, \"Marseille\", 331, 0.0], [5, \"Marseille\", 354, 1.0], [5, \"Marseille\", 375, 1.0]], \"fillcolor\": \"rgba(255,255,255,0)\", \"hoveron\": \"points\", \"hovertemplate\": \"name=%{customdata[1]}<br>temperature=%{x}<br>id=%{customdata[0]}<br>match_id=%{customdata[2]}<br>rainfall=%{customdata[3]}<extra></extra>\", \"jitter\": 0, \"legendgroup\": \"Marseille\", \"line\": {\"color\": \"rgba(255,255,255,0)\"}, \"marker\": {\"color\": \"#FECB52\", \"symbol\": \"line-ns-open\"}, \"name\": \"Marseille\", \"offsetgroup\": \"Marseille\", \"showlegend\": false, \"type\": \"box\", \"x\": [26.5, 24.0, 14.5, 15.0, 12.5, 11.5, 15.5, 10.5, 14.0, 4.5, 6.0, 12.0, 11.5, 13.0, 11.5, 14.5, 11.0, 16.0, 15.5, 14.5, 26.0, 12.5, 15.5, 9.0, 9.0, 9.5, 12.5, -1.0, 10.0, 9.0, 8.0, 14.0, 11.0, 9.0, 10.0, 9.0, 17.0, 10.5], \"xaxis\": \"x2\", \"yaxis\": \"y2\"}, {\"alignmentgroup\": \"True\", \"bingroup\": \"x\", \"histfunc\": \"sum\", \"hovertemplate\": \"name=Lyon<br>temperature=%{x}<br>sum of goal=%{y}<extra></extra>\", \"legendgroup\": \"Lyon\", \"marker\": {\"color\": \"#636efa\"}, \"name\": \"Lyon\", \"offsetgroup\": \"Lyon\", \"orientation\": \"v\", \"showlegend\": true, \"type\": \"histogram\", \"x\": [21.5, 25.5, 12.5, 14.5, 13.5, 5.0, 9.5, 11.0, 0.0, 3.0, 11.5, 12.5, -3.5, 12.0, 4.0, 13.0, 16.5, 15.0, 14.5, 23.5, 23.5, 12.5, 10.0, 14.5, 8.0, 2.5, 6.0, 12.5, 1.0, 1.5, 10.5, 10.0, 13.0, 6.5, 7.5, 8.5, 15.0, 16.5], \"xaxis\": \"x\", \"y\": [4, 0, 1, 4, 2, 3, 2, 3, 3, 0, 2, 3, 1, 1, 2, 3, 2, 4, 2, 1, 0, 1, 3, 1, 1, 3, 1, 4, 2, 5, 1, 3, 1, 1, 1, 2, 3, 5], \"yaxis\": \"y\"}, {\"alignmentgroup\": \"True\", \"boxpoints\": \"all\", \"customdata\": [[4, \"Lyon\", 11, 20.0], [4, \"Lyon\", 31, 0.0], [4, \"Lyon\", 60, 5.0], [4, \"Lyon\", 79, 0.0], [4, \"Lyon\", 100, 4.0], [4, \"Lyon\", 114, 0.0], [4, \"Lyon\", 146, 24.0], [4, \"Lyon\", 167, 0.0], [4, \"Lyon\", 176, 0.0], [4, \"Lyon\", 199, 5.0], [4, \"Lyon\", 211, 11.0], [4, \"Lyon\", 232, 1.0], [4, \"Lyon\", 243, 3.0], [4, \"Lyon\", 271, 0.0], [4, \"Lyon\", 300, 0.0], [4, \"Lyon\", 320, 14.0], [4, \"Lyon\", 340, 0.0], [4, \"Lyon\", 353, 0.0], [4, \"Lyon\", 374, 1.0], [4, \"Lyon\", 8, 0.0], [4, \"Lyon\", 21, 0.0], [4, \"Lyon\", 49, 0.0], [4, \"Lyon\", 65, 2.0], [4, \"Lyon\", 89, 1.0], [4, \"Lyon\", 108, 0.0], [4, \"Lyon\", 130, 0.0], [4, \"Lyon\", 140, 1.0], [4, \"Lyon\", 153, 4.0], [4, \"Lyon\", 181, 0.0], [4, \"Lyon\", 209, 1.0], [4, \"Lyon\", 226, 1.0], [4, \"Lyon\", 251, 3.0], [4, \"Lyon\", 270, 4.0], [4, \"Lyon\", 281, 3.0], [4, \"Lyon\", 303, 0.0], [4, \"Lyon\", 330, 0.0], [4, \"Lyon\", 350, 5.0], [4, \"Lyon\", 364, 1.0]], \"fillcolor\": \"rgba(255,255,255,0)\", \"hoveron\": \"points\", \"hovertemplate\": \"name=%{customdata[1]}<br>temperature=%{x}<br>id=%{customdata[0]}<br>match_id=%{customdata[2]}<br>rainfall=%{customdata[3]}<extra></extra>\", \"jitter\": 0, \"legendgroup\": \"Lyon\", \"line\": {\"color\": \"rgba(255,255,255,0)\"}, \"marker\": {\"color\": \"#636efa\", \"symbol\": \"line-ns-open\"}, \"name\": \"Lyon\", \"offsetgroup\": \"Lyon\", \"showlegend\": false, \"type\": \"box\", \"x\": [21.5, 25.5, 12.5, 14.5, 13.5, 5.0, 9.5, 11.0, 0.0, 3.0, 11.5, 12.5, -3.5, 12.0, 4.0, 13.0, 16.5, 15.0, 14.5, 23.5, 23.5, 12.5, 10.0, 14.5, 8.0, 2.5, 6.0, 12.5, 1.0, 1.5, 10.5, 10.0, 13.0, 6.5, 7.5, 8.5, 15.0, 16.5], \"xaxis\": \"x2\", \"yaxis\": \"y2\"}, {\"alignmentgroup\": \"True\", \"bingroup\": \"x\", \"histfunc\": \"sum\", \"hovertemplate\": \"name=Rennes<br>temperature=%{x}<br>sum of goal=%{y}<extra></extra>\", \"legendgroup\": \"Rennes\", \"marker\": {\"color\": \"#EF553B\"}, \"name\": \"Rennes\", \"offsetgroup\": \"Rennes\", \"orientation\": \"v\", \"showlegend\": true, \"type\": \"histogram\", \"x\": [14.0, 20.0, 11.5, 13.0, 12.5, 7.5, 4.0, 9.5, 13.0, 1.0, 3.0, 10.0, 1.0, 6.5, 6.0, 5.5, 12.0, 14.5, 10.0, 19.0, 27.0, 7.5, 10.0, 13.5, 5.5, 11.0, 11.0, 0.5, 7.0, 12.0, 7.5, 11.5, 12.0, 1.5, 6.5, 6.5, 12.5, 16.0], \"xaxis\": \"x\", \"y\": [2, 2, 2, 1, 2, 0, 0, 2, 1, 2, 0, 1, 0, 1, 1, 1, 5, 1, 2, 1, 4, 3, 1, 0, 1, 1, 3, 0, 2, 0, 0, 1, 0, 3, 2, 3, 0, 1], \"yaxis\": \"y\"}, {\"alignmentgroup\": \"True\", \"boxpoints\": \"all\", \"customdata\": [[6, \"Rennes\", 12, 4.0], [6, \"Rennes\", 33, 19.0], [6, \"Rennes\", 59, 4.0], [6, \"Rennes\", 71, 2.0], [6, \"Rennes\", 81, 2.0], [6, \"Rennes\", 101, 0.0], [6, \"Rennes\", 122, 6.0], [6, \"Rennes\", 148, 1.0], [6, \"Rennes\", 161, 21.0], [6, \"Rennes\", 181, 0.0], [6, \"Rennes\", 208, 1.0], [6, \"Rennes\", 222, 12.0], [6, \"Rennes\", 245, 1.0], [6, \"Rennes\", 261, 0.0], [6, \"Rennes\", 286, 1.0], [6, \"Rennes\", 314, 3.0], [6, \"Rennes\", 336, 0.0], [6, \"Rennes\", 360, 0.0], [6, \"Rennes\", 376, 2.0], [6, \"Rennes\", 3, 1.0], [6, \"Rennes\", 25, 0.0], [6, \"Rennes\", 42, 3.0], [6, \"Rennes\", 61, 2.0], [6, \"Rennes\", 93, 0.0], [6, \"Rennes\", 111, 0.0], [6, \"Rennes\", 134, 0.0], [6, \"Rennes\", 159, 5.0], [6, \"Rennes\", 171, 0.0], [6, \"Rennes\", 194, 0.0], [6, \"Rennes\", 220, 0.0], [6, \"Rennes\", 233, 16.0], [6, \"Rennes\", 254, 0.0], [6, \"Rennes\", 271, 0.0], [6, \"Rennes\", 292, 0.0], [6, \"Rennes\", 305, 0.0], [6, \"Rennes\", 322, 1.0], [6, \"Rennes\", 344, 1.0], [6, \"Rennes\", 363, 0.0]], \"fillcolor\": \"rgba(255,255,255,0)\", \"hoveron\": \"points\", \"hovertemplate\": \"name=%{customdata[1]}<br>temperature=%{x}<br>id=%{customdata[0]}<br>match_id=%{customdata[2]}<br>rainfall=%{customdata[3]}<extra></extra>\", \"jitter\": 0, \"legendgroup\": \"Rennes\", \"line\": {\"color\": \"rgba(255,255,255,0)\"}, \"marker\": {\"color\": \"#EF553B\", \"symbol\": \"line-ns-open\"}, \"name\": \"Rennes\", \"offsetgroup\": \"Rennes\", \"showlegend\": false, \"type\": \"box\", \"x\": [14.0, 20.0, 11.5, 13.0, 12.5, 7.5, 4.0, 9.5, 13.0, 1.0, 3.0, 10.0, 1.0, 6.5, 6.0, 5.5, 12.0, 14.5, 10.0, 19.0, 27.0, 7.5, 10.0, 13.5, 5.5, 11.0, 11.0, 0.5, 7.0, 12.0, 7.5, 11.5, 12.0, 1.5, 6.5, 6.5, 12.5, 16.0], \"xaxis\": \"x2\", \"yaxis\": \"y2\"}, {\"alignmentgroup\": \"True\", \"bingroup\": \"x\", \"histfunc\": \"sum\", \"hovertemplate\": \"name=Strasbourg<br>temperature=%{x}<br>sum of goal=%{y}<extra></extra>\", \"legendgroup\": \"Strasbourg\", \"marker\": {\"color\": \"#00cc96\"}, \"name\": \"Strasbourg\", \"offsetgroup\": \"Strasbourg\", \"orientation\": \"v\", \"showlegend\": true, \"type\": \"histogram\", \"x\": [16.5, 19.5, 13.5, 10.0, 9.0, 5.5, 7.0, 7.5, 1.5, 1.0, 2.5, 10.0, 12.0, 10.0, 3.5, 13.0, 12.0, 18.0, 12.0, 17.0, 19.5, 17.5, 11.0, 14.5, 9.0, 6.5, 9.0, 12.5, 2.5, 1.5, 12.5, -1.5, 8.0, 6.0, 11.5, 11.5, 16.0, 16.5], \"xaxis\": \"x\", \"y\": [0, 1, 0, 2, 0, 1, 2, 0, 5, 1, 0, 2, 0, 1, 1, 1, 1, 2, 1, 1, 0, 2, 3, 1, 3, 4, 2, 0, 1, 1, 0, 2, 1, 0, 3, 1, 1, 2], \"yaxis\": \"y\"}, {\"alignmentgroup\": \"True\", \"boxpoints\": \"all\", \"customdata\": [[15, \"Strasbourg\", 13, 1.0], [15, \"Strasbourg\", 38, 0.0], [15, \"Strasbourg\", 55, 2.0], [15, \"Strasbourg\", 65, 2.0], [15, \"Strasbourg\", 91, 0.0], [15, \"Strasbourg\", 111, 0.0], [15, \"Strasbourg\", 136, 3.0], [15, \"Strasbourg\", 157, 14.0], [15, \"Strasbourg\", 175, 6.0], [15, \"Strasbourg\", 197, 8.0], [15, \"Strasbourg\", 217, 3.0], [15, \"Strasbourg\", 225, 11.0], [15, \"Strasbourg\", 257, 0.0], [15, \"Strasbourg\", 278, 0.0], [15, \"Strasbourg\", 294, 1.0], [15, \"Strasbourg\", 312, 3.0], [15, \"Strasbourg\", 337, 0.0], [15, \"Strasbourg\", 355, 0.0], [15, \"Strasbourg\", 380, 2.0], [15, \"Strasbourg\", 5, 1.0], [15, \"Strasbourg\", 23, 0.0], [15, \"Strasbourg\", 47, 1.0], [15, \"Strasbourg\", 77, 4.0], [15, \"Strasbourg\", 87, 2.0], [15, \"Strasbourg\", 105, 0.0], [15, \"Strasbourg\", 127, 4.0], [15, \"Strasbourg\", 143, 2.0], [15, \"Strasbourg\", 168, 18.0], [15, \"Strasbourg\", 186, 1.0], [15, \"Strasbourg\", 207, 1.0], [15, \"Strasbourg\", 232, 1.0], [15, \"Strasbourg\", 246, 0.0], [15, \"Strasbourg\", 269, 0.0], [15, \"Strasbourg\", 286, 1.0], [15, \"Strasbourg\", 307, 0.0], [15, \"Strasbourg\", 328, 0.0], [15, \"Strasbourg\", 341, 4.0], [15, \"Strasbourg\", 368, 0.0]], \"fillcolor\": \"rgba(255,255,255,0)\", \"hoveron\": \"points\", \"hovertemplate\": \"name=%{customdata[1]}<br>temperature=%{x}<br>id=%{customdata[0]}<br>match_id=%{customdata[2]}<br>rainfall=%{customdata[3]}<extra></extra>\", \"jitter\": 0, \"legendgroup\": \"Strasbourg\", \"line\": {\"color\": \"rgba(255,255,255,0)\"}, \"marker\": {\"color\": \"#00cc96\", \"symbol\": \"line-ns-open\"}, \"name\": \"Strasbourg\", \"offsetgroup\": \"Strasbourg\", \"showlegend\": false, \"type\": \"box\", \"x\": [16.5, 19.5, 13.5, 10.0, 9.0, 5.5, 7.0, 7.5, 1.5, 1.0, 2.5, 10.0, 12.0, 10.0, 3.5, 13.0, 12.0, 18.0, 12.0, 17.0, 19.5, 17.5, 11.0, 14.5, 9.0, 6.5, 9.0, 12.5, 2.5, 1.5, 12.5, -1.5, 8.0, 6.0, 11.5, 11.5, 16.0, 16.5], \"xaxis\": \"x2\", \"yaxis\": \"y2\"}, {\"alignmentgroup\": \"True\", \"bingroup\": \"x\", \"histfunc\": \"sum\", \"hovertemplate\": \"name=Reims<br>temperature=%{x}<br>sum of goal=%{y}<extra></extra>\", \"legendgroup\": \"Reims\", \"marker\": {\"color\": \"#ab63fa\"}, \"name\": \"Reims\", \"offsetgroup\": \"Reims\", \"orientation\": \"v\", \"showlegend\": true, \"type\": \"histogram\", \"x\": [15.0, 13.0, 9.0, 14.5, 6.5, 2.5, 7.0, 1.0, 0.5, 1.0, 10.0, -2.5, 7.0, 6.5, 6.5, 8.0, 9.0, 17.5, 10.5, 25.5, 21.0, 19.0, 11.5, 15.5, 13.0, 5.0, 11.5, 14.0, 13.0, 3.0, 2.5, 7.0, 9.0, 11.5, 3.5, 10.5, 13.5, 13.0], \"xaxis\": \"x\", \"y\": [0, 0, 1, 2, 0, 0, 3, 0, 3, 1, 0, 1, 0, 1, 2, 0, 1, 0, 1, 2, 0, 1, 2, 4, 4, 0, 1, 1, 3, 1, 1, 0, 1, 2, 1, 0, 2, 0], \"yaxis\": \"y\"}, {\"alignmentgroup\": \"True\", \"boxpoints\": \"all\", \"customdata\": [[14, \"Reims\", 14, 2.0], [14, \"Reims\", 50, 21.0], [14, \"Reims\", 63, 0.0], [14, \"Reims\", 87, 2.0], [14, \"Reims\", 107, 0.0], [14, \"Reims\", 129, 0.0], [14, \"Reims\", 145, 0.0], [14, \"Reims\", 180, 1.0], [14, \"Reims\", 190, 0.0], [14, \"Reims\", 206, 4.0], [14, \"Reims\", 224, 14.0], [14, \"Reims\", 242, 0.0], [14, \"Reims\", 266, 0.0], [14, \"Reims\", 281, 3.0], [14, \"Reims\", 305, 0.0], [14, \"Reims\", 327, 1.0], [14, \"Reims\", 331, 0.0], [14, \"Reims\", 359, 2.0], [14, \"Reims\", 379, 1.0], [14, \"Reims\", 4, 1.0], [14, \"Reims\", 27, 0.0], [14, \"Reims\", 37, 1.0], [14, \"Reims\", 59, 4.0], [14, \"Reims\", 74, 0.0], [14, \"Reims\", 95, 0.0], [14, \"Reims\", 114, 0.0], [14, \"Reims\", 135, 10.0], [14, \"Reims\", 152, 1.0], [14, \"Reims\", 163, 1.0], [14, \"Reims\", 198, 1.0], [14, \"Reims\", 217, 3.0], [14, \"Reims\", 231, 0.0], [14, \"Reims\", 252, 0.0], [14, \"Reims\", 280, 3.0], [14, \"Reims\", 297, 0.0], [14, \"Reims\", 316, 30.0], [14, \"Reims\", 346, 1.0], [14, \"Reims\", 362, 3.0]], \"fillcolor\": \"rgba(255,255,255,0)\", \"hoveron\": \"points\", \"hovertemplate\": \"name=%{customdata[1]}<br>temperature=%{x}<br>id=%{customdata[0]}<br>match_id=%{customdata[2]}<br>rainfall=%{customdata[3]}<extra></extra>\", \"jitter\": 0, \"legendgroup\": \"Reims\", \"line\": {\"color\": \"rgba(255,255,255,0)\"}, \"marker\": {\"color\": \"#ab63fa\", \"symbol\": \"line-ns-open\"}, \"name\": \"Reims\", \"offsetgroup\": \"Reims\", \"showlegend\": false, \"type\": \"box\", \"x\": [15.0, 13.0, 9.0, 14.5, 6.5, 2.5, 7.0, 1.0, 0.5, 1.0, 10.0, -2.5, 7.0, 6.5, 6.5, 8.0, 9.0, 17.5, 10.5, 25.5, 21.0, 19.0, 11.5, 15.5, 13.0, 5.0, 11.5, 14.0, 13.0, 3.0, 2.5, 7.0, 9.0, 11.5, 3.5, 10.5, 13.5, 13.0], \"xaxis\": \"x2\", \"yaxis\": \"y2\"}, {\"alignmentgroup\": \"True\", \"bingroup\": \"x\", \"histfunc\": \"sum\", \"hovertemplate\": \"name=Nantes<br>temperature=%{x}<br>sum of goal=%{y}<extra></extra>\", \"legendgroup\": \"Nantes\", \"marker\": {\"color\": \"#FFA15A\"}, \"name\": \"Nantes\", \"offsetgroup\": \"Nantes\", \"orientation\": \"v\", \"showlegend\": true, \"type\": \"histogram\", \"x\": [14.0, 20.5, 11.5, 14.0, 9.0, 6.5, 9.5, 10.0, 0.5, 6.0, 9.5, 6.0, 14.0, 11.5, 6.5, 7.5, 8.5, 16.5, 12.0, 22.5, 26.5, 10.5, 15.5, 8.0, 15.5, 15.5, 7.0, 11.0, 4.5, 1.0, 10.0, 1.5, 11.5, 7.5, 5.5, 12.0, 9.0, 11.5], \"xaxis\": \"x\", \"y\": [2, 2, 3, 0, 1, 0, 1, 1, 0, 1, 1, 0, 1, 1, 1, 1, 1, 3, 1, 0, 1, 0, 1, 1, 2, 1, 2, 0, 1, 0, 1, 3, 1, 2, 0, 2, 4, 4], \"yaxis\": \"y\"}, {\"alignmentgroup\": \"True\", \"boxpoints\": \"all\", \"customdata\": [[18, \"Nantes\", 15, 1.0], [18, \"Nantes\", 39, 2.0], [18, \"Nantes\", 67, 0.0], [18, \"Nantes\", 82, 0.0], [18, \"Nantes\", 104, 0.0], [18, \"Nantes\", 127, 4.0], [18, \"Nantes\", 137, 2.0], [18, \"Nantes\", 156, 1.0], [18, \"Nantes\", 171, 0.0], [18, \"Nantes\", 195, 0.0], [18, \"Nantes\", 219, 5.0], [18, \"Nantes\", 239, 1.0], [18, \"Nantes\", 253, 0.0], [18, \"Nantes\", 280, 3.0], [18, \"Nantes\", 298, 1.0], [18, \"Nantes\", 306, 0.0], [18, \"Nantes\", 330, 0.0], [18, \"Nantes\", 352, 1.0], [18, \"Nantes\", 377, 1.0], [18, \"Nantes\", 1, 5.0], [18, \"Nantes\", 29, 0.0], [18, \"Nantes\", 41, 8.0], [18, \"Nantes\", 53, 22.0], [18, \"Nantes\", 80, 0.0], [18, \"Nantes\", 98, 1.0], [18, \"Nantes\", 112, 4.0], [18, \"Nantes\", 145, 0.0], [18, \"Nantes\", 167, 0.0], [18, \"Nantes\", 187, 0.0], [18, \"Nantes\", 205, 3.0], [18, \"Nantes\", 230, 0.0], [18, \"Nantes\", 247, 0.0], [18, \"Nantes\", 268, 4.0], [18, \"Nantes\", 290, 2.0], [18, \"Nantes\", 314, 3.0], [18, \"Nantes\", 337, 0.0], [18, \"Nantes\", 348, 1.0], [18, \"Nantes\", 370, 7.0]], \"fillcolor\": \"rgba(255,255,255,0)\", \"hoveron\": \"points\", \"hovertemplate\": \"name=%{customdata[1]}<br>temperature=%{x}<br>id=%{customdata[0]}<br>match_id=%{customdata[2]}<br>rainfall=%{customdata[3]}<extra></extra>\", \"jitter\": 0, \"legendgroup\": \"Nantes\", \"line\": {\"color\": \"rgba(255,255,255,0)\"}, \"marker\": {\"color\": \"#FFA15A\", \"symbol\": \"line-ns-open\"}, \"name\": \"Nantes\", \"offsetgroup\": \"Nantes\", \"showlegend\": false, \"type\": \"box\", \"x\": [14.0, 20.5, 11.5, 14.0, 9.0, 6.5, 9.5, 10.0, 0.5, 6.0, 9.5, 6.0, 14.0, 11.5, 6.5, 7.5, 8.5, 16.5, 12.0, 22.5, 26.5, 10.5, 15.5, 8.0, 15.5, 15.5, 7.0, 11.0, 4.5, 1.0, 10.0, 1.5, 11.5, 7.5, 5.5, 12.0, 9.0, 11.5], \"xaxis\": \"x2\", \"yaxis\": \"y2\"}, {\"alignmentgroup\": \"True\", \"bingroup\": \"x\", \"histfunc\": \"sum\", \"hovertemplate\": \"name=Saint-\\u00c9tienne<br>temperature=%{x}<br>sum of goal=%{y}<extra></extra>\", \"legendgroup\": \"Saint-\\u00c9tienne\", \"marker\": {\"color\": \"#19d3f3\"}, \"name\": \"Saint-\\u00c9tienne\", \"offsetgroup\": \"Saint-\\u00c9tienne\", \"orientation\": \"v\", \"showlegend\": true, \"type\": \"histogram\", \"x\": [14.5, 19.5, 7.5, 6.5, 15.5, 3.5, 5.5, 8.5, -3.0, 1.5, 10.0, 7.0, 9.0, 9.0, 1.5, 11.5, 13.5, 17.0, 12.0, 26.5, 20.5, 13.5, 11.5, 13.5, 10.5, 1.5, 10.5, 13.5, 0.5, 1.0, 11.5, 1.0, 7.5, 9.5, 11.0, 8.5, 14.0, 11.0], \"xaxis\": \"x\", \"y\": [2, 2, 0, 1, 0, 1, 0, 2, 1, 0, 1, 1, 1, 2, 0, 4, 1, 1, 0, 2, 2, 0, 0, 1, 1, 0, 2, 2, 1, 0, 1, 2, 1, 1, 2, 2, 2, 0], \"yaxis\": \"y\"}, {\"alignmentgroup\": \"True\", \"boxpoints\": \"all\", \"customdata\": [[11, \"Saint-\\u00c9tienne\", 16, 2.0], [11, \"Saint-\\u00c9tienne\", 23, 0.0], [11, \"Saint-\\u00c9tienne\", 42, 3.0], [11, \"Saint-\\u00c9tienne\", 69, 0.0], [11, \"Saint-\\u00c9tienne\", 83, 0.0], [11, \"Saint-\\u00c9tienne\", 120, 0.0], [11, \"Saint-\\u00c9tienne\", 131, 12.0], [11, \"Saint-\\u00c9tienne\", 158, 15.0], [11, \"Saint-\\u00c9tienne\", 178, 0.0], [11, \"Saint-\\u00c9tienne\", 209, 1.0], [11, \"Saint-\\u00c9tienne\", 230, 0.0], [11, \"Saint-\\u00c9tienne\", 236, 25.0], [11, \"Saint-\\u00c9tienne\", 252, 0.0], [11, \"Saint-\\u00c9tienne\", 273, 0.0], [11, \"Saint-\\u00c9tienne\", 291, 0.0], [11, \"Saint-\\u00c9tienne\", 317, 14.0], [11, \"Saint-\\u00c9tienne\", 332, 0.0], [11, \"Saint-\\u00c9tienne\", 354, 1.0], [11, \"Saint-\\u00c9tienne\", 378, 0.0], [11, \"Saint-\\u00c9tienne\", 10, 0.0], [11, \"Saint-\\u00c9tienne\", 39, 2.0], [11, \"Saint-\\u00c9tienne\", 52, 22.0], [11, \"Saint-\\u00c9tienne\", 75, 11.0], [11, \"Saint-\\u00c9tienne\", 100, 4.0], [11, \"Saint-\\u00c9tienne\", 103, 1.0], [11, \"Saint-\\u00c9tienne\", 128, 0.0], [11, \"Saint-\\u00c9tienne\", 150, 1.0], [11, \"Saint-\\u00c9tienne\", 170, 0.0], [11, \"Saint-\\u00c9tienne\", 190, 0.0], [11, \"Saint-\\u00c9tienne\", 197, 8.0], [11, \"Saint-\\u00c9tienne\", 213, 5.0], [11, \"Saint-\\u00c9tienne\", 245, 1.0], [11, \"Saint-\\u00c9tienne\", 267, 0.0], [11, \"Saint-\\u00c9tienne\", 282, 7.0], [11, \"Saint-\\u00c9tienne\", 309, 0.0], [11, \"Saint-\\u00c9tienne\", 324, 0.0], [11, \"Saint-\\u00c9tienne\", 349, 1.0], [11, \"Saint-\\u00c9tienne\", 361, 6.0]], \"fillcolor\": \"rgba(255,255,255,0)\", \"hoveron\": \"points\", \"hovertemplate\": \"name=%{customdata[1]}<br>temperature=%{x}<br>id=%{customdata[0]}<br>match_id=%{customdata[2]}<br>rainfall=%{customdata[3]}<extra></extra>\", \"jitter\": 0, \"legendgroup\": \"Saint-\\u00c9tienne\", \"line\": {\"color\": \"rgba(255,255,255,0)\"}, \"marker\": {\"color\": \"#19d3f3\", \"symbol\": \"line-ns-open\"}, \"name\": \"Saint-\\u00c9tienne\", \"offsetgroup\": \"Saint-\\u00c9tienne\", \"showlegend\": false, \"type\": \"box\", \"x\": [14.5, 19.5, 7.5, 6.5, 15.5, 3.5, 5.5, 8.5, -3.0, 1.5, 10.0, 7.0, 9.0, 9.0, 1.5, 11.5, 13.5, 17.0, 12.0, 26.5, 20.5, 13.5, 11.5, 13.5, 10.5, 1.5, 10.5, 13.5, 0.5, 1.0, 11.5, 1.0, 7.5, 9.5, 11.0, 8.5, 14.0, 11.0], \"xaxis\": \"x2\", \"yaxis\": \"y2\"}, {\"alignmentgroup\": \"True\", \"bingroup\": \"x\", \"histfunc\": \"sum\", \"hovertemplate\": \"name=Angers<br>temperature=%{x}<br>sum of goal=%{y}<extra></extra>\", \"legendgroup\": \"Angers\", \"marker\": {\"color\": \"#FF6692\"}, \"name\": \"Angers\", \"offsetgroup\": \"Angers\", \"orientation\": \"v\", \"showlegend\": true, \"type\": \"histogram\", \"x\": [13.5, 21.0, 11.5, 12.0, 17.5, 8.0, 4.0, 9.0, 12.5, 3.0, 9.5, 1.5, 6.5, 9.5, 8.0, 6.5, 13.0, 17.5, 11.5, 22.0, 23.0, 13.5, 13.0, 17.0, 5.5, 5.5, 10.0, 2.0, 6.0, 8.0, 10.0, 12.5, 12.0, 9.0, 9.0, 13.0, 8.5, 15.5], \"xaxis\": \"x\", \"y\": [0, 1, 3, 1, 0, 0, 2, 0, 2, 0, 3, 1, 2, 0, 1, 0, 0, 3, 1, 1, 1, 1, 2, 5, 3, 0, 1, 2, 0, 1, 0, 0, 0, 1, 0, 0, 0, 2], \"yaxis\": \"y\"}, {\"alignmentgroup\": \"True\", \"boxpoints\": \"all\", \"customdata\": [[13, \"Angers\", 17, 1.0], [13, \"Angers\", 27, 0.0], [13, \"Angers\", 48, 0.0], [13, \"Angers\", 68, 0.0], [13, \"Angers\", 84, 5.0], [13, \"Angers\", 108, 0.0], [13, \"Angers\", 125, 2.0], [13, \"Angers\", 143, 2.0], [13, \"Angers\", 169, 6.0], [13, \"Angers\", 193, 4.0], [13, \"Angers\", 216, 10.0], [13, \"Angers\", 247, 0.0], [13, \"Angers\", 265, 0.0], [13, \"Angers\", 282, 7.0], [13, \"Angers\", 304, 0.0], [13, \"Angers\", 322, 1.0], [13, \"Angers\", 339, 0.0], [13, \"Angers\", 358, 3.0], [13, \"Angers\", 371, 1.0], [13, \"Angers\", 2, 19.0], [13, \"Angers\", 35, 16.0], [13, \"Angers\", 51, 31.0], [13, \"Angers\", 71, 2.0], [13, \"Angers\", 97, 33.0], [13, \"Angers\", 115, 0.0], [13, \"Angers\", 131, 12.0], [13, \"Angers\", 156, 1.0], [13, \"Angers\", 177, 2.0], [13, \"Angers\", 185, 0.0], [13, \"Angers\", 204, 7.0], [13, \"Angers\", 224, 14.0], [13, \"Angers\", 237, 10.0], [13, \"Angers\", 257, 0.0], [13, \"Angers\", 272, 0.0], [13, \"Angers\", 296, 1.0], [13, \"Angers\", 320, 14.0], [13, \"Angers\", 347, 2.0], [13, \"Angers\", 365, 1.0]], \"fillcolor\": \"rgba(255,255,255,0)\", \"hoveron\": \"points\", \"hovertemplate\": \"name=%{customdata[1]}<br>temperature=%{x}<br>id=%{customdata[0]}<br>match_id=%{customdata[2]}<br>rainfall=%{customdata[3]}<extra></extra>\", \"jitter\": 0, \"legendgroup\": \"Angers\", \"line\": {\"color\": \"rgba(255,255,255,0)\"}, \"marker\": {\"color\": \"#FF6692\", \"symbol\": \"line-ns-open\"}, \"name\": \"Angers\", \"offsetgroup\": \"Angers\", \"showlegend\": false, \"type\": \"box\", \"x\": [13.5, 21.0, 11.5, 12.0, 17.5, 8.0, 4.0, 9.0, 12.5, 3.0, 9.5, 1.5, 6.5, 9.5, 8.0, 6.5, 13.0, 17.5, 11.5, 22.0, 23.0, 13.5, 13.0, 17.0, 5.5, 5.5, 10.0, 2.0, 6.0, 8.0, 10.0, 12.5, 12.0, 9.0, 9.0, 13.0, 8.5, 15.5], \"xaxis\": \"x2\", \"yaxis\": \"y2\"}, {\"alignmentgroup\": \"True\", \"bingroup\": \"x\", \"histfunc\": \"sum\", \"hovertemplate\": \"name=Metz<br>temperature=%{x}<br>sum of goal=%{y}<extra></extra>\", \"legendgroup\": \"Metz\", \"marker\": {\"color\": \"#B6E880\"}, \"name\": \"Metz\", \"offsetgroup\": \"Metz\", \"orientation\": \"v\", \"showlegend\": true, \"type\": \"histogram\", \"x\": [17.0, 19.0, 11.0, 11.5, 11.5, 1.0, 2.5, 8.5, 0.5, -1.5, 1.0, 10.0, -1.5, 9.0, 1.5, 7.5, 10.0, 16.5, 10.5, 27.0, 20.0, 14.5, 12.0, 16.5, 9.0, 7.0, 13.0, 13.0, 3.0, 9.0, 7.0, 11.5, 9.5, 6.5, 14.0, 8.0, 8.5, 12.0], \"xaxis\": \"x\", \"y\": [0, 2, 3, 2, 1, 0, 1, 2, 0, 1, 2, 1, 1, 0, 1, 0, 1, 0, 1, 0, 0, 1, 1, 1, 1, 2, 2, 0, 1, 4, 0, 2, 2, 2, 0, 0, 5, 1], \"yaxis\": \"y\"}, {\"alignmentgroup\": \"True\", \"boxpoints\": \"all\", \"customdata\": [[10, \"Metz\", 18, 1.0], [10, \"Metz\", 37, 1.0], [10, \"Metz\", 58, 18.0], [10, \"Metz\", 75, 11.0], [10, \"Metz\", 96, 1.0], [10, \"Metz\", 118, 0.0], [10, \"Metz\", 130, 0.0], [10, \"Metz\", 151, 1.0], [10, \"Metz\", 173, 2.0], [10, \"Metz\", 188, 0.0], [10, \"Metz\", 205, 3.0], [10, \"Metz\", 223, 27.0], [10, \"Metz\", 246, 0.0], [10, \"Metz\", 272, 0.0], [10, \"Metz\", 292, 0.0], [10, \"Metz\", 311, 1.0], [10, \"Metz\", 333, 0.0], [10, \"Metz\", 356, 1.0], [10, \"Metz\", 375, 1.0], [10, \"Metz\", 9, 1.0], [10, \"Metz\", 24, 0.0], [10, \"Metz\", 43, 0.0], [10, \"Metz\", 68, 0.0], [10, \"Metz\", 85, 0.0], [10, \"Metz\", 104, 0.0], [10, \"Metz\", 136, 3.0], [10, \"Metz\", 142, 9.0], [10, \"Metz\", 161, 21.0], [10, \"Metz\", 199, 5.0], [10, \"Metz\", 215, 10.0], [10, \"Metz\", 236, 25.0], [10, \"Metz\", 256, 0.0], [10, \"Metz\", 262, 0.0], [10, \"Metz\", 285, 2.0], [10, \"Metz\", 301, 7.0], [10, \"Metz\", 327, 1.0], [10, \"Metz\", 345, 5.0], [10, \"Metz\", 369, 7.0]], \"fillcolor\": \"rgba(255,255,255,0)\", \"hoveron\": \"points\", \"hovertemplate\": \"name=%{customdata[1]}<br>temperature=%{x}<br>id=%{customdata[0]}<br>match_id=%{customdata[2]}<br>rainfall=%{customdata[3]}<extra></extra>\", \"jitter\": 0, \"legendgroup\": \"Metz\", \"line\": {\"color\": \"rgba(255,255,255,0)\"}, \"marker\": {\"color\": \"#B6E880\", \"symbol\": \"line-ns-open\"}, \"name\": \"Metz\", \"offsetgroup\": \"Metz\", \"showlegend\": false, \"type\": \"box\", \"x\": [17.0, 19.0, 11.0, 11.5, 11.5, 1.0, 2.5, 8.5, 0.5, -1.5, 1.0, 10.0, -1.5, 9.0, 1.5, 7.5, 10.0, 16.5, 10.5, 27.0, 20.0, 14.5, 12.0, 16.5, 9.0, 7.0, 13.0, 13.0, 3.0, 9.0, 7.0, 11.5, 9.5, 6.5, 14.0, 8.0, 8.5, 12.0], \"xaxis\": \"x2\", \"yaxis\": \"y2\"}, {\"alignmentgroup\": \"True\", \"bingroup\": \"x\", \"histfunc\": \"sum\", \"hovertemplate\": \"name=Brest<br>temperature=%{x}<br>sum of goal=%{y}<extra></extra>\", \"legendgroup\": \"Brest\", \"marker\": {\"color\": \"#FF97FF\"}, \"name\": \"Brest\", \"offsetgroup\": \"Brest\", \"orientation\": \"v\", \"showlegend\": true, \"type\": \"histogram\", \"x\": [14.5, 17.0, 12.0, 11.0, 15.0, 10.5, 11.5, 10.0, 4.0, 7.0, 9.0, 5.5, 10.0, 10.5, 9.0, 6.0, 8.0, 9.0, 10.5, 26.5, 22.0, 11.5, 11.5, 12.5, 1.0, 8.5, 9.5, 11.0, 2.0, 1.0, 10.0, 0.0, 14.0, 11.5, 8.0, 13.5, 16.5, 16.5], \"xaxis\": \"x\", \"y\": [2, 3, 1, 0, 3, 4, 2, 2, 2, 1, 2, 2, 2, 3, 0, 1, 1, 1, 0, 0, 2, 2, 1, 1, 2, 0, 2, 1, 0, 0, 2, 0, 0, 1, 0, 2, 2, 0], \"yaxis\": \"y\"}, {\"alignmentgroup\": \"True\", \"boxpoints\": \"all\", \"customdata\": [[17, \"Brest\", 19, 1.0], [17, \"Brest\", 36, 0.0], [17, \"Brest\", 56, 7.0], [17, \"Brest\", 77, 4.0], [17, \"Brest\", 94, 1.0], [17, \"Brest\", 103, 1.0], [17, \"Brest\", 135, 10.0], [17, \"Brest\", 154, 5.0], [17, \"Brest\", 174, 8.0], [17, \"Brest\", 194, 0.0], [17, \"Brest\", 215, 10.0], [17, \"Brest\", 234, 1.0], [17, \"Brest\", 251, 3.0], [17, \"Brest\", 275, 5.0], [17, \"Brest\", 296, 1.0], [17, \"Brest\", 318, 1.0], [17, \"Brest\", 325, 0.0], [17, \"Brest\", 348, 1.0], [17, \"Brest\", 372, 11.0], [17, \"Brest\", 6, 0.0], [17, \"Brest\", 28, 0.0], [17, \"Brest\", 48, 0.0], [17, \"Brest\", 67, 0.0], [17, \"Brest\", 81, 2.0], [17, \"Brest\", 118, 0.0], [17, \"Brest\", 126, 4.0], [17, \"Brest\", 146, 24.0], [17, \"Brest\", 162, 35.0], [17, \"Brest\", 182, 0.0], [17, \"Brest\", 206, 4.0], [17, \"Brest\", 225, 11.0], [17, \"Brest\", 249, 0.0], [17, \"Brest\", 264, 0.0], [17, \"Brest\", 283, 0.0], [17, \"Brest\", 308, 0.0], [17, \"Brest\", 332, 0.0], [17, \"Brest\", 357, 0.0], [17, \"Brest\", 367, 3.0]], \"fillcolor\": \"rgba(255,255,255,0)\", \"hoveron\": \"points\", \"hovertemplate\": \"name=%{customdata[1]}<br>temperature=%{x}<br>id=%{customdata[0]}<br>match_id=%{customdata[2]}<br>rainfall=%{customdata[3]}<extra></extra>\", \"jitter\": 0, \"legendgroup\": \"Brest\", \"line\": {\"color\": \"rgba(255,255,255,0)\"}, \"marker\": {\"color\": \"#FF97FF\", \"symbol\": \"line-ns-open\"}, \"name\": \"Brest\", \"offsetgroup\": \"Brest\", \"showlegend\": false, \"type\": \"box\", \"x\": [14.5, 17.0, 12.0, 11.0, 15.0, 10.5, 11.5, 10.0, 4.0, 7.0, 9.0, 5.5, 10.0, 10.5, 9.0, 6.0, 8.0, 9.0, 10.5, 26.5, 22.0, 11.5, 11.5, 12.5, 1.0, 8.5, 9.5, 11.0, 2.0, 1.0, 10.0, 0.0, 14.0, 11.5, 8.0, 13.5, 16.5, 16.5], \"xaxis\": \"x2\", \"yaxis\": \"y2\"}, {\"alignmentgroup\": \"True\", \"bingroup\": \"x\", \"histfunc\": \"sum\", \"hovertemplate\": \"name=Lens<br>temperature=%{x}<br>sum of goal=%{y}<extra></extra>\", \"legendgroup\": \"Lens\", \"marker\": {\"color\": \"#FECB52\"}, \"name\": \"Lens\", \"offsetgroup\": \"Lens\", \"orientation\": \"v\", \"showlegend\": true, \"type\": \"histogram\", \"x\": [19.0, 20.0, 13.5, 8.0, 13.0, 5.5, 8.0, 11.0, 2.5, 4.0, 9.0, 7.5, 11.0, 6.5, 7.5, 2.0, 8.5, 9.0, 10.5, 25.5, 18.0, 12.0, 11.5, 12.5, 3.5, 4.0, 13.0, 8.5, 0.0, 6.0, 11.0, -2.5, 6.5, 9.0, 3.5, 8.0, 11.0, 14.0], \"xaxis\": \"x\", \"y\": [1, 2, 2, 1, 4, 1, 2, 2, 0, 0, 2, 0, 2, 2, 1, 4, 2, 0, 0, 1, 3, 1, 0, 1, 1, 2, 3, 0, 2, 1, 2, 1, 2, 3, 2, 1, 1, 0], \"yaxis\": \"y\"}, {\"alignmentgroup\": \"True\", \"boxpoints\": \"all\", \"customdata\": [[7, \"Lens\", 20, 1.0], [7, \"Lens\", 32, 1.0], [7, \"Lens\", 52, 22.0], [7, \"Lens\", 80, 0.0], [7, \"Lens\", 95, 0.0], [7, \"Lens\", 115, 0.0], [7, \"Lens\", 133, 3.0], [7, \"Lens\", 162, 35.0], [7, \"Lens\", 186, 1.0], [7, \"Lens\", 202, 1.0], [7, \"Lens\", 229, 21.0], [7, \"Lens\", 233, 16.0], [7, \"Lens\", 255, 0.0], [7, \"Lens\", 285, 2.0], [7, \"Lens\", 303, 0.0], [7, \"Lens\", 315, 16.0], [7, \"Lens\", 335, 0.0], [7, \"Lens\", 351, 1.0], [7, \"Lens\", 373, 2.0], [7, \"Lens\", 7, 1.0], [7, \"Lens\", 26, 0.0], [7, \"Lens\", 46, 1.0], [7, \"Lens\", 70, 2.0], [7, \"Lens\", 90, 6.0], [7, \"Lens\", 106, 0.0], [7, \"Lens\", 122, 6.0], [7, \"Lens\", 149, 1.0], [7, \"Lens\", 151, 1.0], [7, \"Lens\", 176, 0.0], [7, \"Lens\", 195, 0.0], [7, \"Lens\", 212, 5.0], [7, \"Lens\", 242, 0.0], [7, \"Lens\", 265, 0.0], [7, \"Lens\", 273, 0.0], [7, \"Lens\", 294, 1.0], [7, \"Lens\", 325, 0.0], [7, \"Lens\", 342, 0.0], [7, \"Lens\", 366, 8.0]], \"fillcolor\": \"rgba(255,255,255,0)\", \"hoveron\": \"points\", \"hovertemplate\": \"name=%{customdata[1]}<br>temperature=%{x}<br>id=%{customdata[0]}<br>match_id=%{customdata[2]}<br>rainfall=%{customdata[3]}<extra></extra>\", \"jitter\": 0, \"legendgroup\": \"Lens\", \"line\": {\"color\": \"rgba(255,255,255,0)\"}, \"marker\": {\"color\": \"#FECB52\", \"symbol\": \"line-ns-open\"}, \"name\": \"Lens\", \"offsetgroup\": \"Lens\", \"showlegend\": false, \"type\": \"box\", \"x\": [19.0, 20.0, 13.5, 8.0, 13.0, 5.5, 8.0, 11.0, 2.5, 4.0, 9.0, 7.5, 11.0, 6.5, 7.5, 2.0, 8.5, 9.0, 10.5, 25.5, 18.0, 12.0, 11.5, 12.5, 3.5, 4.0, 13.0, 8.5, 0.0, 6.0, 11.0, -2.5, 6.5, 9.0, 3.5, 8.0, 11.0, 14.0], \"xaxis\": \"x2\", \"yaxis\": \"y2\"}],                        {\"barmode\": \"relative\", \"legend\": {\"title\": {\"text\": \"name\"}, \"tracegroupgap\": 0}, \"margin\": {\"t\": 60}, \"template\": {\"data\": {\"bar\": [{\"error_x\": {\"color\": \"#2a3f5f\"}, \"error_y\": {\"color\": \"#2a3f5f\"}, \"marker\": {\"line\": {\"color\": \"#E5ECF6\", \"width\": 0.5}}, \"type\": \"bar\"}], \"barpolar\": [{\"marker\": {\"line\": {\"color\": \"#E5ECF6\", \"width\": 0.5}}, \"type\": \"barpolar\"}], \"carpet\": [{\"aaxis\": {\"endlinecolor\": \"#2a3f5f\", \"gridcolor\": \"white\", \"linecolor\": \"white\", \"minorgridcolor\": \"white\", \"startlinecolor\": \"#2a3f5f\"}, \"baxis\": {\"endlinecolor\": \"#2a3f5f\", \"gridcolor\": \"white\", \"linecolor\": \"white\", \"minorgridcolor\": \"white\", \"startlinecolor\": \"#2a3f5f\"}, \"type\": \"carpet\"}], \"choropleth\": [{\"colorbar\": {\"outlinewidth\": 0, \"ticks\": \"\"}, \"type\": \"choropleth\"}], \"contour\": [{\"colorbar\": {\"outlinewidth\": 0, \"ticks\": \"\"}, \"colorscale\": [[0.0, \"#0d0887\"], [0.1111111111111111, \"#46039f\"], [0.2222222222222222, \"#7201a8\"], [0.3333333333333333, \"#9c179e\"], [0.4444444444444444, \"#bd3786\"], [0.5555555555555556, \"#d8576b\"], [0.6666666666666666, \"#ed7953\"], [0.7777777777777778, \"#fb9f3a\"], [0.8888888888888888, \"#fdca26\"], [1.0, \"#f0f921\"]], \"type\": \"contour\"}], \"contourcarpet\": [{\"colorbar\": {\"outlinewidth\": 0, \"ticks\": \"\"}, \"type\": \"contourcarpet\"}], \"heatmap\": [{\"colorbar\": {\"outlinewidth\": 0, \"ticks\": \"\"}, \"colorscale\": [[0.0, \"#0d0887\"], [0.1111111111111111, \"#46039f\"], [0.2222222222222222, \"#7201a8\"], [0.3333333333333333, \"#9c179e\"], [0.4444444444444444, \"#bd3786\"], [0.5555555555555556, \"#d8576b\"], [0.6666666666666666, \"#ed7953\"], [0.7777777777777778, \"#fb9f3a\"], [0.8888888888888888, \"#fdca26\"], [1.0, \"#f0f921\"]], \"type\": \"heatmap\"}], \"heatmapgl\": [{\"colorbar\": {\"outlinewidth\": 0, \"ticks\": \"\"}, \"colorscale\": [[0.0, \"#0d0887\"], [0.1111111111111111, \"#46039f\"], [0.2222222222222222, \"#7201a8\"], [0.3333333333333333, \"#9c179e\"], [0.4444444444444444, \"#bd3786\"], [0.5555555555555556, \"#d8576b\"], [0.6666666666666666, \"#ed7953\"], [0.7777777777777778, \"#fb9f3a\"], [0.8888888888888888, \"#fdca26\"], [1.0, \"#f0f921\"]], \"type\": \"heatmapgl\"}], \"histogram\": [{\"marker\": {\"colorbar\": {\"outlinewidth\": 0, \"ticks\": \"\"}}, \"type\": \"histogram\"}], \"histogram2d\": [{\"colorbar\": {\"outlinewidth\": 0, \"ticks\": \"\"}, \"colorscale\": [[0.0, \"#0d0887\"], [0.1111111111111111, \"#46039f\"], [0.2222222222222222, \"#7201a8\"], [0.3333333333333333, \"#9c179e\"], [0.4444444444444444, \"#bd3786\"], [0.5555555555555556, \"#d8576b\"], [0.6666666666666666, \"#ed7953\"], [0.7777777777777778, \"#fb9f3a\"], [0.8888888888888888, \"#fdca26\"], [1.0, \"#f0f921\"]], \"type\": \"histogram2d\"}], \"histogram2dcontour\": [{\"colorbar\": {\"outlinewidth\": 0, \"ticks\": \"\"}, \"colorscale\": [[0.0, \"#0d0887\"], [0.1111111111111111, \"#46039f\"], [0.2222222222222222, \"#7201a8\"], [0.3333333333333333, \"#9c179e\"], [0.4444444444444444, \"#bd3786\"], [0.5555555555555556, \"#d8576b\"], [0.6666666666666666, \"#ed7953\"], [0.7777777777777778, \"#fb9f3a\"], [0.8888888888888888, \"#fdca26\"], [1.0, \"#f0f921\"]], \"type\": \"histogram2dcontour\"}], \"mesh3d\": [{\"colorbar\": {\"outlinewidth\": 0, \"ticks\": \"\"}, \"type\": \"mesh3d\"}], \"parcoords\": [{\"line\": {\"colorbar\": {\"outlinewidth\": 0, \"ticks\": \"\"}}, \"type\": \"parcoords\"}], \"pie\": [{\"automargin\": true, \"type\": \"pie\"}], \"scatter\": [{\"marker\": {\"colorbar\": {\"outlinewidth\": 0, \"ticks\": \"\"}}, \"type\": \"scatter\"}], \"scatter3d\": [{\"line\": {\"colorbar\": {\"outlinewidth\": 0, \"ticks\": \"\"}}, \"marker\": {\"colorbar\": {\"outlinewidth\": 0, \"ticks\": \"\"}}, \"type\": \"scatter3d\"}], \"scattercarpet\": [{\"marker\": {\"colorbar\": {\"outlinewidth\": 0, \"ticks\": \"\"}}, \"type\": \"scattercarpet\"}], \"scattergeo\": [{\"marker\": {\"colorbar\": {\"outlinewidth\": 0, \"ticks\": \"\"}}, \"type\": \"scattergeo\"}], \"scattergl\": [{\"marker\": {\"colorbar\": {\"outlinewidth\": 0, \"ticks\": \"\"}}, \"type\": \"scattergl\"}], \"scattermapbox\": [{\"marker\": {\"colorbar\": {\"outlinewidth\": 0, \"ticks\": \"\"}}, \"type\": \"scattermapbox\"}], \"scatterpolar\": [{\"marker\": {\"colorbar\": {\"outlinewidth\": 0, \"ticks\": \"\"}}, \"type\": \"scatterpolar\"}], \"scatterpolargl\": [{\"marker\": {\"colorbar\": {\"outlinewidth\": 0, \"ticks\": \"\"}}, \"type\": \"scatterpolargl\"}], \"scatterternary\": [{\"marker\": {\"colorbar\": {\"outlinewidth\": 0, \"ticks\": \"\"}}, \"type\": \"scatterternary\"}], \"surface\": [{\"colorbar\": {\"outlinewidth\": 0, \"ticks\": \"\"}, \"colorscale\": [[0.0, \"#0d0887\"], [0.1111111111111111, \"#46039f\"], [0.2222222222222222, \"#7201a8\"], [0.3333333333333333, \"#9c179e\"], [0.4444444444444444, \"#bd3786\"], [0.5555555555555556, \"#d8576b\"], [0.6666666666666666, \"#ed7953\"], [0.7777777777777778, \"#fb9f3a\"], [0.8888888888888888, \"#fdca26\"], [1.0, \"#f0f921\"]], \"type\": \"surface\"}], \"table\": [{\"cells\": {\"fill\": {\"color\": \"#EBF0F8\"}, \"line\": {\"color\": \"white\"}}, \"header\": {\"fill\": {\"color\": \"#C8D4E3\"}, \"line\": {\"color\": \"white\"}}, \"type\": \"table\"}]}, \"layout\": {\"annotationdefaults\": {\"arrowcolor\": \"#2a3f5f\", \"arrowhead\": 0, \"arrowwidth\": 1}, \"autotypenumbers\": \"strict\", \"coloraxis\": {\"colorbar\": {\"outlinewidth\": 0, \"ticks\": \"\"}}, \"colorscale\": {\"diverging\": [[0, \"#8e0152\"], [0.1, \"#c51b7d\"], [0.2, \"#de77ae\"], [0.3, \"#f1b6da\"], [0.4, \"#fde0ef\"], [0.5, \"#f7f7f7\"], [0.6, \"#e6f5d0\"], [0.7, \"#b8e186\"], [0.8, \"#7fbc41\"], [0.9, \"#4d9221\"], [1, \"#276419\"]], \"sequential\": [[0.0, \"#0d0887\"], [0.1111111111111111, \"#46039f\"], [0.2222222222222222, \"#7201a8\"], [0.3333333333333333, \"#9c179e\"], [0.4444444444444444, \"#bd3786\"], [0.5555555555555556, \"#d8576b\"], [0.6666666666666666, \"#ed7953\"], [0.7777777777777778, \"#fb9f3a\"], [0.8888888888888888, \"#fdca26\"], [1.0, \"#f0f921\"]], \"sequentialminus\": [[0.0, \"#0d0887\"], [0.1111111111111111, \"#46039f\"], [0.2222222222222222, \"#7201a8\"], [0.3333333333333333, \"#9c179e\"], [0.4444444444444444, \"#bd3786\"], [0.5555555555555556, \"#d8576b\"], [0.6666666666666666, \"#ed7953\"], [0.7777777777777778, \"#fb9f3a\"], [0.8888888888888888, \"#fdca26\"], [1.0, \"#f0f921\"]]}, \"colorway\": [\"#636efa\", \"#EF553B\", \"#00cc96\", \"#ab63fa\", \"#FFA15A\", \"#19d3f3\", \"#FF6692\", \"#B6E880\", \"#FF97FF\", \"#FECB52\"], \"font\": {\"color\": \"#2a3f5f\"}, \"geo\": {\"bgcolor\": \"white\", \"lakecolor\": \"white\", \"landcolor\": \"#E5ECF6\", \"showlakes\": true, \"showland\": true, \"subunitcolor\": \"white\"}, \"hoverlabel\": {\"align\": \"left\"}, \"hovermode\": \"closest\", \"mapbox\": {\"style\": \"light\"}, \"paper_bgcolor\": \"white\", \"plot_bgcolor\": \"#E5ECF6\", \"polar\": {\"angularaxis\": {\"gridcolor\": \"white\", \"linecolor\": \"white\", \"ticks\": \"\"}, \"bgcolor\": \"#E5ECF6\", \"radialaxis\": {\"gridcolor\": \"white\", \"linecolor\": \"white\", \"ticks\": \"\"}}, \"scene\": {\"xaxis\": {\"backgroundcolor\": \"#E5ECF6\", \"gridcolor\": \"white\", \"gridwidth\": 2, \"linecolor\": \"white\", \"showbackground\": true, \"ticks\": \"\", \"zerolinecolor\": \"white\"}, \"yaxis\": {\"backgroundcolor\": \"#E5ECF6\", \"gridcolor\": \"white\", \"gridwidth\": 2, \"linecolor\": \"white\", \"showbackground\": true, \"ticks\": \"\", \"zerolinecolor\": \"white\"}, \"zaxis\": {\"backgroundcolor\": \"#E5ECF6\", \"gridcolor\": \"white\", \"gridwidth\": 2, \"linecolor\": \"white\", \"showbackground\": true, \"ticks\": \"\", \"zerolinecolor\": \"white\"}}, \"shapedefaults\": {\"line\": {\"color\": \"#2a3f5f\"}}, \"ternary\": {\"aaxis\": {\"gridcolor\": \"white\", \"linecolor\": \"white\", \"ticks\": \"\"}, \"baxis\": {\"gridcolor\": \"white\", \"linecolor\": \"white\", \"ticks\": \"\"}, \"bgcolor\": \"#E5ECF6\", \"caxis\": {\"gridcolor\": \"white\", \"linecolor\": \"white\", \"ticks\": \"\"}}, \"title\": {\"x\": 0.05}, \"xaxis\": {\"automargin\": true, \"gridcolor\": \"white\", \"linecolor\": \"white\", \"ticks\": \"\", \"title\": {\"standoff\": 15}, \"zerolinecolor\": \"white\", \"zerolinewidth\": 2}, \"yaxis\": {\"automargin\": true, \"gridcolor\": \"white\", \"linecolor\": \"white\", \"ticks\": \"\", \"title\": {\"standoff\": 15}, \"zerolinecolor\": \"white\", \"zerolinewidth\": 2}}}, \"xaxis\": {\"anchor\": \"y\", \"domain\": [0.0, 1.0], \"title\": {\"text\": \"temperature\"}}, \"xaxis2\": {\"anchor\": \"y2\", \"domain\": [0.0, 1.0], \"matches\": \"x\", \"showgrid\": true, \"showticklabels\": false}, \"yaxis\": {\"anchor\": \"x\", \"domain\": [0.0, 0.7326], \"title\": {\"text\": \"sum of goal\"}}, \"yaxis2\": {\"anchor\": \"x2\", \"domain\": [0.7426, 1.0], \"matches\": \"y2\", \"showgrid\": false, \"showline\": false, \"showticklabels\": false, \"ticks\": \"\"}},                        {\"responsive\": true}                    ).then(function(){\n",
       "                            \n",
       "var gd = document.getElementById('6b1387fb-6fe2-4233-ad9c-78a03ad95aad');\n",
       "var x = new MutationObserver(function (mutations, observer) {{\n",
       "        var display = window.getComputedStyle(gd).display;\n",
       "        if (!display || display === 'none') {{\n",
       "            console.log([gd, 'removed!']);\n",
       "            Plotly.purge(gd);\n",
       "            observer.disconnect();\n",
       "        }}\n",
       "}});\n",
       "\n",
       "// Listen for the removal of the full notebook cells\n",
       "var notebookContainer = gd.closest('#notebook-container');\n",
       "if (notebookContainer) {{\n",
       "    x.observe(notebookContainer, {childList: true});\n",
       "}}\n",
       "\n",
       "// Listen for the clearing of the current output cell\n",
       "var outputEl = gd.closest('.output');\n",
       "if (outputEl) {{\n",
       "    x.observe(outputEl, {childList: true});\n",
       "}}\n",
       "\n",
       "                        })                };                });            </script>        </div>"
      ]
     },
     "metadata": {},
     "output_type": "display_data"
    }
   ],
   "source": [
    "fig = px.histogram(teams_goals_and_meteo, x=\"temperature\", y=\"goal\", color=\"name\", marginal=\"rug\", hover_data=teams_goals_and_meteo.columns)\n",
    "fig.show()"
   ]
  },
  {
   "cell_type": "code",
   "execution_count": 136,
   "metadata": {
    "ExecuteTime": {
     "end_time": "2021-07-16T10:19:56.796756Z",
     "start_time": "2021-07-16T10:19:56.508954Z"
    }
   },
   "outputs": [
    {
     "data": {
      "application/vnd.plotly.v1+json": {
       "config": {
        "plotlyServerURL": "https://plot.ly"
       },
       "data": [
        {
         "alignmentgroup": "True",
         "bingroup": "x",
         "histfunc": "sum",
         "hovertemplate": "name=Bordeaux<br>temperature=%{x}<br>sum of goal=%{y}<extra></extra>",
         "legendgroup": "Bordeaux",
         "marker": {
          "color": "#636efa"
         },
         "name": "Bordeaux",
         "offsetgroup": "Bordeaux",
         "orientation": "v",
         "showlegend": true,
         "type": "histogram",
         "x": [
          22.5,
          23.5,
          11.5,
          13.5,
          14.5,
          17,
          8.5,
          10.5,
          13,
          2.5,
          8,
          13,
          8,
          9.5,
          14,
          11.5,
          12,
          12.5,
          14,
          13.5,
          20,
          15,
          17.5,
          7.5,
          9.5,
          5.5,
          7.5,
          0.5,
          8.5,
          11.5,
          5.5,
          12.5,
          4.5,
          8,
          11.5,
          13.5,
          16.5,
          10.5
         ],
         "xaxis": "x",
         "y": [
          0,
          0,
          0,
          3,
          2,
          0,
          1,
          1,
          1,
          2,
          2,
          0,
          0,
          1,
          0,
          2,
          0,
          1,
          3,
          2,
          1,
          1,
          0,
          1,
          2,
          1,
          2,
          0,
          3,
          1,
          1,
          0,
          3,
          1,
          1,
          1,
          0,
          2
         ],
         "yaxis": "y"
        },
        {
         "alignmentgroup": "True",
         "customdata": [
          [
           12,
           "Bordeaux",
           1,
           5
          ],
          [
           12,
           "Bordeaux",
           21,
           0
          ],
          [
           12,
           "Bordeaux",
           44,
           1
          ],
          [
           12,
           "Bordeaux",
           57,
           13
          ],
          [
           12,
           "Bordeaux",
           76,
           7
          ],
          [
           12,
           "Bordeaux",
           92,
           4
          ],
          [
           12,
           "Bordeaux",
           126,
           4
          ],
          [
           12,
           "Bordeaux",
           150,
           1
          ],
          [
           12,
           "Bordeaux",
           163,
           1
          ],
          [
           12,
           "Bordeaux",
           189,
           0
          ],
          [
           12,
           "Bordeaux",
           204,
           7
          ],
          [
           12,
           "Bordeaux",
           221,
           3
          ],
          [
           12,
           "Bordeaux",
           250,
           0
          ],
          [
           12,
           "Bordeaux",
           262,
           0
          ],
          [
           12,
           "Bordeaux",
           277,
           0
          ],
          [
           12,
           "Bordeaux",
           307,
           0
          ],
          [
           12,
           "Bordeaux",
           329,
           0
          ],
          [
           12,
           "Bordeaux",
           344,
           1
          ],
          [
           12,
           "Bordeaux",
           366,
           8
          ],
          [
           12,
           "Bordeaux",
           17,
           1
          ],
          [
           12,
           "Bordeaux",
           32,
           1
          ],
          [
           12,
           "Bordeaux",
           64,
           0
          ],
          [
           12,
           "Bordeaux",
           88,
           0
          ],
          [
           12,
           "Bordeaux",
           101,
           0
          ],
          [
           12,
           "Bordeaux",
           113,
           0
          ],
          [
           12,
           "Bordeaux",
           139,
           1
          ],
          [
           12,
           "Bordeaux",
           157,
           14
          ],
          [
           12,
           "Bordeaux",
           173,
           2
          ],
          [
           12,
           "Bordeaux",
           196,
           1
          ],
          [
           12,
           "Bordeaux",
           211,
           11
          ],
          [
           12,
           "Bordeaux",
           234,
           1
          ],
          [
           12,
           "Bordeaux",
           258,
           0
          ],
          [
           12,
           "Bordeaux",
           288,
           3
          ],
          [
           12,
           "Bordeaux",
           295,
           0
          ],
          [
           12,
           "Bordeaux",
           317,
           14
          ],
          [
           12,
           "Bordeaux",
           338,
           0
          ],
          [
           12,
           "Bordeaux",
           352,
           1
          ],
          [
           12,
           "Bordeaux",
           379,
           1
          ]
         ],
         "hovertemplate": "name=%{customdata[1]}<br>temperature=%{x}<br>id=%{customdata[0]}<br>match_id=%{customdata[2]}<br>rainfall=%{customdata[3]}<extra></extra>",
         "legendgroup": "Bordeaux",
         "marker": {
          "color": "#636efa"
         },
         "name": "Bordeaux",
         "notched": true,
         "offsetgroup": "Bordeaux",
         "showlegend": false,
         "type": "box",
         "x": [
          22.5,
          23.5,
          11.5,
          13.5,
          14.5,
          17,
          8.5,
          10.5,
          13,
          2.5,
          8,
          13,
          8,
          9.5,
          14,
          11.5,
          12,
          12.5,
          14,
          13.5,
          20,
          15,
          17.5,
          7.5,
          9.5,
          5.5,
          7.5,
          0.5,
          8.5,
          11.5,
          5.5,
          12.5,
          4.5,
          8,
          11.5,
          13.5,
          16.5,
          10.5
         ],
         "xaxis": "x2",
         "yaxis": "y2"
        },
        {
         "alignmentgroup": "True",
         "bingroup": "x",
         "histfunc": "sum",
         "hovertemplate": "name=Dijon<br>temperature=%{x}<br>sum of goal=%{y}<extra></extra>",
         "legendgroup": "Dijon",
         "marker": {
          "color": "#EF553B"
         },
         "name": "Dijon",
         "offsetgroup": "Dijon",
         "orientation": "v",
         "showlegend": true,
         "type": "histogram",
         "x": [
          22,
          22,
          8,
          10,
          13.5,
          3.5,
          1.5,
          8.5,
          9,
          -1,
          1.5,
          10.5,
          -2.5,
          7.5,
          4.5,
          3.5,
          7.5,
          8.5,
          11.5,
          21.5,
          19.5,
          13.5,
          14.5,
          11.5,
          14,
          9.5,
          12,
          1,
          11,
          1,
          11,
          11,
          10.5,
          14.5,
          11.5,
          12,
          17.5,
          12
         ],
         "xaxis": "x",
         "y": [
          0,
          0,
          2,
          1,
          0,
          0,
          0,
          0,
          0,
          0,
          1,
          0,
          0,
          0,
          1,
          0,
          2,
          1,
          0,
          1,
          0,
          0,
          0,
          1,
          3,
          1,
          3,
          0,
          2,
          0,
          2,
          1,
          1,
          0,
          0,
          1,
          0,
          1
         ],
         "yaxis": "y"
        },
        {
         "alignmentgroup": "True",
         "customdata": [
          [
           20,
           "Dijon",
           2,
           19
          ],
          [
           20,
           "Dijon",
           28,
           0
          ],
          [
           20,
           "Dijon",
           45,
           47
          ],
          [
           20,
           "Dijon",
           61,
           2
          ],
          [
           20,
           "Dijon",
           86,
           5
          ],
          [
           20,
           "Dijon",
           106,
           0
          ],
          [
           20,
           "Dijon",
           128,
           0
          ],
          [
           20,
           "Dijon",
           141,
           1
          ],
          [
           20,
           "Dijon",
           155,
           18
          ],
          [
           20,
           "Dijon",
           184,
           0
          ],
          [
           20,
           "Dijon",
           207,
           1
          ],
          [
           20,
           "Dijon",
           226,
           1
          ],
          [
           20,
           "Dijon",
           248,
           0
          ],
          [
           20,
           "Dijon",
           263,
           3
          ],
          [
           20,
           "Dijon",
           288,
           3
          ],
          [
           20,
           "Dijon",
           297,
           0
          ],
          [
           20,
           "Dijon",
           326,
           2
          ],
          [
           20,
           "Dijon",
           345,
           5
          ],
          [
           20,
           "Dijon",
           370,
           7
          ],
          [
           20,
           "Dijon",
           11,
           20
          ],
          [
           20,
           "Dijon",
           38,
           0
          ],
          [
           20,
           "Dijon",
           57,
           13
          ],
          [
           20,
           "Dijon",
           73,
           1
          ],
          [
           20,
           "Dijon",
           96,
           1
          ],
          [
           20,
           "Dijon",
           119,
           0
          ],
          [
           20,
           "Dijon",
           137,
           2
          ],
          [
           20,
           "Dijon",
           165,
           1
          ],
          [
           20,
           "Dijon",
           180,
           1
          ],
          [
           20,
           "Dijon",
           200,
           9
          ],
          [
           20,
           "Dijon",
           218,
           0
          ],
          [
           20,
           "Dijon",
           238,
           1
          ],
          [
           20,
           "Dijon",
           255,
           0
          ],
          [
           20,
           "Dijon",
           275,
           5
          ],
          [
           20,
           "Dijon",
           310,
           1
          ],
          [
           20,
           "Dijon",
           319,
           29
          ],
          [
           20,
           "Dijon",
           336,
           0
          ],
          [
           20,
           "Dijon",
           358,
           3
          ],
          [
           20,
           "Dijon",
           378,
           0
          ]
         ],
         "hovertemplate": "name=%{customdata[1]}<br>temperature=%{x}<br>id=%{customdata[0]}<br>match_id=%{customdata[2]}<br>rainfall=%{customdata[3]}<extra></extra>",
         "legendgroup": "Dijon",
         "marker": {
          "color": "#EF553B"
         },
         "name": "Dijon",
         "notched": true,
         "offsetgroup": "Dijon",
         "showlegend": false,
         "type": "box",
         "x": [
          22,
          22,
          8,
          10,
          13.5,
          3.5,
          1.5,
          8.5,
          9,
          -1,
          1.5,
          10.5,
          -2.5,
          7.5,
          4.5,
          3.5,
          7.5,
          8.5,
          11.5,
          21.5,
          19.5,
          13.5,
          14.5,
          11.5,
          14,
          9.5,
          12,
          1,
          11,
          1,
          11,
          11,
          10.5,
          14.5,
          11.5,
          12,
          17.5,
          12
         ],
         "xaxis": "x2",
         "yaxis": "y2"
        },
        {
         "alignmentgroup": "True",
         "bingroup": "x",
         "histfunc": "sum",
         "hovertemplate": "name=Lille<br>temperature=%{x}<br>sum of goal=%{y}<extra></extra>",
         "legendgroup": "Lille",
         "marker": {
          "color": "#00cc96"
         },
         "name": "Lille",
         "offsetgroup": "Lille",
         "orientation": "v",
         "showlegend": true,
         "type": "histogram",
         "x": [
          19,
          20,
          10.5,
          11.5,
          14.5,
          10.5,
          3.5,
          5.5,
          8,
          2,
          3,
          1,
          0,
          8,
          11,
          8.5,
          6.5,
          9,
          11,
          15,
          24,
          13.5,
          16.5,
          15,
          3.5,
          8.5,
          12.5,
          2.5,
          3,
          13,
          6,
          11,
          12.5,
          8.5,
          7.5,
          16.5,
          9,
          11.5
         ],
         "xaxis": "x",
         "y": [
          1,
          1,
          2,
          4,
          1,
          4,
          2,
          2,
          0,
          1,
          2,
          1,
          0,
          1,
          2,
          1,
          1,
          2,
          0,
          1,
          1,
          3,
          1,
          2,
          1,
          2,
          3,
          1,
          1,
          3,
          2,
          4,
          0,
          1,
          2,
          3,
          3,
          2
         ],
         "yaxis": "y"
        },
        {
         "alignmentgroup": "True",
         "customdata": [
          [
           1,
           "Lille",
           3,
           1
          ],
          [
           1,
           "Lille",
           24,
           0
          ],
          [
           1,
           "Lille",
           41,
           8
          ],
          [
           1,
           "Lille",
           70,
           2
          ],
          [
           1,
           "Lille",
           89,
           1
          ],
          [
           1,
           "Lille",
           109,
           4
          ],
          [
           1,
           "Lille",
           124,
           0
          ],
          [
           1,
           "Lille",
           139,
           1
          ],
          [
           1,
           "Lille",
           160,
           0
          ],
          [
           1,
           "Lille",
           177,
           2
          ],
          [
           1,
           "Lille",
           198,
           1
          ],
          [
           1,
           "Lille",
           218,
           0
          ],
          [
           1,
           "Lille",
           249,
           0
          ],
          [
           1,
           "Lille",
           269,
           0
          ],
          [
           1,
           "Lille",
           276,
           1
          ],
          [
           1,
           "Lille",
           299,
           1
          ],
          [
           1,
           "Lille",
           321,
           0
          ],
          [
           1,
           "Lille",
           343,
           0
          ],
          [
           1,
           "Lille",
           361,
           6
          ],
          [
           1,
           "Lille",
           14,
           2
          ],
          [
           1,
           "Lille",
           40,
           13
          ],
          [
           1,
           "Lille",
           55,
           2
          ],
          [
           1,
           "Lille",
           78,
           2
          ],
          [
           1,
           "Lille",
           94,
           1
          ],
          [
           1,
           "Lille",
           120,
           0
          ],
          [
           1,
           "Lille",
           141,
           1
          ],
          [
           1,
           "Lille",
           166,
           1
          ],
          [
           1,
           "Lille",
           183,
           0
          ],
          [
           1,
           "Lille",
           208,
           1
          ],
          [
           1,
           "Lille",
           221,
           3
          ],
          [
           1,
           "Lille",
           239,
           1
          ],
          [
           1,
           "Lille",
           259,
           2
          ],
          [
           1,
           "Lille",
           289,
           1
          ],
          [
           1,
           "Lille",
           302,
           0
          ],
          [
           1,
           "Lille",
           311,
           1
          ],
          [
           1,
           "Lille",
           340,
           0
          ],
          [
           1,
           "Lille",
           351,
           1
          ],
          [
           1,
           "Lille",
           371,
           1
          ]
         ],
         "hovertemplate": "name=%{customdata[1]}<br>temperature=%{x}<br>id=%{customdata[0]}<br>match_id=%{customdata[2]}<br>rainfall=%{customdata[3]}<extra></extra>",
         "legendgroup": "Lille",
         "marker": {
          "color": "#00cc96"
         },
         "name": "Lille",
         "notched": true,
         "offsetgroup": "Lille",
         "showlegend": false,
         "type": "box",
         "x": [
          19,
          20,
          10.5,
          11.5,
          14.5,
          10.5,
          3.5,
          5.5,
          8,
          2,
          3,
          1,
          0,
          8,
          11,
          8.5,
          6.5,
          9,
          11,
          15,
          24,
          13.5,
          16.5,
          15,
          3.5,
          8.5,
          12.5,
          2.5,
          3,
          13,
          6,
          11,
          12.5,
          8.5,
          7.5,
          16.5,
          9,
          11.5
         ],
         "xaxis": "x2",
         "yaxis": "y2"
        },
        {
         "alignmentgroup": "True",
         "bingroup": "x",
         "histfunc": "sum",
         "hovertemplate": "name=Monaco<br>temperature=%{x}<br>sum of goal=%{y}<extra></extra>",
         "legendgroup": "Monaco",
         "marker": {
          "color": "#ab63fa"
         },
         "name": "Monaco",
         "offsetgroup": "Monaco",
         "orientation": "v",
         "showlegend": true,
         "type": "histogram",
         "x": [
          25.5,
          26.5,
          17.5,
          16,
          17.5,
          14.5,
          14.5,
          13,
          13.5,
          6,
          10,
          12,
          6.5,
          14,
          12.5,
          14,
          11.5,
          15,
          16,
          17,
          20,
          12,
          14.5,
          16,
          3.5,
          10.5,
          9,
          2,
          10,
          9.5,
          11.5,
          12,
          10,
          1.5,
          12,
          13,
          17.5,
          10.5
         ],
         "xaxis": "x",
         "y": [
          2,
          2,
          3,
          1,
          4,
          3,
          3,
          0,
          2,
          3,
          3,
          2,
          2,
          2,
          0,
          4,
          3,
          2,
          2,
          1,
          1,
          0,
          1,
          2,
          1,
          1,
          1,
          5,
          3,
          2,
          4,
          2,
          0,
          4,
          3,
          1,
          1,
          0
         ],
         "yaxis": "y"
        },
        {
         "alignmentgroup": "True",
         "customdata": [
          [
           3,
           "Monaco",
           4,
           1
          ],
          [
           3,
           "Monaco",
           29,
           0
          ],
          [
           3,
           "Monaco",
           47,
           1
          ],
          [
           3,
           "Monaco",
           66,
           1
          ],
          [
           3,
           "Monaco",
           88,
           0
          ],
          [
           3,
           "Monaco",
           102,
           3
          ],
          [
           3,
           "Monaco",
           117,
           0
          ],
          [
           3,
           "Monaco",
           149,
           1
          ],
          [
           3,
           "Monaco",
           170,
           0
          ],
          [
           3,
           "Monaco",
           185,
           0
          ],
          [
           3,
           "Monaco",
           203,
           7
          ],
          [
           3,
           "Monaco",
           228,
           0
          ],
          [
           3,
           "Monaco",
           244,
           1
          ],
          [
           3,
           "Monaco",
           264,
           0
          ],
          [
           3,
           "Monaco",
           289,
           1
          ],
          [
           3,
           "Monaco",
           301,
           7
          ],
          [
           3,
           "Monaco",
           319,
           29
          ],
          [
           3,
           "Monaco",
           350,
           5
          ],
          [
           3,
           "Monaco",
           363,
           0
          ],
          [
           3,
           "Monaco",
           18,
           1
          ],
          [
           3,
           "Monaco",
           33,
           19
          ],
          [
           3,
           "Monaco",
           56,
           7
          ],
          [
           3,
           "Monaco",
           79,
           0
          ],
          [
           3,
           "Monaco",
           99,
           1
          ],
          [
           3,
           "Monaco",
           124,
           0
          ],
          [
           3,
           "Monaco",
           132,
           7
          ],
          [
           3,
           "Monaco",
           155,
           18
          ],
          [
           3,
           "Monaco",
           172,
           0
          ],
          [
           3,
           "Monaco",
           191,
           0
          ],
          [
           3,
           "Monaco",
           219,
           5
          ],
          [
           3,
           "Monaco",
           235,
           1
          ],
          [
           3,
           "Monaco",
           260,
           0
          ],
          [
           3,
           "Monaco",
           278,
           0
          ],
          [
           3,
           "Monaco",
           291,
           0
          ],
          [
           3,
           "Monaco",
           329,
           0
          ],
          [
           3,
           "Monaco",
           339,
           0
          ],
          [
           3,
           "Monaco",
           359,
           2
          ],
          [
           3,
           "Monaco",
           373,
           2
          ]
         ],
         "hovertemplate": "name=%{customdata[1]}<br>temperature=%{x}<br>id=%{customdata[0]}<br>match_id=%{customdata[2]}<br>rainfall=%{customdata[3]}<extra></extra>",
         "legendgroup": "Monaco",
         "marker": {
          "color": "#ab63fa"
         },
         "name": "Monaco",
         "notched": true,
         "offsetgroup": "Monaco",
         "showlegend": false,
         "type": "box",
         "x": [
          25.5,
          26.5,
          17.5,
          16,
          17.5,
          14.5,
          14.5,
          13,
          13.5,
          6,
          10,
          12,
          6.5,
          14,
          12.5,
          14,
          11.5,
          15,
          16,
          17,
          20,
          12,
          14.5,
          16,
          3.5,
          10.5,
          9,
          2,
          10,
          9.5,
          11.5,
          12,
          10,
          1.5,
          12,
          13,
          17.5,
          10.5
         ],
         "xaxis": "x2",
         "yaxis": "y2"
        },
        {
         "alignmentgroup": "True",
         "bingroup": "x",
         "histfunc": "sum",
         "hovertemplate": "name=Lorient<br>temperature=%{x}<br>sum of goal=%{y}<extra></extra>",
         "legendgroup": "Lorient",
         "marker": {
          "color": "#FFA15A"
         },
         "name": "Lorient",
         "offsetgroup": "Lorient",
         "orientation": "v",
         "showlegend": true,
         "type": "histogram",
         "x": [
          17,
          18,
          12.5,
          15.5,
          15.5,
          9.5,
          12,
          11,
          2,
          11,
          9,
          7,
          11,
          7.5,
          7.5,
          8,
          13.5,
          8.5,
          12,
          14.5,
          17,
          11,
          9,
          13.5,
          10.5,
          4,
          8.5,
          12.5,
          2.5,
          13.5,
          10,
          6.5,
          11,
          6.5,
          2,
          11,
          15,
          12
         ],
         "xaxis": "x",
         "y": [
          3,
          2,
          1,
          0,
          0,
          0,
          3,
          0,
          2,
          3,
          3,
          1,
          1,
          2,
          1,
          1,
          4,
          2,
          2,
          0,
          2,
          1,
          3,
          0,
          0,
          0,
          0,
          2,
          1,
          0,
          1,
          2,
          1,
          1,
          1,
          2,
          1,
          1
         ],
         "yaxis": "y"
        },
        {
         "alignmentgroup": "True",
         "customdata": [
          [
           16,
           "Lorient",
           5,
           1
          ],
          [
           16,
           "Lorient",
           26,
           0
          ],
          [
           16,
           "Lorient",
           49,
           0
          ],
          [
           16,
           "Lorient",
           72,
           18
          ],
          [
           16,
           "Lorient",
           98,
           1
          ],
          [
           16,
           "Lorient",
           116,
           0
          ],
          [
           16,
           "Lorient",
           138,
           13
          ],
          [
           16,
           "Lorient",
           159,
           5
          ],
          [
           16,
           "Lorient",
           172,
           0
          ],
          [
           16,
           "Lorient",
           200,
           9
          ],
          [
           16,
           "Lorient",
           214,
           10
          ],
          [
           16,
           "Lorient",
           231,
           0
          ],
          [
           16,
           "Lorient",
           259,
           2
          ],
          [
           16,
           "Lorient",
           267,
           0
          ],
          [
           16,
           "Lorient",
           287,
           1
          ],
          [
           16,
           "Lorient",
           308,
           0
          ],
          [
           16,
           "Lorient",
           338,
           0
          ],
          [
           16,
           "Lorient",
           347,
           2
          ],
          [
           16,
           "Lorient",
           369,
           7
          ],
          [
           16,
           "Lorient",
           16,
           2
          ],
          [
           16,
           "Lorient",
           36,
           0
          ],
          [
           16,
           "Lorient",
           58,
           18
          ],
          [
           16,
           "Lorient",
           63,
           0
          ],
          [
           16,
           "Lorient",
           86,
           5
          ],
          [
           16,
           "Lorient",
           109,
           4
          ],
          [
           16,
           "Lorient",
           125,
           2
          ],
          [
           16,
           "Lorient",
           147,
           0
          ],
          [
           16,
           "Lorient",
           164,
           0
          ],
          [
           16,
           "Lorient",
           189,
           0
          ],
          [
           16,
           "Lorient",
           210,
           0
          ],
          [
           16,
           "Lorient",
           222,
           12
          ],
          [
           16,
           "Lorient",
           244,
           1
          ],
          [
           16,
           "Lorient",
           279,
           0
          ],
          [
           16,
           "Lorient",
           298,
           1
          ],
          [
           16,
           "Lorient",
           315,
           16
          ],
          [
           16,
           "Lorient",
           323,
           0
          ],
          [
           16,
           "Lorient",
           353,
           0
          ],
          [
           16,
           "Lorient",
           380,
           2
          ]
         ],
         "hovertemplate": "name=%{customdata[1]}<br>temperature=%{x}<br>id=%{customdata[0]}<br>match_id=%{customdata[2]}<br>rainfall=%{customdata[3]}<extra></extra>",
         "legendgroup": "Lorient",
         "marker": {
          "color": "#FFA15A"
         },
         "name": "Lorient",
         "notched": true,
         "offsetgroup": "Lorient",
         "showlegend": false,
         "type": "box",
         "x": [
          17,
          18,
          12.5,
          15.5,
          15.5,
          9.5,
          12,
          11,
          2,
          11,
          9,
          7,
          11,
          7.5,
          7.5,
          8,
          13.5,
          8.5,
          12,
          14.5,
          17,
          11,
          9,
          13.5,
          10.5,
          4,
          8.5,
          12.5,
          2.5,
          13.5,
          10,
          6.5,
          11,
          6.5,
          2,
          11,
          15,
          12
         ],
         "xaxis": "x2",
         "yaxis": "y2"
        },
        {
         "alignmentgroup": "True",
         "bingroup": "x",
         "histfunc": "sum",
         "hovertemplate": "name=Nîmes<br>temperature=%{x}<br>sum of goal=%{y}<extra></extra>",
         "legendgroup": "Nîmes",
         "marker": {
          "color": "#19d3f3"
         },
         "name": "Nîmes",
         "offsetgroup": "Nîmes",
         "orientation": "v",
         "showlegend": true,
         "type": "histogram",
         "x": [
          26.5,
          27,
          12,
          12.5,
          16.5,
          17,
          9,
          13,
          12,
          2.5,
          13.5,
          11.5,
          12.5,
          11.5,
          10.5,
          11,
          11.5,
          13.5,
          16.5,
          14,
          25.5,
          16,
          14.5,
          6.5,
          14.5,
          12,
          8.5,
          1.5,
          6,
          9.5,
          11,
          -2.5,
          12,
          8.5,
          6,
          8.5,
          16.5,
          10
         ],
         "xaxis": "x",
         "y": [
          4,
          2,
          1,
          0,
          0,
          1,
          0,
          0,
          1,
          0,
          1,
          3,
          2,
          1,
          1,
          0,
          1,
          2,
          2,
          1,
          0,
          1,
          0,
          1,
          0,
          0,
          2,
          0,
          2,
          1,
          0,
          2,
          1,
          2,
          1,
          1,
          3,
          0
         ],
         "yaxis": "y"
        },
        {
         "alignmentgroup": "True",
         "customdata": [
          [
           19,
           "Nîmes",
           6,
           0
          ],
          [
           19,
           "Nîmes",
           25,
           0
          ],
          [
           19,
           "Nîmes",
           46,
           1
          ],
          [
           19,
           "Nîmes",
           62,
           0
          ],
          [
           19,
           "Nîmes",
           85,
           0
          ],
          [
           19,
           "Nîmes",
           97,
           33
          ],
          [
           19,
           "Nîmes",
           121,
           2
          ],
          [
           19,
           "Nîmes",
           144,
           5
          ],
          [
           19,
           "Nîmes",
           165,
           1
          ],
          [
           19,
           "Nîmes",
           183,
           0
          ],
          [
           19,
           "Nîmes",
           210,
           0
          ],
          [
           19,
           "Nîmes",
           235,
           1
          ],
          [
           19,
           "Nîmes",
           258,
           0
          ],
          [
           19,
           "Nîmes",
           268,
           4
          ],
          [
           19,
           "Nîmes",
           284,
           0
          ],
          [
           19,
           "Nîmes",
           309,
           0
          ],
          [
           19,
           "Nîmes",
           328,
           0
          ],
          [
           19,
           "Nîmes",
           346,
           1
          ],
          [
           19,
           "Nîmes",
           364,
           1
          ],
          [
           19,
           "Nîmes",
           15,
           1
          ],
          [
           19,
           "Nîmes",
           31,
           0
          ],
          [
           19,
           "Nîmes",
           54,
           2
          ],
          [
           19,
           "Nîmes",
           76,
           7
          ],
          [
           19,
           "Nîmes",
           107,
           0
          ],
          [
           19,
           "Nîmes",
           117,
           0
          ],
          [
           19,
           "Nîmes",
           138,
           13
          ],
          [
           19,
           "Nîmes",
           158,
           15
          ],
          [
           19,
           "Nîmes",
           175,
           6
          ],
          [
           19,
           "Nîmes",
           192,
           0
          ],
          [
           19,
           "Nîmes",
           216,
           10
          ],
          [
           19,
           "Nîmes",
           227,
           12
          ],
          [
           19,
           "Nîmes",
           248,
           0
          ],
          [
           19,
           "Nîmes",
           274,
           0
          ],
          [
           19,
           "Nîmes",
           299,
           1
          ],
          [
           19,
           "Nîmes",
           318,
           1
          ],
          [
           19,
           "Nîmes",
           335,
           0
          ],
          [
           19,
           "Nîmes",
           356,
           1
          ],
          [
           19,
           "Nîmes",
           376,
           2
          ]
         ],
         "hovertemplate": "name=%{customdata[1]}<br>temperature=%{x}<br>id=%{customdata[0]}<br>match_id=%{customdata[2]}<br>rainfall=%{customdata[3]}<extra></extra>",
         "legendgroup": "Nîmes",
         "marker": {
          "color": "#19d3f3"
         },
         "name": "Nîmes",
         "notched": true,
         "offsetgroup": "Nîmes",
         "showlegend": false,
         "type": "box",
         "x": [
          26.5,
          27,
          12,
          12.5,
          16.5,
          17,
          9,
          13,
          12,
          2.5,
          13.5,
          11.5,
          12.5,
          11.5,
          10.5,
          11,
          11.5,
          13.5,
          16.5,
          14,
          25.5,
          16,
          14.5,
          6.5,
          14.5,
          12,
          8.5,
          1.5,
          6,
          9.5,
          11,
          -2.5,
          12,
          8.5,
          6,
          8.5,
          16.5,
          10
         ],
         "xaxis": "x2",
         "yaxis": "y2"
        },
        {
         "alignmentgroup": "True",
         "bingroup": "x",
         "histfunc": "sum",
         "hovertemplate": "name=Nice<br>temperature=%{x}<br>sum of goal=%{y}<extra></extra>",
         "legendgroup": "Nice",
         "marker": {
          "color": "#FF6692"
         },
         "name": "Nice",
         "offsetgroup": "Nice",
         "orientation": "v",
         "showlegend": true,
         "type": "histogram",
         "x": [
          25.5,
          23,
          15.5,
          16.5,
          16,
          14,
          11,
          12.5,
          12.5,
          8.5,
          11.5,
          12.5,
          11.5,
          12,
          9,
          10.5,
          16,
          16.5,
          16.5,
          16.5,
          25,
          11.5,
          6.5,
          17.5,
          11.5,
          2.5,
          13,
          4,
          -1.5,
          4,
          12,
          -1.5,
          6.5,
          7.5,
          7.5,
          7.5,
          9,
          14.5
         ],
         "xaxis": "x",
         "y": [
          2,
          0,
          2,
          1,
          1,
          1,
          0,
          1,
          2,
          0,
          0,
          3,
          1,
          2,
          3,
          0,
          3,
          3,
          0,
          2,
          1,
          0,
          3,
          3,
          2,
          0,
          2,
          0,
          1,
          1,
          1,
          1,
          2,
          1,
          2,
          0,
          0,
          3
         ],
         "yaxis": "y"
        },
        {
         "alignmentgroup": "True",
         "customdata": [
          [
           9,
           "Nice",
           7,
           1
          ],
          [
           9,
           "Nice",
           34,
           16
          ],
          [
           9,
           "Nice",
           53,
           22
          ],
          [
           9,
           "Nice",
           78,
           2
          ],
          [
           9,
           "Nice",
           99,
           1
          ],
          [
           9,
           "Nice",
           119,
           0
          ],
          [
           9,
           "Nice",
           134,
           0
          ],
          [
           9,
           "Nice",
           153,
           4
          ],
          [
           9,
           "Nice",
           164,
           0
          ],
          [
           9,
           "Nice",
           196,
           1
          ],
          [
           9,
           "Nice",
           213,
           5
          ],
          [
           9,
           "Nice",
           237,
           10
          ],
          [
           9,
           "Nice",
           256,
           0
          ],
          [
           9,
           "Nice",
           274,
           0
          ],
          [
           9,
           "Nice",
           293,
           0
          ],
          [
           9,
           "Nice",
           316,
           30
          ],
          [
           9,
           "Nice",
           334,
           0
          ],
          [
           9,
           "Nice",
           357,
           0
          ],
          [
           9,
           "Nice",
           368,
           0
          ],
          [
           9,
           "Nice",
           13,
           1
          ],
          [
           9,
           "Nice",
           22,
           3
          ],
          [
           9,
           "Nice",
           44,
           1
          ],
          [
           9,
           "Nice",
           69,
           0
          ],
          [
           9,
           "Nice",
           84,
           5
          ],
          [
           9,
           "Nice",
           110,
           1
          ],
          [
           9,
           "Nice",
           129,
           0
          ],
          [
           9,
           "Nice",
           144,
           5
          ],
          [
           9,
           "Nice",
           174,
           8
          ],
          [
           9,
           "Nice",
           188,
           0
          ],
          [
           9,
           "Nice",
           202,
           1
          ],
          [
           9,
           "Nice",
           228,
           0
          ],
          [
           9,
           "Nice",
           241,
           0
          ],
          [
           9,
           "Nice",
           261,
           0
          ],
          [
           9,
           "Nice",
           287,
           1
          ],
          [
           9,
           "Nice",
           306,
           0
          ],
          [
           9,
           "Nice",
           326,
           2
          ],
          [
           9,
           "Nice",
           343,
           0
          ],
          [
           9,
           "Nice",
           374,
           1
          ]
         ],
         "hovertemplate": "name=%{customdata[1]}<br>temperature=%{x}<br>id=%{customdata[0]}<br>match_id=%{customdata[2]}<br>rainfall=%{customdata[3]}<extra></extra>",
         "legendgroup": "Nice",
         "marker": {
          "color": "#FF6692"
         },
         "name": "Nice",
         "notched": true,
         "offsetgroup": "Nice",
         "showlegend": false,
         "type": "box",
         "x": [
          25.5,
          23,
          15.5,
          16.5,
          16,
          14,
          11,
          12.5,
          12.5,
          8.5,
          11.5,
          12.5,
          11.5,
          12,
          9,
          10.5,
          16,
          16.5,
          16.5,
          16.5,
          25,
          11.5,
          6.5,
          17.5,
          11.5,
          2.5,
          13,
          4,
          -1.5,
          4,
          12,
          -1.5,
          6.5,
          7.5,
          7.5,
          7.5,
          9,
          14.5
         ],
         "xaxis": "x2",
         "yaxis": "y2"
        },
        {
         "alignmentgroup": "True",
         "bingroup": "x",
         "histfunc": "sum",
         "hovertemplate": "name=Montpellier<br>temperature=%{x}<br>sum of goal=%{y}<extra></extra>",
         "legendgroup": "Montpellier",
         "marker": {
          "color": "#B6E880"
         },
         "name": "Montpellier",
         "offsetgroup": "Montpellier",
         "orientation": "v",
         "showlegend": true,
         "type": "histogram",
         "x": [
          23.5,
          25,
          23,
          16,
          15.5,
          9,
          8,
          13,
          12.5,
          4.5,
          10,
          11,
          11,
          11.5,
          11,
          8,
          10,
          14,
          16.5,
          14,
          8,
          16,
          15.5,
          17,
          9.5,
          8,
          10,
          4.5,
          6,
          10,
          -3.5,
          7,
          10.5,
          8,
          6.5,
          16,
          18,
          12
         ],
         "xaxis": "x",
         "y": [
          2,
          3,
          4,
          0,
          0,
          4,
          1,
          0,
          2,
          1,
          2,
          1,
          4,
          2,
          1,
          3,
          3,
          1,
          0,
          1,
          2,
          1,
          1,
          2,
          1,
          3,
          2,
          1,
          0,
          1,
          2,
          0,
          1,
          1,
          1,
          1,
          3,
          2
         ],
         "yaxis": "y"
        },
        {
         "alignmentgroup": "True",
         "customdata": [
          [
           8,
           "Montpellier",
           8,
           0
          ],
          [
           8,
           "Montpellier",
           22,
           3
          ],
          [
           8,
           "Montpellier",
           35,
           16
          ],
          [
           8,
           "Montpellier",
           54,
           2
          ],
          [
           8,
           "Montpellier",
           74,
           0
          ],
          [
           8,
           "Montpellier",
           105,
           0
          ],
          [
           8,
           "Montpellier",
           123,
           0
          ],
          [
           8,
           "Montpellier",
           142,
           9
          ],
          [
           8,
           "Montpellier",
           166,
           1
          ],
          [
           8,
           "Montpellier",
           187,
           0
          ],
          [
           8,
           "Montpellier",
           191,
           0
          ],
          [
           8,
           "Montpellier",
           212,
           5
          ],
          [
           8,
           "Montpellier",
           238,
           1
          ],
          [
           8,
           "Montpellier",
           254,
           0
          ],
          [
           8,
           "Montpellier",
           279,
           0
          ],
          [
           8,
           "Montpellier",
           295,
           0
          ],
          [
           8,
           "Montpellier",
           313,
           16
          ],
          [
           8,
           "Montpellier",
           349,
           1
          ],
          [
           8,
           "Montpellier",
           367,
           3
          ],
          [
           8,
           "Montpellier",
           12,
           4
          ],
          [
           8,
           "Montpellier",
           45,
           47
          ],
          [
           8,
           "Montpellier",
           66,
           1
          ],
          [
           8,
           "Montpellier",
           83,
           0
          ],
          [
           8,
           "Montpellier",
           92,
           4
          ],
          [
           8,
           "Montpellier",
           116,
           0
          ],
          [
           8,
           "Montpellier",
           133,
           3
          ],
          [
           8,
           "Montpellier",
           154,
           5
          ],
          [
           8,
           "Montpellier",
           179,
           0
          ],
          [
           8,
           "Montpellier",
           201,
           12
          ],
          [
           8,
           "Montpellier",
           223,
           27
          ],
          [
           8,
           "Montpellier",
           243,
           3
          ],
          [
           8,
           "Montpellier",
           266,
           0
          ],
          [
           8,
           "Montpellier",
           284,
           0
          ],
          [
           8,
           "Montpellier",
           304,
           0
          ],
          [
           8,
           "Montpellier",
           321,
           0
          ],
          [
           8,
           "Montpellier",
           334,
           0
          ],
          [
           8,
           "Montpellier",
           355,
           0
          ],
          [
           8,
           "Montpellier",
           377,
           1
          ]
         ],
         "hovertemplate": "name=%{customdata[1]}<br>temperature=%{x}<br>id=%{customdata[0]}<br>match_id=%{customdata[2]}<br>rainfall=%{customdata[3]}<extra></extra>",
         "legendgroup": "Montpellier",
         "marker": {
          "color": "#B6E880"
         },
         "name": "Montpellier",
         "notched": true,
         "offsetgroup": "Montpellier",
         "showlegend": false,
         "type": "box",
         "x": [
          23.5,
          25,
          23,
          16,
          15.5,
          9,
          8,
          13,
          12.5,
          4.5,
          10,
          11,
          11,
          11.5,
          11,
          8,
          10,
          14,
          16.5,
          14,
          8,
          16,
          15.5,
          17,
          9.5,
          8,
          10,
          4.5,
          6,
          10,
          -3.5,
          7,
          10.5,
          8,
          6.5,
          16,
          18,
          12
         ],
         "xaxis": "x2",
         "yaxis": "y2"
        },
        {
         "alignmentgroup": "True",
         "bingroup": "x",
         "histfunc": "sum",
         "hovertemplate": "name=Paris-SG<br>temperature=%{x}<br>sum of goal=%{y}<extra></extra>",
         "legendgroup": "Paris-SG",
         "marker": {
          "color": "#FF97FF"
         },
         "name": "Paris-SG",
         "offsetgroup": "Paris-SG",
         "orientation": "v",
         "showlegend": true,
         "type": "histogram",
         "x": [
          27,
          26,
          13.5,
          14.5,
          13.5,
          9.5,
          6,
          8.5,
          12.5,
          2,
          6,
          11,
          -1.5,
          12,
          7.5,
          8.5,
          8.5,
          11,
          13,
          19,
          23,
          13,
          12.5,
          14,
          14.5,
          8,
          8,
          -3,
          3,
          9,
          11.5,
          7.5,
          14,
          4,
          13,
          10,
          14.5,
          10.5
         ],
         "xaxis": "x",
         "y": [
          1,
          0,
          6,
          4,
          3,
          2,
          0,
          2,
          4,
          3,
          4,
          3,
          2,
          0,
          1,
          0,
          3,
          2,
          4,
          0,
          3,
          2,
          4,
          3,
          2,
          3,
          0,
          1,
          1,
          2,
          2,
          4,
          1,
          4,
          4,
          3,
          1,
          2
         ],
         "yaxis": "y"
        },
        {
         "alignmentgroup": "True",
         "customdata": [
          [
           2,
           "Paris-SG",
           9,
           1
          ],
          [
           2,
           "Paris-SG",
           30,
           0
          ],
          [
           2,
           "Paris-SG",
           51,
           31
          ],
          [
           2,
           "Paris-SG",
           73,
           1
          ],
          [
           2,
           "Paris-SG",
           93,
           0
          ],
          [
           2,
           "Paris-SG",
           113,
           0
          ],
          [
           2,
           "Paris-SG",
           140,
           1
          ],
          [
           2,
           "Paris-SG",
           147,
           0
          ],
          [
           2,
           "Paris-SG",
           168,
           18
          ],
          [
           2,
           "Paris-SG",
           182,
           0
          ],
          [
           2,
           "Paris-SG",
           201,
           12
          ],
          [
           2,
           "Paris-SG",
           227,
           12
          ],
          [
           2,
           "Paris-SG",
           241,
           0
          ],
          [
           2,
           "Paris-SG",
           260,
           0
          ],
          [
           2,
           "Paris-SG",
           290,
           2
          ],
          [
           2,
           "Paris-SG",
           302,
           0
          ],
          [
           2,
           "Paris-SG",
           324,
           0
          ],
          [
           2,
           "Paris-SG",
           342,
           0
          ],
          [
           2,
           "Paris-SG",
           362,
           3
          ],
          [
           2,
           "Paris-SG",
           20,
           1
          ],
          [
           2,
           "Paris-SG",
           34,
           16
          ],
          [
           2,
           "Paris-SG",
           50,
           21
          ],
          [
           2,
           "Paris-SG",
           62,
           0
          ],
          [
           2,
           "Paris-SG",
           82,
           0
          ],
          [
           2,
           "Paris-SG",
           102,
           3
          ],
          [
           2,
           "Paris-SG",
           123,
           0
          ],
          [
           2,
           "Paris-SG",
           160,
           0
          ],
          [
           2,
           "Paris-SG",
           178,
           0
          ],
          [
           2,
           "Paris-SG",
           193,
           4
          ],
          [
           2,
           "Paris-SG",
           214,
           10
          ],
          [
           2,
           "Paris-SG",
           240,
           4
          ],
          [
           2,
           "Paris-SG",
           263,
           3
          ],
          [
           2,
           "Paris-SG",
           277,
           0
          ],
          [
           2,
           "Paris-SG",
           300,
           0
          ],
          [
           2,
           "Paris-SG",
           312,
           3
          ],
          [
           2,
           "Paris-SG",
           333,
           0
          ],
          [
           2,
           "Paris-SG",
           360,
           0
          ],
          [
           2,
           "Paris-SG",
           372,
           11
          ]
         ],
         "hovertemplate": "name=%{customdata[1]}<br>temperature=%{x}<br>id=%{customdata[0]}<br>match_id=%{customdata[2]}<br>rainfall=%{customdata[3]}<extra></extra>",
         "legendgroup": "Paris-SG",
         "marker": {
          "color": "#FF97FF"
         },
         "name": "Paris-SG",
         "notched": true,
         "offsetgroup": "Paris-SG",
         "showlegend": false,
         "type": "box",
         "x": [
          27,
          26,
          13.5,
          14.5,
          13.5,
          9.5,
          6,
          8.5,
          12.5,
          2,
          6,
          11,
          -1.5,
          12,
          7.5,
          8.5,
          8.5,
          11,
          13,
          19,
          23,
          13,
          12.5,
          14,
          14.5,
          8,
          8,
          -3,
          3,
          9,
          11.5,
          7.5,
          14,
          4,
          13,
          10,
          14.5,
          10.5
         ],
         "xaxis": "x2",
         "yaxis": "y2"
        },
        {
         "alignmentgroup": "True",
         "bingroup": "x",
         "histfunc": "sum",
         "hovertemplate": "name=Marseille<br>temperature=%{x}<br>sum of goal=%{y}<extra></extra>",
         "legendgroup": "Marseille",
         "marker": {
          "color": "#FECB52"
         },
         "name": "Marseille",
         "offsetgroup": "Marseille",
         "orientation": "v",
         "showlegend": true,
         "type": "histogram",
         "x": [
          26.5,
          24,
          14.5,
          15,
          12.5,
          11.5,
          15.5,
          10.5,
          14,
          4.5,
          6,
          12,
          11.5,
          13,
          11.5,
          14.5,
          11,
          16,
          15.5,
          14.5,
          26,
          12.5,
          15.5,
          9,
          9,
          9.5,
          12.5,
          -1,
          10,
          9,
          8,
          14,
          11,
          9,
          10,
          9,
          17,
          10.5
         ],
         "xaxis": "x",
         "y": [
          0,
          1,
          1,
          3,
          0,
          3,
          3,
          2,
          1,
          3,
          1,
          1,
          0,
          1,
          3,
          2,
          3,
          1,
          3,
          3,
          1,
          1,
          1,
          1,
          2,
          1,
          1,
          0,
          1,
          2,
          0,
          1,
          0,
          0,
          3,
          3,
          0,
          1
         ],
         "yaxis": "y"
        },
        {
         "alignmentgroup": "True",
         "customdata": [
          [
           5,
           "Marseille",
           10,
           0
          ],
          [
           5,
           "Marseille",
           40,
           13
          ],
          [
           5,
           "Marseille",
           43,
           0
          ],
          [
           5,
           "Marseille",
           64,
           0
          ],
          [
           5,
           "Marseille",
           90,
           6
          ],
          [
           5,
           "Marseille",
           110,
           1
          ],
          [
           5,
           "Marseille",
           112,
           4
          ],
          [
           5,
           "Marseille",
           132,
           7
          ],
          [
           5,
           "Marseille",
           152,
           1
          ],
          [
           5,
           "Marseille",
           179,
           0
          ],
          [
           5,
           "Marseille",
           192,
           0
          ],
          [
           5,
           "Marseille",
           220,
           0
          ],
          [
           5,
           "Marseille",
           240,
           4
          ],
          [
           5,
           "Marseille",
           270,
           4
          ],
          [
           5,
           "Marseille",
           283,
           0
          ],
          [
           5,
           "Marseille",
           310,
           1
          ],
          [
           5,
           "Marseille",
           323,
           0
          ],
          [
           5,
           "Marseille",
           341,
           4
          ],
          [
           5,
           "Marseille",
           365,
           1
          ],
          [
           5,
           "Marseille",
           19,
           1
          ],
          [
           5,
           "Marseille",
           30,
           0
          ],
          [
           5,
           "Marseille",
           60,
           5
          ],
          [
           5,
           "Marseille",
           72,
           18
          ],
          [
           5,
           "Marseille",
           91,
           0
          ],
          [
           5,
           "Marseille",
           121,
           2
          ],
          [
           5,
           "Marseille",
           148,
           1
          ],
          [
           5,
           "Marseille",
           169,
           6
          ],
          [
           5,
           "Marseille",
           184,
           0
          ],
          [
           5,
           "Marseille",
           203,
           7
          ],
          [
           5,
           "Marseille",
           229,
           21
          ],
          [
           5,
           "Marseille",
           250,
           0
          ],
          [
           5,
           "Marseille",
           253,
           0
          ],
          [
           5,
           "Marseille",
           276,
           1
          ],
          [
           5,
           "Marseille",
           293,
           0
          ],
          [
           5,
           "Marseille",
           313,
           16
          ],
          [
           5,
           "Marseille",
           331,
           0
          ],
          [
           5,
           "Marseille",
           354,
           1
          ],
          [
           5,
           "Marseille",
           375,
           1
          ]
         ],
         "hovertemplate": "name=%{customdata[1]}<br>temperature=%{x}<br>id=%{customdata[0]}<br>match_id=%{customdata[2]}<br>rainfall=%{customdata[3]}<extra></extra>",
         "legendgroup": "Marseille",
         "marker": {
          "color": "#FECB52"
         },
         "name": "Marseille",
         "notched": true,
         "offsetgroup": "Marseille",
         "showlegend": false,
         "type": "box",
         "x": [
          26.5,
          24,
          14.5,
          15,
          12.5,
          11.5,
          15.5,
          10.5,
          14,
          4.5,
          6,
          12,
          11.5,
          13,
          11.5,
          14.5,
          11,
          16,
          15.5,
          14.5,
          26,
          12.5,
          15.5,
          9,
          9,
          9.5,
          12.5,
          -1,
          10,
          9,
          8,
          14,
          11,
          9,
          10,
          9,
          17,
          10.5
         ],
         "xaxis": "x2",
         "yaxis": "y2"
        },
        {
         "alignmentgroup": "True",
         "bingroup": "x",
         "histfunc": "sum",
         "hovertemplate": "name=Lyon<br>temperature=%{x}<br>sum of goal=%{y}<extra></extra>",
         "legendgroup": "Lyon",
         "marker": {
          "color": "#636efa"
         },
         "name": "Lyon",
         "offsetgroup": "Lyon",
         "orientation": "v",
         "showlegend": true,
         "type": "histogram",
         "x": [
          21.5,
          25.5,
          12.5,
          14.5,
          13.5,
          5,
          9.5,
          11,
          0,
          3,
          11.5,
          12.5,
          -3.5,
          12,
          4,
          13,
          16.5,
          15,
          14.5,
          23.5,
          23.5,
          12.5,
          10,
          14.5,
          8,
          2.5,
          6,
          12.5,
          1,
          1.5,
          10.5,
          10,
          13,
          6.5,
          7.5,
          8.5,
          15,
          16.5
         ],
         "xaxis": "x",
         "y": [
          4,
          0,
          1,
          4,
          2,
          3,
          2,
          3,
          3,
          0,
          2,
          3,
          1,
          1,
          2,
          3,
          2,
          4,
          2,
          1,
          0,
          1,
          3,
          1,
          1,
          3,
          1,
          4,
          2,
          5,
          1,
          3,
          1,
          1,
          1,
          2,
          3,
          5
         ],
         "yaxis": "y"
        },
        {
         "alignmentgroup": "True",
         "customdata": [
          [
           4,
           "Lyon",
           11,
           20
          ],
          [
           4,
           "Lyon",
           31,
           0
          ],
          [
           4,
           "Lyon",
           60,
           5
          ],
          [
           4,
           "Lyon",
           79,
           0
          ],
          [
           4,
           "Lyon",
           100,
           4
          ],
          [
           4,
           "Lyon",
           114,
           0
          ],
          [
           4,
           "Lyon",
           146,
           24
          ],
          [
           4,
           "Lyon",
           167,
           0
          ],
          [
           4,
           "Lyon",
           176,
           0
          ],
          [
           4,
           "Lyon",
           199,
           5
          ],
          [
           4,
           "Lyon",
           211,
           11
          ],
          [
           4,
           "Lyon",
           232,
           1
          ],
          [
           4,
           "Lyon",
           243,
           3
          ],
          [
           4,
           "Lyon",
           271,
           0
          ],
          [
           4,
           "Lyon",
           300,
           0
          ],
          [
           4,
           "Lyon",
           320,
           14
          ],
          [
           4,
           "Lyon",
           340,
           0
          ],
          [
           4,
           "Lyon",
           353,
           0
          ],
          [
           4,
           "Lyon",
           374,
           1
          ],
          [
           4,
           "Lyon",
           8,
           0
          ],
          [
           4,
           "Lyon",
           21,
           0
          ],
          [
           4,
           "Lyon",
           49,
           0
          ],
          [
           4,
           "Lyon",
           65,
           2
          ],
          [
           4,
           "Lyon",
           89,
           1
          ],
          [
           4,
           "Lyon",
           108,
           0
          ],
          [
           4,
           "Lyon",
           130,
           0
          ],
          [
           4,
           "Lyon",
           140,
           1
          ],
          [
           4,
           "Lyon",
           153,
           4
          ],
          [
           4,
           "Lyon",
           181,
           0
          ],
          [
           4,
           "Lyon",
           209,
           1
          ],
          [
           4,
           "Lyon",
           226,
           1
          ],
          [
           4,
           "Lyon",
           251,
           3
          ],
          [
           4,
           "Lyon",
           270,
           4
          ],
          [
           4,
           "Lyon",
           281,
           3
          ],
          [
           4,
           "Lyon",
           303,
           0
          ],
          [
           4,
           "Lyon",
           330,
           0
          ],
          [
           4,
           "Lyon",
           350,
           5
          ],
          [
           4,
           "Lyon",
           364,
           1
          ]
         ],
         "hovertemplate": "name=%{customdata[1]}<br>temperature=%{x}<br>id=%{customdata[0]}<br>match_id=%{customdata[2]}<br>rainfall=%{customdata[3]}<extra></extra>",
         "legendgroup": "Lyon",
         "marker": {
          "color": "#636efa"
         },
         "name": "Lyon",
         "notched": true,
         "offsetgroup": "Lyon",
         "showlegend": false,
         "type": "box",
         "x": [
          21.5,
          25.5,
          12.5,
          14.5,
          13.5,
          5,
          9.5,
          11,
          0,
          3,
          11.5,
          12.5,
          -3.5,
          12,
          4,
          13,
          16.5,
          15,
          14.5,
          23.5,
          23.5,
          12.5,
          10,
          14.5,
          8,
          2.5,
          6,
          12.5,
          1,
          1.5,
          10.5,
          10,
          13,
          6.5,
          7.5,
          8.5,
          15,
          16.5
         ],
         "xaxis": "x2",
         "yaxis": "y2"
        },
        {
         "alignmentgroup": "True",
         "bingroup": "x",
         "histfunc": "sum",
         "hovertemplate": "name=Rennes<br>temperature=%{x}<br>sum of goal=%{y}<extra></extra>",
         "legendgroup": "Rennes",
         "marker": {
          "color": "#EF553B"
         },
         "name": "Rennes",
         "offsetgroup": "Rennes",
         "orientation": "v",
         "showlegend": true,
         "type": "histogram",
         "x": [
          14,
          20,
          11.5,
          13,
          12.5,
          7.5,
          4,
          9.5,
          13,
          1,
          3,
          10,
          1,
          6.5,
          6,
          5.5,
          12,
          14.5,
          10,
          19,
          27,
          7.5,
          10,
          13.5,
          5.5,
          11,
          11,
          0.5,
          7,
          12,
          7.5,
          11.5,
          12,
          1.5,
          6.5,
          6.5,
          12.5,
          16
         ],
         "xaxis": "x",
         "y": [
          2,
          2,
          2,
          1,
          2,
          0,
          0,
          2,
          1,
          2,
          0,
          1,
          0,
          1,
          1,
          1,
          5,
          1,
          2,
          1,
          4,
          3,
          1,
          0,
          1,
          1,
          3,
          0,
          2,
          0,
          0,
          1,
          0,
          3,
          2,
          3,
          0,
          1
         ],
         "yaxis": "y"
        },
        {
         "alignmentgroup": "True",
         "customdata": [
          [
           6,
           "Rennes",
           12,
           4
          ],
          [
           6,
           "Rennes",
           33,
           19
          ],
          [
           6,
           "Rennes",
           59,
           4
          ],
          [
           6,
           "Rennes",
           71,
           2
          ],
          [
           6,
           "Rennes",
           81,
           2
          ],
          [
           6,
           "Rennes",
           101,
           0
          ],
          [
           6,
           "Rennes",
           122,
           6
          ],
          [
           6,
           "Rennes",
           148,
           1
          ],
          [
           6,
           "Rennes",
           161,
           21
          ],
          [
           6,
           "Rennes",
           181,
           0
          ],
          [
           6,
           "Rennes",
           208,
           1
          ],
          [
           6,
           "Rennes",
           222,
           12
          ],
          [
           6,
           "Rennes",
           245,
           1
          ],
          [
           6,
           "Rennes",
           261,
           0
          ],
          [
           6,
           "Rennes",
           286,
           1
          ],
          [
           6,
           "Rennes",
           314,
           3
          ],
          [
           6,
           "Rennes",
           336,
           0
          ],
          [
           6,
           "Rennes",
           360,
           0
          ],
          [
           6,
           "Rennes",
           376,
           2
          ],
          [
           6,
           "Rennes",
           3,
           1
          ],
          [
           6,
           "Rennes",
           25,
           0
          ],
          [
           6,
           "Rennes",
           42,
           3
          ],
          [
           6,
           "Rennes",
           61,
           2
          ],
          [
           6,
           "Rennes",
           93,
           0
          ],
          [
           6,
           "Rennes",
           111,
           0
          ],
          [
           6,
           "Rennes",
           134,
           0
          ],
          [
           6,
           "Rennes",
           159,
           5
          ],
          [
           6,
           "Rennes",
           171,
           0
          ],
          [
           6,
           "Rennes",
           194,
           0
          ],
          [
           6,
           "Rennes",
           220,
           0
          ],
          [
           6,
           "Rennes",
           233,
           16
          ],
          [
           6,
           "Rennes",
           254,
           0
          ],
          [
           6,
           "Rennes",
           271,
           0
          ],
          [
           6,
           "Rennes",
           292,
           0
          ],
          [
           6,
           "Rennes",
           305,
           0
          ],
          [
           6,
           "Rennes",
           322,
           1
          ],
          [
           6,
           "Rennes",
           344,
           1
          ],
          [
           6,
           "Rennes",
           363,
           0
          ]
         ],
         "hovertemplate": "name=%{customdata[1]}<br>temperature=%{x}<br>id=%{customdata[0]}<br>match_id=%{customdata[2]}<br>rainfall=%{customdata[3]}<extra></extra>",
         "legendgroup": "Rennes",
         "marker": {
          "color": "#EF553B"
         },
         "name": "Rennes",
         "notched": true,
         "offsetgroup": "Rennes",
         "showlegend": false,
         "type": "box",
         "x": [
          14,
          20,
          11.5,
          13,
          12.5,
          7.5,
          4,
          9.5,
          13,
          1,
          3,
          10,
          1,
          6.5,
          6,
          5.5,
          12,
          14.5,
          10,
          19,
          27,
          7.5,
          10,
          13.5,
          5.5,
          11,
          11,
          0.5,
          7,
          12,
          7.5,
          11.5,
          12,
          1.5,
          6.5,
          6.5,
          12.5,
          16
         ],
         "xaxis": "x2",
         "yaxis": "y2"
        },
        {
         "alignmentgroup": "True",
         "bingroup": "x",
         "histfunc": "sum",
         "hovertemplate": "name=Strasbourg<br>temperature=%{x}<br>sum of goal=%{y}<extra></extra>",
         "legendgroup": "Strasbourg",
         "marker": {
          "color": "#00cc96"
         },
         "name": "Strasbourg",
         "offsetgroup": "Strasbourg",
         "orientation": "v",
         "showlegend": true,
         "type": "histogram",
         "x": [
          16.5,
          19.5,
          13.5,
          10,
          9,
          5.5,
          7,
          7.5,
          1.5,
          1,
          2.5,
          10,
          12,
          10,
          3.5,
          13,
          12,
          18,
          12,
          17,
          19.5,
          17.5,
          11,
          14.5,
          9,
          6.5,
          9,
          12.5,
          2.5,
          1.5,
          12.5,
          -1.5,
          8,
          6,
          11.5,
          11.5,
          16,
          16.5
         ],
         "xaxis": "x",
         "y": [
          0,
          1,
          0,
          2,
          0,
          1,
          2,
          0,
          5,
          1,
          0,
          2,
          0,
          1,
          1,
          1,
          1,
          2,
          1,
          1,
          0,
          2,
          3,
          1,
          3,
          4,
          2,
          0,
          1,
          1,
          0,
          2,
          1,
          0,
          3,
          1,
          1,
          2
         ],
         "yaxis": "y"
        },
        {
         "alignmentgroup": "True",
         "customdata": [
          [
           15,
           "Strasbourg",
           13,
           1
          ],
          [
           15,
           "Strasbourg",
           38,
           0
          ],
          [
           15,
           "Strasbourg",
           55,
           2
          ],
          [
           15,
           "Strasbourg",
           65,
           2
          ],
          [
           15,
           "Strasbourg",
           91,
           0
          ],
          [
           15,
           "Strasbourg",
           111,
           0
          ],
          [
           15,
           "Strasbourg",
           136,
           3
          ],
          [
           15,
           "Strasbourg",
           157,
           14
          ],
          [
           15,
           "Strasbourg",
           175,
           6
          ],
          [
           15,
           "Strasbourg",
           197,
           8
          ],
          [
           15,
           "Strasbourg",
           217,
           3
          ],
          [
           15,
           "Strasbourg",
           225,
           11
          ],
          [
           15,
           "Strasbourg",
           257,
           0
          ],
          [
           15,
           "Strasbourg",
           278,
           0
          ],
          [
           15,
           "Strasbourg",
           294,
           1
          ],
          [
           15,
           "Strasbourg",
           312,
           3
          ],
          [
           15,
           "Strasbourg",
           337,
           0
          ],
          [
           15,
           "Strasbourg",
           355,
           0
          ],
          [
           15,
           "Strasbourg",
           380,
           2
          ],
          [
           15,
           "Strasbourg",
           5,
           1
          ],
          [
           15,
           "Strasbourg",
           23,
           0
          ],
          [
           15,
           "Strasbourg",
           47,
           1
          ],
          [
           15,
           "Strasbourg",
           77,
           4
          ],
          [
           15,
           "Strasbourg",
           87,
           2
          ],
          [
           15,
           "Strasbourg",
           105,
           0
          ],
          [
           15,
           "Strasbourg",
           127,
           4
          ],
          [
           15,
           "Strasbourg",
           143,
           2
          ],
          [
           15,
           "Strasbourg",
           168,
           18
          ],
          [
           15,
           "Strasbourg",
           186,
           1
          ],
          [
           15,
           "Strasbourg",
           207,
           1
          ],
          [
           15,
           "Strasbourg",
           232,
           1
          ],
          [
           15,
           "Strasbourg",
           246,
           0
          ],
          [
           15,
           "Strasbourg",
           269,
           0
          ],
          [
           15,
           "Strasbourg",
           286,
           1
          ],
          [
           15,
           "Strasbourg",
           307,
           0
          ],
          [
           15,
           "Strasbourg",
           328,
           0
          ],
          [
           15,
           "Strasbourg",
           341,
           4
          ],
          [
           15,
           "Strasbourg",
           368,
           0
          ]
         ],
         "hovertemplate": "name=%{customdata[1]}<br>temperature=%{x}<br>id=%{customdata[0]}<br>match_id=%{customdata[2]}<br>rainfall=%{customdata[3]}<extra></extra>",
         "legendgroup": "Strasbourg",
         "marker": {
          "color": "#00cc96"
         },
         "name": "Strasbourg",
         "notched": true,
         "offsetgroup": "Strasbourg",
         "showlegend": false,
         "type": "box",
         "x": [
          16.5,
          19.5,
          13.5,
          10,
          9,
          5.5,
          7,
          7.5,
          1.5,
          1,
          2.5,
          10,
          12,
          10,
          3.5,
          13,
          12,
          18,
          12,
          17,
          19.5,
          17.5,
          11,
          14.5,
          9,
          6.5,
          9,
          12.5,
          2.5,
          1.5,
          12.5,
          -1.5,
          8,
          6,
          11.5,
          11.5,
          16,
          16.5
         ],
         "xaxis": "x2",
         "yaxis": "y2"
        },
        {
         "alignmentgroup": "True",
         "bingroup": "x",
         "histfunc": "sum",
         "hovertemplate": "name=Reims<br>temperature=%{x}<br>sum of goal=%{y}<extra></extra>",
         "legendgroup": "Reims",
         "marker": {
          "color": "#ab63fa"
         },
         "name": "Reims",
         "offsetgroup": "Reims",
         "orientation": "v",
         "showlegend": true,
         "type": "histogram",
         "x": [
          15,
          13,
          9,
          14.5,
          6.5,
          2.5,
          7,
          1,
          0.5,
          1,
          10,
          -2.5,
          7,
          6.5,
          6.5,
          8,
          9,
          17.5,
          10.5,
          25.5,
          21,
          19,
          11.5,
          15.5,
          13,
          5,
          11.5,
          14,
          13,
          3,
          2.5,
          7,
          9,
          11.5,
          3.5,
          10.5,
          13.5,
          13
         ],
         "xaxis": "x",
         "y": [
          0,
          0,
          1,
          2,
          0,
          0,
          3,
          0,
          3,
          1,
          0,
          1,
          0,
          1,
          2,
          0,
          1,
          0,
          1,
          2,
          0,
          1,
          2,
          4,
          4,
          0,
          1,
          1,
          3,
          1,
          1,
          0,
          1,
          2,
          1,
          0,
          2,
          0
         ],
         "yaxis": "y"
        },
        {
         "alignmentgroup": "True",
         "customdata": [
          [
           14,
           "Reims",
           14,
           2
          ],
          [
           14,
           "Reims",
           50,
           21
          ],
          [
           14,
           "Reims",
           63,
           0
          ],
          [
           14,
           "Reims",
           87,
           2
          ],
          [
           14,
           "Reims",
           107,
           0
          ],
          [
           14,
           "Reims",
           129,
           0
          ],
          [
           14,
           "Reims",
           145,
           0
          ],
          [
           14,
           "Reims",
           180,
           1
          ],
          [
           14,
           "Reims",
           190,
           0
          ],
          [
           14,
           "Reims",
           206,
           4
          ],
          [
           14,
           "Reims",
           224,
           14
          ],
          [
           14,
           "Reims",
           242,
           0
          ],
          [
           14,
           "Reims",
           266,
           0
          ],
          [
           14,
           "Reims",
           281,
           3
          ],
          [
           14,
           "Reims",
           305,
           0
          ],
          [
           14,
           "Reims",
           327,
           1
          ],
          [
           14,
           "Reims",
           331,
           0
          ],
          [
           14,
           "Reims",
           359,
           2
          ],
          [
           14,
           "Reims",
           379,
           1
          ],
          [
           14,
           "Reims",
           4,
           1
          ],
          [
           14,
           "Reims",
           27,
           0
          ],
          [
           14,
           "Reims",
           37,
           1
          ],
          [
           14,
           "Reims",
           59,
           4
          ],
          [
           14,
           "Reims",
           74,
           0
          ],
          [
           14,
           "Reims",
           95,
           0
          ],
          [
           14,
           "Reims",
           114,
           0
          ],
          [
           14,
           "Reims",
           135,
           10
          ],
          [
           14,
           "Reims",
           152,
           1
          ],
          [
           14,
           "Reims",
           163,
           1
          ],
          [
           14,
           "Reims",
           198,
           1
          ],
          [
           14,
           "Reims",
           217,
           3
          ],
          [
           14,
           "Reims",
           231,
           0
          ],
          [
           14,
           "Reims",
           252,
           0
          ],
          [
           14,
           "Reims",
           280,
           3
          ],
          [
           14,
           "Reims",
           297,
           0
          ],
          [
           14,
           "Reims",
           316,
           30
          ],
          [
           14,
           "Reims",
           346,
           1
          ],
          [
           14,
           "Reims",
           362,
           3
          ]
         ],
         "hovertemplate": "name=%{customdata[1]}<br>temperature=%{x}<br>id=%{customdata[0]}<br>match_id=%{customdata[2]}<br>rainfall=%{customdata[3]}<extra></extra>",
         "legendgroup": "Reims",
         "marker": {
          "color": "#ab63fa"
         },
         "name": "Reims",
         "notched": true,
         "offsetgroup": "Reims",
         "showlegend": false,
         "type": "box",
         "x": [
          15,
          13,
          9,
          14.5,
          6.5,
          2.5,
          7,
          1,
          0.5,
          1,
          10,
          -2.5,
          7,
          6.5,
          6.5,
          8,
          9,
          17.5,
          10.5,
          25.5,
          21,
          19,
          11.5,
          15.5,
          13,
          5,
          11.5,
          14,
          13,
          3,
          2.5,
          7,
          9,
          11.5,
          3.5,
          10.5,
          13.5,
          13
         ],
         "xaxis": "x2",
         "yaxis": "y2"
        },
        {
         "alignmentgroup": "True",
         "bingroup": "x",
         "histfunc": "sum",
         "hovertemplate": "name=Nantes<br>temperature=%{x}<br>sum of goal=%{y}<extra></extra>",
         "legendgroup": "Nantes",
         "marker": {
          "color": "#FFA15A"
         },
         "name": "Nantes",
         "offsetgroup": "Nantes",
         "orientation": "v",
         "showlegend": true,
         "type": "histogram",
         "x": [
          14,
          20.5,
          11.5,
          14,
          9,
          6.5,
          9.5,
          10,
          0.5,
          6,
          9.5,
          6,
          14,
          11.5,
          6.5,
          7.5,
          8.5,
          16.5,
          12,
          22.5,
          26.5,
          10.5,
          15.5,
          8,
          15.5,
          15.5,
          7,
          11,
          4.5,
          1,
          10,
          1.5,
          11.5,
          7.5,
          5.5,
          12,
          9,
          11.5
         ],
         "xaxis": "x",
         "y": [
          2,
          2,
          3,
          0,
          1,
          0,
          1,
          1,
          0,
          1,
          1,
          0,
          1,
          1,
          1,
          1,
          1,
          3,
          1,
          0,
          1,
          0,
          1,
          1,
          2,
          1,
          2,
          0,
          1,
          0,
          1,
          3,
          1,
          2,
          0,
          2,
          4,
          4
         ],
         "yaxis": "y"
        },
        {
         "alignmentgroup": "True",
         "customdata": [
          [
           18,
           "Nantes",
           15,
           1
          ],
          [
           18,
           "Nantes",
           39,
           2
          ],
          [
           18,
           "Nantes",
           67,
           0
          ],
          [
           18,
           "Nantes",
           82,
           0
          ],
          [
           18,
           "Nantes",
           104,
           0
          ],
          [
           18,
           "Nantes",
           127,
           4
          ],
          [
           18,
           "Nantes",
           137,
           2
          ],
          [
           18,
           "Nantes",
           156,
           1
          ],
          [
           18,
           "Nantes",
           171,
           0
          ],
          [
           18,
           "Nantes",
           195,
           0
          ],
          [
           18,
           "Nantes",
           219,
           5
          ],
          [
           18,
           "Nantes",
           239,
           1
          ],
          [
           18,
           "Nantes",
           253,
           0
          ],
          [
           18,
           "Nantes",
           280,
           3
          ],
          [
           18,
           "Nantes",
           298,
           1
          ],
          [
           18,
           "Nantes",
           306,
           0
          ],
          [
           18,
           "Nantes",
           330,
           0
          ],
          [
           18,
           "Nantes",
           352,
           1
          ],
          [
           18,
           "Nantes",
           377,
           1
          ],
          [
           18,
           "Nantes",
           1,
           5
          ],
          [
           18,
           "Nantes",
           29,
           0
          ],
          [
           18,
           "Nantes",
           41,
           8
          ],
          [
           18,
           "Nantes",
           53,
           22
          ],
          [
           18,
           "Nantes",
           80,
           0
          ],
          [
           18,
           "Nantes",
           98,
           1
          ],
          [
           18,
           "Nantes",
           112,
           4
          ],
          [
           18,
           "Nantes",
           145,
           0
          ],
          [
           18,
           "Nantes",
           167,
           0
          ],
          [
           18,
           "Nantes",
           187,
           0
          ],
          [
           18,
           "Nantes",
           205,
           3
          ],
          [
           18,
           "Nantes",
           230,
           0
          ],
          [
           18,
           "Nantes",
           247,
           0
          ],
          [
           18,
           "Nantes",
           268,
           4
          ],
          [
           18,
           "Nantes",
           290,
           2
          ],
          [
           18,
           "Nantes",
           314,
           3
          ],
          [
           18,
           "Nantes",
           337,
           0
          ],
          [
           18,
           "Nantes",
           348,
           1
          ],
          [
           18,
           "Nantes",
           370,
           7
          ]
         ],
         "hovertemplate": "name=%{customdata[1]}<br>temperature=%{x}<br>id=%{customdata[0]}<br>match_id=%{customdata[2]}<br>rainfall=%{customdata[3]}<extra></extra>",
         "legendgroup": "Nantes",
         "marker": {
          "color": "#FFA15A"
         },
         "name": "Nantes",
         "notched": true,
         "offsetgroup": "Nantes",
         "showlegend": false,
         "type": "box",
         "x": [
          14,
          20.5,
          11.5,
          14,
          9,
          6.5,
          9.5,
          10,
          0.5,
          6,
          9.5,
          6,
          14,
          11.5,
          6.5,
          7.5,
          8.5,
          16.5,
          12,
          22.5,
          26.5,
          10.5,
          15.5,
          8,
          15.5,
          15.5,
          7,
          11,
          4.5,
          1,
          10,
          1.5,
          11.5,
          7.5,
          5.5,
          12,
          9,
          11.5
         ],
         "xaxis": "x2",
         "yaxis": "y2"
        },
        {
         "alignmentgroup": "True",
         "bingroup": "x",
         "histfunc": "sum",
         "hovertemplate": "name=Saint-Étienne<br>temperature=%{x}<br>sum of goal=%{y}<extra></extra>",
         "legendgroup": "Saint-Étienne",
         "marker": {
          "color": "#19d3f3"
         },
         "name": "Saint-Étienne",
         "offsetgroup": "Saint-Étienne",
         "orientation": "v",
         "showlegend": true,
         "type": "histogram",
         "x": [
          14.5,
          19.5,
          7.5,
          6.5,
          15.5,
          3.5,
          5.5,
          8.5,
          -3,
          1.5,
          10,
          7,
          9,
          9,
          1.5,
          11.5,
          13.5,
          17,
          12,
          26.5,
          20.5,
          13.5,
          11.5,
          13.5,
          10.5,
          1.5,
          10.5,
          13.5,
          0.5,
          1,
          11.5,
          1,
          7.5,
          9.5,
          11,
          8.5,
          14,
          11
         ],
         "xaxis": "x",
         "y": [
          2,
          2,
          0,
          1,
          0,
          1,
          0,
          2,
          1,
          0,
          1,
          1,
          1,
          2,
          0,
          4,
          1,
          1,
          0,
          2,
          2,
          0,
          0,
          1,
          1,
          0,
          2,
          2,
          1,
          0,
          1,
          2,
          1,
          1,
          2,
          2,
          2,
          0
         ],
         "yaxis": "y"
        },
        {
         "alignmentgroup": "True",
         "customdata": [
          [
           11,
           "Saint-Étienne",
           16,
           2
          ],
          [
           11,
           "Saint-Étienne",
           23,
           0
          ],
          [
           11,
           "Saint-Étienne",
           42,
           3
          ],
          [
           11,
           "Saint-Étienne",
           69,
           0
          ],
          [
           11,
           "Saint-Étienne",
           83,
           0
          ],
          [
           11,
           "Saint-Étienne",
           120,
           0
          ],
          [
           11,
           "Saint-Étienne",
           131,
           12
          ],
          [
           11,
           "Saint-Étienne",
           158,
           15
          ],
          [
           11,
           "Saint-Étienne",
           178,
           0
          ],
          [
           11,
           "Saint-Étienne",
           209,
           1
          ],
          [
           11,
           "Saint-Étienne",
           230,
           0
          ],
          [
           11,
           "Saint-Étienne",
           236,
           25
          ],
          [
           11,
           "Saint-Étienne",
           252,
           0
          ],
          [
           11,
           "Saint-Étienne",
           273,
           0
          ],
          [
           11,
           "Saint-Étienne",
           291,
           0
          ],
          [
           11,
           "Saint-Étienne",
           317,
           14
          ],
          [
           11,
           "Saint-Étienne",
           332,
           0
          ],
          [
           11,
           "Saint-Étienne",
           354,
           1
          ],
          [
           11,
           "Saint-Étienne",
           378,
           0
          ],
          [
           11,
           "Saint-Étienne",
           10,
           0
          ],
          [
           11,
           "Saint-Étienne",
           39,
           2
          ],
          [
           11,
           "Saint-Étienne",
           52,
           22
          ],
          [
           11,
           "Saint-Étienne",
           75,
           11
          ],
          [
           11,
           "Saint-Étienne",
           100,
           4
          ],
          [
           11,
           "Saint-Étienne",
           103,
           1
          ],
          [
           11,
           "Saint-Étienne",
           128,
           0
          ],
          [
           11,
           "Saint-Étienne",
           150,
           1
          ],
          [
           11,
           "Saint-Étienne",
           170,
           0
          ],
          [
           11,
           "Saint-Étienne",
           190,
           0
          ],
          [
           11,
           "Saint-Étienne",
           197,
           8
          ],
          [
           11,
           "Saint-Étienne",
           213,
           5
          ],
          [
           11,
           "Saint-Étienne",
           245,
           1
          ],
          [
           11,
           "Saint-Étienne",
           267,
           0
          ],
          [
           11,
           "Saint-Étienne",
           282,
           7
          ],
          [
           11,
           "Saint-Étienne",
           309,
           0
          ],
          [
           11,
           "Saint-Étienne",
           324,
           0
          ],
          [
           11,
           "Saint-Étienne",
           349,
           1
          ],
          [
           11,
           "Saint-Étienne",
           361,
           6
          ]
         ],
         "hovertemplate": "name=%{customdata[1]}<br>temperature=%{x}<br>id=%{customdata[0]}<br>match_id=%{customdata[2]}<br>rainfall=%{customdata[3]}<extra></extra>",
         "legendgroup": "Saint-Étienne",
         "marker": {
          "color": "#19d3f3"
         },
         "name": "Saint-Étienne",
         "notched": true,
         "offsetgroup": "Saint-Étienne",
         "showlegend": false,
         "type": "box",
         "x": [
          14.5,
          19.5,
          7.5,
          6.5,
          15.5,
          3.5,
          5.5,
          8.5,
          -3,
          1.5,
          10,
          7,
          9,
          9,
          1.5,
          11.5,
          13.5,
          17,
          12,
          26.5,
          20.5,
          13.5,
          11.5,
          13.5,
          10.5,
          1.5,
          10.5,
          13.5,
          0.5,
          1,
          11.5,
          1,
          7.5,
          9.5,
          11,
          8.5,
          14,
          11
         ],
         "xaxis": "x2",
         "yaxis": "y2"
        },
        {
         "alignmentgroup": "True",
         "bingroup": "x",
         "histfunc": "sum",
         "hovertemplate": "name=Angers<br>temperature=%{x}<br>sum of goal=%{y}<extra></extra>",
         "legendgroup": "Angers",
         "marker": {
          "color": "#FF6692"
         },
         "name": "Angers",
         "offsetgroup": "Angers",
         "orientation": "v",
         "showlegend": true,
         "type": "histogram",
         "x": [
          13.5,
          21,
          11.5,
          12,
          17.5,
          8,
          4,
          9,
          12.5,
          3,
          9.5,
          1.5,
          6.5,
          9.5,
          8,
          6.5,
          13,
          17.5,
          11.5,
          22,
          23,
          13.5,
          13,
          17,
          5.5,
          5.5,
          10,
          2,
          6,
          8,
          10,
          12.5,
          12,
          9,
          9,
          13,
          8.5,
          15.5
         ],
         "xaxis": "x",
         "y": [
          0,
          1,
          3,
          1,
          0,
          0,
          2,
          0,
          2,
          0,
          3,
          1,
          2,
          0,
          1,
          0,
          0,
          3,
          1,
          1,
          1,
          1,
          2,
          5,
          3,
          0,
          1,
          2,
          0,
          1,
          0,
          0,
          0,
          1,
          0,
          0,
          0,
          2
         ],
         "yaxis": "y"
        },
        {
         "alignmentgroup": "True",
         "customdata": [
          [
           13,
           "Angers",
           17,
           1
          ],
          [
           13,
           "Angers",
           27,
           0
          ],
          [
           13,
           "Angers",
           48,
           0
          ],
          [
           13,
           "Angers",
           68,
           0
          ],
          [
           13,
           "Angers",
           84,
           5
          ],
          [
           13,
           "Angers",
           108,
           0
          ],
          [
           13,
           "Angers",
           125,
           2
          ],
          [
           13,
           "Angers",
           143,
           2
          ],
          [
           13,
           "Angers",
           169,
           6
          ],
          [
           13,
           "Angers",
           193,
           4
          ],
          [
           13,
           "Angers",
           216,
           10
          ],
          [
           13,
           "Angers",
           247,
           0
          ],
          [
           13,
           "Angers",
           265,
           0
          ],
          [
           13,
           "Angers",
           282,
           7
          ],
          [
           13,
           "Angers",
           304,
           0
          ],
          [
           13,
           "Angers",
           322,
           1
          ],
          [
           13,
           "Angers",
           339,
           0
          ],
          [
           13,
           "Angers",
           358,
           3
          ],
          [
           13,
           "Angers",
           371,
           1
          ],
          [
           13,
           "Angers",
           2,
           19
          ],
          [
           13,
           "Angers",
           35,
           16
          ],
          [
           13,
           "Angers",
           51,
           31
          ],
          [
           13,
           "Angers",
           71,
           2
          ],
          [
           13,
           "Angers",
           97,
           33
          ],
          [
           13,
           "Angers",
           115,
           0
          ],
          [
           13,
           "Angers",
           131,
           12
          ],
          [
           13,
           "Angers",
           156,
           1
          ],
          [
           13,
           "Angers",
           177,
           2
          ],
          [
           13,
           "Angers",
           185,
           0
          ],
          [
           13,
           "Angers",
           204,
           7
          ],
          [
           13,
           "Angers",
           224,
           14
          ],
          [
           13,
           "Angers",
           237,
           10
          ],
          [
           13,
           "Angers",
           257,
           0
          ],
          [
           13,
           "Angers",
           272,
           0
          ],
          [
           13,
           "Angers",
           296,
           1
          ],
          [
           13,
           "Angers",
           320,
           14
          ],
          [
           13,
           "Angers",
           347,
           2
          ],
          [
           13,
           "Angers",
           365,
           1
          ]
         ],
         "hovertemplate": "name=%{customdata[1]}<br>temperature=%{x}<br>id=%{customdata[0]}<br>match_id=%{customdata[2]}<br>rainfall=%{customdata[3]}<extra></extra>",
         "legendgroup": "Angers",
         "marker": {
          "color": "#FF6692"
         },
         "name": "Angers",
         "notched": true,
         "offsetgroup": "Angers",
         "showlegend": false,
         "type": "box",
         "x": [
          13.5,
          21,
          11.5,
          12,
          17.5,
          8,
          4,
          9,
          12.5,
          3,
          9.5,
          1.5,
          6.5,
          9.5,
          8,
          6.5,
          13,
          17.5,
          11.5,
          22,
          23,
          13.5,
          13,
          17,
          5.5,
          5.5,
          10,
          2,
          6,
          8,
          10,
          12.5,
          12,
          9,
          9,
          13,
          8.5,
          15.5
         ],
         "xaxis": "x2",
         "yaxis": "y2"
        },
        {
         "alignmentgroup": "True",
         "bingroup": "x",
         "histfunc": "sum",
         "hovertemplate": "name=Metz<br>temperature=%{x}<br>sum of goal=%{y}<extra></extra>",
         "legendgroup": "Metz",
         "marker": {
          "color": "#B6E880"
         },
         "name": "Metz",
         "offsetgroup": "Metz",
         "orientation": "v",
         "showlegend": true,
         "type": "histogram",
         "x": [
          17,
          19,
          11,
          11.5,
          11.5,
          1,
          2.5,
          8.5,
          0.5,
          -1.5,
          1,
          10,
          -1.5,
          9,
          1.5,
          7.5,
          10,
          16.5,
          10.5,
          27,
          20,
          14.5,
          12,
          16.5,
          9,
          7,
          13,
          13,
          3,
          9,
          7,
          11.5,
          9.5,
          6.5,
          14,
          8,
          8.5,
          12
         ],
         "xaxis": "x",
         "y": [
          0,
          2,
          3,
          2,
          1,
          0,
          1,
          2,
          0,
          1,
          2,
          1,
          1,
          0,
          1,
          0,
          1,
          0,
          1,
          0,
          0,
          1,
          1,
          1,
          1,
          2,
          2,
          0,
          1,
          4,
          0,
          2,
          2,
          2,
          0,
          0,
          5,
          1
         ],
         "yaxis": "y"
        },
        {
         "alignmentgroup": "True",
         "customdata": [
          [
           10,
           "Metz",
           18,
           1
          ],
          [
           10,
           "Metz",
           37,
           1
          ],
          [
           10,
           "Metz",
           58,
           18
          ],
          [
           10,
           "Metz",
           75,
           11
          ],
          [
           10,
           "Metz",
           96,
           1
          ],
          [
           10,
           "Metz",
           118,
           0
          ],
          [
           10,
           "Metz",
           130,
           0
          ],
          [
           10,
           "Metz",
           151,
           1
          ],
          [
           10,
           "Metz",
           173,
           2
          ],
          [
           10,
           "Metz",
           188,
           0
          ],
          [
           10,
           "Metz",
           205,
           3
          ],
          [
           10,
           "Metz",
           223,
           27
          ],
          [
           10,
           "Metz",
           246,
           0
          ],
          [
           10,
           "Metz",
           272,
           0
          ],
          [
           10,
           "Metz",
           292,
           0
          ],
          [
           10,
           "Metz",
           311,
           1
          ],
          [
           10,
           "Metz",
           333,
           0
          ],
          [
           10,
           "Metz",
           356,
           1
          ],
          [
           10,
           "Metz",
           375,
           1
          ],
          [
           10,
           "Metz",
           9,
           1
          ],
          [
           10,
           "Metz",
           24,
           0
          ],
          [
           10,
           "Metz",
           43,
           0
          ],
          [
           10,
           "Metz",
           68,
           0
          ],
          [
           10,
           "Metz",
           85,
           0
          ],
          [
           10,
           "Metz",
           104,
           0
          ],
          [
           10,
           "Metz",
           136,
           3
          ],
          [
           10,
           "Metz",
           142,
           9
          ],
          [
           10,
           "Metz",
           161,
           21
          ],
          [
           10,
           "Metz",
           199,
           5
          ],
          [
           10,
           "Metz",
           215,
           10
          ],
          [
           10,
           "Metz",
           236,
           25
          ],
          [
           10,
           "Metz",
           256,
           0
          ],
          [
           10,
           "Metz",
           262,
           0
          ],
          [
           10,
           "Metz",
           285,
           2
          ],
          [
           10,
           "Metz",
           301,
           7
          ],
          [
           10,
           "Metz",
           327,
           1
          ],
          [
           10,
           "Metz",
           345,
           5
          ],
          [
           10,
           "Metz",
           369,
           7
          ]
         ],
         "hovertemplate": "name=%{customdata[1]}<br>temperature=%{x}<br>id=%{customdata[0]}<br>match_id=%{customdata[2]}<br>rainfall=%{customdata[3]}<extra></extra>",
         "legendgroup": "Metz",
         "marker": {
          "color": "#B6E880"
         },
         "name": "Metz",
         "notched": true,
         "offsetgroup": "Metz",
         "showlegend": false,
         "type": "box",
         "x": [
          17,
          19,
          11,
          11.5,
          11.5,
          1,
          2.5,
          8.5,
          0.5,
          -1.5,
          1,
          10,
          -1.5,
          9,
          1.5,
          7.5,
          10,
          16.5,
          10.5,
          27,
          20,
          14.5,
          12,
          16.5,
          9,
          7,
          13,
          13,
          3,
          9,
          7,
          11.5,
          9.5,
          6.5,
          14,
          8,
          8.5,
          12
         ],
         "xaxis": "x2",
         "yaxis": "y2"
        },
        {
         "alignmentgroup": "True",
         "bingroup": "x",
         "histfunc": "sum",
         "hovertemplate": "name=Brest<br>temperature=%{x}<br>sum of goal=%{y}<extra></extra>",
         "legendgroup": "Brest",
         "marker": {
          "color": "#FF97FF"
         },
         "name": "Brest",
         "offsetgroup": "Brest",
         "orientation": "v",
         "showlegend": true,
         "type": "histogram",
         "x": [
          14.5,
          17,
          12,
          11,
          15,
          10.5,
          11.5,
          10,
          4,
          7,
          9,
          5.5,
          10,
          10.5,
          9,
          6,
          8,
          9,
          10.5,
          26.5,
          22,
          11.5,
          11.5,
          12.5,
          1,
          8.5,
          9.5,
          11,
          2,
          1,
          10,
          0,
          14,
          11.5,
          8,
          13.5,
          16.5,
          16.5
         ],
         "xaxis": "x",
         "y": [
          2,
          3,
          1,
          0,
          3,
          4,
          2,
          2,
          2,
          1,
          2,
          2,
          2,
          3,
          0,
          1,
          1,
          1,
          0,
          0,
          2,
          2,
          1,
          1,
          2,
          0,
          2,
          1,
          0,
          0,
          2,
          0,
          0,
          1,
          0,
          2,
          2,
          0
         ],
         "yaxis": "y"
        },
        {
         "alignmentgroup": "True",
         "customdata": [
          [
           17,
           "Brest",
           19,
           1
          ],
          [
           17,
           "Brest",
           36,
           0
          ],
          [
           17,
           "Brest",
           56,
           7
          ],
          [
           17,
           "Brest",
           77,
           4
          ],
          [
           17,
           "Brest",
           94,
           1
          ],
          [
           17,
           "Brest",
           103,
           1
          ],
          [
           17,
           "Brest",
           135,
           10
          ],
          [
           17,
           "Brest",
           154,
           5
          ],
          [
           17,
           "Brest",
           174,
           8
          ],
          [
           17,
           "Brest",
           194,
           0
          ],
          [
           17,
           "Brest",
           215,
           10
          ],
          [
           17,
           "Brest",
           234,
           1
          ],
          [
           17,
           "Brest",
           251,
           3
          ],
          [
           17,
           "Brest",
           275,
           5
          ],
          [
           17,
           "Brest",
           296,
           1
          ],
          [
           17,
           "Brest",
           318,
           1
          ],
          [
           17,
           "Brest",
           325,
           0
          ],
          [
           17,
           "Brest",
           348,
           1
          ],
          [
           17,
           "Brest",
           372,
           11
          ],
          [
           17,
           "Brest",
           6,
           0
          ],
          [
           17,
           "Brest",
           28,
           0
          ],
          [
           17,
           "Brest",
           48,
           0
          ],
          [
           17,
           "Brest",
           67,
           0
          ],
          [
           17,
           "Brest",
           81,
           2
          ],
          [
           17,
           "Brest",
           118,
           0
          ],
          [
           17,
           "Brest",
           126,
           4
          ],
          [
           17,
           "Brest",
           146,
           24
          ],
          [
           17,
           "Brest",
           162,
           35
          ],
          [
           17,
           "Brest",
           182,
           0
          ],
          [
           17,
           "Brest",
           206,
           4
          ],
          [
           17,
           "Brest",
           225,
           11
          ],
          [
           17,
           "Brest",
           249,
           0
          ],
          [
           17,
           "Brest",
           264,
           0
          ],
          [
           17,
           "Brest",
           283,
           0
          ],
          [
           17,
           "Brest",
           308,
           0
          ],
          [
           17,
           "Brest",
           332,
           0
          ],
          [
           17,
           "Brest",
           357,
           0
          ],
          [
           17,
           "Brest",
           367,
           3
          ]
         ],
         "hovertemplate": "name=%{customdata[1]}<br>temperature=%{x}<br>id=%{customdata[0]}<br>match_id=%{customdata[2]}<br>rainfall=%{customdata[3]}<extra></extra>",
         "legendgroup": "Brest",
         "marker": {
          "color": "#FF97FF"
         },
         "name": "Brest",
         "notched": true,
         "offsetgroup": "Brest",
         "showlegend": false,
         "type": "box",
         "x": [
          14.5,
          17,
          12,
          11,
          15,
          10.5,
          11.5,
          10,
          4,
          7,
          9,
          5.5,
          10,
          10.5,
          9,
          6,
          8,
          9,
          10.5,
          26.5,
          22,
          11.5,
          11.5,
          12.5,
          1,
          8.5,
          9.5,
          11,
          2,
          1,
          10,
          0,
          14,
          11.5,
          8,
          13.5,
          16.5,
          16.5
         ],
         "xaxis": "x2",
         "yaxis": "y2"
        },
        {
         "alignmentgroup": "True",
         "bingroup": "x",
         "histfunc": "sum",
         "hovertemplate": "name=Lens<br>temperature=%{x}<br>sum of goal=%{y}<extra></extra>",
         "legendgroup": "Lens",
         "marker": {
          "color": "#FECB52"
         },
         "name": "Lens",
         "offsetgroup": "Lens",
         "orientation": "v",
         "showlegend": true,
         "type": "histogram",
         "x": [
          19,
          20,
          13.5,
          8,
          13,
          5.5,
          8,
          11,
          2.5,
          4,
          9,
          7.5,
          11,
          6.5,
          7.5,
          2,
          8.5,
          9,
          10.5,
          25.5,
          18,
          12,
          11.5,
          12.5,
          3.5,
          4,
          13,
          8.5,
          0,
          6,
          11,
          -2.5,
          6.5,
          9,
          3.5,
          8,
          11,
          14
         ],
         "xaxis": "x",
         "y": [
          1,
          2,
          2,
          1,
          4,
          1,
          2,
          2,
          0,
          0,
          2,
          0,
          2,
          2,
          1,
          4,
          2,
          0,
          0,
          1,
          3,
          1,
          0,
          1,
          1,
          2,
          3,
          0,
          2,
          1,
          2,
          1,
          2,
          3,
          2,
          1,
          1,
          0
         ],
         "yaxis": "y"
        },
        {
         "alignmentgroup": "True",
         "customdata": [
          [
           7,
           "Lens",
           20,
           1
          ],
          [
           7,
           "Lens",
           32,
           1
          ],
          [
           7,
           "Lens",
           52,
           22
          ],
          [
           7,
           "Lens",
           80,
           0
          ],
          [
           7,
           "Lens",
           95,
           0
          ],
          [
           7,
           "Lens",
           115,
           0
          ],
          [
           7,
           "Lens",
           133,
           3
          ],
          [
           7,
           "Lens",
           162,
           35
          ],
          [
           7,
           "Lens",
           186,
           1
          ],
          [
           7,
           "Lens",
           202,
           1
          ],
          [
           7,
           "Lens",
           229,
           21
          ],
          [
           7,
           "Lens",
           233,
           16
          ],
          [
           7,
           "Lens",
           255,
           0
          ],
          [
           7,
           "Lens",
           285,
           2
          ],
          [
           7,
           "Lens",
           303,
           0
          ],
          [
           7,
           "Lens",
           315,
           16
          ],
          [
           7,
           "Lens",
           335,
           0
          ],
          [
           7,
           "Lens",
           351,
           1
          ],
          [
           7,
           "Lens",
           373,
           2
          ],
          [
           7,
           "Lens",
           7,
           1
          ],
          [
           7,
           "Lens",
           26,
           0
          ],
          [
           7,
           "Lens",
           46,
           1
          ],
          [
           7,
           "Lens",
           70,
           2
          ],
          [
           7,
           "Lens",
           90,
           6
          ],
          [
           7,
           "Lens",
           106,
           0
          ],
          [
           7,
           "Lens",
           122,
           6
          ],
          [
           7,
           "Lens",
           149,
           1
          ],
          [
           7,
           "Lens",
           151,
           1
          ],
          [
           7,
           "Lens",
           176,
           0
          ],
          [
           7,
           "Lens",
           195,
           0
          ],
          [
           7,
           "Lens",
           212,
           5
          ],
          [
           7,
           "Lens",
           242,
           0
          ],
          [
           7,
           "Lens",
           265,
           0
          ],
          [
           7,
           "Lens",
           273,
           0
          ],
          [
           7,
           "Lens",
           294,
           1
          ],
          [
           7,
           "Lens",
           325,
           0
          ],
          [
           7,
           "Lens",
           342,
           0
          ],
          [
           7,
           "Lens",
           366,
           8
          ]
         ],
         "hovertemplate": "name=%{customdata[1]}<br>temperature=%{x}<br>id=%{customdata[0]}<br>match_id=%{customdata[2]}<br>rainfall=%{customdata[3]}<extra></extra>",
         "legendgroup": "Lens",
         "marker": {
          "color": "#FECB52"
         },
         "name": "Lens",
         "notched": true,
         "offsetgroup": "Lens",
         "showlegend": false,
         "type": "box",
         "x": [
          19,
          20,
          13.5,
          8,
          13,
          5.5,
          8,
          11,
          2.5,
          4,
          9,
          7.5,
          11,
          6.5,
          7.5,
          2,
          8.5,
          9,
          10.5,
          25.5,
          18,
          12,
          11.5,
          12.5,
          3.5,
          4,
          13,
          8.5,
          0,
          6,
          11,
          -2.5,
          6.5,
          9,
          3.5,
          8,
          11,
          14
         ],
         "xaxis": "x2",
         "yaxis": "y2"
        }
       ],
       "layout": {
        "barmode": "relative",
        "legend": {
         "title": {
          "text": "name"
         },
         "tracegroupgap": 0
        },
        "margin": {
         "t": 60
        },
        "template": {
         "data": {
          "bar": [
           {
            "error_x": {
             "color": "#2a3f5f"
            },
            "error_y": {
             "color": "#2a3f5f"
            },
            "marker": {
             "line": {
              "color": "#E5ECF6",
              "width": 0.5
             }
            },
            "type": "bar"
           }
          ],
          "barpolar": [
           {
            "marker": {
             "line": {
              "color": "#E5ECF6",
              "width": 0.5
             }
            },
            "type": "barpolar"
           }
          ],
          "carpet": [
           {
            "aaxis": {
             "endlinecolor": "#2a3f5f",
             "gridcolor": "white",
             "linecolor": "white",
             "minorgridcolor": "white",
             "startlinecolor": "#2a3f5f"
            },
            "baxis": {
             "endlinecolor": "#2a3f5f",
             "gridcolor": "white",
             "linecolor": "white",
             "minorgridcolor": "white",
             "startlinecolor": "#2a3f5f"
            },
            "type": "carpet"
           }
          ],
          "choropleth": [
           {
            "colorbar": {
             "outlinewidth": 0,
             "ticks": ""
            },
            "type": "choropleth"
           }
          ],
          "contour": [
           {
            "colorbar": {
             "outlinewidth": 0,
             "ticks": ""
            },
            "colorscale": [
             [
              0,
              "#0d0887"
             ],
             [
              0.1111111111111111,
              "#46039f"
             ],
             [
              0.2222222222222222,
              "#7201a8"
             ],
             [
              0.3333333333333333,
              "#9c179e"
             ],
             [
              0.4444444444444444,
              "#bd3786"
             ],
             [
              0.5555555555555556,
              "#d8576b"
             ],
             [
              0.6666666666666666,
              "#ed7953"
             ],
             [
              0.7777777777777778,
              "#fb9f3a"
             ],
             [
              0.8888888888888888,
              "#fdca26"
             ],
             [
              1,
              "#f0f921"
             ]
            ],
            "type": "contour"
           }
          ],
          "contourcarpet": [
           {
            "colorbar": {
             "outlinewidth": 0,
             "ticks": ""
            },
            "type": "contourcarpet"
           }
          ],
          "heatmap": [
           {
            "colorbar": {
             "outlinewidth": 0,
             "ticks": ""
            },
            "colorscale": [
             [
              0,
              "#0d0887"
             ],
             [
              0.1111111111111111,
              "#46039f"
             ],
             [
              0.2222222222222222,
              "#7201a8"
             ],
             [
              0.3333333333333333,
              "#9c179e"
             ],
             [
              0.4444444444444444,
              "#bd3786"
             ],
             [
              0.5555555555555556,
              "#d8576b"
             ],
             [
              0.6666666666666666,
              "#ed7953"
             ],
             [
              0.7777777777777778,
              "#fb9f3a"
             ],
             [
              0.8888888888888888,
              "#fdca26"
             ],
             [
              1,
              "#f0f921"
             ]
            ],
            "type": "heatmap"
           }
          ],
          "heatmapgl": [
           {
            "colorbar": {
             "outlinewidth": 0,
             "ticks": ""
            },
            "colorscale": [
             [
              0,
              "#0d0887"
             ],
             [
              0.1111111111111111,
              "#46039f"
             ],
             [
              0.2222222222222222,
              "#7201a8"
             ],
             [
              0.3333333333333333,
              "#9c179e"
             ],
             [
              0.4444444444444444,
              "#bd3786"
             ],
             [
              0.5555555555555556,
              "#d8576b"
             ],
             [
              0.6666666666666666,
              "#ed7953"
             ],
             [
              0.7777777777777778,
              "#fb9f3a"
             ],
             [
              0.8888888888888888,
              "#fdca26"
             ],
             [
              1,
              "#f0f921"
             ]
            ],
            "type": "heatmapgl"
           }
          ],
          "histogram": [
           {
            "marker": {
             "colorbar": {
              "outlinewidth": 0,
              "ticks": ""
             }
            },
            "type": "histogram"
           }
          ],
          "histogram2d": [
           {
            "colorbar": {
             "outlinewidth": 0,
             "ticks": ""
            },
            "colorscale": [
             [
              0,
              "#0d0887"
             ],
             [
              0.1111111111111111,
              "#46039f"
             ],
             [
              0.2222222222222222,
              "#7201a8"
             ],
             [
              0.3333333333333333,
              "#9c179e"
             ],
             [
              0.4444444444444444,
              "#bd3786"
             ],
             [
              0.5555555555555556,
              "#d8576b"
             ],
             [
              0.6666666666666666,
              "#ed7953"
             ],
             [
              0.7777777777777778,
              "#fb9f3a"
             ],
             [
              0.8888888888888888,
              "#fdca26"
             ],
             [
              1,
              "#f0f921"
             ]
            ],
            "type": "histogram2d"
           }
          ],
          "histogram2dcontour": [
           {
            "colorbar": {
             "outlinewidth": 0,
             "ticks": ""
            },
            "colorscale": [
             [
              0,
              "#0d0887"
             ],
             [
              0.1111111111111111,
              "#46039f"
             ],
             [
              0.2222222222222222,
              "#7201a8"
             ],
             [
              0.3333333333333333,
              "#9c179e"
             ],
             [
              0.4444444444444444,
              "#bd3786"
             ],
             [
              0.5555555555555556,
              "#d8576b"
             ],
             [
              0.6666666666666666,
              "#ed7953"
             ],
             [
              0.7777777777777778,
              "#fb9f3a"
             ],
             [
              0.8888888888888888,
              "#fdca26"
             ],
             [
              1,
              "#f0f921"
             ]
            ],
            "type": "histogram2dcontour"
           }
          ],
          "mesh3d": [
           {
            "colorbar": {
             "outlinewidth": 0,
             "ticks": ""
            },
            "type": "mesh3d"
           }
          ],
          "parcoords": [
           {
            "line": {
             "colorbar": {
              "outlinewidth": 0,
              "ticks": ""
             }
            },
            "type": "parcoords"
           }
          ],
          "pie": [
           {
            "automargin": true,
            "type": "pie"
           }
          ],
          "scatter": [
           {
            "marker": {
             "colorbar": {
              "outlinewidth": 0,
              "ticks": ""
             }
            },
            "type": "scatter"
           }
          ],
          "scatter3d": [
           {
            "line": {
             "colorbar": {
              "outlinewidth": 0,
              "ticks": ""
             }
            },
            "marker": {
             "colorbar": {
              "outlinewidth": 0,
              "ticks": ""
             }
            },
            "type": "scatter3d"
           }
          ],
          "scattercarpet": [
           {
            "marker": {
             "colorbar": {
              "outlinewidth": 0,
              "ticks": ""
             }
            },
            "type": "scattercarpet"
           }
          ],
          "scattergeo": [
           {
            "marker": {
             "colorbar": {
              "outlinewidth": 0,
              "ticks": ""
             }
            },
            "type": "scattergeo"
           }
          ],
          "scattergl": [
           {
            "marker": {
             "colorbar": {
              "outlinewidth": 0,
              "ticks": ""
             }
            },
            "type": "scattergl"
           }
          ],
          "scattermapbox": [
           {
            "marker": {
             "colorbar": {
              "outlinewidth": 0,
              "ticks": ""
             }
            },
            "type": "scattermapbox"
           }
          ],
          "scatterpolar": [
           {
            "marker": {
             "colorbar": {
              "outlinewidth": 0,
              "ticks": ""
             }
            },
            "type": "scatterpolar"
           }
          ],
          "scatterpolargl": [
           {
            "marker": {
             "colorbar": {
              "outlinewidth": 0,
              "ticks": ""
             }
            },
            "type": "scatterpolargl"
           }
          ],
          "scatterternary": [
           {
            "marker": {
             "colorbar": {
              "outlinewidth": 0,
              "ticks": ""
             }
            },
            "type": "scatterternary"
           }
          ],
          "surface": [
           {
            "colorbar": {
             "outlinewidth": 0,
             "ticks": ""
            },
            "colorscale": [
             [
              0,
              "#0d0887"
             ],
             [
              0.1111111111111111,
              "#46039f"
             ],
             [
              0.2222222222222222,
              "#7201a8"
             ],
             [
              0.3333333333333333,
              "#9c179e"
             ],
             [
              0.4444444444444444,
              "#bd3786"
             ],
             [
              0.5555555555555556,
              "#d8576b"
             ],
             [
              0.6666666666666666,
              "#ed7953"
             ],
             [
              0.7777777777777778,
              "#fb9f3a"
             ],
             [
              0.8888888888888888,
              "#fdca26"
             ],
             [
              1,
              "#f0f921"
             ]
            ],
            "type": "surface"
           }
          ],
          "table": [
           {
            "cells": {
             "fill": {
              "color": "#EBF0F8"
             },
             "line": {
              "color": "white"
             }
            },
            "header": {
             "fill": {
              "color": "#C8D4E3"
             },
             "line": {
              "color": "white"
             }
            },
            "type": "table"
           }
          ]
         },
         "layout": {
          "annotationdefaults": {
           "arrowcolor": "#2a3f5f",
           "arrowhead": 0,
           "arrowwidth": 1
          },
          "autotypenumbers": "strict",
          "coloraxis": {
           "colorbar": {
            "outlinewidth": 0,
            "ticks": ""
           }
          },
          "colorscale": {
           "diverging": [
            [
             0,
             "#8e0152"
            ],
            [
             0.1,
             "#c51b7d"
            ],
            [
             0.2,
             "#de77ae"
            ],
            [
             0.3,
             "#f1b6da"
            ],
            [
             0.4,
             "#fde0ef"
            ],
            [
             0.5,
             "#f7f7f7"
            ],
            [
             0.6,
             "#e6f5d0"
            ],
            [
             0.7,
             "#b8e186"
            ],
            [
             0.8,
             "#7fbc41"
            ],
            [
             0.9,
             "#4d9221"
            ],
            [
             1,
             "#276419"
            ]
           ],
           "sequential": [
            [
             0,
             "#0d0887"
            ],
            [
             0.1111111111111111,
             "#46039f"
            ],
            [
             0.2222222222222222,
             "#7201a8"
            ],
            [
             0.3333333333333333,
             "#9c179e"
            ],
            [
             0.4444444444444444,
             "#bd3786"
            ],
            [
             0.5555555555555556,
             "#d8576b"
            ],
            [
             0.6666666666666666,
             "#ed7953"
            ],
            [
             0.7777777777777778,
             "#fb9f3a"
            ],
            [
             0.8888888888888888,
             "#fdca26"
            ],
            [
             1,
             "#f0f921"
            ]
           ],
           "sequentialminus": [
            [
             0,
             "#0d0887"
            ],
            [
             0.1111111111111111,
             "#46039f"
            ],
            [
             0.2222222222222222,
             "#7201a8"
            ],
            [
             0.3333333333333333,
             "#9c179e"
            ],
            [
             0.4444444444444444,
             "#bd3786"
            ],
            [
             0.5555555555555556,
             "#d8576b"
            ],
            [
             0.6666666666666666,
             "#ed7953"
            ],
            [
             0.7777777777777778,
             "#fb9f3a"
            ],
            [
             0.8888888888888888,
             "#fdca26"
            ],
            [
             1,
             "#f0f921"
            ]
           ]
          },
          "colorway": [
           "#636efa",
           "#EF553B",
           "#00cc96",
           "#ab63fa",
           "#FFA15A",
           "#19d3f3",
           "#FF6692",
           "#B6E880",
           "#FF97FF",
           "#FECB52"
          ],
          "font": {
           "color": "#2a3f5f"
          },
          "geo": {
           "bgcolor": "white",
           "lakecolor": "white",
           "landcolor": "#E5ECF6",
           "showlakes": true,
           "showland": true,
           "subunitcolor": "white"
          },
          "hoverlabel": {
           "align": "left"
          },
          "hovermode": "closest",
          "mapbox": {
           "style": "light"
          },
          "paper_bgcolor": "white",
          "plot_bgcolor": "#E5ECF6",
          "polar": {
           "angularaxis": {
            "gridcolor": "white",
            "linecolor": "white",
            "ticks": ""
           },
           "bgcolor": "#E5ECF6",
           "radialaxis": {
            "gridcolor": "white",
            "linecolor": "white",
            "ticks": ""
           }
          },
          "scene": {
           "xaxis": {
            "backgroundcolor": "#E5ECF6",
            "gridcolor": "white",
            "gridwidth": 2,
            "linecolor": "white",
            "showbackground": true,
            "ticks": "",
            "zerolinecolor": "white"
           },
           "yaxis": {
            "backgroundcolor": "#E5ECF6",
            "gridcolor": "white",
            "gridwidth": 2,
            "linecolor": "white",
            "showbackground": true,
            "ticks": "",
            "zerolinecolor": "white"
           },
           "zaxis": {
            "backgroundcolor": "#E5ECF6",
            "gridcolor": "white",
            "gridwidth": 2,
            "linecolor": "white",
            "showbackground": true,
            "ticks": "",
            "zerolinecolor": "white"
           }
          },
          "shapedefaults": {
           "line": {
            "color": "#2a3f5f"
           }
          },
          "ternary": {
           "aaxis": {
            "gridcolor": "white",
            "linecolor": "white",
            "ticks": ""
           },
           "baxis": {
            "gridcolor": "white",
            "linecolor": "white",
            "ticks": ""
           },
           "bgcolor": "#E5ECF6",
           "caxis": {
            "gridcolor": "white",
            "linecolor": "white",
            "ticks": ""
           }
          },
          "title": {
           "x": 0.05
          },
          "xaxis": {
           "automargin": true,
           "gridcolor": "white",
           "linecolor": "white",
           "ticks": "",
           "title": {
            "standoff": 15
           },
           "zerolinecolor": "white",
           "zerolinewidth": 2
          },
          "yaxis": {
           "automargin": true,
           "gridcolor": "white",
           "linecolor": "white",
           "ticks": "",
           "title": {
            "standoff": 15
           },
           "zerolinecolor": "white",
           "zerolinewidth": 2
          }
         }
        },
        "xaxis": {
         "anchor": "y",
         "domain": [
          0,
          1
         ],
         "title": {
          "text": "temperature"
         }
        },
        "xaxis2": {
         "anchor": "y2",
         "domain": [
          0,
          1
         ],
         "matches": "x",
         "showgrid": true,
         "showticklabels": false
        },
        "yaxis": {
         "anchor": "x",
         "domain": [
          0,
          0.7326
         ],
         "title": {
          "text": "sum of goal"
         }
        },
        "yaxis2": {
         "anchor": "x2",
         "domain": [
          0.7426,
          1
         ],
         "matches": "y2",
         "showgrid": false,
         "showline": false,
         "showticklabels": false,
         "ticks": ""
        }
       }
      },
      "text/html": [
       "<div>                            <div id=\"b99ef985-ca80-4fa6-b023-82deffe5a8b3\" class=\"plotly-graph-div\" style=\"height:525px; width:100%;\"></div>            <script type=\"text/javascript\">                require([\"plotly\"], function(Plotly) {                    window.PLOTLYENV=window.PLOTLYENV || {};                                    if (document.getElementById(\"b99ef985-ca80-4fa6-b023-82deffe5a8b3\")) {                    Plotly.newPlot(                        \"b99ef985-ca80-4fa6-b023-82deffe5a8b3\",                        [{\"alignmentgroup\": \"True\", \"bingroup\": \"x\", \"histfunc\": \"sum\", \"hovertemplate\": \"name=Bordeaux<br>temperature=%{x}<br>sum of goal=%{y}<extra></extra>\", \"legendgroup\": \"Bordeaux\", \"marker\": {\"color\": \"#636efa\"}, \"name\": \"Bordeaux\", \"offsetgroup\": \"Bordeaux\", \"orientation\": \"v\", \"showlegend\": true, \"type\": \"histogram\", \"x\": [22.5, 23.5, 11.5, 13.5, 14.5, 17.0, 8.5, 10.5, 13.0, 2.5, 8.0, 13.0, 8.0, 9.5, 14.0, 11.5, 12.0, 12.5, 14.0, 13.5, 20.0, 15.0, 17.5, 7.5, 9.5, 5.5, 7.5, 0.5, 8.5, 11.5, 5.5, 12.5, 4.5, 8.0, 11.5, 13.5, 16.5, 10.5], \"xaxis\": \"x\", \"y\": [0, 0, 0, 3, 2, 0, 1, 1, 1, 2, 2, 0, 0, 1, 0, 2, 0, 1, 3, 2, 1, 1, 0, 1, 2, 1, 2, 0, 3, 1, 1, 0, 3, 1, 1, 1, 0, 2], \"yaxis\": \"y\"}, {\"alignmentgroup\": \"True\", \"customdata\": [[12, \"Bordeaux\", 1, 5.0], [12, \"Bordeaux\", 21, 0.0], [12, \"Bordeaux\", 44, 1.0], [12, \"Bordeaux\", 57, 13.0], [12, \"Bordeaux\", 76, 7.0], [12, \"Bordeaux\", 92, 4.0], [12, \"Bordeaux\", 126, 4.0], [12, \"Bordeaux\", 150, 1.0], [12, \"Bordeaux\", 163, 1.0], [12, \"Bordeaux\", 189, 0.0], [12, \"Bordeaux\", 204, 7.0], [12, \"Bordeaux\", 221, 3.0], [12, \"Bordeaux\", 250, 0.0], [12, \"Bordeaux\", 262, 0.0], [12, \"Bordeaux\", 277, 0.0], [12, \"Bordeaux\", 307, 0.0], [12, \"Bordeaux\", 329, 0.0], [12, \"Bordeaux\", 344, 1.0], [12, \"Bordeaux\", 366, 8.0], [12, \"Bordeaux\", 17, 1.0], [12, \"Bordeaux\", 32, 1.0], [12, \"Bordeaux\", 64, 0.0], [12, \"Bordeaux\", 88, 0.0], [12, \"Bordeaux\", 101, 0.0], [12, \"Bordeaux\", 113, 0.0], [12, \"Bordeaux\", 139, 1.0], [12, \"Bordeaux\", 157, 14.0], [12, \"Bordeaux\", 173, 2.0], [12, \"Bordeaux\", 196, 1.0], [12, \"Bordeaux\", 211, 11.0], [12, \"Bordeaux\", 234, 1.0], [12, \"Bordeaux\", 258, 0.0], [12, \"Bordeaux\", 288, 3.0], [12, \"Bordeaux\", 295, 0.0], [12, \"Bordeaux\", 317, 14.0], [12, \"Bordeaux\", 338, 0.0], [12, \"Bordeaux\", 352, 1.0], [12, \"Bordeaux\", 379, 1.0]], \"hovertemplate\": \"name=%{customdata[1]}<br>temperature=%{x}<br>id=%{customdata[0]}<br>match_id=%{customdata[2]}<br>rainfall=%{customdata[3]}<extra></extra>\", \"legendgroup\": \"Bordeaux\", \"marker\": {\"color\": \"#636efa\"}, \"name\": \"Bordeaux\", \"notched\": true, \"offsetgroup\": \"Bordeaux\", \"showlegend\": false, \"type\": \"box\", \"x\": [22.5, 23.5, 11.5, 13.5, 14.5, 17.0, 8.5, 10.5, 13.0, 2.5, 8.0, 13.0, 8.0, 9.5, 14.0, 11.5, 12.0, 12.5, 14.0, 13.5, 20.0, 15.0, 17.5, 7.5, 9.5, 5.5, 7.5, 0.5, 8.5, 11.5, 5.5, 12.5, 4.5, 8.0, 11.5, 13.5, 16.5, 10.5], \"xaxis\": \"x2\", \"yaxis\": \"y2\"}, {\"alignmentgroup\": \"True\", \"bingroup\": \"x\", \"histfunc\": \"sum\", \"hovertemplate\": \"name=Dijon<br>temperature=%{x}<br>sum of goal=%{y}<extra></extra>\", \"legendgroup\": \"Dijon\", \"marker\": {\"color\": \"#EF553B\"}, \"name\": \"Dijon\", \"offsetgroup\": \"Dijon\", \"orientation\": \"v\", \"showlegend\": true, \"type\": \"histogram\", \"x\": [22.0, 22.0, 8.0, 10.0, 13.5, 3.5, 1.5, 8.5, 9.0, -1.0, 1.5, 10.5, -2.5, 7.5, 4.5, 3.5, 7.5, 8.5, 11.5, 21.5, 19.5, 13.5, 14.5, 11.5, 14.0, 9.5, 12.0, 1.0, 11.0, 1.0, 11.0, 11.0, 10.5, 14.5, 11.5, 12.0, 17.5, 12.0], \"xaxis\": \"x\", \"y\": [0, 0, 2, 1, 0, 0, 0, 0, 0, 0, 1, 0, 0, 0, 1, 0, 2, 1, 0, 1, 0, 0, 0, 1, 3, 1, 3, 0, 2, 0, 2, 1, 1, 0, 0, 1, 0, 1], \"yaxis\": \"y\"}, {\"alignmentgroup\": \"True\", \"customdata\": [[20, \"Dijon\", 2, 19.0], [20, \"Dijon\", 28, 0.0], [20, \"Dijon\", 45, 47.0], [20, \"Dijon\", 61, 2.0], [20, \"Dijon\", 86, 5.0], [20, \"Dijon\", 106, 0.0], [20, \"Dijon\", 128, 0.0], [20, \"Dijon\", 141, 1.0], [20, \"Dijon\", 155, 18.0], [20, \"Dijon\", 184, 0.0], [20, \"Dijon\", 207, 1.0], [20, \"Dijon\", 226, 1.0], [20, \"Dijon\", 248, 0.0], [20, \"Dijon\", 263, 3.0], [20, \"Dijon\", 288, 3.0], [20, \"Dijon\", 297, 0.0], [20, \"Dijon\", 326, 2.0], [20, \"Dijon\", 345, 5.0], [20, \"Dijon\", 370, 7.0], [20, \"Dijon\", 11, 20.0], [20, \"Dijon\", 38, 0.0], [20, \"Dijon\", 57, 13.0], [20, \"Dijon\", 73, 1.0], [20, \"Dijon\", 96, 1.0], [20, \"Dijon\", 119, 0.0], [20, \"Dijon\", 137, 2.0], [20, \"Dijon\", 165, 1.0], [20, \"Dijon\", 180, 1.0], [20, \"Dijon\", 200, 9.0], [20, \"Dijon\", 218, 0.0], [20, \"Dijon\", 238, 1.0], [20, \"Dijon\", 255, 0.0], [20, \"Dijon\", 275, 5.0], [20, \"Dijon\", 310, 1.0], [20, \"Dijon\", 319, 29.0], [20, \"Dijon\", 336, 0.0], [20, \"Dijon\", 358, 3.0], [20, \"Dijon\", 378, 0.0]], \"hovertemplate\": \"name=%{customdata[1]}<br>temperature=%{x}<br>id=%{customdata[0]}<br>match_id=%{customdata[2]}<br>rainfall=%{customdata[3]}<extra></extra>\", \"legendgroup\": \"Dijon\", \"marker\": {\"color\": \"#EF553B\"}, \"name\": \"Dijon\", \"notched\": true, \"offsetgroup\": \"Dijon\", \"showlegend\": false, \"type\": \"box\", \"x\": [22.0, 22.0, 8.0, 10.0, 13.5, 3.5, 1.5, 8.5, 9.0, -1.0, 1.5, 10.5, -2.5, 7.5, 4.5, 3.5, 7.5, 8.5, 11.5, 21.5, 19.5, 13.5, 14.5, 11.5, 14.0, 9.5, 12.0, 1.0, 11.0, 1.0, 11.0, 11.0, 10.5, 14.5, 11.5, 12.0, 17.5, 12.0], \"xaxis\": \"x2\", \"yaxis\": \"y2\"}, {\"alignmentgroup\": \"True\", \"bingroup\": \"x\", \"histfunc\": \"sum\", \"hovertemplate\": \"name=Lille<br>temperature=%{x}<br>sum of goal=%{y}<extra></extra>\", \"legendgroup\": \"Lille\", \"marker\": {\"color\": \"#00cc96\"}, \"name\": \"Lille\", \"offsetgroup\": \"Lille\", \"orientation\": \"v\", \"showlegend\": true, \"type\": \"histogram\", \"x\": [19.0, 20.0, 10.5, 11.5, 14.5, 10.5, 3.5, 5.5, 8.0, 2.0, 3.0, 1.0, 0.0, 8.0, 11.0, 8.5, 6.5, 9.0, 11.0, 15.0, 24.0, 13.5, 16.5, 15.0, 3.5, 8.5, 12.5, 2.5, 3.0, 13.0, 6.0, 11.0, 12.5, 8.5, 7.5, 16.5, 9.0, 11.5], \"xaxis\": \"x\", \"y\": [1, 1, 2, 4, 1, 4, 2, 2, 0, 1, 2, 1, 0, 1, 2, 1, 1, 2, 0, 1, 1, 3, 1, 2, 1, 2, 3, 1, 1, 3, 2, 4, 0, 1, 2, 3, 3, 2], \"yaxis\": \"y\"}, {\"alignmentgroup\": \"True\", \"customdata\": [[1, \"Lille\", 3, 1.0], [1, \"Lille\", 24, 0.0], [1, \"Lille\", 41, 8.0], [1, \"Lille\", 70, 2.0], [1, \"Lille\", 89, 1.0], [1, \"Lille\", 109, 4.0], [1, \"Lille\", 124, 0.0], [1, \"Lille\", 139, 1.0], [1, \"Lille\", 160, 0.0], [1, \"Lille\", 177, 2.0], [1, \"Lille\", 198, 1.0], [1, \"Lille\", 218, 0.0], [1, \"Lille\", 249, 0.0], [1, \"Lille\", 269, 0.0], [1, \"Lille\", 276, 1.0], [1, \"Lille\", 299, 1.0], [1, \"Lille\", 321, 0.0], [1, \"Lille\", 343, 0.0], [1, \"Lille\", 361, 6.0], [1, \"Lille\", 14, 2.0], [1, \"Lille\", 40, 13.0], [1, \"Lille\", 55, 2.0], [1, \"Lille\", 78, 2.0], [1, \"Lille\", 94, 1.0], [1, \"Lille\", 120, 0.0], [1, \"Lille\", 141, 1.0], [1, \"Lille\", 166, 1.0], [1, \"Lille\", 183, 0.0], [1, \"Lille\", 208, 1.0], [1, \"Lille\", 221, 3.0], [1, \"Lille\", 239, 1.0], [1, \"Lille\", 259, 2.0], [1, \"Lille\", 289, 1.0], [1, \"Lille\", 302, 0.0], [1, \"Lille\", 311, 1.0], [1, \"Lille\", 340, 0.0], [1, \"Lille\", 351, 1.0], [1, \"Lille\", 371, 1.0]], \"hovertemplate\": \"name=%{customdata[1]}<br>temperature=%{x}<br>id=%{customdata[0]}<br>match_id=%{customdata[2]}<br>rainfall=%{customdata[3]}<extra></extra>\", \"legendgroup\": \"Lille\", \"marker\": {\"color\": \"#00cc96\"}, \"name\": \"Lille\", \"notched\": true, \"offsetgroup\": \"Lille\", \"showlegend\": false, \"type\": \"box\", \"x\": [19.0, 20.0, 10.5, 11.5, 14.5, 10.5, 3.5, 5.5, 8.0, 2.0, 3.0, 1.0, 0.0, 8.0, 11.0, 8.5, 6.5, 9.0, 11.0, 15.0, 24.0, 13.5, 16.5, 15.0, 3.5, 8.5, 12.5, 2.5, 3.0, 13.0, 6.0, 11.0, 12.5, 8.5, 7.5, 16.5, 9.0, 11.5], \"xaxis\": \"x2\", \"yaxis\": \"y2\"}, {\"alignmentgroup\": \"True\", \"bingroup\": \"x\", \"histfunc\": \"sum\", \"hovertemplate\": \"name=Monaco<br>temperature=%{x}<br>sum of goal=%{y}<extra></extra>\", \"legendgroup\": \"Monaco\", \"marker\": {\"color\": \"#ab63fa\"}, \"name\": \"Monaco\", \"offsetgroup\": \"Monaco\", \"orientation\": \"v\", \"showlegend\": true, \"type\": \"histogram\", \"x\": [25.5, 26.5, 17.5, 16.0, 17.5, 14.5, 14.5, 13.0, 13.5, 6.0, 10.0, 12.0, 6.5, 14.0, 12.5, 14.0, 11.5, 15.0, 16.0, 17.0, 20.0, 12.0, 14.5, 16.0, 3.5, 10.5, 9.0, 2.0, 10.0, 9.5, 11.5, 12.0, 10.0, 1.5, 12.0, 13.0, 17.5, 10.5], \"xaxis\": \"x\", \"y\": [2, 2, 3, 1, 4, 3, 3, 0, 2, 3, 3, 2, 2, 2, 0, 4, 3, 2, 2, 1, 1, 0, 1, 2, 1, 1, 1, 5, 3, 2, 4, 2, 0, 4, 3, 1, 1, 0], \"yaxis\": \"y\"}, {\"alignmentgroup\": \"True\", \"customdata\": [[3, \"Monaco\", 4, 1.0], [3, \"Monaco\", 29, 0.0], [3, \"Monaco\", 47, 1.0], [3, \"Monaco\", 66, 1.0], [3, \"Monaco\", 88, 0.0], [3, \"Monaco\", 102, 3.0], [3, \"Monaco\", 117, 0.0], [3, \"Monaco\", 149, 1.0], [3, \"Monaco\", 170, 0.0], [3, \"Monaco\", 185, 0.0], [3, \"Monaco\", 203, 7.0], [3, \"Monaco\", 228, 0.0], [3, \"Monaco\", 244, 1.0], [3, \"Monaco\", 264, 0.0], [3, \"Monaco\", 289, 1.0], [3, \"Monaco\", 301, 7.0], [3, \"Monaco\", 319, 29.0], [3, \"Monaco\", 350, 5.0], [3, \"Monaco\", 363, 0.0], [3, \"Monaco\", 18, 1.0], [3, \"Monaco\", 33, 19.0], [3, \"Monaco\", 56, 7.0], [3, \"Monaco\", 79, 0.0], [3, \"Monaco\", 99, 1.0], [3, \"Monaco\", 124, 0.0], [3, \"Monaco\", 132, 7.0], [3, \"Monaco\", 155, 18.0], [3, \"Monaco\", 172, 0.0], [3, \"Monaco\", 191, 0.0], [3, \"Monaco\", 219, 5.0], [3, \"Monaco\", 235, 1.0], [3, \"Monaco\", 260, 0.0], [3, \"Monaco\", 278, 0.0], [3, \"Monaco\", 291, 0.0], [3, \"Monaco\", 329, 0.0], [3, \"Monaco\", 339, 0.0], [3, \"Monaco\", 359, 2.0], [3, \"Monaco\", 373, 2.0]], \"hovertemplate\": \"name=%{customdata[1]}<br>temperature=%{x}<br>id=%{customdata[0]}<br>match_id=%{customdata[2]}<br>rainfall=%{customdata[3]}<extra></extra>\", \"legendgroup\": \"Monaco\", \"marker\": {\"color\": \"#ab63fa\"}, \"name\": \"Monaco\", \"notched\": true, \"offsetgroup\": \"Monaco\", \"showlegend\": false, \"type\": \"box\", \"x\": [25.5, 26.5, 17.5, 16.0, 17.5, 14.5, 14.5, 13.0, 13.5, 6.0, 10.0, 12.0, 6.5, 14.0, 12.5, 14.0, 11.5, 15.0, 16.0, 17.0, 20.0, 12.0, 14.5, 16.0, 3.5, 10.5, 9.0, 2.0, 10.0, 9.5, 11.5, 12.0, 10.0, 1.5, 12.0, 13.0, 17.5, 10.5], \"xaxis\": \"x2\", \"yaxis\": \"y2\"}, {\"alignmentgroup\": \"True\", \"bingroup\": \"x\", \"histfunc\": \"sum\", \"hovertemplate\": \"name=Lorient<br>temperature=%{x}<br>sum of goal=%{y}<extra></extra>\", \"legendgroup\": \"Lorient\", \"marker\": {\"color\": \"#FFA15A\"}, \"name\": \"Lorient\", \"offsetgroup\": \"Lorient\", \"orientation\": \"v\", \"showlegend\": true, \"type\": \"histogram\", \"x\": [17.0, 18.0, 12.5, 15.5, 15.5, 9.5, 12.0, 11.0, 2.0, 11.0, 9.0, 7.0, 11.0, 7.5, 7.5, 8.0, 13.5, 8.5, 12.0, 14.5, 17.0, 11.0, 9.0, 13.5, 10.5, 4.0, 8.5, 12.5, 2.5, 13.5, 10.0, 6.5, 11.0, 6.5, 2.0, 11.0, 15.0, 12.0], \"xaxis\": \"x\", \"y\": [3, 2, 1, 0, 0, 0, 3, 0, 2, 3, 3, 1, 1, 2, 1, 1, 4, 2, 2, 0, 2, 1, 3, 0, 0, 0, 0, 2, 1, 0, 1, 2, 1, 1, 1, 2, 1, 1], \"yaxis\": \"y\"}, {\"alignmentgroup\": \"True\", \"customdata\": [[16, \"Lorient\", 5, 1.0], [16, \"Lorient\", 26, 0.0], [16, \"Lorient\", 49, 0.0], [16, \"Lorient\", 72, 18.0], [16, \"Lorient\", 98, 1.0], [16, \"Lorient\", 116, 0.0], [16, \"Lorient\", 138, 13.0], [16, \"Lorient\", 159, 5.0], [16, \"Lorient\", 172, 0.0], [16, \"Lorient\", 200, 9.0], [16, \"Lorient\", 214, 10.0], [16, \"Lorient\", 231, 0.0], [16, \"Lorient\", 259, 2.0], [16, \"Lorient\", 267, 0.0], [16, \"Lorient\", 287, 1.0], [16, \"Lorient\", 308, 0.0], [16, \"Lorient\", 338, 0.0], [16, \"Lorient\", 347, 2.0], [16, \"Lorient\", 369, 7.0], [16, \"Lorient\", 16, 2.0], [16, \"Lorient\", 36, 0.0], [16, \"Lorient\", 58, 18.0], [16, \"Lorient\", 63, 0.0], [16, \"Lorient\", 86, 5.0], [16, \"Lorient\", 109, 4.0], [16, \"Lorient\", 125, 2.0], [16, \"Lorient\", 147, 0.0], [16, \"Lorient\", 164, 0.0], [16, \"Lorient\", 189, 0.0], [16, \"Lorient\", 210, 0.0], [16, \"Lorient\", 222, 12.0], [16, \"Lorient\", 244, 1.0], [16, \"Lorient\", 279, 0.0], [16, \"Lorient\", 298, 1.0], [16, \"Lorient\", 315, 16.0], [16, \"Lorient\", 323, 0.0], [16, \"Lorient\", 353, 0.0], [16, \"Lorient\", 380, 2.0]], \"hovertemplate\": \"name=%{customdata[1]}<br>temperature=%{x}<br>id=%{customdata[0]}<br>match_id=%{customdata[2]}<br>rainfall=%{customdata[3]}<extra></extra>\", \"legendgroup\": \"Lorient\", \"marker\": {\"color\": \"#FFA15A\"}, \"name\": \"Lorient\", \"notched\": true, \"offsetgroup\": \"Lorient\", \"showlegend\": false, \"type\": \"box\", \"x\": [17.0, 18.0, 12.5, 15.5, 15.5, 9.5, 12.0, 11.0, 2.0, 11.0, 9.0, 7.0, 11.0, 7.5, 7.5, 8.0, 13.5, 8.5, 12.0, 14.5, 17.0, 11.0, 9.0, 13.5, 10.5, 4.0, 8.5, 12.5, 2.5, 13.5, 10.0, 6.5, 11.0, 6.5, 2.0, 11.0, 15.0, 12.0], \"xaxis\": \"x2\", \"yaxis\": \"y2\"}, {\"alignmentgroup\": \"True\", \"bingroup\": \"x\", \"histfunc\": \"sum\", \"hovertemplate\": \"name=N\\u00eemes<br>temperature=%{x}<br>sum of goal=%{y}<extra></extra>\", \"legendgroup\": \"N\\u00eemes\", \"marker\": {\"color\": \"#19d3f3\"}, \"name\": \"N\\u00eemes\", \"offsetgroup\": \"N\\u00eemes\", \"orientation\": \"v\", \"showlegend\": true, \"type\": \"histogram\", \"x\": [26.5, 27.0, 12.0, 12.5, 16.5, 17.0, 9.0, 13.0, 12.0, 2.5, 13.5, 11.5, 12.5, 11.5, 10.5, 11.0, 11.5, 13.5, 16.5, 14.0, 25.5, 16.0, 14.5, 6.5, 14.5, 12.0, 8.5, 1.5, 6.0, 9.5, 11.0, -2.5, 12.0, 8.5, 6.0, 8.5, 16.5, 10.0], \"xaxis\": \"x\", \"y\": [4, 2, 1, 0, 0, 1, 0, 0, 1, 0, 1, 3, 2, 1, 1, 0, 1, 2, 2, 1, 0, 1, 0, 1, 0, 0, 2, 0, 2, 1, 0, 2, 1, 2, 1, 1, 3, 0], \"yaxis\": \"y\"}, {\"alignmentgroup\": \"True\", \"customdata\": [[19, \"N\\u00eemes\", 6, 0.0], [19, \"N\\u00eemes\", 25, 0.0], [19, \"N\\u00eemes\", 46, 1.0], [19, \"N\\u00eemes\", 62, 0.0], [19, \"N\\u00eemes\", 85, 0.0], [19, \"N\\u00eemes\", 97, 33.0], [19, \"N\\u00eemes\", 121, 2.0], [19, \"N\\u00eemes\", 144, 5.0], [19, \"N\\u00eemes\", 165, 1.0], [19, \"N\\u00eemes\", 183, 0.0], [19, \"N\\u00eemes\", 210, 0.0], [19, \"N\\u00eemes\", 235, 1.0], [19, \"N\\u00eemes\", 258, 0.0], [19, \"N\\u00eemes\", 268, 4.0], [19, \"N\\u00eemes\", 284, 0.0], [19, \"N\\u00eemes\", 309, 0.0], [19, \"N\\u00eemes\", 328, 0.0], [19, \"N\\u00eemes\", 346, 1.0], [19, \"N\\u00eemes\", 364, 1.0], [19, \"N\\u00eemes\", 15, 1.0], [19, \"N\\u00eemes\", 31, 0.0], [19, \"N\\u00eemes\", 54, 2.0], [19, \"N\\u00eemes\", 76, 7.0], [19, \"N\\u00eemes\", 107, 0.0], [19, \"N\\u00eemes\", 117, 0.0], [19, \"N\\u00eemes\", 138, 13.0], [19, \"N\\u00eemes\", 158, 15.0], [19, \"N\\u00eemes\", 175, 6.0], [19, \"N\\u00eemes\", 192, 0.0], [19, \"N\\u00eemes\", 216, 10.0], [19, \"N\\u00eemes\", 227, 12.0], [19, \"N\\u00eemes\", 248, 0.0], [19, \"N\\u00eemes\", 274, 0.0], [19, \"N\\u00eemes\", 299, 1.0], [19, \"N\\u00eemes\", 318, 1.0], [19, \"N\\u00eemes\", 335, 0.0], [19, \"N\\u00eemes\", 356, 1.0], [19, \"N\\u00eemes\", 376, 2.0]], \"hovertemplate\": \"name=%{customdata[1]}<br>temperature=%{x}<br>id=%{customdata[0]}<br>match_id=%{customdata[2]}<br>rainfall=%{customdata[3]}<extra></extra>\", \"legendgroup\": \"N\\u00eemes\", \"marker\": {\"color\": \"#19d3f3\"}, \"name\": \"N\\u00eemes\", \"notched\": true, \"offsetgroup\": \"N\\u00eemes\", \"showlegend\": false, \"type\": \"box\", \"x\": [26.5, 27.0, 12.0, 12.5, 16.5, 17.0, 9.0, 13.0, 12.0, 2.5, 13.5, 11.5, 12.5, 11.5, 10.5, 11.0, 11.5, 13.5, 16.5, 14.0, 25.5, 16.0, 14.5, 6.5, 14.5, 12.0, 8.5, 1.5, 6.0, 9.5, 11.0, -2.5, 12.0, 8.5, 6.0, 8.5, 16.5, 10.0], \"xaxis\": \"x2\", \"yaxis\": \"y2\"}, {\"alignmentgroup\": \"True\", \"bingroup\": \"x\", \"histfunc\": \"sum\", \"hovertemplate\": \"name=Nice<br>temperature=%{x}<br>sum of goal=%{y}<extra></extra>\", \"legendgroup\": \"Nice\", \"marker\": {\"color\": \"#FF6692\"}, \"name\": \"Nice\", \"offsetgroup\": \"Nice\", \"orientation\": \"v\", \"showlegend\": true, \"type\": \"histogram\", \"x\": [25.5, 23.0, 15.5, 16.5, 16.0, 14.0, 11.0, 12.5, 12.5, 8.5, 11.5, 12.5, 11.5, 12.0, 9.0, 10.5, 16.0, 16.5, 16.5, 16.5, 25.0, 11.5, 6.5, 17.5, 11.5, 2.5, 13.0, 4.0, -1.5, 4.0, 12.0, -1.5, 6.5, 7.5, 7.5, 7.5, 9.0, 14.5], \"xaxis\": \"x\", \"y\": [2, 0, 2, 1, 1, 1, 0, 1, 2, 0, 0, 3, 1, 2, 3, 0, 3, 3, 0, 2, 1, 0, 3, 3, 2, 0, 2, 0, 1, 1, 1, 1, 2, 1, 2, 0, 0, 3], \"yaxis\": \"y\"}, {\"alignmentgroup\": \"True\", \"customdata\": [[9, \"Nice\", 7, 1.0], [9, \"Nice\", 34, 16.0], [9, \"Nice\", 53, 22.0], [9, \"Nice\", 78, 2.0], [9, \"Nice\", 99, 1.0], [9, \"Nice\", 119, 0.0], [9, \"Nice\", 134, 0.0], [9, \"Nice\", 153, 4.0], [9, \"Nice\", 164, 0.0], [9, \"Nice\", 196, 1.0], [9, \"Nice\", 213, 5.0], [9, \"Nice\", 237, 10.0], [9, \"Nice\", 256, 0.0], [9, \"Nice\", 274, 0.0], [9, \"Nice\", 293, 0.0], [9, \"Nice\", 316, 30.0], [9, \"Nice\", 334, 0.0], [9, \"Nice\", 357, 0.0], [9, \"Nice\", 368, 0.0], [9, \"Nice\", 13, 1.0], [9, \"Nice\", 22, 3.0], [9, \"Nice\", 44, 1.0], [9, \"Nice\", 69, 0.0], [9, \"Nice\", 84, 5.0], [9, \"Nice\", 110, 1.0], [9, \"Nice\", 129, 0.0], [9, \"Nice\", 144, 5.0], [9, \"Nice\", 174, 8.0], [9, \"Nice\", 188, 0.0], [9, \"Nice\", 202, 1.0], [9, \"Nice\", 228, 0.0], [9, \"Nice\", 241, 0.0], [9, \"Nice\", 261, 0.0], [9, \"Nice\", 287, 1.0], [9, \"Nice\", 306, 0.0], [9, \"Nice\", 326, 2.0], [9, \"Nice\", 343, 0.0], [9, \"Nice\", 374, 1.0]], \"hovertemplate\": \"name=%{customdata[1]}<br>temperature=%{x}<br>id=%{customdata[0]}<br>match_id=%{customdata[2]}<br>rainfall=%{customdata[3]}<extra></extra>\", \"legendgroup\": \"Nice\", \"marker\": {\"color\": \"#FF6692\"}, \"name\": \"Nice\", \"notched\": true, \"offsetgroup\": \"Nice\", \"showlegend\": false, \"type\": \"box\", \"x\": [25.5, 23.0, 15.5, 16.5, 16.0, 14.0, 11.0, 12.5, 12.5, 8.5, 11.5, 12.5, 11.5, 12.0, 9.0, 10.5, 16.0, 16.5, 16.5, 16.5, 25.0, 11.5, 6.5, 17.5, 11.5, 2.5, 13.0, 4.0, -1.5, 4.0, 12.0, -1.5, 6.5, 7.5, 7.5, 7.5, 9.0, 14.5], \"xaxis\": \"x2\", \"yaxis\": \"y2\"}, {\"alignmentgroup\": \"True\", \"bingroup\": \"x\", \"histfunc\": \"sum\", \"hovertemplate\": \"name=Montpellier<br>temperature=%{x}<br>sum of goal=%{y}<extra></extra>\", \"legendgroup\": \"Montpellier\", \"marker\": {\"color\": \"#B6E880\"}, \"name\": \"Montpellier\", \"offsetgroup\": \"Montpellier\", \"orientation\": \"v\", \"showlegend\": true, \"type\": \"histogram\", \"x\": [23.5, 25.0, 23.0, 16.0, 15.5, 9.0, 8.0, 13.0, 12.5, 4.5, 10.0, 11.0, 11.0, 11.5, 11.0, 8.0, 10.0, 14.0, 16.5, 14.0, 8.0, 16.0, 15.5, 17.0, 9.5, 8.0, 10.0, 4.5, 6.0, 10.0, -3.5, 7.0, 10.5, 8.0, 6.5, 16.0, 18.0, 12.0], \"xaxis\": \"x\", \"y\": [2, 3, 4, 0, 0, 4, 1, 0, 2, 1, 2, 1, 4, 2, 1, 3, 3, 1, 0, 1, 2, 1, 1, 2, 1, 3, 2, 1, 0, 1, 2, 0, 1, 1, 1, 1, 3, 2], \"yaxis\": \"y\"}, {\"alignmentgroup\": \"True\", \"customdata\": [[8, \"Montpellier\", 8, 0.0], [8, \"Montpellier\", 22, 3.0], [8, \"Montpellier\", 35, 16.0], [8, \"Montpellier\", 54, 2.0], [8, \"Montpellier\", 74, 0.0], [8, \"Montpellier\", 105, 0.0], [8, \"Montpellier\", 123, 0.0], [8, \"Montpellier\", 142, 9.0], [8, \"Montpellier\", 166, 1.0], [8, \"Montpellier\", 187, 0.0], [8, \"Montpellier\", 191, 0.0], [8, \"Montpellier\", 212, 5.0], [8, \"Montpellier\", 238, 1.0], [8, \"Montpellier\", 254, 0.0], [8, \"Montpellier\", 279, 0.0], [8, \"Montpellier\", 295, 0.0], [8, \"Montpellier\", 313, 16.0], [8, \"Montpellier\", 349, 1.0], [8, \"Montpellier\", 367, 3.0], [8, \"Montpellier\", 12, 4.0], [8, \"Montpellier\", 45, 47.0], [8, \"Montpellier\", 66, 1.0], [8, \"Montpellier\", 83, 0.0], [8, \"Montpellier\", 92, 4.0], [8, \"Montpellier\", 116, 0.0], [8, \"Montpellier\", 133, 3.0], [8, \"Montpellier\", 154, 5.0], [8, \"Montpellier\", 179, 0.0], [8, \"Montpellier\", 201, 12.0], [8, \"Montpellier\", 223, 27.0], [8, \"Montpellier\", 243, 3.0], [8, \"Montpellier\", 266, 0.0], [8, \"Montpellier\", 284, 0.0], [8, \"Montpellier\", 304, 0.0], [8, \"Montpellier\", 321, 0.0], [8, \"Montpellier\", 334, 0.0], [8, \"Montpellier\", 355, 0.0], [8, \"Montpellier\", 377, 1.0]], \"hovertemplate\": \"name=%{customdata[1]}<br>temperature=%{x}<br>id=%{customdata[0]}<br>match_id=%{customdata[2]}<br>rainfall=%{customdata[3]}<extra></extra>\", \"legendgroup\": \"Montpellier\", \"marker\": {\"color\": \"#B6E880\"}, \"name\": \"Montpellier\", \"notched\": true, \"offsetgroup\": \"Montpellier\", \"showlegend\": false, \"type\": \"box\", \"x\": [23.5, 25.0, 23.0, 16.0, 15.5, 9.0, 8.0, 13.0, 12.5, 4.5, 10.0, 11.0, 11.0, 11.5, 11.0, 8.0, 10.0, 14.0, 16.5, 14.0, 8.0, 16.0, 15.5, 17.0, 9.5, 8.0, 10.0, 4.5, 6.0, 10.0, -3.5, 7.0, 10.5, 8.0, 6.5, 16.0, 18.0, 12.0], \"xaxis\": \"x2\", \"yaxis\": \"y2\"}, {\"alignmentgroup\": \"True\", \"bingroup\": \"x\", \"histfunc\": \"sum\", \"hovertemplate\": \"name=Paris-SG<br>temperature=%{x}<br>sum of goal=%{y}<extra></extra>\", \"legendgroup\": \"Paris-SG\", \"marker\": {\"color\": \"#FF97FF\"}, \"name\": \"Paris-SG\", \"offsetgroup\": \"Paris-SG\", \"orientation\": \"v\", \"showlegend\": true, \"type\": \"histogram\", \"x\": [27.0, 26.0, 13.5, 14.5, 13.5, 9.5, 6.0, 8.5, 12.5, 2.0, 6.0, 11.0, -1.5, 12.0, 7.5, 8.5, 8.5, 11.0, 13.0, 19.0, 23.0, 13.0, 12.5, 14.0, 14.5, 8.0, 8.0, -3.0, 3.0, 9.0, 11.5, 7.5, 14.0, 4.0, 13.0, 10.0, 14.5, 10.5], \"xaxis\": \"x\", \"y\": [1, 0, 6, 4, 3, 2, 0, 2, 4, 3, 4, 3, 2, 0, 1, 0, 3, 2, 4, 0, 3, 2, 4, 3, 2, 3, 0, 1, 1, 2, 2, 4, 1, 4, 4, 3, 1, 2], \"yaxis\": \"y\"}, {\"alignmentgroup\": \"True\", \"customdata\": [[2, \"Paris-SG\", 9, 1.0], [2, \"Paris-SG\", 30, 0.0], [2, \"Paris-SG\", 51, 31.0], [2, \"Paris-SG\", 73, 1.0], [2, \"Paris-SG\", 93, 0.0], [2, \"Paris-SG\", 113, 0.0], [2, \"Paris-SG\", 140, 1.0], [2, \"Paris-SG\", 147, 0.0], [2, \"Paris-SG\", 168, 18.0], [2, \"Paris-SG\", 182, 0.0], [2, \"Paris-SG\", 201, 12.0], [2, \"Paris-SG\", 227, 12.0], [2, \"Paris-SG\", 241, 0.0], [2, \"Paris-SG\", 260, 0.0], [2, \"Paris-SG\", 290, 2.0], [2, \"Paris-SG\", 302, 0.0], [2, \"Paris-SG\", 324, 0.0], [2, \"Paris-SG\", 342, 0.0], [2, \"Paris-SG\", 362, 3.0], [2, \"Paris-SG\", 20, 1.0], [2, \"Paris-SG\", 34, 16.0], [2, \"Paris-SG\", 50, 21.0], [2, \"Paris-SG\", 62, 0.0], [2, \"Paris-SG\", 82, 0.0], [2, \"Paris-SG\", 102, 3.0], [2, \"Paris-SG\", 123, 0.0], [2, \"Paris-SG\", 160, 0.0], [2, \"Paris-SG\", 178, 0.0], [2, \"Paris-SG\", 193, 4.0], [2, \"Paris-SG\", 214, 10.0], [2, \"Paris-SG\", 240, 4.0], [2, \"Paris-SG\", 263, 3.0], [2, \"Paris-SG\", 277, 0.0], [2, \"Paris-SG\", 300, 0.0], [2, \"Paris-SG\", 312, 3.0], [2, \"Paris-SG\", 333, 0.0], [2, \"Paris-SG\", 360, 0.0], [2, \"Paris-SG\", 372, 11.0]], \"hovertemplate\": \"name=%{customdata[1]}<br>temperature=%{x}<br>id=%{customdata[0]}<br>match_id=%{customdata[2]}<br>rainfall=%{customdata[3]}<extra></extra>\", \"legendgroup\": \"Paris-SG\", \"marker\": {\"color\": \"#FF97FF\"}, \"name\": \"Paris-SG\", \"notched\": true, \"offsetgroup\": \"Paris-SG\", \"showlegend\": false, \"type\": \"box\", \"x\": [27.0, 26.0, 13.5, 14.5, 13.5, 9.5, 6.0, 8.5, 12.5, 2.0, 6.0, 11.0, -1.5, 12.0, 7.5, 8.5, 8.5, 11.0, 13.0, 19.0, 23.0, 13.0, 12.5, 14.0, 14.5, 8.0, 8.0, -3.0, 3.0, 9.0, 11.5, 7.5, 14.0, 4.0, 13.0, 10.0, 14.5, 10.5], \"xaxis\": \"x2\", \"yaxis\": \"y2\"}, {\"alignmentgroup\": \"True\", \"bingroup\": \"x\", \"histfunc\": \"sum\", \"hovertemplate\": \"name=Marseille<br>temperature=%{x}<br>sum of goal=%{y}<extra></extra>\", \"legendgroup\": \"Marseille\", \"marker\": {\"color\": \"#FECB52\"}, \"name\": \"Marseille\", \"offsetgroup\": \"Marseille\", \"orientation\": \"v\", \"showlegend\": true, \"type\": \"histogram\", \"x\": [26.5, 24.0, 14.5, 15.0, 12.5, 11.5, 15.5, 10.5, 14.0, 4.5, 6.0, 12.0, 11.5, 13.0, 11.5, 14.5, 11.0, 16.0, 15.5, 14.5, 26.0, 12.5, 15.5, 9.0, 9.0, 9.5, 12.5, -1.0, 10.0, 9.0, 8.0, 14.0, 11.0, 9.0, 10.0, 9.0, 17.0, 10.5], \"xaxis\": \"x\", \"y\": [0, 1, 1, 3, 0, 3, 3, 2, 1, 3, 1, 1, 0, 1, 3, 2, 3, 1, 3, 3, 1, 1, 1, 1, 2, 1, 1, 0, 1, 2, 0, 1, 0, 0, 3, 3, 0, 1], \"yaxis\": \"y\"}, {\"alignmentgroup\": \"True\", \"customdata\": [[5, \"Marseille\", 10, 0.0], [5, \"Marseille\", 40, 13.0], [5, \"Marseille\", 43, 0.0], [5, \"Marseille\", 64, 0.0], [5, \"Marseille\", 90, 6.0], [5, \"Marseille\", 110, 1.0], [5, \"Marseille\", 112, 4.0], [5, \"Marseille\", 132, 7.0], [5, \"Marseille\", 152, 1.0], [5, \"Marseille\", 179, 0.0], [5, \"Marseille\", 192, 0.0], [5, \"Marseille\", 220, 0.0], [5, \"Marseille\", 240, 4.0], [5, \"Marseille\", 270, 4.0], [5, \"Marseille\", 283, 0.0], [5, \"Marseille\", 310, 1.0], [5, \"Marseille\", 323, 0.0], [5, \"Marseille\", 341, 4.0], [5, \"Marseille\", 365, 1.0], [5, \"Marseille\", 19, 1.0], [5, \"Marseille\", 30, 0.0], [5, \"Marseille\", 60, 5.0], [5, \"Marseille\", 72, 18.0], [5, \"Marseille\", 91, 0.0], [5, \"Marseille\", 121, 2.0], [5, \"Marseille\", 148, 1.0], [5, \"Marseille\", 169, 6.0], [5, \"Marseille\", 184, 0.0], [5, \"Marseille\", 203, 7.0], [5, \"Marseille\", 229, 21.0], [5, \"Marseille\", 250, 0.0], [5, \"Marseille\", 253, 0.0], [5, \"Marseille\", 276, 1.0], [5, \"Marseille\", 293, 0.0], [5, \"Marseille\", 313, 16.0], [5, \"Marseille\", 331, 0.0], [5, \"Marseille\", 354, 1.0], [5, \"Marseille\", 375, 1.0]], \"hovertemplate\": \"name=%{customdata[1]}<br>temperature=%{x}<br>id=%{customdata[0]}<br>match_id=%{customdata[2]}<br>rainfall=%{customdata[3]}<extra></extra>\", \"legendgroup\": \"Marseille\", \"marker\": {\"color\": \"#FECB52\"}, \"name\": \"Marseille\", \"notched\": true, \"offsetgroup\": \"Marseille\", \"showlegend\": false, \"type\": \"box\", \"x\": [26.5, 24.0, 14.5, 15.0, 12.5, 11.5, 15.5, 10.5, 14.0, 4.5, 6.0, 12.0, 11.5, 13.0, 11.5, 14.5, 11.0, 16.0, 15.5, 14.5, 26.0, 12.5, 15.5, 9.0, 9.0, 9.5, 12.5, -1.0, 10.0, 9.0, 8.0, 14.0, 11.0, 9.0, 10.0, 9.0, 17.0, 10.5], \"xaxis\": \"x2\", \"yaxis\": \"y2\"}, {\"alignmentgroup\": \"True\", \"bingroup\": \"x\", \"histfunc\": \"sum\", \"hovertemplate\": \"name=Lyon<br>temperature=%{x}<br>sum of goal=%{y}<extra></extra>\", \"legendgroup\": \"Lyon\", \"marker\": {\"color\": \"#636efa\"}, \"name\": \"Lyon\", \"offsetgroup\": \"Lyon\", \"orientation\": \"v\", \"showlegend\": true, \"type\": \"histogram\", \"x\": [21.5, 25.5, 12.5, 14.5, 13.5, 5.0, 9.5, 11.0, 0.0, 3.0, 11.5, 12.5, -3.5, 12.0, 4.0, 13.0, 16.5, 15.0, 14.5, 23.5, 23.5, 12.5, 10.0, 14.5, 8.0, 2.5, 6.0, 12.5, 1.0, 1.5, 10.5, 10.0, 13.0, 6.5, 7.5, 8.5, 15.0, 16.5], \"xaxis\": \"x\", \"y\": [4, 0, 1, 4, 2, 3, 2, 3, 3, 0, 2, 3, 1, 1, 2, 3, 2, 4, 2, 1, 0, 1, 3, 1, 1, 3, 1, 4, 2, 5, 1, 3, 1, 1, 1, 2, 3, 5], \"yaxis\": \"y\"}, {\"alignmentgroup\": \"True\", \"customdata\": [[4, \"Lyon\", 11, 20.0], [4, \"Lyon\", 31, 0.0], [4, \"Lyon\", 60, 5.0], [4, \"Lyon\", 79, 0.0], [4, \"Lyon\", 100, 4.0], [4, \"Lyon\", 114, 0.0], [4, \"Lyon\", 146, 24.0], [4, \"Lyon\", 167, 0.0], [4, \"Lyon\", 176, 0.0], [4, \"Lyon\", 199, 5.0], [4, \"Lyon\", 211, 11.0], [4, \"Lyon\", 232, 1.0], [4, \"Lyon\", 243, 3.0], [4, \"Lyon\", 271, 0.0], [4, \"Lyon\", 300, 0.0], [4, \"Lyon\", 320, 14.0], [4, \"Lyon\", 340, 0.0], [4, \"Lyon\", 353, 0.0], [4, \"Lyon\", 374, 1.0], [4, \"Lyon\", 8, 0.0], [4, \"Lyon\", 21, 0.0], [4, \"Lyon\", 49, 0.0], [4, \"Lyon\", 65, 2.0], [4, \"Lyon\", 89, 1.0], [4, \"Lyon\", 108, 0.0], [4, \"Lyon\", 130, 0.0], [4, \"Lyon\", 140, 1.0], [4, \"Lyon\", 153, 4.0], [4, \"Lyon\", 181, 0.0], [4, \"Lyon\", 209, 1.0], [4, \"Lyon\", 226, 1.0], [4, \"Lyon\", 251, 3.0], [4, \"Lyon\", 270, 4.0], [4, \"Lyon\", 281, 3.0], [4, \"Lyon\", 303, 0.0], [4, \"Lyon\", 330, 0.0], [4, \"Lyon\", 350, 5.0], [4, \"Lyon\", 364, 1.0]], \"hovertemplate\": \"name=%{customdata[1]}<br>temperature=%{x}<br>id=%{customdata[0]}<br>match_id=%{customdata[2]}<br>rainfall=%{customdata[3]}<extra></extra>\", \"legendgroup\": \"Lyon\", \"marker\": {\"color\": \"#636efa\"}, \"name\": \"Lyon\", \"notched\": true, \"offsetgroup\": \"Lyon\", \"showlegend\": false, \"type\": \"box\", \"x\": [21.5, 25.5, 12.5, 14.5, 13.5, 5.0, 9.5, 11.0, 0.0, 3.0, 11.5, 12.5, -3.5, 12.0, 4.0, 13.0, 16.5, 15.0, 14.5, 23.5, 23.5, 12.5, 10.0, 14.5, 8.0, 2.5, 6.0, 12.5, 1.0, 1.5, 10.5, 10.0, 13.0, 6.5, 7.5, 8.5, 15.0, 16.5], \"xaxis\": \"x2\", \"yaxis\": \"y2\"}, {\"alignmentgroup\": \"True\", \"bingroup\": \"x\", \"histfunc\": \"sum\", \"hovertemplate\": \"name=Rennes<br>temperature=%{x}<br>sum of goal=%{y}<extra></extra>\", \"legendgroup\": \"Rennes\", \"marker\": {\"color\": \"#EF553B\"}, \"name\": \"Rennes\", \"offsetgroup\": \"Rennes\", \"orientation\": \"v\", \"showlegend\": true, \"type\": \"histogram\", \"x\": [14.0, 20.0, 11.5, 13.0, 12.5, 7.5, 4.0, 9.5, 13.0, 1.0, 3.0, 10.0, 1.0, 6.5, 6.0, 5.5, 12.0, 14.5, 10.0, 19.0, 27.0, 7.5, 10.0, 13.5, 5.5, 11.0, 11.0, 0.5, 7.0, 12.0, 7.5, 11.5, 12.0, 1.5, 6.5, 6.5, 12.5, 16.0], \"xaxis\": \"x\", \"y\": [2, 2, 2, 1, 2, 0, 0, 2, 1, 2, 0, 1, 0, 1, 1, 1, 5, 1, 2, 1, 4, 3, 1, 0, 1, 1, 3, 0, 2, 0, 0, 1, 0, 3, 2, 3, 0, 1], \"yaxis\": \"y\"}, {\"alignmentgroup\": \"True\", \"customdata\": [[6, \"Rennes\", 12, 4.0], [6, \"Rennes\", 33, 19.0], [6, \"Rennes\", 59, 4.0], [6, \"Rennes\", 71, 2.0], [6, \"Rennes\", 81, 2.0], [6, \"Rennes\", 101, 0.0], [6, \"Rennes\", 122, 6.0], [6, \"Rennes\", 148, 1.0], [6, \"Rennes\", 161, 21.0], [6, \"Rennes\", 181, 0.0], [6, \"Rennes\", 208, 1.0], [6, \"Rennes\", 222, 12.0], [6, \"Rennes\", 245, 1.0], [6, \"Rennes\", 261, 0.0], [6, \"Rennes\", 286, 1.0], [6, \"Rennes\", 314, 3.0], [6, \"Rennes\", 336, 0.0], [6, \"Rennes\", 360, 0.0], [6, \"Rennes\", 376, 2.0], [6, \"Rennes\", 3, 1.0], [6, \"Rennes\", 25, 0.0], [6, \"Rennes\", 42, 3.0], [6, \"Rennes\", 61, 2.0], [6, \"Rennes\", 93, 0.0], [6, \"Rennes\", 111, 0.0], [6, \"Rennes\", 134, 0.0], [6, \"Rennes\", 159, 5.0], [6, \"Rennes\", 171, 0.0], [6, \"Rennes\", 194, 0.0], [6, \"Rennes\", 220, 0.0], [6, \"Rennes\", 233, 16.0], [6, \"Rennes\", 254, 0.0], [6, \"Rennes\", 271, 0.0], [6, \"Rennes\", 292, 0.0], [6, \"Rennes\", 305, 0.0], [6, \"Rennes\", 322, 1.0], [6, \"Rennes\", 344, 1.0], [6, \"Rennes\", 363, 0.0]], \"hovertemplate\": \"name=%{customdata[1]}<br>temperature=%{x}<br>id=%{customdata[0]}<br>match_id=%{customdata[2]}<br>rainfall=%{customdata[3]}<extra></extra>\", \"legendgroup\": \"Rennes\", \"marker\": {\"color\": \"#EF553B\"}, \"name\": \"Rennes\", \"notched\": true, \"offsetgroup\": \"Rennes\", \"showlegend\": false, \"type\": \"box\", \"x\": [14.0, 20.0, 11.5, 13.0, 12.5, 7.5, 4.0, 9.5, 13.0, 1.0, 3.0, 10.0, 1.0, 6.5, 6.0, 5.5, 12.0, 14.5, 10.0, 19.0, 27.0, 7.5, 10.0, 13.5, 5.5, 11.0, 11.0, 0.5, 7.0, 12.0, 7.5, 11.5, 12.0, 1.5, 6.5, 6.5, 12.5, 16.0], \"xaxis\": \"x2\", \"yaxis\": \"y2\"}, {\"alignmentgroup\": \"True\", \"bingroup\": \"x\", \"histfunc\": \"sum\", \"hovertemplate\": \"name=Strasbourg<br>temperature=%{x}<br>sum of goal=%{y}<extra></extra>\", \"legendgroup\": \"Strasbourg\", \"marker\": {\"color\": \"#00cc96\"}, \"name\": \"Strasbourg\", \"offsetgroup\": \"Strasbourg\", \"orientation\": \"v\", \"showlegend\": true, \"type\": \"histogram\", \"x\": [16.5, 19.5, 13.5, 10.0, 9.0, 5.5, 7.0, 7.5, 1.5, 1.0, 2.5, 10.0, 12.0, 10.0, 3.5, 13.0, 12.0, 18.0, 12.0, 17.0, 19.5, 17.5, 11.0, 14.5, 9.0, 6.5, 9.0, 12.5, 2.5, 1.5, 12.5, -1.5, 8.0, 6.0, 11.5, 11.5, 16.0, 16.5], \"xaxis\": \"x\", \"y\": [0, 1, 0, 2, 0, 1, 2, 0, 5, 1, 0, 2, 0, 1, 1, 1, 1, 2, 1, 1, 0, 2, 3, 1, 3, 4, 2, 0, 1, 1, 0, 2, 1, 0, 3, 1, 1, 2], \"yaxis\": \"y\"}, {\"alignmentgroup\": \"True\", \"customdata\": [[15, \"Strasbourg\", 13, 1.0], [15, \"Strasbourg\", 38, 0.0], [15, \"Strasbourg\", 55, 2.0], [15, \"Strasbourg\", 65, 2.0], [15, \"Strasbourg\", 91, 0.0], [15, \"Strasbourg\", 111, 0.0], [15, \"Strasbourg\", 136, 3.0], [15, \"Strasbourg\", 157, 14.0], [15, \"Strasbourg\", 175, 6.0], [15, \"Strasbourg\", 197, 8.0], [15, \"Strasbourg\", 217, 3.0], [15, \"Strasbourg\", 225, 11.0], [15, \"Strasbourg\", 257, 0.0], [15, \"Strasbourg\", 278, 0.0], [15, \"Strasbourg\", 294, 1.0], [15, \"Strasbourg\", 312, 3.0], [15, \"Strasbourg\", 337, 0.0], [15, \"Strasbourg\", 355, 0.0], [15, \"Strasbourg\", 380, 2.0], [15, \"Strasbourg\", 5, 1.0], [15, \"Strasbourg\", 23, 0.0], [15, \"Strasbourg\", 47, 1.0], [15, \"Strasbourg\", 77, 4.0], [15, \"Strasbourg\", 87, 2.0], [15, \"Strasbourg\", 105, 0.0], [15, \"Strasbourg\", 127, 4.0], [15, \"Strasbourg\", 143, 2.0], [15, \"Strasbourg\", 168, 18.0], [15, \"Strasbourg\", 186, 1.0], [15, \"Strasbourg\", 207, 1.0], [15, \"Strasbourg\", 232, 1.0], [15, \"Strasbourg\", 246, 0.0], [15, \"Strasbourg\", 269, 0.0], [15, \"Strasbourg\", 286, 1.0], [15, \"Strasbourg\", 307, 0.0], [15, \"Strasbourg\", 328, 0.0], [15, \"Strasbourg\", 341, 4.0], [15, \"Strasbourg\", 368, 0.0]], \"hovertemplate\": \"name=%{customdata[1]}<br>temperature=%{x}<br>id=%{customdata[0]}<br>match_id=%{customdata[2]}<br>rainfall=%{customdata[3]}<extra></extra>\", \"legendgroup\": \"Strasbourg\", \"marker\": {\"color\": \"#00cc96\"}, \"name\": \"Strasbourg\", \"notched\": true, \"offsetgroup\": \"Strasbourg\", \"showlegend\": false, \"type\": \"box\", \"x\": [16.5, 19.5, 13.5, 10.0, 9.0, 5.5, 7.0, 7.5, 1.5, 1.0, 2.5, 10.0, 12.0, 10.0, 3.5, 13.0, 12.0, 18.0, 12.0, 17.0, 19.5, 17.5, 11.0, 14.5, 9.0, 6.5, 9.0, 12.5, 2.5, 1.5, 12.5, -1.5, 8.0, 6.0, 11.5, 11.5, 16.0, 16.5], \"xaxis\": \"x2\", \"yaxis\": \"y2\"}, {\"alignmentgroup\": \"True\", \"bingroup\": \"x\", \"histfunc\": \"sum\", \"hovertemplate\": \"name=Reims<br>temperature=%{x}<br>sum of goal=%{y}<extra></extra>\", \"legendgroup\": \"Reims\", \"marker\": {\"color\": \"#ab63fa\"}, \"name\": \"Reims\", \"offsetgroup\": \"Reims\", \"orientation\": \"v\", \"showlegend\": true, \"type\": \"histogram\", \"x\": [15.0, 13.0, 9.0, 14.5, 6.5, 2.5, 7.0, 1.0, 0.5, 1.0, 10.0, -2.5, 7.0, 6.5, 6.5, 8.0, 9.0, 17.5, 10.5, 25.5, 21.0, 19.0, 11.5, 15.5, 13.0, 5.0, 11.5, 14.0, 13.0, 3.0, 2.5, 7.0, 9.0, 11.5, 3.5, 10.5, 13.5, 13.0], \"xaxis\": \"x\", \"y\": [0, 0, 1, 2, 0, 0, 3, 0, 3, 1, 0, 1, 0, 1, 2, 0, 1, 0, 1, 2, 0, 1, 2, 4, 4, 0, 1, 1, 3, 1, 1, 0, 1, 2, 1, 0, 2, 0], \"yaxis\": \"y\"}, {\"alignmentgroup\": \"True\", \"customdata\": [[14, \"Reims\", 14, 2.0], [14, \"Reims\", 50, 21.0], [14, \"Reims\", 63, 0.0], [14, \"Reims\", 87, 2.0], [14, \"Reims\", 107, 0.0], [14, \"Reims\", 129, 0.0], [14, \"Reims\", 145, 0.0], [14, \"Reims\", 180, 1.0], [14, \"Reims\", 190, 0.0], [14, \"Reims\", 206, 4.0], [14, \"Reims\", 224, 14.0], [14, \"Reims\", 242, 0.0], [14, \"Reims\", 266, 0.0], [14, \"Reims\", 281, 3.0], [14, \"Reims\", 305, 0.0], [14, \"Reims\", 327, 1.0], [14, \"Reims\", 331, 0.0], [14, \"Reims\", 359, 2.0], [14, \"Reims\", 379, 1.0], [14, \"Reims\", 4, 1.0], [14, \"Reims\", 27, 0.0], [14, \"Reims\", 37, 1.0], [14, \"Reims\", 59, 4.0], [14, \"Reims\", 74, 0.0], [14, \"Reims\", 95, 0.0], [14, \"Reims\", 114, 0.0], [14, \"Reims\", 135, 10.0], [14, \"Reims\", 152, 1.0], [14, \"Reims\", 163, 1.0], [14, \"Reims\", 198, 1.0], [14, \"Reims\", 217, 3.0], [14, \"Reims\", 231, 0.0], [14, \"Reims\", 252, 0.0], [14, \"Reims\", 280, 3.0], [14, \"Reims\", 297, 0.0], [14, \"Reims\", 316, 30.0], [14, \"Reims\", 346, 1.0], [14, \"Reims\", 362, 3.0]], \"hovertemplate\": \"name=%{customdata[1]}<br>temperature=%{x}<br>id=%{customdata[0]}<br>match_id=%{customdata[2]}<br>rainfall=%{customdata[3]}<extra></extra>\", \"legendgroup\": \"Reims\", \"marker\": {\"color\": \"#ab63fa\"}, \"name\": \"Reims\", \"notched\": true, \"offsetgroup\": \"Reims\", \"showlegend\": false, \"type\": \"box\", \"x\": [15.0, 13.0, 9.0, 14.5, 6.5, 2.5, 7.0, 1.0, 0.5, 1.0, 10.0, -2.5, 7.0, 6.5, 6.5, 8.0, 9.0, 17.5, 10.5, 25.5, 21.0, 19.0, 11.5, 15.5, 13.0, 5.0, 11.5, 14.0, 13.0, 3.0, 2.5, 7.0, 9.0, 11.5, 3.5, 10.5, 13.5, 13.0], \"xaxis\": \"x2\", \"yaxis\": \"y2\"}, {\"alignmentgroup\": \"True\", \"bingroup\": \"x\", \"histfunc\": \"sum\", \"hovertemplate\": \"name=Nantes<br>temperature=%{x}<br>sum of goal=%{y}<extra></extra>\", \"legendgroup\": \"Nantes\", \"marker\": {\"color\": \"#FFA15A\"}, \"name\": \"Nantes\", \"offsetgroup\": \"Nantes\", \"orientation\": \"v\", \"showlegend\": true, \"type\": \"histogram\", \"x\": [14.0, 20.5, 11.5, 14.0, 9.0, 6.5, 9.5, 10.0, 0.5, 6.0, 9.5, 6.0, 14.0, 11.5, 6.5, 7.5, 8.5, 16.5, 12.0, 22.5, 26.5, 10.5, 15.5, 8.0, 15.5, 15.5, 7.0, 11.0, 4.5, 1.0, 10.0, 1.5, 11.5, 7.5, 5.5, 12.0, 9.0, 11.5], \"xaxis\": \"x\", \"y\": [2, 2, 3, 0, 1, 0, 1, 1, 0, 1, 1, 0, 1, 1, 1, 1, 1, 3, 1, 0, 1, 0, 1, 1, 2, 1, 2, 0, 1, 0, 1, 3, 1, 2, 0, 2, 4, 4], \"yaxis\": \"y\"}, {\"alignmentgroup\": \"True\", \"customdata\": [[18, \"Nantes\", 15, 1.0], [18, \"Nantes\", 39, 2.0], [18, \"Nantes\", 67, 0.0], [18, \"Nantes\", 82, 0.0], [18, \"Nantes\", 104, 0.0], [18, \"Nantes\", 127, 4.0], [18, \"Nantes\", 137, 2.0], [18, \"Nantes\", 156, 1.0], [18, \"Nantes\", 171, 0.0], [18, \"Nantes\", 195, 0.0], [18, \"Nantes\", 219, 5.0], [18, \"Nantes\", 239, 1.0], [18, \"Nantes\", 253, 0.0], [18, \"Nantes\", 280, 3.0], [18, \"Nantes\", 298, 1.0], [18, \"Nantes\", 306, 0.0], [18, \"Nantes\", 330, 0.0], [18, \"Nantes\", 352, 1.0], [18, \"Nantes\", 377, 1.0], [18, \"Nantes\", 1, 5.0], [18, \"Nantes\", 29, 0.0], [18, \"Nantes\", 41, 8.0], [18, \"Nantes\", 53, 22.0], [18, \"Nantes\", 80, 0.0], [18, \"Nantes\", 98, 1.0], [18, \"Nantes\", 112, 4.0], [18, \"Nantes\", 145, 0.0], [18, \"Nantes\", 167, 0.0], [18, \"Nantes\", 187, 0.0], [18, \"Nantes\", 205, 3.0], [18, \"Nantes\", 230, 0.0], [18, \"Nantes\", 247, 0.0], [18, \"Nantes\", 268, 4.0], [18, \"Nantes\", 290, 2.0], [18, \"Nantes\", 314, 3.0], [18, \"Nantes\", 337, 0.0], [18, \"Nantes\", 348, 1.0], [18, \"Nantes\", 370, 7.0]], \"hovertemplate\": \"name=%{customdata[1]}<br>temperature=%{x}<br>id=%{customdata[0]}<br>match_id=%{customdata[2]}<br>rainfall=%{customdata[3]}<extra></extra>\", \"legendgroup\": \"Nantes\", \"marker\": {\"color\": \"#FFA15A\"}, \"name\": \"Nantes\", \"notched\": true, \"offsetgroup\": \"Nantes\", \"showlegend\": false, \"type\": \"box\", \"x\": [14.0, 20.5, 11.5, 14.0, 9.0, 6.5, 9.5, 10.0, 0.5, 6.0, 9.5, 6.0, 14.0, 11.5, 6.5, 7.5, 8.5, 16.5, 12.0, 22.5, 26.5, 10.5, 15.5, 8.0, 15.5, 15.5, 7.0, 11.0, 4.5, 1.0, 10.0, 1.5, 11.5, 7.5, 5.5, 12.0, 9.0, 11.5], \"xaxis\": \"x2\", \"yaxis\": \"y2\"}, {\"alignmentgroup\": \"True\", \"bingroup\": \"x\", \"histfunc\": \"sum\", \"hovertemplate\": \"name=Saint-\\u00c9tienne<br>temperature=%{x}<br>sum of goal=%{y}<extra></extra>\", \"legendgroup\": \"Saint-\\u00c9tienne\", \"marker\": {\"color\": \"#19d3f3\"}, \"name\": \"Saint-\\u00c9tienne\", \"offsetgroup\": \"Saint-\\u00c9tienne\", \"orientation\": \"v\", \"showlegend\": true, \"type\": \"histogram\", \"x\": [14.5, 19.5, 7.5, 6.5, 15.5, 3.5, 5.5, 8.5, -3.0, 1.5, 10.0, 7.0, 9.0, 9.0, 1.5, 11.5, 13.5, 17.0, 12.0, 26.5, 20.5, 13.5, 11.5, 13.5, 10.5, 1.5, 10.5, 13.5, 0.5, 1.0, 11.5, 1.0, 7.5, 9.5, 11.0, 8.5, 14.0, 11.0], \"xaxis\": \"x\", \"y\": [2, 2, 0, 1, 0, 1, 0, 2, 1, 0, 1, 1, 1, 2, 0, 4, 1, 1, 0, 2, 2, 0, 0, 1, 1, 0, 2, 2, 1, 0, 1, 2, 1, 1, 2, 2, 2, 0], \"yaxis\": \"y\"}, {\"alignmentgroup\": \"True\", \"customdata\": [[11, \"Saint-\\u00c9tienne\", 16, 2.0], [11, \"Saint-\\u00c9tienne\", 23, 0.0], [11, \"Saint-\\u00c9tienne\", 42, 3.0], [11, \"Saint-\\u00c9tienne\", 69, 0.0], [11, \"Saint-\\u00c9tienne\", 83, 0.0], [11, \"Saint-\\u00c9tienne\", 120, 0.0], [11, \"Saint-\\u00c9tienne\", 131, 12.0], [11, \"Saint-\\u00c9tienne\", 158, 15.0], [11, \"Saint-\\u00c9tienne\", 178, 0.0], [11, \"Saint-\\u00c9tienne\", 209, 1.0], [11, \"Saint-\\u00c9tienne\", 230, 0.0], [11, \"Saint-\\u00c9tienne\", 236, 25.0], [11, \"Saint-\\u00c9tienne\", 252, 0.0], [11, \"Saint-\\u00c9tienne\", 273, 0.0], [11, \"Saint-\\u00c9tienne\", 291, 0.0], [11, \"Saint-\\u00c9tienne\", 317, 14.0], [11, \"Saint-\\u00c9tienne\", 332, 0.0], [11, \"Saint-\\u00c9tienne\", 354, 1.0], [11, \"Saint-\\u00c9tienne\", 378, 0.0], [11, \"Saint-\\u00c9tienne\", 10, 0.0], [11, \"Saint-\\u00c9tienne\", 39, 2.0], [11, \"Saint-\\u00c9tienne\", 52, 22.0], [11, \"Saint-\\u00c9tienne\", 75, 11.0], [11, \"Saint-\\u00c9tienne\", 100, 4.0], [11, \"Saint-\\u00c9tienne\", 103, 1.0], [11, \"Saint-\\u00c9tienne\", 128, 0.0], [11, \"Saint-\\u00c9tienne\", 150, 1.0], [11, \"Saint-\\u00c9tienne\", 170, 0.0], [11, \"Saint-\\u00c9tienne\", 190, 0.0], [11, \"Saint-\\u00c9tienne\", 197, 8.0], [11, \"Saint-\\u00c9tienne\", 213, 5.0], [11, \"Saint-\\u00c9tienne\", 245, 1.0], [11, \"Saint-\\u00c9tienne\", 267, 0.0], [11, \"Saint-\\u00c9tienne\", 282, 7.0], [11, \"Saint-\\u00c9tienne\", 309, 0.0], [11, \"Saint-\\u00c9tienne\", 324, 0.0], [11, \"Saint-\\u00c9tienne\", 349, 1.0], [11, \"Saint-\\u00c9tienne\", 361, 6.0]], \"hovertemplate\": \"name=%{customdata[1]}<br>temperature=%{x}<br>id=%{customdata[0]}<br>match_id=%{customdata[2]}<br>rainfall=%{customdata[3]}<extra></extra>\", \"legendgroup\": \"Saint-\\u00c9tienne\", \"marker\": {\"color\": \"#19d3f3\"}, \"name\": \"Saint-\\u00c9tienne\", \"notched\": true, \"offsetgroup\": \"Saint-\\u00c9tienne\", \"showlegend\": false, \"type\": \"box\", \"x\": [14.5, 19.5, 7.5, 6.5, 15.5, 3.5, 5.5, 8.5, -3.0, 1.5, 10.0, 7.0, 9.0, 9.0, 1.5, 11.5, 13.5, 17.0, 12.0, 26.5, 20.5, 13.5, 11.5, 13.5, 10.5, 1.5, 10.5, 13.5, 0.5, 1.0, 11.5, 1.0, 7.5, 9.5, 11.0, 8.5, 14.0, 11.0], \"xaxis\": \"x2\", \"yaxis\": \"y2\"}, {\"alignmentgroup\": \"True\", \"bingroup\": \"x\", \"histfunc\": \"sum\", \"hovertemplate\": \"name=Angers<br>temperature=%{x}<br>sum of goal=%{y}<extra></extra>\", \"legendgroup\": \"Angers\", \"marker\": {\"color\": \"#FF6692\"}, \"name\": \"Angers\", \"offsetgroup\": \"Angers\", \"orientation\": \"v\", \"showlegend\": true, \"type\": \"histogram\", \"x\": [13.5, 21.0, 11.5, 12.0, 17.5, 8.0, 4.0, 9.0, 12.5, 3.0, 9.5, 1.5, 6.5, 9.5, 8.0, 6.5, 13.0, 17.5, 11.5, 22.0, 23.0, 13.5, 13.0, 17.0, 5.5, 5.5, 10.0, 2.0, 6.0, 8.0, 10.0, 12.5, 12.0, 9.0, 9.0, 13.0, 8.5, 15.5], \"xaxis\": \"x\", \"y\": [0, 1, 3, 1, 0, 0, 2, 0, 2, 0, 3, 1, 2, 0, 1, 0, 0, 3, 1, 1, 1, 1, 2, 5, 3, 0, 1, 2, 0, 1, 0, 0, 0, 1, 0, 0, 0, 2], \"yaxis\": \"y\"}, {\"alignmentgroup\": \"True\", \"customdata\": [[13, \"Angers\", 17, 1.0], [13, \"Angers\", 27, 0.0], [13, \"Angers\", 48, 0.0], [13, \"Angers\", 68, 0.0], [13, \"Angers\", 84, 5.0], [13, \"Angers\", 108, 0.0], [13, \"Angers\", 125, 2.0], [13, \"Angers\", 143, 2.0], [13, \"Angers\", 169, 6.0], [13, \"Angers\", 193, 4.0], [13, \"Angers\", 216, 10.0], [13, \"Angers\", 247, 0.0], [13, \"Angers\", 265, 0.0], [13, \"Angers\", 282, 7.0], [13, \"Angers\", 304, 0.0], [13, \"Angers\", 322, 1.0], [13, \"Angers\", 339, 0.0], [13, \"Angers\", 358, 3.0], [13, \"Angers\", 371, 1.0], [13, \"Angers\", 2, 19.0], [13, \"Angers\", 35, 16.0], [13, \"Angers\", 51, 31.0], [13, \"Angers\", 71, 2.0], [13, \"Angers\", 97, 33.0], [13, \"Angers\", 115, 0.0], [13, \"Angers\", 131, 12.0], [13, \"Angers\", 156, 1.0], [13, \"Angers\", 177, 2.0], [13, \"Angers\", 185, 0.0], [13, \"Angers\", 204, 7.0], [13, \"Angers\", 224, 14.0], [13, \"Angers\", 237, 10.0], [13, \"Angers\", 257, 0.0], [13, \"Angers\", 272, 0.0], [13, \"Angers\", 296, 1.0], [13, \"Angers\", 320, 14.0], [13, \"Angers\", 347, 2.0], [13, \"Angers\", 365, 1.0]], \"hovertemplate\": \"name=%{customdata[1]}<br>temperature=%{x}<br>id=%{customdata[0]}<br>match_id=%{customdata[2]}<br>rainfall=%{customdata[3]}<extra></extra>\", \"legendgroup\": \"Angers\", \"marker\": {\"color\": \"#FF6692\"}, \"name\": \"Angers\", \"notched\": true, \"offsetgroup\": \"Angers\", \"showlegend\": false, \"type\": \"box\", \"x\": [13.5, 21.0, 11.5, 12.0, 17.5, 8.0, 4.0, 9.0, 12.5, 3.0, 9.5, 1.5, 6.5, 9.5, 8.0, 6.5, 13.0, 17.5, 11.5, 22.0, 23.0, 13.5, 13.0, 17.0, 5.5, 5.5, 10.0, 2.0, 6.0, 8.0, 10.0, 12.5, 12.0, 9.0, 9.0, 13.0, 8.5, 15.5], \"xaxis\": \"x2\", \"yaxis\": \"y2\"}, {\"alignmentgroup\": \"True\", \"bingroup\": \"x\", \"histfunc\": \"sum\", \"hovertemplate\": \"name=Metz<br>temperature=%{x}<br>sum of goal=%{y}<extra></extra>\", \"legendgroup\": \"Metz\", \"marker\": {\"color\": \"#B6E880\"}, \"name\": \"Metz\", \"offsetgroup\": \"Metz\", \"orientation\": \"v\", \"showlegend\": true, \"type\": \"histogram\", \"x\": [17.0, 19.0, 11.0, 11.5, 11.5, 1.0, 2.5, 8.5, 0.5, -1.5, 1.0, 10.0, -1.5, 9.0, 1.5, 7.5, 10.0, 16.5, 10.5, 27.0, 20.0, 14.5, 12.0, 16.5, 9.0, 7.0, 13.0, 13.0, 3.0, 9.0, 7.0, 11.5, 9.5, 6.5, 14.0, 8.0, 8.5, 12.0], \"xaxis\": \"x\", \"y\": [0, 2, 3, 2, 1, 0, 1, 2, 0, 1, 2, 1, 1, 0, 1, 0, 1, 0, 1, 0, 0, 1, 1, 1, 1, 2, 2, 0, 1, 4, 0, 2, 2, 2, 0, 0, 5, 1], \"yaxis\": \"y\"}, {\"alignmentgroup\": \"True\", \"customdata\": [[10, \"Metz\", 18, 1.0], [10, \"Metz\", 37, 1.0], [10, \"Metz\", 58, 18.0], [10, \"Metz\", 75, 11.0], [10, \"Metz\", 96, 1.0], [10, \"Metz\", 118, 0.0], [10, \"Metz\", 130, 0.0], [10, \"Metz\", 151, 1.0], [10, \"Metz\", 173, 2.0], [10, \"Metz\", 188, 0.0], [10, \"Metz\", 205, 3.0], [10, \"Metz\", 223, 27.0], [10, \"Metz\", 246, 0.0], [10, \"Metz\", 272, 0.0], [10, \"Metz\", 292, 0.0], [10, \"Metz\", 311, 1.0], [10, \"Metz\", 333, 0.0], [10, \"Metz\", 356, 1.0], [10, \"Metz\", 375, 1.0], [10, \"Metz\", 9, 1.0], [10, \"Metz\", 24, 0.0], [10, \"Metz\", 43, 0.0], [10, \"Metz\", 68, 0.0], [10, \"Metz\", 85, 0.0], [10, \"Metz\", 104, 0.0], [10, \"Metz\", 136, 3.0], [10, \"Metz\", 142, 9.0], [10, \"Metz\", 161, 21.0], [10, \"Metz\", 199, 5.0], [10, \"Metz\", 215, 10.0], [10, \"Metz\", 236, 25.0], [10, \"Metz\", 256, 0.0], [10, \"Metz\", 262, 0.0], [10, \"Metz\", 285, 2.0], [10, \"Metz\", 301, 7.0], [10, \"Metz\", 327, 1.0], [10, \"Metz\", 345, 5.0], [10, \"Metz\", 369, 7.0]], \"hovertemplate\": \"name=%{customdata[1]}<br>temperature=%{x}<br>id=%{customdata[0]}<br>match_id=%{customdata[2]}<br>rainfall=%{customdata[3]}<extra></extra>\", \"legendgroup\": \"Metz\", \"marker\": {\"color\": \"#B6E880\"}, \"name\": \"Metz\", \"notched\": true, \"offsetgroup\": \"Metz\", \"showlegend\": false, \"type\": \"box\", \"x\": [17.0, 19.0, 11.0, 11.5, 11.5, 1.0, 2.5, 8.5, 0.5, -1.5, 1.0, 10.0, -1.5, 9.0, 1.5, 7.5, 10.0, 16.5, 10.5, 27.0, 20.0, 14.5, 12.0, 16.5, 9.0, 7.0, 13.0, 13.0, 3.0, 9.0, 7.0, 11.5, 9.5, 6.5, 14.0, 8.0, 8.5, 12.0], \"xaxis\": \"x2\", \"yaxis\": \"y2\"}, {\"alignmentgroup\": \"True\", \"bingroup\": \"x\", \"histfunc\": \"sum\", \"hovertemplate\": \"name=Brest<br>temperature=%{x}<br>sum of goal=%{y}<extra></extra>\", \"legendgroup\": \"Brest\", \"marker\": {\"color\": \"#FF97FF\"}, \"name\": \"Brest\", \"offsetgroup\": \"Brest\", \"orientation\": \"v\", \"showlegend\": true, \"type\": \"histogram\", \"x\": [14.5, 17.0, 12.0, 11.0, 15.0, 10.5, 11.5, 10.0, 4.0, 7.0, 9.0, 5.5, 10.0, 10.5, 9.0, 6.0, 8.0, 9.0, 10.5, 26.5, 22.0, 11.5, 11.5, 12.5, 1.0, 8.5, 9.5, 11.0, 2.0, 1.0, 10.0, 0.0, 14.0, 11.5, 8.0, 13.5, 16.5, 16.5], \"xaxis\": \"x\", \"y\": [2, 3, 1, 0, 3, 4, 2, 2, 2, 1, 2, 2, 2, 3, 0, 1, 1, 1, 0, 0, 2, 2, 1, 1, 2, 0, 2, 1, 0, 0, 2, 0, 0, 1, 0, 2, 2, 0], \"yaxis\": \"y\"}, {\"alignmentgroup\": \"True\", \"customdata\": [[17, \"Brest\", 19, 1.0], [17, \"Brest\", 36, 0.0], [17, \"Brest\", 56, 7.0], [17, \"Brest\", 77, 4.0], [17, \"Brest\", 94, 1.0], [17, \"Brest\", 103, 1.0], [17, \"Brest\", 135, 10.0], [17, \"Brest\", 154, 5.0], [17, \"Brest\", 174, 8.0], [17, \"Brest\", 194, 0.0], [17, \"Brest\", 215, 10.0], [17, \"Brest\", 234, 1.0], [17, \"Brest\", 251, 3.0], [17, \"Brest\", 275, 5.0], [17, \"Brest\", 296, 1.0], [17, \"Brest\", 318, 1.0], [17, \"Brest\", 325, 0.0], [17, \"Brest\", 348, 1.0], [17, \"Brest\", 372, 11.0], [17, \"Brest\", 6, 0.0], [17, \"Brest\", 28, 0.0], [17, \"Brest\", 48, 0.0], [17, \"Brest\", 67, 0.0], [17, \"Brest\", 81, 2.0], [17, \"Brest\", 118, 0.0], [17, \"Brest\", 126, 4.0], [17, \"Brest\", 146, 24.0], [17, \"Brest\", 162, 35.0], [17, \"Brest\", 182, 0.0], [17, \"Brest\", 206, 4.0], [17, \"Brest\", 225, 11.0], [17, \"Brest\", 249, 0.0], [17, \"Brest\", 264, 0.0], [17, \"Brest\", 283, 0.0], [17, \"Brest\", 308, 0.0], [17, \"Brest\", 332, 0.0], [17, \"Brest\", 357, 0.0], [17, \"Brest\", 367, 3.0]], \"hovertemplate\": \"name=%{customdata[1]}<br>temperature=%{x}<br>id=%{customdata[0]}<br>match_id=%{customdata[2]}<br>rainfall=%{customdata[3]}<extra></extra>\", \"legendgroup\": \"Brest\", \"marker\": {\"color\": \"#FF97FF\"}, \"name\": \"Brest\", \"notched\": true, \"offsetgroup\": \"Brest\", \"showlegend\": false, \"type\": \"box\", \"x\": [14.5, 17.0, 12.0, 11.0, 15.0, 10.5, 11.5, 10.0, 4.0, 7.0, 9.0, 5.5, 10.0, 10.5, 9.0, 6.0, 8.0, 9.0, 10.5, 26.5, 22.0, 11.5, 11.5, 12.5, 1.0, 8.5, 9.5, 11.0, 2.0, 1.0, 10.0, 0.0, 14.0, 11.5, 8.0, 13.5, 16.5, 16.5], \"xaxis\": \"x2\", \"yaxis\": \"y2\"}, {\"alignmentgroup\": \"True\", \"bingroup\": \"x\", \"histfunc\": \"sum\", \"hovertemplate\": \"name=Lens<br>temperature=%{x}<br>sum of goal=%{y}<extra></extra>\", \"legendgroup\": \"Lens\", \"marker\": {\"color\": \"#FECB52\"}, \"name\": \"Lens\", \"offsetgroup\": \"Lens\", \"orientation\": \"v\", \"showlegend\": true, \"type\": \"histogram\", \"x\": [19.0, 20.0, 13.5, 8.0, 13.0, 5.5, 8.0, 11.0, 2.5, 4.0, 9.0, 7.5, 11.0, 6.5, 7.5, 2.0, 8.5, 9.0, 10.5, 25.5, 18.0, 12.0, 11.5, 12.5, 3.5, 4.0, 13.0, 8.5, 0.0, 6.0, 11.0, -2.5, 6.5, 9.0, 3.5, 8.0, 11.0, 14.0], \"xaxis\": \"x\", \"y\": [1, 2, 2, 1, 4, 1, 2, 2, 0, 0, 2, 0, 2, 2, 1, 4, 2, 0, 0, 1, 3, 1, 0, 1, 1, 2, 3, 0, 2, 1, 2, 1, 2, 3, 2, 1, 1, 0], \"yaxis\": \"y\"}, {\"alignmentgroup\": \"True\", \"customdata\": [[7, \"Lens\", 20, 1.0], [7, \"Lens\", 32, 1.0], [7, \"Lens\", 52, 22.0], [7, \"Lens\", 80, 0.0], [7, \"Lens\", 95, 0.0], [7, \"Lens\", 115, 0.0], [7, \"Lens\", 133, 3.0], [7, \"Lens\", 162, 35.0], [7, \"Lens\", 186, 1.0], [7, \"Lens\", 202, 1.0], [7, \"Lens\", 229, 21.0], [7, \"Lens\", 233, 16.0], [7, \"Lens\", 255, 0.0], [7, \"Lens\", 285, 2.0], [7, \"Lens\", 303, 0.0], [7, \"Lens\", 315, 16.0], [7, \"Lens\", 335, 0.0], [7, \"Lens\", 351, 1.0], [7, \"Lens\", 373, 2.0], [7, \"Lens\", 7, 1.0], [7, \"Lens\", 26, 0.0], [7, \"Lens\", 46, 1.0], [7, \"Lens\", 70, 2.0], [7, \"Lens\", 90, 6.0], [7, \"Lens\", 106, 0.0], [7, \"Lens\", 122, 6.0], [7, \"Lens\", 149, 1.0], [7, \"Lens\", 151, 1.0], [7, \"Lens\", 176, 0.0], [7, \"Lens\", 195, 0.0], [7, \"Lens\", 212, 5.0], [7, \"Lens\", 242, 0.0], [7, \"Lens\", 265, 0.0], [7, \"Lens\", 273, 0.0], [7, \"Lens\", 294, 1.0], [7, \"Lens\", 325, 0.0], [7, \"Lens\", 342, 0.0], [7, \"Lens\", 366, 8.0]], \"hovertemplate\": \"name=%{customdata[1]}<br>temperature=%{x}<br>id=%{customdata[0]}<br>match_id=%{customdata[2]}<br>rainfall=%{customdata[3]}<extra></extra>\", \"legendgroup\": \"Lens\", \"marker\": {\"color\": \"#FECB52\"}, \"name\": \"Lens\", \"notched\": true, \"offsetgroup\": \"Lens\", \"showlegend\": false, \"type\": \"box\", \"x\": [19.0, 20.0, 13.5, 8.0, 13.0, 5.5, 8.0, 11.0, 2.5, 4.0, 9.0, 7.5, 11.0, 6.5, 7.5, 2.0, 8.5, 9.0, 10.5, 25.5, 18.0, 12.0, 11.5, 12.5, 3.5, 4.0, 13.0, 8.5, 0.0, 6.0, 11.0, -2.5, 6.5, 9.0, 3.5, 8.0, 11.0, 14.0], \"xaxis\": \"x2\", \"yaxis\": \"y2\"}],                        {\"barmode\": \"relative\", \"legend\": {\"title\": {\"text\": \"name\"}, \"tracegroupgap\": 0}, \"margin\": {\"t\": 60}, \"template\": {\"data\": {\"bar\": [{\"error_x\": {\"color\": \"#2a3f5f\"}, \"error_y\": {\"color\": \"#2a3f5f\"}, \"marker\": {\"line\": {\"color\": \"#E5ECF6\", \"width\": 0.5}}, \"type\": \"bar\"}], \"barpolar\": [{\"marker\": {\"line\": {\"color\": \"#E5ECF6\", \"width\": 0.5}}, \"type\": \"barpolar\"}], \"carpet\": [{\"aaxis\": {\"endlinecolor\": \"#2a3f5f\", \"gridcolor\": \"white\", \"linecolor\": \"white\", \"minorgridcolor\": \"white\", \"startlinecolor\": \"#2a3f5f\"}, \"baxis\": {\"endlinecolor\": \"#2a3f5f\", \"gridcolor\": \"white\", \"linecolor\": \"white\", \"minorgridcolor\": \"white\", \"startlinecolor\": \"#2a3f5f\"}, \"type\": \"carpet\"}], \"choropleth\": [{\"colorbar\": {\"outlinewidth\": 0, \"ticks\": \"\"}, \"type\": \"choropleth\"}], \"contour\": [{\"colorbar\": {\"outlinewidth\": 0, \"ticks\": \"\"}, \"colorscale\": [[0.0, \"#0d0887\"], [0.1111111111111111, \"#46039f\"], [0.2222222222222222, \"#7201a8\"], [0.3333333333333333, \"#9c179e\"], [0.4444444444444444, \"#bd3786\"], [0.5555555555555556, \"#d8576b\"], [0.6666666666666666, \"#ed7953\"], [0.7777777777777778, \"#fb9f3a\"], [0.8888888888888888, \"#fdca26\"], [1.0, \"#f0f921\"]], \"type\": \"contour\"}], \"contourcarpet\": [{\"colorbar\": {\"outlinewidth\": 0, \"ticks\": \"\"}, \"type\": \"contourcarpet\"}], \"heatmap\": [{\"colorbar\": {\"outlinewidth\": 0, \"ticks\": \"\"}, \"colorscale\": [[0.0, \"#0d0887\"], [0.1111111111111111, \"#46039f\"], [0.2222222222222222, \"#7201a8\"], [0.3333333333333333, \"#9c179e\"], [0.4444444444444444, \"#bd3786\"], [0.5555555555555556, \"#d8576b\"], [0.6666666666666666, \"#ed7953\"], [0.7777777777777778, \"#fb9f3a\"], [0.8888888888888888, \"#fdca26\"], [1.0, \"#f0f921\"]], \"type\": \"heatmap\"}], \"heatmapgl\": [{\"colorbar\": {\"outlinewidth\": 0, \"ticks\": \"\"}, \"colorscale\": [[0.0, \"#0d0887\"], [0.1111111111111111, \"#46039f\"], [0.2222222222222222, \"#7201a8\"], [0.3333333333333333, \"#9c179e\"], [0.4444444444444444, \"#bd3786\"], [0.5555555555555556, \"#d8576b\"], [0.6666666666666666, \"#ed7953\"], [0.7777777777777778, \"#fb9f3a\"], [0.8888888888888888, \"#fdca26\"], [1.0, \"#f0f921\"]], \"type\": \"heatmapgl\"}], \"histogram\": [{\"marker\": {\"colorbar\": {\"outlinewidth\": 0, \"ticks\": \"\"}}, \"type\": \"histogram\"}], \"histogram2d\": [{\"colorbar\": {\"outlinewidth\": 0, \"ticks\": \"\"}, \"colorscale\": [[0.0, \"#0d0887\"], [0.1111111111111111, \"#46039f\"], [0.2222222222222222, \"#7201a8\"], [0.3333333333333333, \"#9c179e\"], [0.4444444444444444, \"#bd3786\"], [0.5555555555555556, \"#d8576b\"], [0.6666666666666666, \"#ed7953\"], [0.7777777777777778, \"#fb9f3a\"], [0.8888888888888888, \"#fdca26\"], [1.0, \"#f0f921\"]], \"type\": \"histogram2d\"}], \"histogram2dcontour\": [{\"colorbar\": {\"outlinewidth\": 0, \"ticks\": \"\"}, \"colorscale\": [[0.0, \"#0d0887\"], [0.1111111111111111, \"#46039f\"], [0.2222222222222222, \"#7201a8\"], [0.3333333333333333, \"#9c179e\"], [0.4444444444444444, \"#bd3786\"], [0.5555555555555556, \"#d8576b\"], [0.6666666666666666, \"#ed7953\"], [0.7777777777777778, \"#fb9f3a\"], [0.8888888888888888, \"#fdca26\"], [1.0, \"#f0f921\"]], \"type\": \"histogram2dcontour\"}], \"mesh3d\": [{\"colorbar\": {\"outlinewidth\": 0, \"ticks\": \"\"}, \"type\": \"mesh3d\"}], \"parcoords\": [{\"line\": {\"colorbar\": {\"outlinewidth\": 0, \"ticks\": \"\"}}, \"type\": \"parcoords\"}], \"pie\": [{\"automargin\": true, \"type\": \"pie\"}], \"scatter\": [{\"marker\": {\"colorbar\": {\"outlinewidth\": 0, \"ticks\": \"\"}}, \"type\": \"scatter\"}], \"scatter3d\": [{\"line\": {\"colorbar\": {\"outlinewidth\": 0, \"ticks\": \"\"}}, \"marker\": {\"colorbar\": {\"outlinewidth\": 0, \"ticks\": \"\"}}, \"type\": \"scatter3d\"}], \"scattercarpet\": [{\"marker\": {\"colorbar\": {\"outlinewidth\": 0, \"ticks\": \"\"}}, \"type\": \"scattercarpet\"}], \"scattergeo\": [{\"marker\": {\"colorbar\": {\"outlinewidth\": 0, \"ticks\": \"\"}}, \"type\": \"scattergeo\"}], \"scattergl\": [{\"marker\": {\"colorbar\": {\"outlinewidth\": 0, \"ticks\": \"\"}}, \"type\": \"scattergl\"}], \"scattermapbox\": [{\"marker\": {\"colorbar\": {\"outlinewidth\": 0, \"ticks\": \"\"}}, \"type\": \"scattermapbox\"}], \"scatterpolar\": [{\"marker\": {\"colorbar\": {\"outlinewidth\": 0, \"ticks\": \"\"}}, \"type\": \"scatterpolar\"}], \"scatterpolargl\": [{\"marker\": {\"colorbar\": {\"outlinewidth\": 0, \"ticks\": \"\"}}, \"type\": \"scatterpolargl\"}], \"scatterternary\": [{\"marker\": {\"colorbar\": {\"outlinewidth\": 0, \"ticks\": \"\"}}, \"type\": \"scatterternary\"}], \"surface\": [{\"colorbar\": {\"outlinewidth\": 0, \"ticks\": \"\"}, \"colorscale\": [[0.0, \"#0d0887\"], [0.1111111111111111, \"#46039f\"], [0.2222222222222222, \"#7201a8\"], [0.3333333333333333, \"#9c179e\"], [0.4444444444444444, \"#bd3786\"], [0.5555555555555556, \"#d8576b\"], [0.6666666666666666, \"#ed7953\"], [0.7777777777777778, \"#fb9f3a\"], [0.8888888888888888, \"#fdca26\"], [1.0, \"#f0f921\"]], \"type\": \"surface\"}], \"table\": [{\"cells\": {\"fill\": {\"color\": \"#EBF0F8\"}, \"line\": {\"color\": \"white\"}}, \"header\": {\"fill\": {\"color\": \"#C8D4E3\"}, \"line\": {\"color\": \"white\"}}, \"type\": \"table\"}]}, \"layout\": {\"annotationdefaults\": {\"arrowcolor\": \"#2a3f5f\", \"arrowhead\": 0, \"arrowwidth\": 1}, \"autotypenumbers\": \"strict\", \"coloraxis\": {\"colorbar\": {\"outlinewidth\": 0, \"ticks\": \"\"}}, \"colorscale\": {\"diverging\": [[0, \"#8e0152\"], [0.1, \"#c51b7d\"], [0.2, \"#de77ae\"], [0.3, \"#f1b6da\"], [0.4, \"#fde0ef\"], [0.5, \"#f7f7f7\"], [0.6, \"#e6f5d0\"], [0.7, \"#b8e186\"], [0.8, \"#7fbc41\"], [0.9, \"#4d9221\"], [1, \"#276419\"]], \"sequential\": [[0.0, \"#0d0887\"], [0.1111111111111111, \"#46039f\"], [0.2222222222222222, \"#7201a8\"], [0.3333333333333333, \"#9c179e\"], [0.4444444444444444, \"#bd3786\"], [0.5555555555555556, \"#d8576b\"], [0.6666666666666666, \"#ed7953\"], [0.7777777777777778, \"#fb9f3a\"], [0.8888888888888888, \"#fdca26\"], [1.0, \"#f0f921\"]], \"sequentialminus\": [[0.0, \"#0d0887\"], [0.1111111111111111, \"#46039f\"], [0.2222222222222222, \"#7201a8\"], [0.3333333333333333, \"#9c179e\"], [0.4444444444444444, \"#bd3786\"], [0.5555555555555556, \"#d8576b\"], [0.6666666666666666, \"#ed7953\"], [0.7777777777777778, \"#fb9f3a\"], [0.8888888888888888, \"#fdca26\"], [1.0, \"#f0f921\"]]}, \"colorway\": [\"#636efa\", \"#EF553B\", \"#00cc96\", \"#ab63fa\", \"#FFA15A\", \"#19d3f3\", \"#FF6692\", \"#B6E880\", \"#FF97FF\", \"#FECB52\"], \"font\": {\"color\": \"#2a3f5f\"}, \"geo\": {\"bgcolor\": \"white\", \"lakecolor\": \"white\", \"landcolor\": \"#E5ECF6\", \"showlakes\": true, \"showland\": true, \"subunitcolor\": \"white\"}, \"hoverlabel\": {\"align\": \"left\"}, \"hovermode\": \"closest\", \"mapbox\": {\"style\": \"light\"}, \"paper_bgcolor\": \"white\", \"plot_bgcolor\": \"#E5ECF6\", \"polar\": {\"angularaxis\": {\"gridcolor\": \"white\", \"linecolor\": \"white\", \"ticks\": \"\"}, \"bgcolor\": \"#E5ECF6\", \"radialaxis\": {\"gridcolor\": \"white\", \"linecolor\": \"white\", \"ticks\": \"\"}}, \"scene\": {\"xaxis\": {\"backgroundcolor\": \"#E5ECF6\", \"gridcolor\": \"white\", \"gridwidth\": 2, \"linecolor\": \"white\", \"showbackground\": true, \"ticks\": \"\", \"zerolinecolor\": \"white\"}, \"yaxis\": {\"backgroundcolor\": \"#E5ECF6\", \"gridcolor\": \"white\", \"gridwidth\": 2, \"linecolor\": \"white\", \"showbackground\": true, \"ticks\": \"\", \"zerolinecolor\": \"white\"}, \"zaxis\": {\"backgroundcolor\": \"#E5ECF6\", \"gridcolor\": \"white\", \"gridwidth\": 2, \"linecolor\": \"white\", \"showbackground\": true, \"ticks\": \"\", \"zerolinecolor\": \"white\"}}, \"shapedefaults\": {\"line\": {\"color\": \"#2a3f5f\"}}, \"ternary\": {\"aaxis\": {\"gridcolor\": \"white\", \"linecolor\": \"white\", \"ticks\": \"\"}, \"baxis\": {\"gridcolor\": \"white\", \"linecolor\": \"white\", \"ticks\": \"\"}, \"bgcolor\": \"#E5ECF6\", \"caxis\": {\"gridcolor\": \"white\", \"linecolor\": \"white\", \"ticks\": \"\"}}, \"title\": {\"x\": 0.05}, \"xaxis\": {\"automargin\": true, \"gridcolor\": \"white\", \"linecolor\": \"white\", \"ticks\": \"\", \"title\": {\"standoff\": 15}, \"zerolinecolor\": \"white\", \"zerolinewidth\": 2}, \"yaxis\": {\"automargin\": true, \"gridcolor\": \"white\", \"linecolor\": \"white\", \"ticks\": \"\", \"title\": {\"standoff\": 15}, \"zerolinecolor\": \"white\", \"zerolinewidth\": 2}}}, \"xaxis\": {\"anchor\": \"y\", \"domain\": [0.0, 1.0], \"title\": {\"text\": \"temperature\"}}, \"xaxis2\": {\"anchor\": \"y2\", \"domain\": [0.0, 1.0], \"matches\": \"x\", \"showgrid\": true, \"showticklabels\": false}, \"yaxis\": {\"anchor\": \"x\", \"domain\": [0.0, 0.7326], \"title\": {\"text\": \"sum of goal\"}}, \"yaxis2\": {\"anchor\": \"x2\", \"domain\": [0.7426, 1.0], \"matches\": \"y2\", \"showgrid\": false, \"showline\": false, \"showticklabels\": false, \"ticks\": \"\"}},                        {\"responsive\": true}                    ).then(function(){\n",
       "                            \n",
       "var gd = document.getElementById('b99ef985-ca80-4fa6-b023-82deffe5a8b3');\n",
       "var x = new MutationObserver(function (mutations, observer) {{\n",
       "        var display = window.getComputedStyle(gd).display;\n",
       "        if (!display || display === 'none') {{\n",
       "            console.log([gd, 'removed!']);\n",
       "            Plotly.purge(gd);\n",
       "            observer.disconnect();\n",
       "        }}\n",
       "}});\n",
       "\n",
       "// Listen for the removal of the full notebook cells\n",
       "var notebookContainer = gd.closest('#notebook-container');\n",
       "if (notebookContainer) {{\n",
       "    x.observe(notebookContainer, {childList: true});\n",
       "}}\n",
       "\n",
       "// Listen for the clearing of the current output cell\n",
       "var outputEl = gd.closest('.output');\n",
       "if (outputEl) {{\n",
       "    x.observe(outputEl, {childList: true});\n",
       "}}\n",
       "\n",
       "                        })                };                });            </script>        </div>"
      ]
     },
     "metadata": {},
     "output_type": "display_data"
    }
   ],
   "source": [
    "fig = px.histogram(teams_goals_and_meteo, x=\"temperature\", y=\"goal\", color=\"name\",\n",
    "                   marginal=\"box\", # or violin, rug\n",
    "                   hover_data=teams_goals_and_meteo.columns)\n",
    "fig.show()"
   ]
  }
 ],
 "metadata": {
  "kernelspec": {
   "display_name": "Python 3",
   "language": "python",
   "name": "python3"
  },
  "language_info": {
   "codemirror_mode": {
    "name": "ipython",
    "version": 3
   },
   "file_extension": ".py",
   "mimetype": "text/x-python",
   "name": "python",
   "nbconvert_exporter": "python",
   "pygments_lexer": "ipython3",
   "version": "3.8.5"
  },
  "latex_envs": {
   "LaTeX_envs_menu_present": true,
   "autoclose": false,
   "autocomplete": true,
   "bibliofile": "biblio.bib",
   "cite_by": "apalike",
   "current_citInitial": 1,
   "eqLabelWithNumbers": true,
   "eqNumInitial": 1,
   "hotkeys": {
    "equation": "Ctrl-E",
    "itemize": "Ctrl-I"
   },
   "labels_anchors": false,
   "latex_user_defs": false,
   "report_style_numbering": false,
   "user_envs_cfg": false
  },
  "toc": {
   "base_numbering": 1,
   "nav_menu": {},
   "number_sections": true,
   "sideBar": true,
   "skip_h1_title": false,
   "title_cell": "Table of Contents",
   "title_sidebar": "Contents",
   "toc_cell": false,
   "toc_position": {},
   "toc_section_display": true,
   "toc_window_display": false
  }
 },
 "nbformat": 4,
 "nbformat_minor": 4
}
