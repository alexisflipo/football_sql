{
 "cells": [
  {
   "cell_type": "code",
   "execution_count": 1,
   "metadata": {
    "ExecuteTime": {
     "end_time": "2021-07-15T06:20:14.095239Z",
     "start_time": "2021-07-15T06:20:12.266275Z"
    }
   },
   "outputs": [],
   "source": [
    "import numpy as np\n",
    "import pandas as pd\n",
    "import seaborn as sns\n",
    "import matplotlib.pyplot as plt\n",
    "import sqlite3\n",
    "from datetime import datetime"
   ]
  },
  {
   "cell_type": "code",
   "execution_count": 2,
   "metadata": {
    "ExecuteTime": {
     "end_time": "2021-07-15T06:20:22.397953Z",
     "start_time": "2021-07-15T06:20:22.394482Z"
    }
   },
   "outputs": [],
   "source": [
    "con=sqlite3.connect('final_db.sqlite')\n",
    "cursor = con.cursor()"
   ]
  },
  {
   "cell_type": "code",
   "execution_count": 4,
   "metadata": {
    "ExecuteTime": {
     "end_time": "2021-07-15T06:25:35.047361Z",
     "start_time": "2021-07-15T06:25:35.035064Z"
    }
   },
   "outputs": [],
   "source": [
    "df = pd.read_pickle('df.pkl')\n",
    "players = pd.read_pickle('players.pkl')\n",
    "df_teams = pd.read_pickle('df_teams.pkl')"
   ]
  },
  {
   "cell_type": "code",
   "execution_count": 35,
   "metadata": {
    "ExecuteTime": {
     "end_time": "2021-07-15T13:56:31.005407Z",
     "start_time": "2021-07-15T13:56:30.970955Z"
    }
   },
   "outputs": [
    {
     "data": {
      "text/plain": [
       "Index(['Equipe domicile', 'Equipe exterieure', 'Vainqueur', 'Score domicile',\n",
       "       'Score extérieur', 'Buteurs', 'Lieu du match', 'Journée', 'Région',\n",
       "       'Temperature moyenne', 'Précipitations en mm', 'Date'],\n",
       "      dtype='object')"
      ]
     },
     "execution_count": 35,
     "metadata": {},
     "output_type": "execute_result"
    }
   ],
   "source": [
    "df.columns"
   ]
  },
  {
   "cell_type": "code",
   "execution_count": 11,
   "metadata": {
    "ExecuteTime": {
     "end_time": "2021-07-15T06:30:59.108658Z",
     "start_time": "2021-07-15T06:30:58.956287Z"
    }
   },
   "outputs": [],
   "source": [
    "df_viz = pd.read_sql(\"\"\"SELECT * FROM matchs\"\"\", con)"
   ]
  },
  {
   "cell_type": "code",
   "execution_count": 12,
   "metadata": {
    "ExecuteTime": {
     "end_time": "2021-07-15T06:31:01.781165Z",
     "start_time": "2021-07-15T06:31:01.762311Z"
    }
   },
   "outputs": [
    {
     "data": {
      "text/html": [
       "<div>\n",
       "<style scoped>\n",
       "    .dataframe tbody tr th:only-of-type {\n",
       "        vertical-align: middle;\n",
       "    }\n",
       "\n",
       "    .dataframe tbody tr th {\n",
       "        vertical-align: top;\n",
       "    }\n",
       "\n",
       "    .dataframe thead th {\n",
       "        text-align: right;\n",
       "    }\n",
       "</style>\n",
       "<table border=\"1\" class=\"dataframe\">\n",
       "  <thead>\n",
       "    <tr style=\"text-align: right;\">\n",
       "      <th></th>\n",
       "      <th>id</th>\n",
       "      <th>date</th>\n",
       "      <th>place</th>\n",
       "      <th>rainfall</th>\n",
       "      <th>temperature</th>\n",
       "      <th>championship_id</th>\n",
       "      <th>created_at</th>\n",
       "      <th>updated_at</th>\n",
       "    </tr>\n",
       "  </thead>\n",
       "  <tbody>\n",
       "    <tr>\n",
       "      <th>0</th>\n",
       "      <td>1</td>\n",
       "      <td>2020-08-21</td>\n",
       "      <td>Bordeaux</td>\n",
       "      <td>5.0</td>\n",
       "      <td>22.5</td>\n",
       "      <td>1</td>\n",
       "      <td>2021-07-15 06:18:56</td>\n",
       "      <td>2021-07-15 06:18:56</td>\n",
       "    </tr>\n",
       "    <tr>\n",
       "      <th>1</th>\n",
       "      <td>2</td>\n",
       "      <td>2020-08-22</td>\n",
       "      <td>Dijon</td>\n",
       "      <td>19.0</td>\n",
       "      <td>22.0</td>\n",
       "      <td>1</td>\n",
       "      <td>2021-07-15 06:18:56</td>\n",
       "      <td>2021-07-15 06:18:56</td>\n",
       "    </tr>\n",
       "    <tr>\n",
       "      <th>2</th>\n",
       "      <td>3</td>\n",
       "      <td>2020-08-22</td>\n",
       "      <td>Lille</td>\n",
       "      <td>1.0</td>\n",
       "      <td>19.0</td>\n",
       "      <td>1</td>\n",
       "      <td>2021-07-15 06:18:56</td>\n",
       "      <td>2021-07-15 06:18:56</td>\n",
       "    </tr>\n",
       "    <tr>\n",
       "      <th>3</th>\n",
       "      <td>4</td>\n",
       "      <td>2020-08-23</td>\n",
       "      <td>Monaco</td>\n",
       "      <td>1.0</td>\n",
       "      <td>25.5</td>\n",
       "      <td>1</td>\n",
       "      <td>2021-07-15 06:18:56</td>\n",
       "      <td>2021-07-15 06:18:56</td>\n",
       "    </tr>\n",
       "    <tr>\n",
       "      <th>4</th>\n",
       "      <td>5</td>\n",
       "      <td>2020-08-23</td>\n",
       "      <td>Lorient</td>\n",
       "      <td>1.0</td>\n",
       "      <td>17.0</td>\n",
       "      <td>1</td>\n",
       "      <td>2021-07-15 06:18:56</td>\n",
       "      <td>2021-07-15 06:18:56</td>\n",
       "    </tr>\n",
       "    <tr>\n",
       "      <th>...</th>\n",
       "      <td>...</td>\n",
       "      <td>...</td>\n",
       "      <td>...</td>\n",
       "      <td>...</td>\n",
       "      <td>...</td>\n",
       "      <td>...</td>\n",
       "      <td>...</td>\n",
       "      <td>...</td>\n",
       "    </tr>\n",
       "    <tr>\n",
       "      <th>375</th>\n",
       "      <td>376</td>\n",
       "      <td>2021-05-23</td>\n",
       "      <td>Rennes</td>\n",
       "      <td>2.0</td>\n",
       "      <td>10.0</td>\n",
       "      <td>1</td>\n",
       "      <td>2021-07-15 06:18:56</td>\n",
       "      <td>2021-07-15 06:18:56</td>\n",
       "    </tr>\n",
       "    <tr>\n",
       "      <th>376</th>\n",
       "      <td>377</td>\n",
       "      <td>2021-05-23</td>\n",
       "      <td>Nantes</td>\n",
       "      <td>1.0</td>\n",
       "      <td>12.0</td>\n",
       "      <td>1</td>\n",
       "      <td>2021-07-15 06:18:56</td>\n",
       "      <td>2021-07-15 06:18:56</td>\n",
       "    </tr>\n",
       "    <tr>\n",
       "      <th>377</th>\n",
       "      <td>378</td>\n",
       "      <td>2021-05-23</td>\n",
       "      <td>Saint-Étienne</td>\n",
       "      <td>0.0</td>\n",
       "      <td>12.0</td>\n",
       "      <td>1</td>\n",
       "      <td>2021-07-15 06:18:56</td>\n",
       "      <td>2021-07-15 06:18:56</td>\n",
       "    </tr>\n",
       "    <tr>\n",
       "      <th>378</th>\n",
       "      <td>379</td>\n",
       "      <td>2021-05-23</td>\n",
       "      <td>Reims</td>\n",
       "      <td>1.0</td>\n",
       "      <td>10.5</td>\n",
       "      <td>1</td>\n",
       "      <td>2021-07-15 06:18:56</td>\n",
       "      <td>2021-07-15 06:18:56</td>\n",
       "    </tr>\n",
       "    <tr>\n",
       "      <th>379</th>\n",
       "      <td>380</td>\n",
       "      <td>2021-05-23</td>\n",
       "      <td>Strasbourg</td>\n",
       "      <td>2.0</td>\n",
       "      <td>12.0</td>\n",
       "      <td>1</td>\n",
       "      <td>2021-07-15 06:18:56</td>\n",
       "      <td>2021-07-15 06:18:56</td>\n",
       "    </tr>\n",
       "  </tbody>\n",
       "</table>\n",
       "<p>380 rows × 8 columns</p>\n",
       "</div>"
      ],
      "text/plain": [
       "      id        date          place  rainfall  temperature  championship_id  \\\n",
       "0      1  2020-08-21       Bordeaux       5.0         22.5                1   \n",
       "1      2  2020-08-22          Dijon      19.0         22.0                1   \n",
       "2      3  2020-08-22          Lille       1.0         19.0                1   \n",
       "3      4  2020-08-23         Monaco       1.0         25.5                1   \n",
       "4      5  2020-08-23        Lorient       1.0         17.0                1   \n",
       "..   ...         ...            ...       ...          ...              ...   \n",
       "375  376  2021-05-23         Rennes       2.0         10.0                1   \n",
       "376  377  2021-05-23         Nantes       1.0         12.0                1   \n",
       "377  378  2021-05-23  Saint-Étienne       0.0         12.0                1   \n",
       "378  379  2021-05-23          Reims       1.0         10.5                1   \n",
       "379  380  2021-05-23     Strasbourg       2.0         12.0                1   \n",
       "\n",
       "              created_at           updated_at  \n",
       "0    2021-07-15 06:18:56  2021-07-15 06:18:56  \n",
       "1    2021-07-15 06:18:56  2021-07-15 06:18:56  \n",
       "2    2021-07-15 06:18:56  2021-07-15 06:18:56  \n",
       "3    2021-07-15 06:18:56  2021-07-15 06:18:56  \n",
       "4    2021-07-15 06:18:56  2021-07-15 06:18:56  \n",
       "..                   ...                  ...  \n",
       "375  2021-07-15 06:18:56  2021-07-15 06:18:56  \n",
       "376  2021-07-15 06:18:56  2021-07-15 06:18:56  \n",
       "377  2021-07-15 06:18:56  2021-07-15 06:18:56  \n",
       "378  2021-07-15 06:18:56  2021-07-15 06:18:56  \n",
       "379  2021-07-15 06:18:56  2021-07-15 06:18:56  \n",
       "\n",
       "[380 rows x 8 columns]"
      ]
     },
     "execution_count": 12,
     "metadata": {},
     "output_type": "execute_result"
    }
   ],
   "source": []
  },
  {
   "cell_type": "code",
   "execution_count": null,
   "metadata": {},
   "outputs": [],
   "source": []
  },
  {
   "cell_type": "code",
   "execution_count": 20,
   "metadata": {
    "ExecuteTime": {
     "end_time": "2021-07-15T07:00:34.696332Z",
     "start_time": "2021-07-15T07:00:34.687246Z"
    }
   },
   "outputs": [],
   "source": [
    "df_goals_players = pd.read_sql(\"\"\"SELECT players.name, matchs.temperature, matchs.rainfall, matchs.date, matchs.place\n",
    "                            FROM matchs\n",
    "                            JOIN goals\n",
    "                            ON goals.match_id = matchs.id\n",
    "                            JOIN players\n",
    "                            ON players.id = goals.player_id\"\"\",con)"
   ]
  },
  {
   "cell_type": "code",
   "execution_count": 23,
   "metadata": {
    "ExecuteTime": {
     "end_time": "2021-07-15T13:50:30.444283Z",
     "start_time": "2021-07-15T13:50:30.436233Z"
    }
   },
   "outputs": [],
   "source": [
    "## On doit avoir les dates, les buts par date, l'équipe correspondante et la météo\n",
    "## "
   ]
  },
  {
   "cell_type": "code",
   "execution_count": 25,
   "metadata": {
    "ExecuteTime": {
     "end_time": "2021-07-15T13:51:43.805345Z",
     "start_time": "2021-07-15T13:51:43.754540Z"
    }
   },
   "outputs": [],
   "source": [
    "# df_goals_per_match = pd.read_sql(\"\"\"SELECT * FROM match_teams\n",
    "#                                 \"\"\",con)"
   ]
  },
  {
   "cell_type": "code",
   "execution_count": 36,
   "metadata": {
    "ExecuteTime": {
     "end_time": "2021-07-15T13:56:41.263297Z",
     "start_time": "2021-07-15T13:56:41.248589Z"
    }
   },
   "outputs": [],
   "source": [
    "df_test=df[['Equipe domicile','Equipe exterieure', 'Score domicile', 'Score extérieur', 'Date', 'Temperature moyenne','Précipitations en mm']]"
   ]
  },
  {
   "cell_type": "code",
   "execution_count": 40,
   "metadata": {
    "ExecuteTime": {
     "end_time": "2021-07-15T13:59:08.362869Z",
     "start_time": "2021-07-15T13:59:08.350359Z"
    }
   },
   "outputs": [],
   "source": [
    "df_test['Score domicile'] = df_test['Score domicile'].astype(int)"
   ]
  },
  {
   "cell_type": "code",
   "execution_count": 43,
   "metadata": {
    "ExecuteTime": {
     "end_time": "2021-07-15T13:59:45.597573Z",
     "start_time": "2021-07-15T13:59:45.592878Z"
    }
   },
   "outputs": [],
   "source": [
    "df_test['Score extérieur'] = df_test['Score extérieur'].astype(int)"
   ]
  },
  {
   "cell_type": "code",
   "execution_count": 45,
   "metadata": {
    "ExecuteTime": {
     "end_time": "2021-07-15T14:01:01.636159Z",
     "start_time": "2021-07-15T14:01:01.601335Z"
    }
   },
   "outputs": [],
   "source": [
    "df_test['Date'] = df_test['Date'].astype('datetime64[ns]')"
   ]
  },
  {
   "cell_type": "code",
   "execution_count": 46,
   "metadata": {
    "ExecuteTime": {
     "end_time": "2021-07-15T14:01:13.456171Z",
     "start_time": "2021-07-15T14:01:13.432859Z"
    }
   },
   "outputs": [
    {
     "name": "stdout",
     "output_type": "stream",
     "text": [
      "<class 'pandas.core.frame.DataFrame'>\n",
      "RangeIndex: 380 entries, 0 to 379\n",
      "Data columns (total 7 columns):\n",
      " #   Column                Non-Null Count  Dtype         \n",
      "---  ------                --------------  -----         \n",
      " 0   Equipe domicile       380 non-null    object        \n",
      " 1   Equipe exterieure     380 non-null    object        \n",
      " 2   Score domicile        380 non-null    int64         \n",
      " 3   Score extérieur       380 non-null    int64         \n",
      " 4   Date                  380 non-null    datetime64[ns]\n",
      " 5   Temperature moyenne   380 non-null    float64       \n",
      " 6   Précipitations en mm  380 non-null    float32       \n",
      "dtypes: datetime64[ns](1), float32(1), float64(1), int64(2), object(2)\n",
      "memory usage: 19.4+ KB\n"
     ]
    }
   ],
   "source": [
    "df_test.info()"
   ]
  },
  {
   "cell_type": "code",
   "execution_count": 69,
   "metadata": {
    "ExecuteTime": {
     "end_time": "2021-07-15T14:11:04.288182Z",
     "start_time": "2021-07-15T14:11:02.804285Z"
    }
   },
   "outputs": [
    {
     "data": {
      "text/plain": [
       "<AxesSubplot:xlabel='Temperature moyenne', ylabel='Score domicile'>"
      ]
     },
     "execution_count": 69,
     "metadata": {},
     "output_type": "execute_result"
    },
    {
     "data": {
      "image/png": "[encoded data removed]",
      "text/plain": [
       "<Figure size 864x576 with 1 Axes>"
      ]
     },
     "metadata": {
      "needs_background": "light"
     },
     "output_type": "display_data"
    }
   ],
   "source": [
    "plt.figure(figsize=(12,8))\n",
    "sns.lineplot(data=df_test, x='Temperature moyenne', y='Score domicile')"
   ]
  },
  {
   "cell_type": "code",
   "execution_count": 72,
   "metadata": {
    "ExecuteTime": {
     "end_time": "2021-07-15T14:11:49.251089Z",
     "start_time": "2021-07-15T14:11:47.985214Z"
    }
   },
   "outputs": [
    {
     "data": {
      "text/plain": [
       "<AxesSubplot:xlabel='Temperature moyenne', ylabel='Score extérieur'>"
      ]
     },
     "execution_count": 72,
     "metadata": {},
     "output_type": "execute_result"
    },
    {
     "data": {
      "image/png": "[encoded data removed]",
      "text/plain": [
       "<Figure size 864x576 with 1 Axes>"
      ]
     },
     "metadata": {
      "needs_background": "light"
     },
     "output_type": "display_data"
    }
   ],
   "source": [
    "plt.figure(figsize=(12,8))\n",
    "sns.lineplot(data=df_test, x='Temperature moyenne', y='Score extérieur')"
   ]
  },
  {
   "cell_type": "code",
   "execution_count": 79,
   "metadata": {
    "ExecuteTime": {
     "end_time": "2021-07-15T14:22:37.810585Z",
     "start_time": "2021-07-15T14:22:37.798959Z"
    }
   },
   "outputs": [],
   "source": [
    "id_and_goals_df = pd.read_sql(\"\"\"SELECT match_id, goal FROM match_teams\n",
    "                WHERE team_id = 1\n",
    "                \"\"\",con)"
   ]
  },
  {
   "cell_type": "code",
   "execution_count": 80,
   "metadata": {
    "ExecuteTime": {
     "end_time": "2021-07-15T14:22:42.834071Z",
     "start_time": "2021-07-15T14:22:42.820001Z"
    }
   },
   "outputs": [
    {
     "data": {
      "text/html": [
       "<div>\n",
       "<style scoped>\n",
       "    .dataframe tbody tr th:only-of-type {\n",
       "        vertical-align: middle;\n",
       "    }\n",
       "\n",
       "    .dataframe tbody tr th {\n",
       "        vertical-align: top;\n",
       "    }\n",
       "\n",
       "    .dataframe thead th {\n",
       "        text-align: right;\n",
       "    }\n",
       "</style>\n",
       "<table border=\"1\" class=\"dataframe\">\n",
       "  <thead>\n",
       "    <tr style=\"text-align: right;\">\n",
       "      <th></th>\n",
       "      <th>match_id</th>\n",
       "      <th>goal</th>\n",
       "    </tr>\n",
       "  </thead>\n",
       "  <tbody>\n",
       "    <tr>\n",
       "      <th>0</th>\n",
       "      <td>3</td>\n",
       "      <td>1</td>\n",
       "    </tr>\n",
       "    <tr>\n",
       "      <th>1</th>\n",
       "      <td>24</td>\n",
       "      <td>1</td>\n",
       "    </tr>\n",
       "    <tr>\n",
       "      <th>2</th>\n",
       "      <td>41</td>\n",
       "      <td>2</td>\n",
       "    </tr>\n",
       "    <tr>\n",
       "      <th>3</th>\n",
       "      <td>70</td>\n",
       "      <td>4</td>\n",
       "    </tr>\n",
       "    <tr>\n",
       "      <th>4</th>\n",
       "      <td>89</td>\n",
       "      <td>1</td>\n",
       "    </tr>\n",
       "    <tr>\n",
       "      <th>5</th>\n",
       "      <td>109</td>\n",
       "      <td>4</td>\n",
       "    </tr>\n",
       "    <tr>\n",
       "      <th>6</th>\n",
       "      <td>124</td>\n",
       "      <td>2</td>\n",
       "    </tr>\n",
       "    <tr>\n",
       "      <th>7</th>\n",
       "      <td>139</td>\n",
       "      <td>2</td>\n",
       "    </tr>\n",
       "    <tr>\n",
       "      <th>8</th>\n",
       "      <td>160</td>\n",
       "      <td>0</td>\n",
       "    </tr>\n",
       "    <tr>\n",
       "      <th>9</th>\n",
       "      <td>177</td>\n",
       "      <td>1</td>\n",
       "    </tr>\n",
       "    <tr>\n",
       "      <th>10</th>\n",
       "      <td>198</td>\n",
       "      <td>2</td>\n",
       "    </tr>\n",
       "    <tr>\n",
       "      <th>11</th>\n",
       "      <td>218</td>\n",
       "      <td>1</td>\n",
       "    </tr>\n",
       "    <tr>\n",
       "      <th>12</th>\n",
       "      <td>249</td>\n",
       "      <td>0</td>\n",
       "    </tr>\n",
       "    <tr>\n",
       "      <th>13</th>\n",
       "      <td>269</td>\n",
       "      <td>1</td>\n",
       "    </tr>\n",
       "    <tr>\n",
       "      <th>14</th>\n",
       "      <td>276</td>\n",
       "      <td>2</td>\n",
       "    </tr>\n",
       "    <tr>\n",
       "      <th>15</th>\n",
       "      <td>299</td>\n",
       "      <td>1</td>\n",
       "    </tr>\n",
       "    <tr>\n",
       "      <th>16</th>\n",
       "      <td>321</td>\n",
       "      <td>1</td>\n",
       "    </tr>\n",
       "    <tr>\n",
       "      <th>17</th>\n",
       "      <td>343</td>\n",
       "      <td>2</td>\n",
       "    </tr>\n",
       "    <tr>\n",
       "      <th>18</th>\n",
       "      <td>361</td>\n",
       "      <td>0</td>\n",
       "    </tr>\n",
       "    <tr>\n",
       "      <th>19</th>\n",
       "      <td>14</td>\n",
       "      <td>1</td>\n",
       "    </tr>\n",
       "    <tr>\n",
       "      <th>20</th>\n",
       "      <td>40</td>\n",
       "      <td>1</td>\n",
       "    </tr>\n",
       "    <tr>\n",
       "      <th>21</th>\n",
       "      <td>55</td>\n",
       "      <td>3</td>\n",
       "    </tr>\n",
       "    <tr>\n",
       "      <th>22</th>\n",
       "      <td>78</td>\n",
       "      <td>1</td>\n",
       "    </tr>\n",
       "    <tr>\n",
       "      <th>23</th>\n",
       "      <td>94</td>\n",
       "      <td>2</td>\n",
       "    </tr>\n",
       "    <tr>\n",
       "      <th>24</th>\n",
       "      <td>120</td>\n",
       "      <td>1</td>\n",
       "    </tr>\n",
       "    <tr>\n",
       "      <th>25</th>\n",
       "      <td>141</td>\n",
       "      <td>2</td>\n",
       "    </tr>\n",
       "    <tr>\n",
       "      <th>26</th>\n",
       "      <td>166</td>\n",
       "      <td>3</td>\n",
       "    </tr>\n",
       "    <tr>\n",
       "      <th>27</th>\n",
       "      <td>183</td>\n",
       "      <td>1</td>\n",
       "    </tr>\n",
       "    <tr>\n",
       "      <th>28</th>\n",
       "      <td>208</td>\n",
       "      <td>1</td>\n",
       "    </tr>\n",
       "    <tr>\n",
       "      <th>29</th>\n",
       "      <td>221</td>\n",
       "      <td>3</td>\n",
       "    </tr>\n",
       "    <tr>\n",
       "      <th>30</th>\n",
       "      <td>239</td>\n",
       "      <td>2</td>\n",
       "    </tr>\n",
       "    <tr>\n",
       "      <th>31</th>\n",
       "      <td>259</td>\n",
       "      <td>4</td>\n",
       "    </tr>\n",
       "    <tr>\n",
       "      <th>32</th>\n",
       "      <td>289</td>\n",
       "      <td>0</td>\n",
       "    </tr>\n",
       "    <tr>\n",
       "      <th>33</th>\n",
       "      <td>302</td>\n",
       "      <td>1</td>\n",
       "    </tr>\n",
       "    <tr>\n",
       "      <th>34</th>\n",
       "      <td>311</td>\n",
       "      <td>2</td>\n",
       "    </tr>\n",
       "    <tr>\n",
       "      <th>35</th>\n",
       "      <td>340</td>\n",
       "      <td>3</td>\n",
       "    </tr>\n",
       "    <tr>\n",
       "      <th>36</th>\n",
       "      <td>351</td>\n",
       "      <td>3</td>\n",
       "    </tr>\n",
       "    <tr>\n",
       "      <th>37</th>\n",
       "      <td>371</td>\n",
       "      <td>2</td>\n",
       "    </tr>\n",
       "  </tbody>\n",
       "</table>\n",
       "</div>"
      ],
      "text/plain": [
       "    match_id  goal\n",
       "0          3     1\n",
       "1         24     1\n",
       "2         41     2\n",
       "3         70     4\n",
       "4         89     1\n",
       "5        109     4\n",
       "6        124     2\n",
       "7        139     2\n",
       "8        160     0\n",
       "9        177     1\n",
       "10       198     2\n",
       "11       218     1\n",
       "12       249     0\n",
       "13       269     1\n",
       "14       276     2\n",
       "15       299     1\n",
       "16       321     1\n",
       "17       343     2\n",
       "18       361     0\n",
       "19        14     1\n",
       "20        40     1\n",
       "21        55     3\n",
       "22        78     1\n",
       "23        94     2\n",
       "24       120     1\n",
       "25       141     2\n",
       "26       166     3\n",
       "27       183     1\n",
       "28       208     1\n",
       "29       221     3\n",
       "30       239     2\n",
       "31       259     4\n",
       "32       289     0\n",
       "33       302     1\n",
       "34       311     2\n",
       "35       340     3\n",
       "36       351     3\n",
       "37       371     2"
      ]
     },
     "execution_count": 80,
     "metadata": {},
     "output_type": "execute_result"
    }
   ],
   "source": []
  },
  {
   "cell_type": "code",
   "execution_count": 170,
   "metadata": {
    "ExecuteTime": {
     "end_time": "2021-07-15T14:52:10.729581Z",
     "start_time": "2021-07-15T14:52:10.710082Z"
    }
   },
   "outputs": [],
   "source": [
    "df_id = []\n",
    "for i in id_and_goals_df['match_id']:\n",
    "    df_id.append(i-1)"
   ]
  },
  {
   "cell_type": "code",
   "execution_count": 189,
   "metadata": {
    "ExecuteTime": {
     "end_time": "2021-07-15T14:56:59.985571Z",
     "start_time": "2021-07-15T14:56:59.977674Z"
    }
   },
   "outputs": [],
   "source": [
    "a = df_viz.loc[df_id]"
   ]
  },
  {
   "cell_type": "code",
   "execution_count": 198,
   "metadata": {
    "ExecuteTime": {
     "end_time": "2021-07-15T14:59:18.383066Z",
     "start_time": "2021-07-15T14:59:18.374407Z"
    }
   },
   "outputs": [],
   "source": [
    "b=[]\n",
    "for i in id_and_goals_df['goal']:\n",
    "    b.append(i)"
   ]
  },
  {
   "cell_type": "code",
   "execution_count": 199,
   "metadata": {
    "ExecuteTime": {
     "end_time": "2021-07-15T14:59:19.759289Z",
     "start_time": "2021-07-15T14:59:19.751208Z"
    }
   },
   "outputs": [
    {
     "data": {
      "text/plain": [
       "38"
      ]
     },
     "execution_count": 199,
     "metadata": {},
     "output_type": "execute_result"
    }
   ],
   "source": [
    "len(b)"
   ]
  },
  {
   "cell_type": "code",
   "execution_count": 200,
   "metadata": {
    "ExecuteTime": {
     "end_time": "2021-07-15T14:59:21.208946Z",
     "start_time": "2021-07-15T14:59:21.194239Z"
    }
   },
   "outputs": [],
   "source": [
    "a['goal'] = b"
   ]
  },
  {
   "cell_type": "code",
   "execution_count": 204,
   "metadata": {
    "ExecuteTime": {
     "end_time": "2021-07-15T15:01:00.867980Z",
     "start_time": "2021-07-15T15:01:00.863565Z"
    }
   },
   "outputs": [],
   "source": [
    "a['date'] = a['date'].astype('datetime64[ns]')"
   ]
  },
  {
   "cell_type": "code",
   "execution_count": 216,
   "metadata": {
    "ExecuteTime": {
     "end_time": "2021-07-15T15:03:19.725112Z",
     "start_time": "2021-07-15T15:03:19.686256Z"
    }
   },
   "outputs": [
    {
     "data": {
      "text/html": [
       "<div>\n",
       "<style scoped>\n",
       "    .dataframe tbody tr th:only-of-type {\n",
       "        vertical-align: middle;\n",
       "    }\n",
       "\n",
       "    .dataframe tbody tr th {\n",
       "        vertical-align: top;\n",
       "    }\n",
       "\n",
       "    .dataframe thead th {\n",
       "        text-align: right;\n",
       "    }\n",
       "</style>\n",
       "<table border=\"1\" class=\"dataframe\">\n",
       "  <thead>\n",
       "    <tr style=\"text-align: right;\">\n",
       "      <th></th>\n",
       "      <th>id</th>\n",
       "      <th>date</th>\n",
       "      <th>place</th>\n",
       "      <th>rainfall</th>\n",
       "      <th>temperature</th>\n",
       "      <th>championship_id</th>\n",
       "      <th>created_at</th>\n",
       "      <th>updated_at</th>\n",
       "      <th>goal</th>\n",
       "    </tr>\n",
       "  </thead>\n",
       "  <tbody>\n",
       "    <tr>\n",
       "      <th>2</th>\n",
       "      <td>3</td>\n",
       "      <td>2020-08-22</td>\n",
       "      <td>Lille</td>\n",
       "      <td>1.0</td>\n",
       "      <td>19.0</td>\n",
       "      <td>1</td>\n",
       "      <td>2021-07-15 06:18:56</td>\n",
       "      <td>2021-07-15 06:18:56</td>\n",
       "      <td>1</td>\n",
       "    </tr>\n",
       "    <tr>\n",
       "      <th>23</th>\n",
       "      <td>24</td>\n",
       "      <td>2020-09-13</td>\n",
       "      <td>Lille</td>\n",
       "      <td>0.0</td>\n",
       "      <td>20.0</td>\n",
       "      <td>1</td>\n",
       "      <td>2021-07-15 06:18:56</td>\n",
       "      <td>2021-07-15 06:18:56</td>\n",
       "      <td>1</td>\n",
       "    </tr>\n",
       "    <tr>\n",
       "      <th>40</th>\n",
       "      <td>41</td>\n",
       "      <td>2020-09-25</td>\n",
       "      <td>Lille</td>\n",
       "      <td>8.0</td>\n",
       "      <td>10.5</td>\n",
       "      <td>1</td>\n",
       "      <td>2021-07-15 06:18:56</td>\n",
       "      <td>2021-07-15 06:18:56</td>\n",
       "      <td>2</td>\n",
       "    </tr>\n",
       "    <tr>\n",
       "      <th>69</th>\n",
       "      <td>70</td>\n",
       "      <td>2020-10-18</td>\n",
       "      <td>Lille</td>\n",
       "      <td>2.0</td>\n",
       "      <td>11.5</td>\n",
       "      <td>1</td>\n",
       "      <td>2021-07-15 06:18:56</td>\n",
       "      <td>2021-07-15 06:18:56</td>\n",
       "      <td>4</td>\n",
       "    </tr>\n",
       "    <tr>\n",
       "      <th>88</th>\n",
       "      <td>89</td>\n",
       "      <td>2020-11-01</td>\n",
       "      <td>Lille</td>\n",
       "      <td>1.0</td>\n",
       "      <td>14.5</td>\n",
       "      <td>1</td>\n",
       "      <td>2021-07-15 06:18:56</td>\n",
       "      <td>2021-07-15 06:18:56</td>\n",
       "      <td>1</td>\n",
       "    </tr>\n",
       "    <tr>\n",
       "      <th>108</th>\n",
       "      <td>109</td>\n",
       "      <td>2020-11-22</td>\n",
       "      <td>Lille</td>\n",
       "      <td>4.0</td>\n",
       "      <td>10.5</td>\n",
       "      <td>1</td>\n",
       "      <td>2021-07-15 06:18:56</td>\n",
       "      <td>2021-07-15 06:18:56</td>\n",
       "      <td>4</td>\n",
       "    </tr>\n",
       "    <tr>\n",
       "      <th>123</th>\n",
       "      <td>124</td>\n",
       "      <td>2020-12-06</td>\n",
       "      <td>Lille</td>\n",
       "      <td>0.0</td>\n",
       "      <td>3.5</td>\n",
       "      <td>1</td>\n",
       "      <td>2021-07-15 06:18:56</td>\n",
       "      <td>2021-07-15 06:18:56</td>\n",
       "      <td>2</td>\n",
       "    </tr>\n",
       "    <tr>\n",
       "      <th>138</th>\n",
       "      <td>139</td>\n",
       "      <td>2020-12-13</td>\n",
       "      <td>Lille</td>\n",
       "      <td>1.0</td>\n",
       "      <td>5.5</td>\n",
       "      <td>1</td>\n",
       "      <td>2021-07-15 06:18:56</td>\n",
       "      <td>2021-07-15 06:18:56</td>\n",
       "      <td>2</td>\n",
       "    </tr>\n",
       "    <tr>\n",
       "      <th>159</th>\n",
       "      <td>160</td>\n",
       "      <td>2020-12-20</td>\n",
       "      <td>Lille</td>\n",
       "      <td>0.0</td>\n",
       "      <td>8.0</td>\n",
       "      <td>1</td>\n",
       "      <td>2021-07-15 06:18:56</td>\n",
       "      <td>2021-07-15 06:18:56</td>\n",
       "      <td>0</td>\n",
       "    </tr>\n",
       "    <tr>\n",
       "      <th>176</th>\n",
       "      <td>177</td>\n",
       "      <td>2021-01-06</td>\n",
       "      <td>Lille</td>\n",
       "      <td>2.0</td>\n",
       "      <td>2.0</td>\n",
       "      <td>1</td>\n",
       "      <td>2021-07-15 06:18:56</td>\n",
       "      <td>2021-07-15 06:18:56</td>\n",
       "      <td>1</td>\n",
       "    </tr>\n",
       "    <tr>\n",
       "      <th>197</th>\n",
       "      <td>198</td>\n",
       "      <td>2021-01-17</td>\n",
       "      <td>Lille</td>\n",
       "      <td>1.0</td>\n",
       "      <td>3.0</td>\n",
       "      <td>1</td>\n",
       "      <td>2021-07-15 06:18:56</td>\n",
       "      <td>2021-07-15 06:18:56</td>\n",
       "      <td>2</td>\n",
       "    </tr>\n",
       "    <tr>\n",
       "      <th>217</th>\n",
       "      <td>218</td>\n",
       "      <td>2021-01-31</td>\n",
       "      <td>Lille</td>\n",
       "      <td>0.0</td>\n",
       "      <td>1.0</td>\n",
       "      <td>1</td>\n",
       "      <td>2021-07-15 06:18:56</td>\n",
       "      <td>2021-07-15 06:18:56</td>\n",
       "      <td>1</td>\n",
       "    </tr>\n",
       "    <tr>\n",
       "      <th>248</th>\n",
       "      <td>249</td>\n",
       "      <td>2021-02-14</td>\n",
       "      <td>Lille</td>\n",
       "      <td>0.0</td>\n",
       "      <td>0.0</td>\n",
       "      <td>1</td>\n",
       "      <td>2021-07-15 06:18:56</td>\n",
       "      <td>2021-07-15 06:18:56</td>\n",
       "      <td>0</td>\n",
       "    </tr>\n",
       "    <tr>\n",
       "      <th>268</th>\n",
       "      <td>269</td>\n",
       "      <td>2021-02-28</td>\n",
       "      <td>Lille</td>\n",
       "      <td>0.0</td>\n",
       "      <td>8.0</td>\n",
       "      <td>1</td>\n",
       "      <td>2021-07-15 06:18:56</td>\n",
       "      <td>2021-07-15 06:18:56</td>\n",
       "      <td>1</td>\n",
       "    </tr>\n",
       "    <tr>\n",
       "      <th>275</th>\n",
       "      <td>276</td>\n",
       "      <td>2021-03-03</td>\n",
       "      <td>Lille</td>\n",
       "      <td>1.0</td>\n",
       "      <td>11.0</td>\n",
       "      <td>1</td>\n",
       "      <td>2021-07-15 06:18:56</td>\n",
       "      <td>2021-07-15 06:18:56</td>\n",
       "      <td>2</td>\n",
       "    </tr>\n",
       "    <tr>\n",
       "      <th>298</th>\n",
       "      <td>299</td>\n",
       "      <td>2021-03-21</td>\n",
       "      <td>Lille</td>\n",
       "      <td>1.0</td>\n",
       "      <td>8.5</td>\n",
       "      <td>1</td>\n",
       "      <td>2021-07-15 06:18:56</td>\n",
       "      <td>2021-07-15 06:18:56</td>\n",
       "      <td>1</td>\n",
       "    </tr>\n",
       "    <tr>\n",
       "      <th>320</th>\n",
       "      <td>321</td>\n",
       "      <td>2021-04-16</td>\n",
       "      <td>Lille</td>\n",
       "      <td>0.0</td>\n",
       "      <td>6.5</td>\n",
       "      <td>1</td>\n",
       "      <td>2021-07-15 06:18:56</td>\n",
       "      <td>2021-07-15 06:18:56</td>\n",
       "      <td>1</td>\n",
       "    </tr>\n",
       "    <tr>\n",
       "      <th>342</th>\n",
       "      <td>343</td>\n",
       "      <td>2021-05-01</td>\n",
       "      <td>Lille</td>\n",
       "      <td>0.0</td>\n",
       "      <td>9.0</td>\n",
       "      <td>1</td>\n",
       "      <td>2021-07-15 06:18:56</td>\n",
       "      <td>2021-07-15 06:18:56</td>\n",
       "      <td>2</td>\n",
       "    </tr>\n",
       "    <tr>\n",
       "      <th>360</th>\n",
       "      <td>361</td>\n",
       "      <td>2021-05-16</td>\n",
       "      <td>Lille</td>\n",
       "      <td>6.0</td>\n",
       "      <td>11.0</td>\n",
       "      <td>1</td>\n",
       "      <td>2021-07-15 06:18:56</td>\n",
       "      <td>2021-07-15 06:18:56</td>\n",
       "      <td>0</td>\n",
       "    </tr>\n",
       "    <tr>\n",
       "      <th>13</th>\n",
       "      <td>14</td>\n",
       "      <td>2020-08-30</td>\n",
       "      <td>Reims</td>\n",
       "      <td>2.0</td>\n",
       "      <td>15.0</td>\n",
       "      <td>1</td>\n",
       "      <td>2021-07-15 06:18:56</td>\n",
       "      <td>2021-07-15 06:18:56</td>\n",
       "      <td>1</td>\n",
       "    </tr>\n",
       "    <tr>\n",
       "      <th>39</th>\n",
       "      <td>40</td>\n",
       "      <td>2020-09-20</td>\n",
       "      <td>Marseille</td>\n",
       "      <td>13.0</td>\n",
       "      <td>24.0</td>\n",
       "      <td>1</td>\n",
       "      <td>2021-07-15 06:18:56</td>\n",
       "      <td>2021-07-15 06:18:56</td>\n",
       "      <td>1</td>\n",
       "    </tr>\n",
       "    <tr>\n",
       "      <th>54</th>\n",
       "      <td>55</td>\n",
       "      <td>2020-10-04</td>\n",
       "      <td>Strasbourg</td>\n",
       "      <td>2.0</td>\n",
       "      <td>13.5</td>\n",
       "      <td>1</td>\n",
       "      <td>2021-07-15 06:18:56</td>\n",
       "      <td>2021-07-15 06:18:56</td>\n",
       "      <td>3</td>\n",
       "    </tr>\n",
       "    <tr>\n",
       "      <th>77</th>\n",
       "      <td>78</td>\n",
       "      <td>2020-10-25</td>\n",
       "      <td>Nice</td>\n",
       "      <td>2.0</td>\n",
       "      <td>16.5</td>\n",
       "      <td>1</td>\n",
       "      <td>2021-07-15 06:18:56</td>\n",
       "      <td>2021-07-15 06:18:56</td>\n",
       "      <td>1</td>\n",
       "    </tr>\n",
       "    <tr>\n",
       "      <th>93</th>\n",
       "      <td>94</td>\n",
       "      <td>2020-11-08</td>\n",
       "      <td>Brest</td>\n",
       "      <td>1.0</td>\n",
       "      <td>15.0</td>\n",
       "      <td>1</td>\n",
       "      <td>2021-07-15 06:18:56</td>\n",
       "      <td>2021-07-15 06:18:56</td>\n",
       "      <td>2</td>\n",
       "    </tr>\n",
       "    <tr>\n",
       "      <th>119</th>\n",
       "      <td>120</td>\n",
       "      <td>2020-11-29</td>\n",
       "      <td>Saint-Étienne</td>\n",
       "      <td>0.0</td>\n",
       "      <td>3.5</td>\n",
       "      <td>1</td>\n",
       "      <td>2021-07-15 06:18:56</td>\n",
       "      <td>2021-07-15 06:18:56</td>\n",
       "      <td>1</td>\n",
       "    </tr>\n",
       "    <tr>\n",
       "      <th>140</th>\n",
       "      <td>141</td>\n",
       "      <td>2020-12-16</td>\n",
       "      <td>Dijon</td>\n",
       "      <td>1.0</td>\n",
       "      <td>8.5</td>\n",
       "      <td>1</td>\n",
       "      <td>2021-07-15 06:18:56</td>\n",
       "      <td>2021-07-15 06:18:56</td>\n",
       "      <td>2</td>\n",
       "    </tr>\n",
       "    <tr>\n",
       "      <th>165</th>\n",
       "      <td>166</td>\n",
       "      <td>2020-12-23</td>\n",
       "      <td>Montpellier</td>\n",
       "      <td>1.0</td>\n",
       "      <td>12.5</td>\n",
       "      <td>1</td>\n",
       "      <td>2021-07-15 06:18:56</td>\n",
       "      <td>2021-07-15 06:18:56</td>\n",
       "      <td>3</td>\n",
       "    </tr>\n",
       "    <tr>\n",
       "      <th>182</th>\n",
       "      <td>183</td>\n",
       "      <td>2021-01-09</td>\n",
       "      <td>Nîmes</td>\n",
       "      <td>0.0</td>\n",
       "      <td>2.5</td>\n",
       "      <td>1</td>\n",
       "      <td>2021-07-15 06:18:56</td>\n",
       "      <td>2021-07-15 06:18:56</td>\n",
       "      <td>1</td>\n",
       "    </tr>\n",
       "    <tr>\n",
       "      <th>207</th>\n",
       "      <td>208</td>\n",
       "      <td>2021-01-24</td>\n",
       "      <td>Rennes</td>\n",
       "      <td>1.0</td>\n",
       "      <td>3.0</td>\n",
       "      <td>1</td>\n",
       "      <td>2021-07-15 06:18:56</td>\n",
       "      <td>2021-07-15 06:18:56</td>\n",
       "      <td>1</td>\n",
       "    </tr>\n",
       "    <tr>\n",
       "      <th>220</th>\n",
       "      <td>221</td>\n",
       "      <td>2021-02-03</td>\n",
       "      <td>Bordeaux</td>\n",
       "      <td>3.0</td>\n",
       "      <td>13.0</td>\n",
       "      <td>1</td>\n",
       "      <td>2021-07-15 06:18:56</td>\n",
       "      <td>2021-07-15 06:18:56</td>\n",
       "      <td>3</td>\n",
       "    </tr>\n",
       "    <tr>\n",
       "      <th>238</th>\n",
       "      <td>239</td>\n",
       "      <td>2021-02-07</td>\n",
       "      <td>Nantes</td>\n",
       "      <td>1.0</td>\n",
       "      <td>6.0</td>\n",
       "      <td>1</td>\n",
       "      <td>2021-07-15 06:18:56</td>\n",
       "      <td>2021-07-15 06:18:56</td>\n",
       "      <td>2</td>\n",
       "    </tr>\n",
       "    <tr>\n",
       "      <th>258</th>\n",
       "      <td>259</td>\n",
       "      <td>2021-02-21</td>\n",
       "      <td>Lorient</td>\n",
       "      <td>2.0</td>\n",
       "      <td>11.0</td>\n",
       "      <td>1</td>\n",
       "      <td>2021-07-15 06:18:56</td>\n",
       "      <td>2021-07-15 06:18:56</td>\n",
       "      <td>4</td>\n",
       "    </tr>\n",
       "    <tr>\n",
       "      <th>288</th>\n",
       "      <td>289</td>\n",
       "      <td>2021-03-14</td>\n",
       "      <td>Monaco</td>\n",
       "      <td>1.0</td>\n",
       "      <td>12.5</td>\n",
       "      <td>1</td>\n",
       "      <td>2021-07-15 06:18:56</td>\n",
       "      <td>2021-07-15 06:18:56</td>\n",
       "      <td>0</td>\n",
       "    </tr>\n",
       "    <tr>\n",
       "      <th>301</th>\n",
       "      <td>302</td>\n",
       "      <td>2021-04-03</td>\n",
       "      <td>Paris</td>\n",
       "      <td>0.0</td>\n",
       "      <td>8.5</td>\n",
       "      <td>1</td>\n",
       "      <td>2021-07-15 06:18:56</td>\n",
       "      <td>2021-07-15 06:18:56</td>\n",
       "      <td>1</td>\n",
       "    </tr>\n",
       "    <tr>\n",
       "      <th>310</th>\n",
       "      <td>311</td>\n",
       "      <td>2021-04-09</td>\n",
       "      <td>Metz</td>\n",
       "      <td>1.0</td>\n",
       "      <td>7.5</td>\n",
       "      <td>1</td>\n",
       "      <td>2021-07-15 06:18:56</td>\n",
       "      <td>2021-07-15 06:18:56</td>\n",
       "      <td>2</td>\n",
       "    </tr>\n",
       "    <tr>\n",
       "      <th>339</th>\n",
       "      <td>340</td>\n",
       "      <td>2021-04-25</td>\n",
       "      <td>Lyon</td>\n",
       "      <td>0.0</td>\n",
       "      <td>16.5</td>\n",
       "      <td>1</td>\n",
       "      <td>2021-07-15 06:18:56</td>\n",
       "      <td>2021-07-15 06:18:56</td>\n",
       "      <td>3</td>\n",
       "    </tr>\n",
       "    <tr>\n",
       "      <th>350</th>\n",
       "      <td>351</td>\n",
       "      <td>2021-05-07</td>\n",
       "      <td>Lens</td>\n",
       "      <td>1.0</td>\n",
       "      <td>9.0</td>\n",
       "      <td>1</td>\n",
       "      <td>2021-07-15 06:18:56</td>\n",
       "      <td>2021-07-15 06:18:56</td>\n",
       "      <td>3</td>\n",
       "    </tr>\n",
       "    <tr>\n",
       "      <th>370</th>\n",
       "      <td>371</td>\n",
       "      <td>2021-05-23</td>\n",
       "      <td>Angers</td>\n",
       "      <td>1.0</td>\n",
       "      <td>11.5</td>\n",
       "      <td>1</td>\n",
       "      <td>2021-07-15 06:18:56</td>\n",
       "      <td>2021-07-15 06:18:56</td>\n",
       "      <td>2</td>\n",
       "    </tr>\n",
       "  </tbody>\n",
       "</table>\n",
       "</div>"
      ],
      "text/plain": [
       "      id       date          place  rainfall  temperature  championship_id  \\\n",
       "2      3 2020-08-22          Lille       1.0         19.0                1   \n",
       "23    24 2020-09-13          Lille       0.0         20.0                1   \n",
       "40    41 2020-09-25          Lille       8.0         10.5                1   \n",
       "69    70 2020-10-18          Lille       2.0         11.5                1   \n",
       "88    89 2020-11-01          Lille       1.0         14.5                1   \n",
       "108  109 2020-11-22          Lille       4.0         10.5                1   \n",
       "123  124 2020-12-06          Lille       0.0          3.5                1   \n",
       "138  139 2020-12-13          Lille       1.0          5.5                1   \n",
       "159  160 2020-12-20          Lille       0.0          8.0                1   \n",
       "176  177 2021-01-06          Lille       2.0          2.0                1   \n",
       "197  198 2021-01-17          Lille       1.0          3.0                1   \n",
       "217  218 2021-01-31          Lille       0.0          1.0                1   \n",
       "248  249 2021-02-14          Lille       0.0          0.0                1   \n",
       "268  269 2021-02-28          Lille       0.0          8.0                1   \n",
       "275  276 2021-03-03          Lille       1.0         11.0                1   \n",
       "298  299 2021-03-21          Lille       1.0          8.5                1   \n",
       "320  321 2021-04-16          Lille       0.0          6.5                1   \n",
       "342  343 2021-05-01          Lille       0.0          9.0                1   \n",
       "360  361 2021-05-16          Lille       6.0         11.0                1   \n",
       "13    14 2020-08-30          Reims       2.0         15.0                1   \n",
       "39    40 2020-09-20      Marseille      13.0         24.0                1   \n",
       "54    55 2020-10-04     Strasbourg       2.0         13.5                1   \n",
       "77    78 2020-10-25           Nice       2.0         16.5                1   \n",
       "93    94 2020-11-08          Brest       1.0         15.0                1   \n",
       "119  120 2020-11-29  Saint-Étienne       0.0          3.5                1   \n",
       "140  141 2020-12-16          Dijon       1.0          8.5                1   \n",
       "165  166 2020-12-23    Montpellier       1.0         12.5                1   \n",
       "182  183 2021-01-09          Nîmes       0.0          2.5                1   \n",
       "207  208 2021-01-24         Rennes       1.0          3.0                1   \n",
       "220  221 2021-02-03       Bordeaux       3.0         13.0                1   \n",
       "238  239 2021-02-07         Nantes       1.0          6.0                1   \n",
       "258  259 2021-02-21        Lorient       2.0         11.0                1   \n",
       "288  289 2021-03-14         Monaco       1.0         12.5                1   \n",
       "301  302 2021-04-03          Paris       0.0          8.5                1   \n",
       "310  311 2021-04-09           Metz       1.0          7.5                1   \n",
       "339  340 2021-04-25           Lyon       0.0         16.5                1   \n",
       "350  351 2021-05-07           Lens       1.0          9.0                1   \n",
       "370  371 2021-05-23         Angers       1.0         11.5                1   \n",
       "\n",
       "              created_at           updated_at  goal  \n",
       "2    2021-07-15 06:18:56  2021-07-15 06:18:56     1  \n",
       "23   2021-07-15 06:18:56  2021-07-15 06:18:56     1  \n",
       "40   2021-07-15 06:18:56  2021-07-15 06:18:56     2  \n",
       "69   2021-07-15 06:18:56  2021-07-15 06:18:56     4  \n",
       "88   2021-07-15 06:18:56  2021-07-15 06:18:56     1  \n",
       "108  2021-07-15 06:18:56  2021-07-15 06:18:56     4  \n",
       "123  2021-07-15 06:18:56  2021-07-15 06:18:56     2  \n",
       "138  2021-07-15 06:18:56  2021-07-15 06:18:56     2  \n",
       "159  2021-07-15 06:18:56  2021-07-15 06:18:56     0  \n",
       "176  2021-07-15 06:18:56  2021-07-15 06:18:56     1  \n",
       "197  2021-07-15 06:18:56  2021-07-15 06:18:56     2  \n",
       "217  2021-07-15 06:18:56  2021-07-15 06:18:56     1  \n",
       "248  2021-07-15 06:18:56  2021-07-15 06:18:56     0  \n",
       "268  2021-07-15 06:18:56  2021-07-15 06:18:56     1  \n",
       "275  2021-07-15 06:18:56  2021-07-15 06:18:56     2  \n",
       "298  2021-07-15 06:18:56  2021-07-15 06:18:56     1  \n",
       "320  2021-07-15 06:18:56  2021-07-15 06:18:56     1  \n",
       "342  2021-07-15 06:18:56  2021-07-15 06:18:56     2  \n",
       "360  2021-07-15 06:18:56  2021-07-15 06:18:56     0  \n",
       "13   2021-07-15 06:18:56  2021-07-15 06:18:56     1  \n",
       "39   2021-07-15 06:18:56  2021-07-15 06:18:56     1  \n",
       "54   2021-07-15 06:18:56  2021-07-15 06:18:56     3  \n",
       "77   2021-07-15 06:18:56  2021-07-15 06:18:56     1  \n",
       "93   2021-07-15 06:18:56  2021-07-15 06:18:56     2  \n",
       "119  2021-07-15 06:18:56  2021-07-15 06:18:56     1  \n",
       "140  2021-07-15 06:18:56  2021-07-15 06:18:56     2  \n",
       "165  2021-07-15 06:18:56  2021-07-15 06:18:56     3  \n",
       "182  2021-07-15 06:18:56  2021-07-15 06:18:56     1  \n",
       "207  2021-07-15 06:18:56  2021-07-15 06:18:56     1  \n",
       "220  2021-07-15 06:18:56  2021-07-15 06:18:56     3  \n",
       "238  2021-07-15 06:18:56  2021-07-15 06:18:56     2  \n",
       "258  2021-07-15 06:18:56  2021-07-15 06:18:56     4  \n",
       "288  2021-07-15 06:18:56  2021-07-15 06:18:56     0  \n",
       "301  2021-07-15 06:18:56  2021-07-15 06:18:56     1  \n",
       "310  2021-07-15 06:18:56  2021-07-15 06:18:56     2  \n",
       "339  2021-07-15 06:18:56  2021-07-15 06:18:56     3  \n",
       "350  2021-07-15 06:18:56  2021-07-15 06:18:56     3  \n",
       "370  2021-07-15 06:18:56  2021-07-15 06:18:56     2  "
      ]
     },
     "execution_count": 216,
     "metadata": {},
     "output_type": "execute_result"
    }
   ],
   "source": [
    "a"
   ]
  },
  {
   "cell_type": "code",
   "execution_count": 221,
   "metadata": {
    "ExecuteTime": {
     "end_time": "2021-07-15T15:06:42.280067Z",
     "start_time": "2021-07-15T15:06:42.108365Z"
    }
   },
   "outputs": [
    {
     "data": {
      "text/plain": [
       "<AxesSubplot:xlabel='temperature', ylabel='goal'>"
      ]
     },
     "execution_count": 221,
     "metadata": {},
     "output_type": "execute_result"
    },
    {
     "data": {
      "image/png": "[encoded data removed]",
      "text/plain": [
       "<Figure size 864x576 with 1 Axes>"
      ]
     },
     "metadata": {
      "needs_background": "light"
     },
     "output_type": "display_data"
    }
   ],
   "source": [
    "plt.figure(figsize=(12,8))\n",
    "sns.scatterplot(data=a, x='temperature', y='goal')"
   ]
  }
 ],
 "metadata": {
  "kernelspec": {
   "display_name": "Python 3",
   "language": "python",
   "name": "python3"
  },
  "language_info": {
   "codemirror_mode": {
    "name": "ipython",
    "version": 3
   },
   "file_extension": ".py",
   "mimetype": "text/x-python",
   "name": "python",
   "nbconvert_exporter": "python",
   "pygments_lexer": "ipython3",
   "version": "3.8.5"
  },
  "latex_envs": {
   "LaTeX_envs_menu_present": true,
   "autoclose": false,
   "autocomplete": true,
   "bibliofile": "biblio.bib",
   "cite_by": "apalike",
   "current_citInitial": 1,
   "eqLabelWithNumbers": true,
   "eqNumInitial": 1,
   "hotkeys": {
    "equation": "Ctrl-E",
    "itemize": "Ctrl-I"
   },
   "labels_anchors": false,
   "latex_user_defs": false,
   "report_style_numbering": false,
   "user_envs_cfg": false
  },
  "toc": {
   "base_numbering": 1,
   "nav_menu": {},
   "number_sections": true,
   "sideBar": true,
   "skip_h1_title": false,
   "title_cell": "Table of Contents",
   "title_sidebar": "Contents",
   "toc_cell": false,
   "toc_position": {},
   "toc_section_display": true,
   "toc_window_display": false
  }
 },
 "nbformat": 4,
 "nbformat_minor": 4
}
