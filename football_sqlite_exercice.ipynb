{
 "cells": [
  {
   "cell_type": "code",
   "execution_count": 1,
   "metadata": {
    "ExecuteTime": {
     "end_time": "2021-07-16T07:13:14.465735Z",
     "start_time": "2021-07-16T07:13:09.365954Z"
    }
   },
   "outputs": [],
   "source": [
    "import pandas as pd\n",
    "import sqlite3\n",
    "import seaborn as sns\n",
    "import matplotlib.pyplot as plt\n",
    "from bs4 import BeautifulSoup\n",
    "import requests\n",
    "import json\n",
    "from datetime import datetime"
   ]
  },
  {
   "cell_type": "code",
   "execution_count": 2,
   "metadata": {
    "ExecuteTime": {
     "end_time": "2021-07-16T07:13:15.662008Z",
     "start_time": "2021-07-16T07:13:14.527007Z"
    }
   },
   "outputs": [],
   "source": [
    "url = \"https://www.lequipe.fr/Football/ligue-1/saison-2020-2021/page-calendrier-resultats\"\n",
    "response = requests.get(url)\n",
    "html_parsed = BeautifulSoup(response.text, 'html.parser')\n",
    "html = html_parsed.find(class_='container__main')\n",
    "select = html.find(class_='SelectNav__select')"
   ]
  },
  {
   "cell_type": "code",
   "execution_count": 3,
   "metadata": {
    "ExecuteTime": {
     "end_time": "2021-07-16T07:13:15.694266Z",
     "start_time": "2021-07-16T07:13:15.689134Z"
    }
   },
   "outputs": [],
   "source": [
    "links_json_matchs = []\n",
    "for value in select:\n",
    "    links_json_matchs.append(value['value'])"
   ]
  },
  {
   "cell_type": "code",
   "execution_count": 4,
   "metadata": {
    "ExecuteTime": {
     "end_time": "2021-07-16T07:13:15.735798Z",
     "start_time": "2021-07-16T07:13:15.702160Z"
    }
   },
   "outputs": [],
   "source": [
    "score = html.find_all('div', class_='TeamScore__data')"
   ]
  },
  {
   "cell_type": "code",
   "execution_count": 5,
   "metadata": {
    "ExecuteTime": {
     "end_time": "2021-07-16T07:13:15.773639Z",
     "start_time": "2021-07-16T07:13:15.770780Z"
    }
   },
   "outputs": [],
   "source": [
    "link_matchs_goals_per_journey = []"
   ]
  },
  {
   "cell_type": "code",
   "execution_count": 6,
   "metadata": {
    "ExecuteTime": {
     "end_time": "2021-07-16T07:13:15.802070Z",
     "start_time": "2021-07-16T07:13:15.777578Z"
    }
   },
   "outputs": [],
   "source": [
    "for i in score:\n",
    "    link_matchs_goals_per_journey.append(i.find('a', 'Link')['aria-label'])"
   ]
  },
  {
   "cell_type": "code",
   "execution_count": 7,
   "metadata": {
    "ExecuteTime": {
     "end_time": "2021-07-16T07:13:15.816710Z",
     "start_time": "2021-07-16T07:13:15.811641Z"
    }
   },
   "outputs": [],
   "source": [
    "day_list = []\n",
    "date_list = []\n",
    "match_place_list = []\n",
    "home_team_list = []\n",
    "away_team_list = []\n",
    "vainqueur_list = []\n",
    "score_home_list = []\n",
    "score_away_list = []\n",
    "match_links = []\n",
    "buteurs =[]"
   ]
  },
  {
   "cell_type": "code",
   "execution_count": 8,
   "metadata": {
    "ExecuteTime": {
     "end_time": "2021-07-16T07:13:25.871264Z",
     "start_time": "2021-07-16T07:13:15.825059Z"
    }
   },
   "outputs": [],
   "source": [
    "count = 0\n",
    "for link in links_json_matchs:\n",
    "    requests.get(link).json()\n",
    "    count+=1\n",
    "    for i in requests.get(link).json()['items']:\n",
    "        if i.get('items'):\n",
    "            for item in i['items']:\n",
    "                day_list.append(count)\n",
    "                date_list.append(item['event']['date'])\n",
    "                match_links.append(item['event']['lien_web'])\n",
    "                vainqueur_list.append(item['event']['specifics']['vainqueur'])\n",
    "                score_away_list.append(item['event']['specifics']['score']['exterieur'])\n",
    "                match_place_list.append(item['event']['lieu']['ville'])\n",
    "                score_home_list.append(item['event']['specifics']['score']['domicile'])\n",
    "                home_team_list.append(item['event']['specifics']['domicile']['equipe']['nom'])\n",
    "                away_team_list.append(item['event']['specifics']['exterieur']['equipe']['nom'])"
   ]
  },
  {
   "cell_type": "code",
   "execution_count": 9,
   "metadata": {
    "ExecuteTime": {
     "end_time": "2021-07-16T07:13:25.961600Z",
     "start_time": "2021-07-16T07:13:25.874051Z"
    }
   },
   "outputs": [
    {
     "data": {
      "text/plain": [
       "['2020-08-21T19:00:00+0200',\n",
       " '2020-08-22T17:00:00+0200',\n",
       " '2020-08-22T21:00:00+0200',\n",
       " '2020-08-23T13:00:00+0200',\n",
       " '2020-08-23T15:00:00+0200',\n",
       " '2020-08-23T15:00:00+0200',\n",
       " '2020-08-23T17:00:00+0200',\n",
       " '2020-09-15T21:00:00+0200',\n",
       " '2020-09-16T21:00:00+0200',\n",
       " '2020-09-17T21:00:00+0200',\n",
       " '2020-08-28T21:00:00+0200',\n",
       " '2020-08-29T17:00:00+0200',\n",
       " '2020-08-29T21:00:00+0200',\n",
       " '2020-08-30T13:00:00+0200',\n",
       " '2020-08-30T15:00:00+0200',\n",
       " '2020-08-30T15:00:00+0200',\n",
       " '2020-08-30T15:00:00+0200',\n",
       " '2020-08-30T15:00:00+0200',\n",
       " '2020-08-30T21:00:00+0200',\n",
       " '2020-09-10T21:00:00+0200',\n",
       " '2020-09-11T21:00:00+0200',\n",
       " '2020-09-12T17:00:00+0200',\n",
       " '2020-09-12T21:00:00+0200',\n",
       " '2020-09-13T13:00:00+0200',\n",
       " '2020-09-13T15:00:00+0200',\n",
       " '2020-09-13T15:00:00+0200',\n",
       " '2020-09-13T15:00:00+0200',\n",
       " '2020-09-13T15:00:00+0200',\n",
       " '2020-09-13T17:00:00+0200',\n",
       " '2020-09-13T21:00:00+0200',\n",
       " '2020-09-18T21:00:00+0200',\n",
       " '2020-09-19T17:00:00+0200',\n",
       " '2020-09-19T21:00:00+0200',\n",
       " '2020-09-20T13:00:00+0200',\n",
       " '2020-09-20T15:00:00+0200',\n",
       " '2020-09-20T15:00:00+0200',\n",
       " '2020-09-20T15:00:00+0200',\n",
       " '2020-09-20T15:00:00+0200',\n",
       " '2020-09-20T17:00:00+0200',\n",
       " '2020-09-20T21:00:00+0200',\n",
       " '2020-09-25T21:00:00+0200',\n",
       " '2020-09-26T17:00:00+0200',\n",
       " '2020-09-26T21:00:00+0200',\n",
       " '2020-09-27T13:00:00+0200',\n",
       " '2020-09-27T15:00:00+0200',\n",
       " '2020-09-27T15:00:00+0200',\n",
       " '2020-09-27T15:00:00+0200',\n",
       " '2020-09-27T15:00:00+0200',\n",
       " '2020-09-27T17:00:00+0200',\n",
       " '2020-09-27T21:00:00+0200',\n",
       " '2020-10-02T21:00:00+0200',\n",
       " '2020-10-03T17:00:00+0200',\n",
       " '2020-10-03T21:00:00+0200',\n",
       " '2020-10-04T13:00:00+0200',\n",
       " '2020-10-04T15:00:00+0200',\n",
       " '2020-10-04T15:00:00+0200',\n",
       " '2020-10-04T15:00:00+0200',\n",
       " '2020-10-04T15:00:00+0200',\n",
       " '2020-10-04T17:00:00+0200',\n",
       " '2020-10-04T21:00:00+0200',\n",
       " '2020-10-16T19:00:00+0200',\n",
       " '2020-10-16T21:00:00+0200',\n",
       " '2020-10-17T17:00:00+0200',\n",
       " '2020-10-17T21:00:00+0200',\n",
       " '2020-10-18T13:00:00+0200',\n",
       " '2020-10-18T15:00:00+0200',\n",
       " '2020-10-18T15:00:00+0200',\n",
       " '2020-10-18T15:00:00+0200',\n",
       " '2020-10-18T17:00:00+0200',\n",
       " '2020-10-18T21:00:00+0200',\n",
       " '2020-10-23T21:00:00+0200',\n",
       " '2020-10-24T17:00:00+0200',\n",
       " '2020-10-24T21:00:00+0200',\n",
       " '2020-10-25T15:00:00+0100',\n",
       " '2020-10-25T15:00:00+0100',\n",
       " '2020-10-25T15:00:00+0100',\n",
       " '2020-10-25T15:00:00+0100',\n",
       " '2020-10-25T17:00:00+0100',\n",
       " '2020-10-25T21:00:00+0100',\n",
       " '2020-11-25T19:00:00+0100',\n",
       " '2020-10-31T17:00:00+0100',\n",
       " '2020-10-31T21:00:00+0100',\n",
       " '2020-11-01T13:00:00+0100',\n",
       " '2020-11-01T15:00:00+0100',\n",
       " '2020-11-01T15:00:00+0100',\n",
       " '2020-11-01T15:00:00+0100',\n",
       " '2020-11-01T15:00:00+0100',\n",
       " '2020-11-01T17:00:00+0100',\n",
       " '2020-11-01T21:00:00+0100',\n",
       " '2021-01-20T21:00:00+0100',\n",
       " '2020-11-06T21:00:00+0100',\n",
       " '2020-11-07T17:00:00+0100',\n",
       " '2020-11-07T21:00:00+0100',\n",
       " '2020-11-08T13:00:00+0100',\n",
       " '2020-11-08T15:00:00+0100',\n",
       " '2020-11-08T15:00:00+0100',\n",
       " '2020-11-08T15:00:00+0100',\n",
       " '2020-11-08T15:00:00+0100',\n",
       " '2020-11-08T17:00:00+0100',\n",
       " '2020-11-08T21:00:00+0100',\n",
       " '2020-11-20T19:00:00+0100',\n",
       " '2020-11-20T21:00:00+0100',\n",
       " '2020-11-21T17:00:00+0100',\n",
       " '2020-11-22T13:00:00+0100',\n",
       " '2020-11-22T15:00:00+0100',\n",
       " '2020-11-22T15:00:00+0100',\n",
       " '2020-11-22T15:00:00+0100',\n",
       " '2020-11-22T17:00:00+0100',\n",
       " '2020-11-22T21:00:00+0100',\n",
       " '2021-02-17T21:00:00+0100',\n",
       " '2020-11-27T21:00:00+0100',\n",
       " '2020-11-28T17:00:00+0100',\n",
       " '2020-11-28T21:00:00+0100',\n",
       " '2020-11-29T13:00:00+0100',\n",
       " '2020-11-29T15:00:00+0100',\n",
       " '2020-11-29T15:00:00+0100',\n",
       " '2020-11-29T15:00:00+0100',\n",
       " '2020-11-29T15:00:00+0100',\n",
       " '2020-11-29T17:00:00+0100',\n",
       " '2020-11-29T21:00:00+0100',\n",
       " '2020-12-04T21:00:00+0100',\n",
       " '2020-12-05T17:00:00+0100',\n",
       " '2020-12-05T21:00:00+0100',\n",
       " '2020-12-06T13:00:00+0100',\n",
       " '2020-12-06T15:00:00+0100',\n",
       " '2020-12-06T15:00:00+0100',\n",
       " '2020-12-06T15:00:00+0100',\n",
       " '2020-12-06T15:00:00+0100',\n",
       " '2020-12-06T17:00:00+0100',\n",
       " '2020-12-06T21:00:00+0100',\n",
       " '2020-12-11T21:00:00+0100',\n",
       " '2020-12-12T17:00:00+0100',\n",
       " '2020-12-12T21:00:00+0100',\n",
       " '2020-12-13T13:00:00+0100',\n",
       " '2020-12-13T15:00:00+0100',\n",
       " '2020-12-13T15:00:00+0100',\n",
       " '2020-12-13T15:00:00+0100',\n",
       " '2020-12-13T15:00:00+0100',\n",
       " '2020-12-13T17:00:00+0100',\n",
       " '2020-12-13T21:00:00+0100',\n",
       " '2020-12-16T19:00:00+0100',\n",
       " '2020-12-16T19:00:00+0100',\n",
       " '2020-12-16T19:00:00+0100',\n",
       " '2020-12-16T19:00:00+0100',\n",
       " '2020-12-16T19:00:00+0100',\n",
       " '2020-12-16T21:00:00+0100',\n",
       " '2020-12-16T21:00:00+0100',\n",
       " '2020-12-16T21:00:00+0100',\n",
       " '2020-12-16T21:00:00+0100',\n",
       " '2020-12-16T21:00:00+0100',\n",
       " '2020-12-19T17:00:00+0100',\n",
       " '2020-12-19T19:00:00+0100',\n",
       " '2020-12-19T21:00:00+0100',\n",
       " '2020-12-20T13:00:00+0100',\n",
       " '2020-12-20T15:00:00+0100',\n",
       " '2020-12-20T15:00:00+0100',\n",
       " '2020-12-20T15:00:00+0100',\n",
       " '2020-12-20T15:00:00+0100',\n",
       " '2020-12-20T17:00:00+0100',\n",
       " '2020-12-20T21:00:00+0100',\n",
       " '2020-12-23T19:00:00+0100',\n",
       " '2020-12-23T19:00:00+0100',\n",
       " '2020-12-23T19:00:00+0100',\n",
       " '2020-12-23T19:00:00+0100',\n",
       " '2020-12-23T19:00:00+0100',\n",
       " '2020-12-23T21:00:00+0100',\n",
       " '2020-12-23T21:00:00+0100',\n",
       " '2020-12-23T21:00:00+0100',\n",
       " '2020-12-23T21:00:00+0100',\n",
       " '2020-12-23T21:00:00+0100',\n",
       " '2021-01-06T19:00:00+0100',\n",
       " '2021-01-06T19:00:00+0100',\n",
       " '2021-01-06T19:00:00+0100',\n",
       " '2021-01-06T19:00:00+0100',\n",
       " '2021-01-06T19:00:00+0100',\n",
       " '2021-01-06T21:00:00+0100',\n",
       " '2021-01-06T21:00:00+0100',\n",
       " '2021-01-06T21:00:00+0100',\n",
       " '2021-01-06T21:00:00+0100',\n",
       " '2021-01-06T21:00:00+0100',\n",
       " '2021-01-09T21:00:00+0100',\n",
       " '2021-01-09T21:00:00+0100',\n",
       " '2021-01-09T21:00:00+0100',\n",
       " '2021-01-09T21:00:00+0100',\n",
       " '2021-01-09T21:00:00+0100',\n",
       " '2021-01-09T21:00:00+0100',\n",
       " '2021-01-09T21:00:00+0100',\n",
       " '2021-01-09T21:00:00+0100',\n",
       " '2021-01-09T21:00:00+0100',\n",
       " '2021-01-09T21:00:00+0100',\n",
       " '2021-01-15T21:00:00+0100',\n",
       " '2021-01-16T17:00:00+0100',\n",
       " '2021-01-16T21:00:00+0100',\n",
       " '2021-01-17T13:00:00+0100',\n",
       " '2021-01-17T15:00:00+0100',\n",
       " '2021-01-17T15:00:00+0100',\n",
       " '2021-01-17T15:00:00+0100',\n",
       " '2021-01-17T17:00:00+0100',\n",
       " '2021-01-17T21:00:00+0100',\n",
       " '2021-01-27T21:00:00+0100',\n",
       " '2021-01-22T21:00:00+0100',\n",
       " '2021-01-23T17:00:00+0100',\n",
       " '2021-01-23T21:00:00+0100',\n",
       " '2021-01-24T13:00:00+0100',\n",
       " '2021-01-24T15:00:00+0100',\n",
       " '2021-01-24T15:00:00+0100',\n",
       " '2021-01-24T15:00:00+0100',\n",
       " '2021-01-24T17:00:00+0100',\n",
       " '2021-01-24T21:00:00+0100',\n",
       " '2021-02-24T19:00:00+0100',\n",
       " '2021-01-29T21:00:00+0100',\n",
       " '2021-01-30T17:00:00+0100',\n",
       " '2021-01-31T13:00:00+0100',\n",
       " '2021-01-31T15:00:00+0100',\n",
       " '2021-01-31T15:00:00+0100',\n",
       " '2021-01-31T15:00:00+0100',\n",
       " '2021-01-31T15:00:00+0100',\n",
       " '2021-01-31T17:00:00+0100',\n",
       " '2021-01-31T21:00:00+0100',\n",
       " '2021-03-10T19:00:00+0100',\n",
       " '2021-02-03T19:00:00+0100',\n",
       " '2021-02-03T19:00:00+0100',\n",
       " '2021-02-03T19:00:00+0100',\n",
       " '2021-02-03T19:00:00+0100',\n",
       " '2021-02-03T19:00:00+0100',\n",
       " '2021-02-03T21:00:00+0100',\n",
       " '2021-02-03T21:00:00+0100',\n",
       " '2021-02-03T21:00:00+0100',\n",
       " '2021-02-03T21:00:00+0100',\n",
       " '2021-02-03T21:00:00+0100',\n",
       " '2021-02-06T17:00:00+0100',\n",
       " '2021-02-06T19:00:00+0100',\n",
       " '2021-02-06T21:00:00+0100',\n",
       " '2021-02-07T13:00:00+0100',\n",
       " '2021-02-07T15:00:00+0100',\n",
       " '2021-02-07T15:00:00+0100',\n",
       " '2021-02-07T15:00:00+0100',\n",
       " '2021-02-07T15:00:00+0100',\n",
       " '2021-02-07T17:00:00+0100',\n",
       " '2021-02-07T21:00:00+0100',\n",
       " '2021-02-13T17:00:00+0100',\n",
       " '2021-02-13T19:00:00+0100',\n",
       " '2021-02-13T21:00:00+0100',\n",
       " '2021-02-14T13:00:00+0100',\n",
       " '2021-02-14T15:00:00+0100',\n",
       " '2021-02-14T15:00:00+0100',\n",
       " '2021-02-14T15:00:00+0100',\n",
       " '2021-02-14T15:00:00+0100',\n",
       " '2021-02-14T17:05:00+0100',\n",
       " '2021-02-14T21:00:00+0100',\n",
       " '2021-02-19T21:00:00+0100',\n",
       " '2021-02-20T13:00:00+0100',\n",
       " '2021-02-20T17:00:00+0100',\n",
       " '2021-02-21T13:00:00+0100',\n",
       " '2021-02-21T15:00:00+0100',\n",
       " '2021-02-21T15:00:00+0100',\n",
       " '2021-02-21T15:00:00+0100',\n",
       " '2021-02-21T15:00:00+0100',\n",
       " '2021-02-21T17:05:00+0100',\n",
       " '2021-02-21T21:00:00+0100',\n",
       " '2021-02-26T21:00:00+0100',\n",
       " '2021-02-27T13:00:00+0100',\n",
       " '2021-02-27T17:00:00+0100',\n",
       " '2021-02-28T13:00:00+0100',\n",
       " '2021-02-28T15:00:00+0100',\n",
       " '2021-02-28T15:00:00+0100',\n",
       " '2021-02-28T15:00:00+0100',\n",
       " '2021-02-28T15:00:00+0100',\n",
       " '2021-02-28T17:05:00+0100',\n",
       " '2021-02-28T21:00:00+0100',\n",
       " '2021-03-03T19:00:00+0100',\n",
       " '2021-03-03T19:00:00+0100',\n",
       " '2021-03-03T19:00:00+0100',\n",
       " '2021-03-03T19:00:00+0100',\n",
       " '2021-03-03T19:00:00+0100',\n",
       " '2021-03-03T21:00:00+0100',\n",
       " '2021-03-03T21:00:00+0100',\n",
       " '2021-03-03T21:00:00+0100',\n",
       " '2021-03-03T21:00:00+0100',\n",
       " '2021-03-03T21:00:00+0100',\n",
       " '2021-03-12T21:00:00+0100',\n",
       " '2021-03-13T13:00:00+0100',\n",
       " '2021-03-13T17:00:00+0100',\n",
       " '2021-03-14T13:00:00+0100',\n",
       " '2021-03-14T15:00:00+0100',\n",
       " '2021-03-14T15:00:00+0100',\n",
       " '2021-03-14T15:00:00+0100',\n",
       " '2021-03-14T15:00:00+0100',\n",
       " '2021-03-14T17:05:00+0100',\n",
       " '2021-03-14T21:00:00+0100',\n",
       " '2021-03-19T21:00:00+0100',\n",
       " '2021-03-20T13:00:00+0100',\n",
       " '2021-03-20T17:00:00+0100',\n",
       " '2021-03-21T13:00:00+0100',\n",
       " '2021-03-21T15:00:00+0100',\n",
       " '2021-03-21T15:00:00+0100',\n",
       " '2021-03-21T15:00:00+0100',\n",
       " '2021-03-21T15:00:00+0100',\n",
       " '2021-03-21T17:05:00+0100',\n",
       " '2021-03-21T21:00:00+0100',\n",
       " '2021-04-03T13:00:00+0200',\n",
       " '2021-04-03T17:00:00+0200',\n",
       " '2021-04-03T21:00:00+0200',\n",
       " '2021-04-04T13:00:00+0200',\n",
       " '2021-04-04T15:00:00+0200',\n",
       " '2021-04-04T15:00:00+0200',\n",
       " '2021-04-04T15:00:00+0200',\n",
       " '2021-04-04T15:00:00+0200',\n",
       " '2021-04-04T17:05:00+0200',\n",
       " '2021-04-04T21:00:00+0200',\n",
       " '2021-04-09T21:00:00+0200',\n",
       " '2021-04-10T17:00:00+0200',\n",
       " '2021-04-10T21:00:00+0200',\n",
       " '2021-04-11T13:00:00+0200',\n",
       " '2021-04-11T15:00:00+0200',\n",
       " '2021-04-11T15:00:00+0200',\n",
       " '2021-04-11T15:00:00+0200',\n",
       " '2021-04-11T15:00:00+0200',\n",
       " '2021-04-11T17:05:00+0200',\n",
       " '2021-04-11T21:00:00+0200',\n",
       " '2021-04-16T21:00:00+0200',\n",
       " '2021-04-17T12:45:00+0200',\n",
       " '2021-04-17T17:00:00+0200',\n",
       " '2021-04-18T13:00:00+0200',\n",
       " '2021-04-18T15:00:00+0200',\n",
       " '2021-04-18T15:00:00+0200',\n",
       " '2021-04-18T15:00:00+0200',\n",
       " '2021-04-18T15:00:00+0200',\n",
       " '2021-04-18T17:05:00+0200',\n",
       " '2021-04-18T21:00:00+0200',\n",
       " '2021-04-23T21:00:00+0200',\n",
       " '2021-04-24T13:00:00+0200',\n",
       " '2021-04-24T17:00:00+0200',\n",
       " '2021-04-25T13:00:00+0200',\n",
       " '2021-04-25T15:00:00+0200',\n",
       " '2021-04-25T15:00:00+0200',\n",
       " '2021-04-25T15:00:00+0200',\n",
       " '2021-04-25T15:00:00+0200',\n",
       " '2021-04-25T17:05:00+0200',\n",
       " '2021-04-25T21:00:00+0200',\n",
       " '2021-04-30T21:00:00+0200',\n",
       " '2021-05-01T17:00:00+0200',\n",
       " '2021-05-01T21:00:00+0200',\n",
       " '2021-05-02T13:00:00+0200',\n",
       " '2021-05-02T15:00:00+0200',\n",
       " '2021-05-02T15:00:00+0200',\n",
       " '2021-05-02T15:00:00+0200',\n",
       " '2021-05-02T15:00:00+0200',\n",
       " '2021-05-02T17:05:00+0200',\n",
       " '2021-05-02T21:00:00+0200',\n",
       " '2021-05-07T21:00:00+0200',\n",
       " '2021-05-08T13:00:00+0200',\n",
       " '2021-05-08T17:00:00+0200',\n",
       " '2021-05-09T13:00:00+0200',\n",
       " '2021-05-09T15:00:00+0200',\n",
       " '2021-05-09T15:00:00+0200',\n",
       " '2021-05-09T15:00:00+0200',\n",
       " '2021-05-09T15:00:00+0200',\n",
       " '2021-05-09T17:05:00+0200',\n",
       " '2021-05-09T21:00:00+0200',\n",
       " '2021-05-16T21:00:00+0200',\n",
       " '2021-05-16T21:00:00+0200',\n",
       " '2021-05-16T21:00:00+0200',\n",
       " '2021-05-16T21:00:00+0200',\n",
       " '2021-05-16T21:00:00+0200',\n",
       " '2021-05-16T21:00:00+0200',\n",
       " '2021-05-16T21:00:00+0200',\n",
       " '2021-05-16T21:00:00+0200',\n",
       " '2021-05-16T21:00:00+0200',\n",
       " '2021-05-16T21:00:00+0200',\n",
       " '2021-05-23T21:00:00+0200',\n",
       " '2021-05-23T21:00:00+0200',\n",
       " '2021-05-23T21:00:00+0200',\n",
       " '2021-05-23T21:00:00+0200',\n",
       " '2021-05-23T21:00:00+0200',\n",
       " '2021-05-23T21:00:00+0200',\n",
       " '2021-05-23T21:00:00+0200',\n",
       " '2021-05-23T21:00:00+0200',\n",
       " '2021-05-23T21:00:00+0200',\n",
       " '2021-05-23T21:00:00+0200']"
      ]
     },
     "execution_count": 9,
     "metadata": {},
     "output_type": "execute_result"
    }
   ],
   "source": [
    "date_list"
   ]
  },
  {
   "cell_type": "code",
   "execution_count": 10,
   "metadata": {
    "ExecuteTime": {
     "end_time": "2021-07-16T07:13:25.979095Z",
     "start_time": "2021-07-16T07:13:25.966486Z"
    }
   },
   "outputs": [
    {
     "data": {
      "text/plain": [
       "['https://www.lequipe.fr/Football/match-direct/ligue-1/2020-2021/bordeaux-nantes-live/477156',\n",
       " 'https://www.lequipe.fr/Football/match-direct/ligue-1/2020-2021/dijon-angers-live/477160',\n",
       " 'https://www.lequipe.fr/Football/match-direct/ligue-1/2020-2021/lille-rennes-live/477162',\n",
       " 'https://www.lequipe.fr/Football/match-direct/ligue-1/2020-2021/monaco-reims-live/477164',\n",
       " 'https://www.lequipe.fr/Football/match-direct/ligue-1/2020-2021/lorient-strasbourg-live/477157',\n",
       " 'https://www.lequipe.fr/Football/match-direct/ligue-1/2020-2021/nimes-brest-live/477158',\n",
       " 'https://www.lequipe.fr/Football/match-direct/ligue-1/2020-2021/nice-lens-live/477159',\n",
       " 'https://www.lequipe.fr/Football/match-direct/ligue-1/2020-2021/montpellier-ol-live/477155',\n",
       " 'https://www.lequipe.fr/Football/match-direct/ligue-1/2020-2021/psg-metz-live/477163',\n",
       " 'https://www.lequipe.fr/Football/match-direct/ligue-1/2020-2021/om-asse-live/477161',\n",
       " 'https://www.lequipe.fr/Football/match-direct/ligue-1/2020-2021/ol-dijon-live/477168',\n",
       " 'https://www.lequipe.fr/Football/match-direct/ligue-1/2020-2021/rennes-montpellier-live/477172',\n",
       " 'https://www.lequipe.fr/Football/match-direct/ligue-1/2020-2021/strasbourg-nice-live/477174',\n",
       " 'https://www.lequipe.fr/Football/match-direct/ligue-1/2020-2021/reims-lille-live/477171',\n",
       " 'https://www.lequipe.fr/Football/match-direct/ligue-1/2020-2021/nantes-nimes-live/477170',\n",
       " 'https://www.lequipe.fr/Football/match-direct/ligue-1/2020-2021/asse-lorient-live/477173',\n",
       " 'https://www.lequipe.fr/Football/match-direct/ligue-1/2020-2021/angers-bordeaux-live/477167',\n",
       " 'https://www.lequipe.fr/Football/match-direct/ligue-1/2020-2021/metz-monaco-live/477169',\n",
       " 'https://www.lequipe.fr/Football/match-direct/ligue-1/2020-2021/brest-om-live/477166',\n",
       " 'https://www.lequipe.fr/Football/match-direct/ligue-1/2020-2021/lens-psg-live/477165',\n",
       " 'https://www.lequipe.fr/Football/match-direct/ligue-1/2020-2021/bordeaux-ol-live/477177',\n",
       " 'https://www.lequipe.fr/Football/match-direct/ligue-1/2020-2021/montpellier-nice-live/477182',\n",
       " 'https://www.lequipe.fr/Football/match-direct/ligue-1/2020-2021/asse-strasbourg-live/477184',\n",
       " 'https://www.lequipe.fr/Football/match-direct/ligue-1/2020-2021/lille-metz-live/477179',\n",
       " 'https://www.lequipe.fr/Football/match-direct/ligue-1/2020-2021/nimes-rennes-live/477183',\n",
       " 'https://www.lequipe.fr/Football/match-direct/ligue-1/2020-2021/lorient-lens-live/477180',\n",
       " 'https://www.lequipe.fr/Football/match-direct/ligue-1/2020-2021/angers-reims-live/477176',\n",
       " 'https://www.lequipe.fr/Football/match-direct/ligue-1/2020-2021/dijon-brest-live/477178',\n",
       " 'https://www.lequipe.fr/Football/match-direct/ligue-1/2020-2021/monaco-nantes-live/477181',\n",
       " 'https://www.lequipe.fr/Football/match-direct/ligue-1/2020-2021/psg-om-live/477175',\n",
       " 'https://www.lequipe.fr/Football/match-direct/ligue-1/2020-2021/ol-nimes-live/477188',\n",
       " 'https://www.lequipe.fr/Football/match-direct/ligue-1/2020-2021/lens-bordeaux-live/477187',\n",
       " 'https://www.lequipe.fr/Football/match-direct/ligue-1/2020-2021/rennes-monaco-live/477193',\n",
       " 'https://www.lequipe.fr/Football/match-direct/ligue-1/2020-2021/nice-psg-live/477185',\n",
       " 'https://www.lequipe.fr/Football/match-direct/ligue-1/2020-2021/montpellier-angers-live/477191',\n",
       " 'https://www.lequipe.fr/Football/match-direct/ligue-1/2020-2021/brest-lorient-live/477186',\n",
       " 'https://www.lequipe.fr/Football/match-direct/ligue-1/2020-2021/metz-reims-live/477190',\n",
       " 'https://www.lequipe.fr/Football/match-direct/ligue-1/2020-2021/strasbourg-dijon-live/477194',\n",
       " 'https://www.lequipe.fr/Football/match-direct/ligue-1/2020-2021/nantes-asse-live/477192',\n",
       " 'https://www.lequipe.fr/Football/match-direct/ligue-1/2020-2021/om-lille-live/477189',\n",
       " 'https://www.lequipe.fr/Football/match-direct/ligue-1/2020-2021/lille-nantes-live/477199',\n",
       " 'https://www.lequipe.fr/Football/match-direct/ligue-1/2020-2021/asse-rennes-live/477204',\n",
       " 'https://www.lequipe.fr/Football/match-direct/ligue-1/2020-2021/om-metz-live/477201',\n",
       " 'https://www.lequipe.fr/Football/match-direct/ligue-1/2020-2021/bordeaux-nice-live/477197',\n",
       " 'https://www.lequipe.fr/Football/match-direct/ligue-1/2020-2021/dijon-montpellier-live/477198',\n",
       " 'https://www.lequipe.fr/Football/match-direct/ligue-1/2020-2021/nimes-lens-live/477203',\n",
       " 'https://www.lequipe.fr/Football/match-direct/ligue-1/2020-2021/monaco-strasbourg-live/477202',\n",
       " 'https://www.lequipe.fr/Football/match-direct/ligue-1/2020-2021/angers-brest-live/477196',\n",
       " 'https://www.lequipe.fr/Football/match-direct/ligue-1/2020-2021/lorient-ol-live/477200',\n",
       " 'https://www.lequipe.fr/Football/match-direct/ligue-1/2020-2021/reims-psg-live/477195',\n",
       " 'https://www.lequipe.fr/Football/match-direct/ligue-1/2020-2021/psg-angers-live/477205',\n",
       " 'https://www.lequipe.fr/Football/match-direct/ligue-1/2020-2021/lens-asse-live/477208',\n",
       " 'https://www.lequipe.fr/Football/match-direct/ligue-1/2020-2021/nice-nantes-live/477212',\n",
       " 'https://www.lequipe.fr/Football/match-direct/ligue-1/2020-2021/montpellier-nimes-live/477211',\n",
       " 'https://www.lequipe.fr/Football/match-direct/ligue-1/2020-2021/strasbourg-lille-live/477214',\n",
       " 'https://www.lequipe.fr/Football/match-direct/ligue-1/2020-2021/brest-monaco-live/477207',\n",
       " 'https://www.lequipe.fr/Football/match-direct/ligue-1/2020-2021/bordeaux-dijon-live/477206',\n",
       " 'https://www.lequipe.fr/Football/match-direct/ligue-1/2020-2021/metz-lorient-live/477210',\n",
       " 'https://www.lequipe.fr/Football/match-direct/ligue-1/2020-2021/rennes-reims-live/477213',\n",
       " 'https://www.lequipe.fr/Football/match-direct/ligue-1/2020-2021/ol-om-live/477209',\n",
       " 'https://www.lequipe.fr/Football/match-direct/ligue-1/2020-2021/dijon-rennes-live/477218',\n",
       " 'https://www.lequipe.fr/Football/match-direct/ligue-1/2020-2021/nimes-psg-live/477215',\n",
       " 'https://www.lequipe.fr/Football/match-direct/ligue-1/2020-2021/reims-lorient-live/477222',\n",
       " 'https://www.lequipe.fr/Football/match-direct/ligue-1/2020-2021/om-bordeaux-live/477220',\n",
       " 'https://www.lequipe.fr/Football/match-direct/ligue-1/2020-2021/strasbourg-ol-live/477224',\n",
       " 'https://www.lequipe.fr/Football/match-direct/ligue-1/2020-2021/monaco-montpellier-live/477219',\n",
       " 'https://www.lequipe.fr/Football/match-direct/ligue-1/2020-2021/nantes-brest-live/477221',\n",
       " 'https://www.lequipe.fr/Football/match-direct/ligue-1/2020-2021/angers-metz-live/477216',\n",
       " 'https://www.lequipe.fr/Football/match-direct/ligue-1/2020-2021/asse-nice-live/477223',\n",
       " 'https://www.lequipe.fr/Football/match-direct/ligue-1/2020-2021/lille-lens-live/477217',\n",
       " 'https://www.lequipe.fr/Football/match-direct/ligue-1/2020-2021/rennes-angers-live/477234',\n",
       " 'https://www.lequipe.fr/Football/match-direct/ligue-1/2020-2021/lorient-om-live/477229',\n",
       " 'https://www.lequipe.fr/Football/match-direct/ligue-1/2020-2021/psg-dijon-live/477225',\n",
       " 'https://www.lequipe.fr/Football/match-direct/ligue-1/2020-2021/montpellier-reims-live/477232',\n",
       " 'https://www.lequipe.fr/Football/match-direct/ligue-1/2020-2021/metz-asse-live/477231',\n",
       " 'https://www.lequipe.fr/Football/match-direct/ligue-1/2020-2021/bordeaux-nimes-live/477226',\n",
       " 'https://www.lequipe.fr/Football/match-direct/ligue-1/2020-2021/brest-strasbourg-live/477227',\n",
       " 'https://www.lequipe.fr/Football/match-direct/ligue-1/2020-2021/nice-lille-live/477233',\n",
       " 'https://www.lequipe.fr/Football/match-direct/ligue-1/2020-2021/ol-monaco-live/477230',\n",
       " 'https://www.lequipe.fr/Football/match-direct/ligue-1/2020-2021/lens-nantes-live/477228',\n",
       " 'https://www.lequipe.fr/Football/match-direct/ligue-1/2020-2021/rennes-brest-live/477243',\n",
       " 'https://www.lequipe.fr/Football/match-direct/ligue-1/2020-2021/nantes-psg-live/477235',\n",
       " 'https://www.lequipe.fr/Football/match-direct/ligue-1/2020-2021/asse-montpellier-live/477244',\n",
       " 'https://www.lequipe.fr/Football/match-direct/ligue-1/2020-2021/angers-nice-live/477236',\n",
       " 'https://www.lequipe.fr/Football/match-direct/ligue-1/2020-2021/nimes-metz-live/477241',\n",
       " 'https://www.lequipe.fr/Football/match-direct/ligue-1/2020-2021/dijon-lorient-live/477237',\n",
       " 'https://www.lequipe.fr/Football/match-direct/ligue-1/2020-2021/reims-strasbourg-live/477242',\n",
       " 'https://www.lequipe.fr/Football/match-direct/ligue-1/2020-2021/monaco-bordeaux-live/477240',\n",
       " 'https://www.lequipe.fr/Football/match-direct/ligue-1/2020-2021/lille-ol-live/477238',\n",
       " 'https://www.lequipe.fr/Football/match-direct/ligue-1/2020-2021/om-lens-live/477239',\n",
       " 'https://www.lequipe.fr/Football/match-direct/ligue-1/2020-2021/strasbourg-om-live/477254',\n",
       " 'https://www.lequipe.fr/Football/match-direct/ligue-1/2020-2021/bordeaux-montpellier-live/477246',\n",
       " 'https://www.lequipe.fr/Football/match-direct/ligue-1/2020-2021/psg-rennes-live/477245',\n",
       " 'https://www.lequipe.fr/Football/match-direct/ligue-1/2020-2021/brest-lille-live/477247',\n",
       " 'https://www.lequipe.fr/Football/match-direct/ligue-1/2020-2021/lens-reims-live/477248',\n",
       " 'https://www.lequipe.fr/Football/match-direct/ligue-1/2020-2021/metz-dijon-live/477251',\n",
       " 'https://www.lequipe.fr/Football/match-direct/ligue-1/2020-2021/nimes-angers-live/477253',\n",
       " 'https://www.lequipe.fr/Football/match-direct/ligue-1/2020-2021/lorient-nantes-live/477249',\n",
       " 'https://www.lequipe.fr/Football/match-direct/ligue-1/2020-2021/nice-monaco-live/477252',\n",
       " 'https://www.lequipe.fr/Football/match-direct/ligue-1/2020-2021/ol-asse-live/477250',\n",
       " 'https://www.lequipe.fr/Football/match-direct/ligue-1/2020-2021/rennes-bordeaux-live/477264',\n",
       " 'https://www.lequipe.fr/Football/match-direct/ligue-1/2020-2021/monaco-psg-live/477255',\n",
       " 'https://www.lequipe.fr/Football/match-direct/ligue-1/2020-2021/brest-asse-live/477257',\n",
       " 'https://www.lequipe.fr/Football/match-direct/ligue-1/2020-2021/nantes-metz-live/477262',\n",
       " 'https://www.lequipe.fr/Football/match-direct/ligue-1/2020-2021/montpellier-strasbourg-live/477261',\n",
       " 'https://www.lequipe.fr/Football/match-direct/ligue-1/2020-2021/dijon-lens-live/477258',\n",
       " 'https://www.lequipe.fr/Football/match-direct/ligue-1/2020-2021/reims-nimes-live/477263',\n",
       " 'https://www.lequipe.fr/Football/match-direct/ligue-1/2020-2021/angers-ol-live/477256',\n",
       " 'https://www.lequipe.fr/Football/match-direct/ligue-1/2020-2021/lille-lorient-live/477259',\n",
       " 'https://www.lequipe.fr/Football/match-direct/ligue-1/2020-2021/om-nice-live/477260',\n",
       " 'https://www.lequipe.fr/Football/match-direct/ligue-1/2020-2021/strasbourg-rennes-live/477274',\n",
       " 'https://www.lequipe.fr/Football/match-direct/ligue-1/2020-2021/om-nantes-live/477269',\n",
       " 'https://www.lequipe.fr/Football/match-direct/ligue-1/2020-2021/psg-bordeaux-live/477265',\n",
       " 'https://www.lequipe.fr/Football/match-direct/ligue-1/2020-2021/ol-reims-live/477268',\n",
       " 'https://www.lequipe.fr/Football/match-direct/ligue-1/2020-2021/lens-angers-live/477266',\n",
       " 'https://www.lequipe.fr/Football/match-direct/ligue-1/2020-2021/lorient-montpellier-live/477267',\n",
       " 'https://www.lequipe.fr/Football/match-direct/ligue-1/2020-2021/monaco-nimes-live/477271',\n",
       " 'https://www.lequipe.fr/Football/match-direct/ligue-1/2020-2021/metz-brest-live/477270',\n",
       " 'https://www.lequipe.fr/Football/match-direct/ligue-1/2020-2021/nice-dijon-live/477272',\n",
       " 'https://www.lequipe.fr/Football/match-direct/ligue-1/2020-2021/asse-lille-live/477273',\n",
       " 'https://www.lequipe.fr/Football/match-direct/ligue-1/2020-2021/nimes-om-live/477281',\n",
       " 'https://www.lequipe.fr/Football/match-direct/ligue-1/2020-2021/rennes-lens-live/477283',\n",
       " 'https://www.lequipe.fr/Football/match-direct/ligue-1/2020-2021/montpellier-psg-live/477275',\n",
       " 'https://www.lequipe.fr/Football/match-direct/ligue-1/2020-2021/lille-monaco-live/477278',\n",
       " 'https://www.lequipe.fr/Football/match-direct/ligue-1/2020-2021/angers-lorient-live/477276',\n",
       " 'https://www.lequipe.fr/Football/match-direct/ligue-1/2020-2021/bordeaux-brest-live/477284',\n",
       " 'https://www.lequipe.fr/Football/match-direct/ligue-1/2020-2021/nantes-strasbourg-live/477280',\n",
       " 'https://www.lequipe.fr/Football/match-direct/ligue-1/2020-2021/dijon-asse-live/477277',\n",
       " 'https://www.lequipe.fr/Football/match-direct/ligue-1/2020-2021/reims-nice-live/477282',\n",
       " 'https://www.lequipe.fr/Football/match-direct/ligue-1/2020-2021/metz-ol-live/477279',\n",
       " 'https://www.lequipe.fr/Football/match-direct/ligue-1/2020-2021/asse-angers-live/477293',\n",
       " 'https://www.lequipe.fr/Football/match-direct/ligue-1/2020-2021/om-monaco-live/477289',\n",
       " 'https://www.lequipe.fr/Football/match-direct/ligue-1/2020-2021/lens-montpellier-live/477286',\n",
       " 'https://www.lequipe.fr/Football/match-direct/ligue-1/2020-2021/nice-rennes-live/477291',\n",
       " 'https://www.lequipe.fr/Football/match-direct/ligue-1/2020-2021/brest-reims-live/477285',\n",
       " 'https://www.lequipe.fr/Football/match-direct/ligue-1/2020-2021/strasbourg-metz-live/477294',\n",
       " 'https://www.lequipe.fr/Football/match-direct/ligue-1/2020-2021/nantes-dijon-live/477290',\n",
       " 'https://www.lequipe.fr/Football/match-direct/ligue-1/2020-2021/lorient-nimes-live/477288',\n",
       " 'https://www.lequipe.fr/Football/match-direct/ligue-1/2020-2021/lille-bordeaux-live/477287',\n",
       " 'https://www.lequipe.fr/Football/match-direct/ligue-1/2020-2021/psg-ol-live/477292',\n",
       " 'https://www.lequipe.fr/Football/match-direct/ligue-1/2020-2021/dijon-lille-live/477297',\n",
       " 'https://www.lequipe.fr/Football/match-direct/ligue-1/2020-2021/montpellier-metz-live/477300',\n",
       " 'https://www.lequipe.fr/Football/match-direct/ligue-1/2020-2021/angers-strasbourg-live/477295',\n",
       " 'https://www.lequipe.fr/Football/match-direct/ligue-1/2020-2021/nimes-nice-live/477301',\n",
       " 'https://www.lequipe.fr/Football/match-direct/ligue-1/2020-2021/reims-nantes-live/477303',\n",
       " 'https://www.lequipe.fr/Football/match-direct/ligue-1/2020-2021/ol-brest-live/477298',\n",
       " 'https://www.lequipe.fr/Football/match-direct/ligue-1/2020-2021/psg-lorient-live/477302',\n",
       " 'https://www.lequipe.fr/Football/match-direct/ligue-1/2020-2021/rennes-om-live/477304',\n",
       " 'https://www.lequipe.fr/Football/match-direct/ligue-1/2020-2021/monaco-lens-live/477299',\n",
       " 'https://www.lequipe.fr/Football/match-direct/ligue-1/2020-2021/bordeaux-asse-live/477296',\n",
       " 'https://www.lequipe.fr/Football/match-direct/ligue-1/2020-2021/metz-lens-live/477310',\n",
       " 'https://www.lequipe.fr/Football/match-direct/ligue-1/2020-2021/om-reims-live/477309',\n",
       " 'https://www.lequipe.fr/Football/match-direct/ligue-1/2020-2021/nice-ol-live/477312',\n",
       " 'https://www.lequipe.fr/Football/match-direct/ligue-1/2020-2021/brest-montpellier-live/477305',\n",
       " 'https://www.lequipe.fr/Football/match-direct/ligue-1/2020-2021/dijon-monaco-live/477306',\n",
       " 'https://www.lequipe.fr/Football/match-direct/ligue-1/2020-2021/nantes-angers-live/477311',\n",
       " 'https://www.lequipe.fr/Football/match-direct/ligue-1/2020-2021/strasbourg-bordeaux-live/477314',\n",
       " 'https://www.lequipe.fr/Football/match-direct/ligue-1/2020-2021/asse-nimes-live/477313',\n",
       " 'https://www.lequipe.fr/Football/match-direct/ligue-1/2020-2021/lorient-rennes-live/477308',\n",
       " 'https://www.lequipe.fr/Football/match-direct/ligue-1/2020-2021/lille-psg-live/477307',\n",
       " 'https://www.lequipe.fr/Football/match-direct/ligue-1/2020-2021/rennes-metz-live/477324',\n",
       " 'https://www.lequipe.fr/Football/match-direct/ligue-1/2020-2021/lens-brest-live/477317',\n",
       " 'https://www.lequipe.fr/Football/match-direct/ligue-1/2020-2021/bordeaux-reims-live/477316',\n",
       " 'https://www.lequipe.fr/Football/match-direct/ligue-1/2020-2021/nice-lorient-live/477321',\n",
       " 'https://www.lequipe.fr/Football/match-direct/ligue-1/2020-2021/nimes-dijon-live/477322',\n",
       " 'https://www.lequipe.fr/Football/match-direct/ligue-1/2020-2021/montpellier-lille-live/477320',\n",
       " 'https://www.lequipe.fr/Football/match-direct/ligue-1/2020-2021/ol-nantes-live/477318',\n",
       " 'https://www.lequipe.fr/Football/match-direct/ligue-1/2020-2021/psg-strasbourg-live/477323',\n",
       " 'https://www.lequipe.fr/Football/match-direct/ligue-1/2020-2021/angers-om-live/477315',\n",
       " 'https://www.lequipe.fr/Football/match-direct/ligue-1/2020-2021/monaco-asse-live/477319',\n",
       " 'https://www.lequipe.fr/Football/match-direct/ligue-1/2020-2021/nantes-rennes-live/477331',\n",
       " 'https://www.lequipe.fr/Football/match-direct/ligue-1/2020-2021/lorient-monaco-live/477327',\n",
       " 'https://www.lequipe.fr/Football/match-direct/ligue-1/2020-2021/metz-bordeaux-live/477330',\n",
       " 'https://www.lequipe.fr/Football/match-direct/ligue-1/2020-2021/brest-nice-live/477325',\n",
       " 'https://www.lequipe.fr/Football/match-direct/ligue-1/2020-2021/strasbourg-nimes-live/477334',\n",
       " 'https://www.lequipe.fr/Football/match-direct/ligue-1/2020-2021/ol-lens-live/477328',\n",
       " 'https://www.lequipe.fr/Football/match-direct/ligue-1/2020-2021/lille-angers-live/477326',\n",
       " 'https://www.lequipe.fr/Football/match-direct/ligue-1/2020-2021/asse-psg-live/477333',\n",
       " 'https://www.lequipe.fr/Football/match-direct/ligue-1/2020-2021/om-montpellier-live/477329',\n",
       " 'https://www.lequipe.fr/Football/match-direct/ligue-1/2020-2021/reims-dijon-live/477332',\n",
       " 'https://www.lequipe.fr/Football/match-direct/ligue-1/2020-2021/rennes-ol-live/477344',\n",
       " 'https://www.lequipe.fr/Football/match-direct/ligue-1/2020-2021/psg-brest-live/477342',\n",
       " 'https://www.lequipe.fr/Football/match-direct/ligue-1/2020-2021/nimes-lille-live/477341',\n",
       " 'https://www.lequipe.fr/Football/match-direct/ligue-1/2020-2021/dijon-om-live/477336',\n",
       " 'https://www.lequipe.fr/Football/match-direct/ligue-1/2020-2021/monaco-angers-live/477339',\n",
       " 'https://www.lequipe.fr/Football/match-direct/ligue-1/2020-2021/lens-strasbourg-live/477337',\n",
       " 'https://www.lequipe.fr/Football/match-direct/ligue-1/2020-2021/montpellier-nantes-live/477340',\n",
       " 'https://www.lequipe.fr/Football/match-direct/ligue-1/2020-2021/metz-nice-live/477338',\n",
       " 'https://www.lequipe.fr/Football/match-direct/ligue-1/2020-2021/bordeaux-lorient-live/477335',\n",
       " 'https://www.lequipe.fr/Football/match-direct/ligue-1/2020-2021/reims-asse-live/477343',\n",
       " 'https://www.lequipe.fr/Football/match-direct/ligue-1/2020-2021/montpellier-monaco-live/477351',\n",
       " 'https://www.lequipe.fr/Football/match-direct/ligue-1/2020-2021/om-nimes-live/477350',\n",
       " 'https://www.lequipe.fr/Football/match-direct/ligue-1/2020-2021/angers-psg-live/477345',\n",
       " 'https://www.lequipe.fr/Football/match-direct/ligue-1/2020-2021/brest-rennes-live/477346',\n",
       " 'https://www.lequipe.fr/Football/match-direct/ligue-1/2020-2021/nantes-lens-live/477352',\n",
       " 'https://www.lequipe.fr/Football/match-direct/ligue-1/2020-2021/nice-bordeaux-live/477353',\n",
       " 'https://www.lequipe.fr/Football/match-direct/ligue-1/2020-2021/strasbourg-asse-live/477354',\n",
       " 'https://www.lequipe.fr/Football/match-direct/ligue-1/2020-2021/lille-reims-live/477347',\n",
       " 'https://www.lequipe.fr/Football/match-direct/ligue-1/2020-2021/ol-metz-live/477349',\n",
       " 'https://www.lequipe.fr/Football/match-direct/ligue-1/2020-2021/lorient-dijon-live/477348',\n",
       " 'https://www.lequipe.fr/Football/match-direct/ligue-1/2020-2021/psg-montpellier-live/477361',\n",
       " 'https://www.lequipe.fr/Football/match-direct/ligue-1/2020-2021/lens-nice-live/477357',\n",
       " 'https://www.lequipe.fr/Football/match-direct/ligue-1/2020-2021/monaco-om-live/477359',\n",
       " 'https://www.lequipe.fr/Football/match-direct/ligue-1/2020-2021/bordeaux-angers-live/477355',\n",
       " 'https://www.lequipe.fr/Football/match-direct/ligue-1/2020-2021/metz-nantes-live/477358',\n",
       " 'https://www.lequipe.fr/Football/match-direct/ligue-1/2020-2021/reims-brest-live/477362',\n",
       " 'https://www.lequipe.fr/Football/match-direct/ligue-1/2020-2021/dijon-strasbourg-live/477356',\n",
       " 'https://www.lequipe.fr/Football/match-direct/ligue-1/2020-2021/rennes-lille-live/477363',\n",
       " 'https://www.lequipe.fr/Football/match-direct/ligue-1/2020-2021/asse-ol-live/477364',\n",
       " 'https://www.lequipe.fr/Football/match-direct/ligue-1/2020-2021/nimes-lorient-live/477360',\n",
       " 'https://www.lequipe.fr/Football/match-direct/ligue-1/2020-2021/ol-bordeaux-live/477369',\n",
       " 'https://www.lequipe.fr/Football/match-direct/ligue-1/2020-2021/montpellier-lens-live/477371',\n",
       " 'https://www.lequipe.fr/Football/match-direct/ligue-1/2020-2021/nice-asse-live/477373',\n",
       " 'https://www.lequipe.fr/Football/match-direct/ligue-1/2020-2021/lorient-psg-live/477368',\n",
       " 'https://www.lequipe.fr/Football/match-direct/ligue-1/2020-2021/brest-metz-live/477366',\n",
       " 'https://www.lequipe.fr/Football/match-direct/ligue-1/2020-2021/angers-nimes-live/477365',\n",
       " 'https://www.lequipe.fr/Football/match-direct/ligue-1/2020-2021/strasbourg-reims-live/477374',\n",
       " 'https://www.lequipe.fr/Football/match-direct/ligue-1/2020-2021/lille-dijon-live/477367',\n",
       " 'https://www.lequipe.fr/Football/match-direct/ligue-1/2020-2021/nantes-monaco-live/477372',\n",
       " 'https://www.lequipe.fr/Football/match-direct/ligue-1/2020-2021/om-rennes-live/477370',\n",
       " 'https://www.lequipe.fr/Football/match-direct/ligue-1/2020-2021/bordeaux-lille-live/477375',\n",
       " 'https://www.lequipe.fr/Football/match-direct/ligue-1/2020-2021/rennes-lorient-live/477382',\n",
       " 'https://www.lequipe.fr/Football/match-direct/ligue-1/2020-2021/metz-montpellier-live/477378',\n",
       " 'https://www.lequipe.fr/Football/match-direct/ligue-1/2020-2021/reims-angers-live/477381',\n",
       " 'https://www.lequipe.fr/Football/match-direct/ligue-1/2020-2021/strasbourg-brest-live/477384',\n",
       " 'https://www.lequipe.fr/Football/match-direct/ligue-1/2020-2021/dijon-ol-live/477376',\n",
       " 'https://www.lequipe.fr/Football/match-direct/ligue-1/2020-2021/psg-nimes-live/477380',\n",
       " 'https://www.lequipe.fr/Football/match-direct/ligue-1/2020-2021/monaco-nice-live/477379',\n",
       " 'https://www.lequipe.fr/Football/match-direct/ligue-1/2020-2021/lens-om-live/477377',\n",
       " 'https://www.lequipe.fr/Football/match-direct/ligue-1/2020-2021/asse-nantes-live/477383',\n",
       " 'https://www.lequipe.fr/Football/match-direct/ligue-1/2020-2021/lorient-reims-live/477387',\n",
       " 'https://www.lequipe.fr/Football/match-direct/ligue-1/2020-2021/ol-strasbourg-live/477388',\n",
       " 'https://www.lequipe.fr/Football/match-direct/ligue-1/2020-2021/lens-rennes-live/477386',\n",
       " 'https://www.lequipe.fr/Football/match-direct/ligue-1/2020-2021/brest-bordeaux-live/477385',\n",
       " 'https://www.lequipe.fr/Football/match-direct/ligue-1/2020-2021/nimes-monaco-live/477393',\n",
       " 'https://www.lequipe.fr/Football/match-direct/ligue-1/2020-2021/asse-metz-live/477394',\n",
       " 'https://www.lequipe.fr/Football/match-direct/ligue-1/2020-2021/nice-angers-live/477392',\n",
       " 'https://www.lequipe.fr/Football/match-direct/ligue-1/2020-2021/montpellier-dijon-live/477390',\n",
       " 'https://www.lequipe.fr/Football/match-direct/ligue-1/2020-2021/nantes-lille-live/477391',\n",
       " 'https://www.lequipe.fr/Football/match-direct/ligue-1/2020-2021/om-psg-live/477389',\n",
       " 'https://www.lequipe.fr/Football/match-direct/ligue-1/2020-2021/psg-nice-live/477402',\n",
       " 'https://www.lequipe.fr/Football/match-direct/ligue-1/2020-2021/reims-lens-live/477403',\n",
       " 'https://www.lequipe.fr/Football/match-direct/ligue-1/2020-2021/ol-montpellier-live/477399',\n",
       " 'https://www.lequipe.fr/Football/match-direct/ligue-1/2020-2021/monaco-lorient-live/477401',\n",
       " 'https://www.lequipe.fr/Football/match-direct/ligue-1/2020-2021/rennes-asse-live/477404',\n",
       " 'https://www.lequipe.fr/Football/match-direct/ligue-1/2020-2021/metz-strasbourg-live/477400',\n",
       " 'https://www.lequipe.fr/Football/match-direct/ligue-1/2020-2021/angers-nantes-live/477395',\n",
       " 'https://www.lequipe.fr/Football/match-direct/ligue-1/2020-2021/dijon-nimes-live/477397',\n",
       " 'https://www.lequipe.fr/Football/match-direct/ligue-1/2020-2021/lille-brest-live/477398',\n",
       " 'https://www.lequipe.fr/Football/match-direct/ligue-1/2020-2021/bordeaux-om-live/477396',\n",
       " 'https://www.lequipe.fr/Football/match-direct/ligue-1/2020-2021/brest-ol-live/477405',\n",
       " 'https://www.lequipe.fr/Football/match-direct/ligue-1/2020-2021/asse-reims-live/477413',\n",
       " 'https://www.lequipe.fr/Football/match-direct/ligue-1/2020-2021/nantes-om-live/477409',\n",
       " 'https://www.lequipe.fr/Football/match-direct/ligue-1/2020-2021/montpellier-rennes-live/477408',\n",
       " 'https://www.lequipe.fr/Football/match-direct/ligue-1/2020-2021/lens-dijon-live/477406',\n",
       " 'https://www.lequipe.fr/Football/match-direct/ligue-1/2020-2021/nice-metz-live/477410',\n",
       " 'https://www.lequipe.fr/Football/match-direct/ligue-1/2020-2021/strasbourg-angers-live/477414',\n",
       " 'https://www.lequipe.fr/Football/match-direct/ligue-1/2020-2021/nimes-bordeaux-live/477411',\n",
       " 'https://www.lequipe.fr/Football/match-direct/ligue-1/2020-2021/lorient-lille-live/477407',\n",
       " 'https://www.lequipe.fr/Football/match-direct/ligue-1/2020-2021/psg-monaco-live/477412',\n",
       " 'https://www.lequipe.fr/Football/match-direct/ligue-1/2020-2021/rennes-nice-live/477424',\n",
       " 'https://www.lequipe.fr/Football/match-direct/ligue-1/2020-2021/bordeaux-metz-live/477416',\n",
       " 'https://www.lequipe.fr/Football/match-direct/ligue-1/2020-2021/dijon-psg-live/477417',\n",
       " 'https://www.lequipe.fr/Football/match-direct/ligue-1/2020-2021/monaco-brest-live/477421',\n",
       " 'https://www.lequipe.fr/Football/match-direct/ligue-1/2020-2021/angers-lens-live/477415',\n",
       " 'https://www.lequipe.fr/Football/match-direct/ligue-1/2020-2021/reims-montpellier-live/477423',\n",
       " 'https://www.lequipe.fr/Football/match-direct/ligue-1/2020-2021/lorient-asse-live/477419',\n",
       " 'https://www.lequipe.fr/Football/match-direct/ligue-1/2020-2021/nimes-nantes-live/477422',\n",
       " 'https://www.lequipe.fr/Football/match-direct/ligue-1/2020-2021/lille-strasbourg-live/477418',\n",
       " 'https://www.lequipe.fr/Football/match-direct/ligue-1/2020-2021/om-ol-live/477420',\n",
       " 'https://www.lequipe.fr/Football/match-direct/ligue-1/2020-2021/ol-rennes-live/477428',\n",
       " 'https://www.lequipe.fr/Football/match-direct/ligue-1/2020-2021/metz-angers-live/477429',\n",
       " 'https://www.lequipe.fr/Football/match-direct/ligue-1/2020-2021/asse-lens-live/477433',\n",
       " 'https://www.lequipe.fr/Football/match-direct/ligue-1/2020-2021/nice-nimes-live/477432',\n",
       " 'https://www.lequipe.fr/Football/match-direct/ligue-1/2020-2021/brest-dijon-live/477426',\n",
       " 'https://www.lequipe.fr/Football/match-direct/ligue-1/2020-2021/lille-om-live/477427',\n",
       " 'https://www.lequipe.fr/Football/match-direct/ligue-1/2020-2021/bordeaux-psg-live/477425',\n",
       " 'https://www.lequipe.fr/Football/match-direct/ligue-1/2020-2021/strasbourg-monaco-live/477434',\n",
       " 'https://www.lequipe.fr/Football/match-direct/ligue-1/2020-2021/montpellier-lorient-live/477430',\n",
       " 'https://www.lequipe.fr/Football/match-direct/ligue-1/2020-2021/nantes-reims-live/477431',\n",
       " 'https://www.lequipe.fr/Football/match-direct/ligue-1/2020-2021/reims-ol-live/477443',\n",
       " 'https://www.lequipe.fr/Football/match-direct/ligue-1/2020-2021/angers-asse-live/477435',\n",
       " 'https://www.lequipe.fr/Football/match-direct/ligue-1/2020-2021/om-brest-live/477439',\n",
       " 'https://www.lequipe.fr/Football/match-direct/ligue-1/2020-2021/nimes-montpellier-live/477441',\n",
       " 'https://www.lequipe.fr/Football/match-direct/ligue-1/2020-2021/lens-metz-live/477437',\n",
       " 'https://www.lequipe.fr/Football/match-direct/ligue-1/2020-2021/rennes-strasbourg-live/477444',\n",
       " 'https://www.lequipe.fr/Football/match-direct/ligue-1/2020-2021/lorient-nice-live/477438',\n",
       " 'https://www.lequipe.fr/Football/match-direct/ligue-1/2020-2021/dijon-bordeaux-live/477436',\n",
       " 'https://www.lequipe.fr/Football/match-direct/ligue-1/2020-2021/monaco-lille-live/477440',\n",
       " 'https://www.lequipe.fr/Football/match-direct/ligue-1/2020-2021/psg-nantes-live/477442',\n",
       " 'https://www.lequipe.fr/Football/match-direct/ligue-1/2020-2021/asse-monaco-live/477453',\n",
       " 'https://www.lequipe.fr/Football/match-direct/ligue-1/2020-2021/metz-rennes-live/477449',\n",
       " 'https://www.lequipe.fr/Football/match-direct/ligue-1/2020-2021/nice-om-live/477452',\n",
       " 'https://www.lequipe.fr/Football/match-direct/ligue-1/2020-2021/strasbourg-lens-live/477454',\n",
       " 'https://www.lequipe.fr/Football/match-direct/ligue-1/2020-2021/montpellier-bordeaux-live/477450',\n",
       " 'https://www.lequipe.fr/Football/match-direct/ligue-1/2020-2021/brest-angers-live/477445',\n",
       " 'https://www.lequipe.fr/Football/match-direct/ligue-1/2020-2021/dijon-reims-live/477446',\n",
       " 'https://www.lequipe.fr/Football/match-direct/ligue-1/2020-2021/nantes-lorient-live/477451',\n",
       " 'https://www.lequipe.fr/Football/match-direct/ligue-1/2020-2021/lille-nimes-live/477447',\n",
       " 'https://www.lequipe.fr/Football/match-direct/ligue-1/2020-2021/ol-psg-live/477448',\n",
       " 'https://www.lequipe.fr/Football/match-direct/ligue-1/2020-2021/monaco-metz-live/477460',\n",
       " 'https://www.lequipe.fr/Football/match-direct/ligue-1/2020-2021/psg-lille-live/477463',\n",
       " 'https://www.lequipe.fr/Football/match-direct/ligue-1/2020-2021/lens-ol-live/477457',\n",
       " 'https://www.lequipe.fr/Football/match-direct/ligue-1/2020-2021/angers-montpellier-live/477455',\n",
       " 'https://www.lequipe.fr/Football/match-direct/ligue-1/2020-2021/reims-rennes-live/477464',\n",
       " 'https://www.lequipe.fr/Football/match-direct/ligue-1/2020-2021/nantes-nice-live/477461',\n",
       " 'https://www.lequipe.fr/Football/match-direct/ligue-1/2020-2021/bordeaux-strasbourg-live/477456',\n",
       " 'https://www.lequipe.fr/Football/match-direct/ligue-1/2020-2021/lorient-brest-live/477458',\n",
       " 'https://www.lequipe.fr/Football/match-direct/ligue-1/2020-2021/nimes-asse-live/477462',\n",
       " 'https://www.lequipe.fr/Football/match-direct/ligue-1/2020-2021/om-dijon-live/477459',\n",
       " 'https://www.lequipe.fr/Football/match-direct/ligue-1/2020-2021/metz-lille-live/477468',\n",
       " 'https://www.lequipe.fr/Football/match-direct/ligue-1/2020-2021/strasbourg-psg-live/477474',\n",
       " 'https://www.lequipe.fr/Football/match-direct/ligue-1/2020-2021/montpellier-om-live/477470',\n",
       " 'https://www.lequipe.fr/Football/match-direct/ligue-1/2020-2021/rennes-nantes-live/477472',\n",
       " 'https://www.lequipe.fr/Football/match-direct/ligue-1/2020-2021/lens-lorient-live/477466',\n",
       " 'https://www.lequipe.fr/Football/match-direct/ligue-1/2020-2021/nice-reims-live/477471',\n",
       " 'https://www.lequipe.fr/Football/match-direct/ligue-1/2020-2021/asse-bordeaux-live/477473',\n",
       " 'https://www.lequipe.fr/Football/match-direct/ligue-1/2020-2021/brest-nimes-live/477465',\n",
       " 'https://www.lequipe.fr/Football/match-direct/ligue-1/2020-2021/monaco-dijon-live/477469',\n",
       " 'https://www.lequipe.fr/Football/match-direct/ligue-1/2020-2021/ol-angers-live/477467',\n",
       " 'https://www.lequipe.fr/Football/match-direct/ligue-1/2020-2021/lille-montpellier-live/477479',\n",
       " 'https://www.lequipe.fr/Football/match-direct/ligue-1/2020-2021/angers-rennes-live/477475',\n",
       " 'https://www.lequipe.fr/Football/match-direct/ligue-1/2020-2021/om-lorient-live/477480',\n",
       " 'https://www.lequipe.fr/Football/match-direct/ligue-1/2020-2021/psg-asse-live/477483',\n",
       " 'https://www.lequipe.fr/Football/match-direct/ligue-1/2020-2021/brest-lens-live/477477',\n",
       " 'https://www.lequipe.fr/Football/match-direct/ligue-1/2020-2021/dijon-nice-live/477478',\n",
       " 'https://www.lequipe.fr/Football/match-direct/ligue-1/2020-2021/reims-metz-live/477484',\n",
       " 'https://www.lequipe.fr/Football/match-direct/ligue-1/2020-2021/nimes-strasbourg-live/477482',\n",
       " 'https://www.lequipe.fr/Football/match-direct/ligue-1/2020-2021/bordeaux-monaco-live/477476',\n",
       " 'https://www.lequipe.fr/Football/match-direct/ligue-1/2020-2021/nantes-ol-live/477481',\n",
       " 'https://www.lequipe.fr/Football/match-direct/ligue-1/2020-2021/reims-om-live/477491',\n",
       " 'https://www.lequipe.fr/Football/match-direct/ligue-1/2020-2021/asse-brest-live/477493',\n",
       " 'https://www.lequipe.fr/Football/match-direct/ligue-1/2020-2021/metz-psg-live/477489',\n",
       " 'https://www.lequipe.fr/Football/match-direct/ligue-1/2020-2021/nice-montpellier-live/477490',\n",
       " 'https://www.lequipe.fr/Football/match-direct/ligue-1/2020-2021/lens-nimes-live/477486',\n",
       " 'https://www.lequipe.fr/Football/match-direct/ligue-1/2020-2021/rennes-dijon-live/477492',\n",
       " 'https://www.lequipe.fr/Football/match-direct/ligue-1/2020-2021/strasbourg-nantes-live/477494',\n",
       " 'https://www.lequipe.fr/Football/match-direct/ligue-1/2020-2021/lorient-bordeaux-live/477487',\n",
       " 'https://www.lequipe.fr/Football/match-direct/ligue-1/2020-2021/angers-monaco-live/477485',\n",
       " 'https://www.lequipe.fr/Football/match-direct/ligue-1/2020-2021/ol-lille-live/477488',\n",
       " 'https://www.lequipe.fr/Football/match-direct/ligue-1/2020-2021/om-strasbourg-live/477500',\n",
       " 'https://www.lequipe.fr/Football/match-direct/ligue-1/2020-2021/psg-lens-live/477504',\n",
       " 'https://www.lequipe.fr/Football/match-direct/ligue-1/2020-2021/lille-nice-live/477498',\n",
       " 'https://www.lequipe.fr/Football/match-direct/ligue-1/2020-2021/bordeaux-rennes-live/477495',\n",
       " 'https://www.lequipe.fr/Football/match-direct/ligue-1/2020-2021/dijon-metz-live/477497',\n",
       " 'https://www.lequipe.fr/Football/match-direct/ligue-1/2020-2021/nimes-reims-live/477503',\n",
       " 'https://www.lequipe.fr/Football/match-direct/ligue-1/2020-2021/lorient-angers-live/477499',\n",
       " 'https://www.lequipe.fr/Football/match-direct/ligue-1/2020-2021/brest-nantes-live/477496',\n",
       " 'https://www.lequipe.fr/Football/match-direct/ligue-1/2020-2021/montpellier-asse-live/477502',\n",
       " 'https://www.lequipe.fr/Football/match-direct/ligue-1/2020-2021/monaco-ol-live/477501',\n",
       " 'https://www.lequipe.fr/Football/match-direct/ligue-1/2020-2021/lens-lille-live/477506',\n",
       " 'https://www.lequipe.fr/Football/match-direct/ligue-1/2020-2021/nantes-bordeaux-live/477509',\n",
       " 'https://www.lequipe.fr/Football/match-direct/ligue-1/2020-2021/ol-lorient-live/477507',\n",
       " 'https://www.lequipe.fr/Football/match-direct/ligue-1/2020-2021/asse-om-live/477513',\n",
       " 'https://www.lequipe.fr/Football/match-direct/ligue-1/2020-2021/strasbourg-montpellier-live/477514',\n",
       " 'https://www.lequipe.fr/Football/match-direct/ligue-1/2020-2021/metz-nimes-live/477508',\n",
       " 'https://www.lequipe.fr/Football/match-direct/ligue-1/2020-2021/nice-brest-live/477510',\n",
       " 'https://www.lequipe.fr/Football/match-direct/ligue-1/2020-2021/angers-dijon-live/477505',\n",
       " 'https://www.lequipe.fr/Football/match-direct/ligue-1/2020-2021/reims-monaco-live/477511',\n",
       " 'https://www.lequipe.fr/Football/match-direct/ligue-1/2020-2021/rennes-psg-live/477512',\n",
       " 'https://www.lequipe.fr/Football/match-direct/ligue-1/2020-2021/lille-asse-live/477517',\n",
       " 'https://www.lequipe.fr/Football/match-direct/ligue-1/2020-2021/psg-reims-live/477524',\n",
       " 'https://www.lequipe.fr/Football/match-direct/ligue-1/2020-2021/monaco-rennes-live/477520',\n",
       " 'https://www.lequipe.fr/Football/match-direct/ligue-1/2020-2021/nimes-ol-live/477523',\n",
       " 'https://www.lequipe.fr/Football/match-direct/ligue-1/2020-2021/om-angers-live/477519',\n",
       " 'https://www.lequipe.fr/Football/match-direct/ligue-1/2020-2021/bordeaux-lens-live/477515',\n",
       " 'https://www.lequipe.fr/Football/match-direct/ligue-1/2020-2021/montpellier-brest-live/477521',\n",
       " 'https://www.lequipe.fr/Football/match-direct/ligue-1/2020-2021/nice-strasbourg-live/477522',\n",
       " 'https://www.lequipe.fr/Football/match-direct/ligue-1/2020-2021/lorient-metz-live/477518',\n",
       " 'https://www.lequipe.fr/Football/match-direct/ligue-1/2020-2021/dijon-nantes-live/477516',\n",
       " 'https://www.lequipe.fr/Football/match-direct/ligue-1/2020-2021/angers-lille-live/477525',\n",
       " 'https://www.lequipe.fr/Football/match-direct/ligue-1/2020-2021/brest-psg-live/477526',\n",
       " 'https://www.lequipe.fr/Football/match-direct/ligue-1/2020-2021/lens-monaco-live/477527',\n",
       " 'https://www.lequipe.fr/Football/match-direct/ligue-1/2020-2021/ol-nice-live/477528',\n",
       " 'https://www.lequipe.fr/Football/match-direct/ligue-1/2020-2021/metz-om-live/477529',\n",
       " 'https://www.lequipe.fr/Football/match-direct/ligue-1/2020-2021/rennes-nimes-live/477532',\n",
       " 'https://www.lequipe.fr/Football/match-direct/ligue-1/2020-2021/nantes-montpellier-live/477530',\n",
       " 'https://www.lequipe.fr/Football/match-direct/ligue-1/2020-2021/asse-dijon-live/477533',\n",
       " 'https://www.lequipe.fr/Football/match-direct/ligue-1/2020-2021/reims-bordeaux-live/477531',\n",
       " 'https://www.lequipe.fr/Football/match-direct/ligue-1/2020-2021/strasbourg-lorient-live/477534']"
      ]
     },
     "execution_count": 10,
     "metadata": {},
     "output_type": "execute_result"
    }
   ],
   "source": [
    "match_links"
   ]
  },
  {
   "cell_type": "code",
   "execution_count": 11,
   "metadata": {
    "ExecuteTime": {
     "end_time": "2021-07-16T07:13:25.990778Z",
     "start_time": "2021-07-16T07:13:25.983657Z"
    }
   },
   "outputs": [
    {
     "data": {
      "text/plain": [
       "[]"
      ]
     },
     "execution_count": 11,
     "metadata": {},
     "output_type": "execute_result"
    }
   ],
   "source": [
    "buteurs"
   ]
  },
  {
   "cell_type": "code",
   "execution_count": 12,
   "metadata": {
    "ExecuteTime": {
     "end_time": "2021-07-16T07:13:26.001901Z",
     "start_time": "2021-07-16T07:13:25.995760Z"
    }
   },
   "outputs": [],
   "source": [
    "goals_name = []"
   ]
  },
  {
   "cell_type": "code",
   "execution_count": 13,
   "metadata": {
    "ExecuteTime": {
     "end_time": "2021-07-16T07:13:26.020419Z",
     "start_time": "2021-07-16T07:13:26.012674Z"
    }
   },
   "outputs": [
    {
     "data": {
      "text/plain": [
       "[]"
      ]
     },
     "execution_count": 13,
     "metadata": {},
     "output_type": "execute_result"
    }
   ],
   "source": [
    "goals_name"
   ]
  },
  {
   "cell_type": "code",
   "execution_count": null,
   "metadata": {},
   "outputs": [],
   "source": []
  },
  {
   "cell_type": "code",
   "execution_count": 14,
   "metadata": {
    "ExecuteTime": {
     "end_time": "2021-07-16T07:13:27.175973Z",
     "start_time": "2021-07-16T07:13:26.024715Z"
    }
   },
   "outputs": [
    {
     "ename": "KeyboardInterrupt",
     "evalue": "",
     "output_type": "error",
     "traceback": [
      "\u001b[0;31m---------------------------------------------------------------------------\u001b[0m",
      "\u001b[0;31mKeyboardInterrupt\u001b[0m                         Traceback (most recent call last)",
      "\u001b[0;32m<ipython-input-14-46508654bbb3>\u001b[0m in \u001b[0;36m<module>\u001b[0;34m\u001b[0m\n\u001b[1;32m      1\u001b[0m \u001b[0;32mfor\u001b[0m \u001b[0mlink\u001b[0m \u001b[0;32min\u001b[0m \u001b[0mmatch_links\u001b[0m\u001b[0;34m:\u001b[0m\u001b[0;34m\u001b[0m\u001b[0;34m\u001b[0m\u001b[0m\n\u001b[0;32m----> 2\u001b[0;31m     \u001b[0mresponse_goal\u001b[0m \u001b[0;34m=\u001b[0m \u001b[0mrequests\u001b[0m\u001b[0;34m.\u001b[0m\u001b[0mget\u001b[0m\u001b[0;34m(\u001b[0m\u001b[0mlink\u001b[0m\u001b[0;34m)\u001b[0m\u001b[0;34m\u001b[0m\u001b[0;34m\u001b[0m\u001b[0m\n\u001b[0m\u001b[1;32m      3\u001b[0m     \u001b[0mhtml_parsed_goal\u001b[0m \u001b[0;34m=\u001b[0m \u001b[0mBeautifulSoup\u001b[0m\u001b[0;34m(\u001b[0m\u001b[0mresponse_goal\u001b[0m\u001b[0;34m.\u001b[0m\u001b[0mtext\u001b[0m\u001b[0;34m,\u001b[0m \u001b[0;34m'html.parser'\u001b[0m\u001b[0;34m)\u001b[0m\u001b[0;34m\u001b[0m\u001b[0;34m\u001b[0m\u001b[0m\n\u001b[1;32m      4\u001b[0m     \u001b[0mhtml\u001b[0m \u001b[0;34m=\u001b[0m \u001b[0mhtml_parsed_goal\u001b[0m\u001b[0;34m.\u001b[0m\u001b[0mfind\u001b[0m\u001b[0;34m(\u001b[0m\u001b[0mclass_\u001b[0m\u001b[0;34m=\u001b[0m\u001b[0;34m'container__main'\u001b[0m\u001b[0;34m)\u001b[0m\u001b[0;34m\u001b[0m\u001b[0;34m\u001b[0m\u001b[0m\n\u001b[1;32m      5\u001b[0m     \u001b[0mgoals\u001b[0m \u001b[0;34m=\u001b[0m \u001b[0mhtml\u001b[0m\u001b[0;34m.\u001b[0m\u001b[0mfind_all\u001b[0m\u001b[0;34m(\u001b[0m\u001b[0mclass_\u001b[0m\u001b[0;34m=\u001b[0m\u001b[0;34m\"grid__content Scoreboard__goalList\"\u001b[0m\u001b[0;34m)\u001b[0m\u001b[0;34m\u001b[0m\u001b[0;34m\u001b[0m\u001b[0m\n",
      "\u001b[0;32m~/opt/anaconda3/lib/python3.8/site-packages/requests/api.py\u001b[0m in \u001b[0;36mget\u001b[0;34m(url, params, **kwargs)\u001b[0m\n\u001b[1;32m     74\u001b[0m \u001b[0;34m\u001b[0m\u001b[0m\n\u001b[1;32m     75\u001b[0m     \u001b[0mkwargs\u001b[0m\u001b[0;34m.\u001b[0m\u001b[0msetdefault\u001b[0m\u001b[0;34m(\u001b[0m\u001b[0;34m'allow_redirects'\u001b[0m\u001b[0;34m,\u001b[0m \u001b[0;32mTrue\u001b[0m\u001b[0;34m)\u001b[0m\u001b[0;34m\u001b[0m\u001b[0;34m\u001b[0m\u001b[0m\n\u001b[0;32m---> 76\u001b[0;31m     \u001b[0;32mreturn\u001b[0m \u001b[0mrequest\u001b[0m\u001b[0;34m(\u001b[0m\u001b[0;34m'get'\u001b[0m\u001b[0;34m,\u001b[0m \u001b[0murl\u001b[0m\u001b[0;34m,\u001b[0m \u001b[0mparams\u001b[0m\u001b[0;34m=\u001b[0m\u001b[0mparams\u001b[0m\u001b[0;34m,\u001b[0m \u001b[0;34m**\u001b[0m\u001b[0mkwargs\u001b[0m\u001b[0;34m)\u001b[0m\u001b[0;34m\u001b[0m\u001b[0;34m\u001b[0m\u001b[0m\n\u001b[0m\u001b[1;32m     77\u001b[0m \u001b[0;34m\u001b[0m\u001b[0m\n\u001b[1;32m     78\u001b[0m \u001b[0;34m\u001b[0m\u001b[0m\n",
      "\u001b[0;32m~/opt/anaconda3/lib/python3.8/site-packages/requests/api.py\u001b[0m in \u001b[0;36mrequest\u001b[0;34m(method, url, **kwargs)\u001b[0m\n\u001b[1;32m     59\u001b[0m     \u001b[0;31m# cases, and look like a memory leak in others.\u001b[0m\u001b[0;34m\u001b[0m\u001b[0;34m\u001b[0m\u001b[0;34m\u001b[0m\u001b[0m\n\u001b[1;32m     60\u001b[0m     \u001b[0;32mwith\u001b[0m \u001b[0msessions\u001b[0m\u001b[0;34m.\u001b[0m\u001b[0mSession\u001b[0m\u001b[0;34m(\u001b[0m\u001b[0;34m)\u001b[0m \u001b[0;32mas\u001b[0m \u001b[0msession\u001b[0m\u001b[0;34m:\u001b[0m\u001b[0;34m\u001b[0m\u001b[0;34m\u001b[0m\u001b[0m\n\u001b[0;32m---> 61\u001b[0;31m         \u001b[0;32mreturn\u001b[0m \u001b[0msession\u001b[0m\u001b[0;34m.\u001b[0m\u001b[0mrequest\u001b[0m\u001b[0;34m(\u001b[0m\u001b[0mmethod\u001b[0m\u001b[0;34m=\u001b[0m\u001b[0mmethod\u001b[0m\u001b[0;34m,\u001b[0m \u001b[0murl\u001b[0m\u001b[0;34m=\u001b[0m\u001b[0murl\u001b[0m\u001b[0;34m,\u001b[0m \u001b[0;34m**\u001b[0m\u001b[0mkwargs\u001b[0m\u001b[0;34m)\u001b[0m\u001b[0;34m\u001b[0m\u001b[0;34m\u001b[0m\u001b[0m\n\u001b[0m\u001b[1;32m     62\u001b[0m \u001b[0;34m\u001b[0m\u001b[0m\n\u001b[1;32m     63\u001b[0m \u001b[0;34m\u001b[0m\u001b[0m\n",
      "\u001b[0;32m~/opt/anaconda3/lib/python3.8/site-packages/requests/sessions.py\u001b[0m in \u001b[0;36mrequest\u001b[0;34m(self, method, url, params, data, headers, cookies, files, auth, timeout, allow_redirects, proxies, hooks, stream, verify, cert, json)\u001b[0m\n\u001b[1;32m    528\u001b[0m         }\n\u001b[1;32m    529\u001b[0m         \u001b[0msend_kwargs\u001b[0m\u001b[0;34m.\u001b[0m\u001b[0mupdate\u001b[0m\u001b[0;34m(\u001b[0m\u001b[0msettings\u001b[0m\u001b[0;34m)\u001b[0m\u001b[0;34m\u001b[0m\u001b[0;34m\u001b[0m\u001b[0m\n\u001b[0;32m--> 530\u001b[0;31m         \u001b[0mresp\u001b[0m \u001b[0;34m=\u001b[0m \u001b[0mself\u001b[0m\u001b[0;34m.\u001b[0m\u001b[0msend\u001b[0m\u001b[0;34m(\u001b[0m\u001b[0mprep\u001b[0m\u001b[0;34m,\u001b[0m \u001b[0;34m**\u001b[0m\u001b[0msend_kwargs\u001b[0m\u001b[0;34m)\u001b[0m\u001b[0;34m\u001b[0m\u001b[0;34m\u001b[0m\u001b[0m\n\u001b[0m\u001b[1;32m    531\u001b[0m \u001b[0;34m\u001b[0m\u001b[0m\n\u001b[1;32m    532\u001b[0m         \u001b[0;32mreturn\u001b[0m \u001b[0mresp\u001b[0m\u001b[0;34m\u001b[0m\u001b[0;34m\u001b[0m\u001b[0m\n",
      "\u001b[0;32m~/opt/anaconda3/lib/python3.8/site-packages/requests/sessions.py\u001b[0m in \u001b[0;36msend\u001b[0;34m(self, request, **kwargs)\u001b[0m\n\u001b[1;32m    641\u001b[0m \u001b[0;34m\u001b[0m\u001b[0m\n\u001b[1;32m    642\u001b[0m         \u001b[0;31m# Send the request\u001b[0m\u001b[0;34m\u001b[0m\u001b[0;34m\u001b[0m\u001b[0;34m\u001b[0m\u001b[0m\n\u001b[0;32m--> 643\u001b[0;31m         \u001b[0mr\u001b[0m \u001b[0;34m=\u001b[0m \u001b[0madapter\u001b[0m\u001b[0;34m.\u001b[0m\u001b[0msend\u001b[0m\u001b[0;34m(\u001b[0m\u001b[0mrequest\u001b[0m\u001b[0;34m,\u001b[0m \u001b[0;34m**\u001b[0m\u001b[0mkwargs\u001b[0m\u001b[0;34m)\u001b[0m\u001b[0;34m\u001b[0m\u001b[0;34m\u001b[0m\u001b[0m\n\u001b[0m\u001b[1;32m    644\u001b[0m \u001b[0;34m\u001b[0m\u001b[0m\n\u001b[1;32m    645\u001b[0m         \u001b[0;31m# Total elapsed time of the request (approximately)\u001b[0m\u001b[0;34m\u001b[0m\u001b[0;34m\u001b[0m\u001b[0;34m\u001b[0m\u001b[0m\n",
      "\u001b[0;32m~/opt/anaconda3/lib/python3.8/site-packages/requests/adapters.py\u001b[0m in \u001b[0;36msend\u001b[0;34m(self, request, stream, timeout, verify, cert, proxies)\u001b[0m\n\u001b[1;32m    437\u001b[0m         \u001b[0;32mtry\u001b[0m\u001b[0;34m:\u001b[0m\u001b[0;34m\u001b[0m\u001b[0;34m\u001b[0m\u001b[0m\n\u001b[1;32m    438\u001b[0m             \u001b[0;32mif\u001b[0m \u001b[0;32mnot\u001b[0m \u001b[0mchunked\u001b[0m\u001b[0;34m:\u001b[0m\u001b[0;34m\u001b[0m\u001b[0;34m\u001b[0m\u001b[0m\n\u001b[0;32m--> 439\u001b[0;31m                 resp = conn.urlopen(\n\u001b[0m\u001b[1;32m    440\u001b[0m                     \u001b[0mmethod\u001b[0m\u001b[0;34m=\u001b[0m\u001b[0mrequest\u001b[0m\u001b[0;34m.\u001b[0m\u001b[0mmethod\u001b[0m\u001b[0;34m,\u001b[0m\u001b[0;34m\u001b[0m\u001b[0;34m\u001b[0m\u001b[0m\n\u001b[1;32m    441\u001b[0m                     \u001b[0murl\u001b[0m\u001b[0;34m=\u001b[0m\u001b[0murl\u001b[0m\u001b[0;34m,\u001b[0m\u001b[0;34m\u001b[0m\u001b[0;34m\u001b[0m\u001b[0m\n",
      "\u001b[0;32m~/opt/anaconda3/lib/python3.8/site-packages/urllib3/connectionpool.py\u001b[0m in \u001b[0;36murlopen\u001b[0;34m(self, method, url, body, headers, retries, redirect, assert_same_host, timeout, pool_timeout, release_conn, chunked, body_pos, **response_kw)\u001b[0m\n\u001b[1;32m    668\u001b[0m \u001b[0;34m\u001b[0m\u001b[0m\n\u001b[1;32m    669\u001b[0m             \u001b[0;31m# Make the request on the httplib connection object.\u001b[0m\u001b[0;34m\u001b[0m\u001b[0;34m\u001b[0m\u001b[0;34m\u001b[0m\u001b[0m\n\u001b[0;32m--> 670\u001b[0;31m             httplib_response = self._make_request(\n\u001b[0m\u001b[1;32m    671\u001b[0m                 \u001b[0mconn\u001b[0m\u001b[0;34m,\u001b[0m\u001b[0;34m\u001b[0m\u001b[0;34m\u001b[0m\u001b[0m\n\u001b[1;32m    672\u001b[0m                 \u001b[0mmethod\u001b[0m\u001b[0;34m,\u001b[0m\u001b[0;34m\u001b[0m\u001b[0;34m\u001b[0m\u001b[0m\n",
      "\u001b[0;32m~/opt/anaconda3/lib/python3.8/site-packages/urllib3/connectionpool.py\u001b[0m in \u001b[0;36m_make_request\u001b[0;34m(self, conn, method, url, timeout, chunked, **httplib_request_kw)\u001b[0m\n\u001b[1;32m    379\u001b[0m         \u001b[0;31m# Trigger any extra validation we need to do.\u001b[0m\u001b[0;34m\u001b[0m\u001b[0;34m\u001b[0m\u001b[0;34m\u001b[0m\u001b[0m\n\u001b[1;32m    380\u001b[0m         \u001b[0;32mtry\u001b[0m\u001b[0;34m:\u001b[0m\u001b[0;34m\u001b[0m\u001b[0;34m\u001b[0m\u001b[0m\n\u001b[0;32m--> 381\u001b[0;31m             \u001b[0mself\u001b[0m\u001b[0;34m.\u001b[0m\u001b[0m_validate_conn\u001b[0m\u001b[0;34m(\u001b[0m\u001b[0mconn\u001b[0m\u001b[0;34m)\u001b[0m\u001b[0;34m\u001b[0m\u001b[0;34m\u001b[0m\u001b[0m\n\u001b[0m\u001b[1;32m    382\u001b[0m         \u001b[0;32mexcept\u001b[0m \u001b[0;34m(\u001b[0m\u001b[0mSocketTimeout\u001b[0m\u001b[0;34m,\u001b[0m \u001b[0mBaseSSLError\u001b[0m\u001b[0;34m)\u001b[0m \u001b[0;32mas\u001b[0m \u001b[0me\u001b[0m\u001b[0;34m:\u001b[0m\u001b[0;34m\u001b[0m\u001b[0;34m\u001b[0m\u001b[0m\n\u001b[1;32m    383\u001b[0m             \u001b[0;31m# Py2 raises this as a BaseSSLError, Py3 raises it as socket timeout.\u001b[0m\u001b[0;34m\u001b[0m\u001b[0;34m\u001b[0m\u001b[0;34m\u001b[0m\u001b[0m\n",
      "\u001b[0;32m~/opt/anaconda3/lib/python3.8/site-packages/urllib3/connectionpool.py\u001b[0m in \u001b[0;36m_validate_conn\u001b[0;34m(self, conn)\u001b[0m\n\u001b[1;32m    976\u001b[0m         \u001b[0;31m# Force connect early to allow us to validate the connection.\u001b[0m\u001b[0;34m\u001b[0m\u001b[0;34m\u001b[0m\u001b[0;34m\u001b[0m\u001b[0m\n\u001b[1;32m    977\u001b[0m         \u001b[0;32mif\u001b[0m \u001b[0;32mnot\u001b[0m \u001b[0mgetattr\u001b[0m\u001b[0;34m(\u001b[0m\u001b[0mconn\u001b[0m\u001b[0;34m,\u001b[0m \u001b[0;34m\"sock\"\u001b[0m\u001b[0;34m,\u001b[0m \u001b[0;32mNone\u001b[0m\u001b[0;34m)\u001b[0m\u001b[0;34m:\u001b[0m  \u001b[0;31m# AppEngine might not have  `.sock`\u001b[0m\u001b[0;34m\u001b[0m\u001b[0;34m\u001b[0m\u001b[0m\n\u001b[0;32m--> 978\u001b[0;31m             \u001b[0mconn\u001b[0m\u001b[0;34m.\u001b[0m\u001b[0mconnect\u001b[0m\u001b[0;34m(\u001b[0m\u001b[0;34m)\u001b[0m\u001b[0;34m\u001b[0m\u001b[0;34m\u001b[0m\u001b[0m\n\u001b[0m\u001b[1;32m    979\u001b[0m \u001b[0;34m\u001b[0m\u001b[0m\n\u001b[1;32m    980\u001b[0m         \u001b[0;32mif\u001b[0m \u001b[0;32mnot\u001b[0m \u001b[0mconn\u001b[0m\u001b[0;34m.\u001b[0m\u001b[0mis_verified\u001b[0m\u001b[0;34m:\u001b[0m\u001b[0;34m\u001b[0m\u001b[0;34m\u001b[0m\u001b[0m\n",
      "\u001b[0;32m~/opt/anaconda3/lib/python3.8/site-packages/urllib3/connection.py\u001b[0m in \u001b[0;36mconnect\u001b[0;34m(self)\u001b[0m\n\u001b[1;32m    307\u001b[0m     \u001b[0;32mdef\u001b[0m \u001b[0mconnect\u001b[0m\u001b[0;34m(\u001b[0m\u001b[0mself\u001b[0m\u001b[0;34m)\u001b[0m\u001b[0;34m:\u001b[0m\u001b[0;34m\u001b[0m\u001b[0;34m\u001b[0m\u001b[0m\n\u001b[1;32m    308\u001b[0m         \u001b[0;31m# Add certificate verification\u001b[0m\u001b[0;34m\u001b[0m\u001b[0;34m\u001b[0m\u001b[0;34m\u001b[0m\u001b[0m\n\u001b[0;32m--> 309\u001b[0;31m         \u001b[0mconn\u001b[0m \u001b[0;34m=\u001b[0m \u001b[0mself\u001b[0m\u001b[0;34m.\u001b[0m\u001b[0m_new_conn\u001b[0m\u001b[0;34m(\u001b[0m\u001b[0;34m)\u001b[0m\u001b[0;34m\u001b[0m\u001b[0;34m\u001b[0m\u001b[0m\n\u001b[0m\u001b[1;32m    310\u001b[0m         \u001b[0mhostname\u001b[0m \u001b[0;34m=\u001b[0m \u001b[0mself\u001b[0m\u001b[0;34m.\u001b[0m\u001b[0mhost\u001b[0m\u001b[0;34m\u001b[0m\u001b[0;34m\u001b[0m\u001b[0m\n\u001b[1;32m    311\u001b[0m \u001b[0;34m\u001b[0m\u001b[0m\n",
      "\u001b[0;32m~/opt/anaconda3/lib/python3.8/site-packages/urllib3/connection.py\u001b[0m in \u001b[0;36m_new_conn\u001b[0;34m(self)\u001b[0m\n\u001b[1;32m    157\u001b[0m \u001b[0;34m\u001b[0m\u001b[0m\n\u001b[1;32m    158\u001b[0m         \u001b[0;32mtry\u001b[0m\u001b[0;34m:\u001b[0m\u001b[0;34m\u001b[0m\u001b[0;34m\u001b[0m\u001b[0m\n\u001b[0;32m--> 159\u001b[0;31m             conn = connection.create_connection(\n\u001b[0m\u001b[1;32m    160\u001b[0m                 \u001b[0;34m(\u001b[0m\u001b[0mself\u001b[0m\u001b[0;34m.\u001b[0m\u001b[0m_dns_host\u001b[0m\u001b[0;34m,\u001b[0m \u001b[0mself\u001b[0m\u001b[0;34m.\u001b[0m\u001b[0mport\u001b[0m\u001b[0;34m)\u001b[0m\u001b[0;34m,\u001b[0m \u001b[0mself\u001b[0m\u001b[0;34m.\u001b[0m\u001b[0mtimeout\u001b[0m\u001b[0;34m,\u001b[0m \u001b[0;34m**\u001b[0m\u001b[0mextra_kw\u001b[0m\u001b[0;34m\u001b[0m\u001b[0;34m\u001b[0m\u001b[0m\n\u001b[1;32m    161\u001b[0m             )\n",
      "\u001b[0;32m~/opt/anaconda3/lib/python3.8/site-packages/urllib3/util/connection.py\u001b[0m in \u001b[0;36mcreate_connection\u001b[0;34m(address, timeout, source_address, socket_options)\u001b[0m\n\u001b[1;32m     72\u001b[0m             \u001b[0;32mif\u001b[0m \u001b[0msource_address\u001b[0m\u001b[0;34m:\u001b[0m\u001b[0;34m\u001b[0m\u001b[0;34m\u001b[0m\u001b[0m\n\u001b[1;32m     73\u001b[0m                 \u001b[0msock\u001b[0m\u001b[0;34m.\u001b[0m\u001b[0mbind\u001b[0m\u001b[0;34m(\u001b[0m\u001b[0msource_address\u001b[0m\u001b[0;34m)\u001b[0m\u001b[0;34m\u001b[0m\u001b[0;34m\u001b[0m\u001b[0m\n\u001b[0;32m---> 74\u001b[0;31m             \u001b[0msock\u001b[0m\u001b[0;34m.\u001b[0m\u001b[0mconnect\u001b[0m\u001b[0;34m(\u001b[0m\u001b[0msa\u001b[0m\u001b[0;34m)\u001b[0m\u001b[0;34m\u001b[0m\u001b[0;34m\u001b[0m\u001b[0m\n\u001b[0m\u001b[1;32m     75\u001b[0m             \u001b[0;32mreturn\u001b[0m \u001b[0msock\u001b[0m\u001b[0;34m\u001b[0m\u001b[0;34m\u001b[0m\u001b[0m\n\u001b[1;32m     76\u001b[0m \u001b[0;34m\u001b[0m\u001b[0m\n",
      "\u001b[0;31mKeyboardInterrupt\u001b[0m: "
     ]
    }
   ],
   "source": [
    "for link in match_links:\n",
    "    response_goal = requests.get(link)\n",
    "    html_parsed_goal = BeautifulSoup(response_goal.text, 'html.parser')\n",
    "    html = html_parsed_goal.find(class_='container__main')\n",
    "    goals = html.find_all(class_=\"grid__content Scoreboard__goalList\")\n",
    "    if goals:\n",
    "        for i in goals:\n",
    "            if i.find_all(class_='Scoreboard__scorer'):\n",
    "                for a in i.find_all(class_='Scoreboard__scorer'):\n",
    "                    buteurs.append(a.text)\n",
    "                    #goals_name.append({f\"Match_{match_count}\" : match_count})\n",
    "        goals_name.append(buteurs) \n",
    "    else:\n",
    "        goals_name.append([None])\n",
    "    buteurs = []"
   ]
  },
  {
   "cell_type": "code",
   "execution_count": null,
   "metadata": {
    "ExecuteTime": {
     "end_time": "2021-07-16T07:13:27.268132Z",
     "start_time": "2021-07-16T07:13:09.422Z"
    }
   },
   "outputs": [],
   "source": [
    "goals_name"
   ]
  },
  {
   "cell_type": "code",
   "execution_count": null,
   "metadata": {
    "ExecuteTime": {
     "end_time": "2021-07-16T07:13:27.280994Z",
     "start_time": "2021-07-16T07:13:09.425Z"
    }
   },
   "outputs": [],
   "source": [
    "# df = pd.DataFrame({'name of issuer': name, 'cusip':cu})  \n",
    "# df = pd.DataFrame(list(zip(name, cu)), columns=['name of issuer', 'cusip'])\n",
    "football_df = pd.DataFrame({'Date': date_list, 'Equipe domicile': home_team_list,'Equipe exterieure': away_team_list, 'Vainqueur': vainqueur_list,'Score domicile': score_home_list,'Score extérieur': score_away_list,'Buteurs': goals_name, 'Lieu du match': match_place_list,'Journée': day_list})"
   ]
  },
  {
   "cell_type": "code",
   "execution_count": null,
   "metadata": {
    "ExecuteTime": {
     "end_time": "2021-07-16T07:13:27.313108Z",
     "start_time": "2021-07-16T07:13:09.432Z"
    }
   },
   "outputs": [],
   "source": [
    "football_df.iloc[355]"
   ]
  },
  {
   "cell_type": "code",
   "execution_count": null,
   "metadata": {
    "ExecuteTime": {
     "end_time": "2021-07-16T07:13:27.320829Z",
     "start_time": "2021-07-16T07:13:09.434Z"
    }
   },
   "outputs": [],
   "source": [
    "football_df['Année'] = football_df['Date'].str[:4]\n",
    "football_df['Mois'] = football_df['Date'].str[5:7]\n",
    "football_df['Jour'] = football_df['Date'].str[8:10]\n",
    "football_df['Heure'] = football_df['Date'].str[10:]"
   ]
  },
  {
   "cell_type": "code",
   "execution_count": null,
   "metadata": {
    "ExecuteTime": {
     "end_time": "2021-06-25T07:14:19.920971Z",
     "start_time": "2021-06-25T07:14:19.912370Z"
    }
   },
   "outputs": [],
   "source": []
  },
  {
   "cell_type": "code",
   "execution_count": null,
   "metadata": {
    "ExecuteTime": {
     "end_time": "2021-07-16T07:13:27.338258Z",
     "start_time": "2021-07-16T07:13:09.446Z"
    }
   },
   "outputs": [],
   "source": [
    "football_df = football_df.drop(['Date'], axis=1)"
   ]
  },
  {
   "cell_type": "code",
   "execution_count": null,
   "metadata": {
    "ExecuteTime": {
     "end_time": "2021-07-16T07:13:27.397384Z",
     "start_time": "2021-07-16T07:13:09.448Z"
    }
   },
   "outputs": [],
   "source": [
    "football_df.columns"
   ]
  },
  {
   "cell_type": "code",
   "execution_count": null,
   "metadata": {
    "ExecuteTime": {
     "end_time": "2021-07-16T07:13:27.446140Z",
     "start_time": "2021-07-16T07:13:09.450Z"
    }
   },
   "outputs": [],
   "source": [
    "football_df = football_df.reindex(columns=['Année','Mois','Jour', 'Heure', 'Equipe domicile', 'Equipe exterieure', 'Vainqueur', 'Score domicile',\n",
    "       'Score extérieur', 'Buteurs','Lieu du match', 'Journée'])"
   ]
  },
  {
   "cell_type": "code",
   "execution_count": null,
   "metadata": {
    "ExecuteTime": {
     "end_time": "2021-07-16T07:13:27.449781Z",
     "start_time": "2021-07-16T07:13:09.452Z"
    }
   },
   "outputs": [],
   "source": [
    "regions = {'Bordeaux' : 'aquitaine',\n",
    "'Saint-Étienne': 'rh-ne-alpes',\n",
    "'Lorient' :'bretagne',\n",
    "'Lille' :'nord-pas-de-calais',\n",
    "'Nîmes' :'languedoc-roussillon',\n",
    "'Metz' :'lorraine',\n",
    "'Angers' :'pays-de-la-loire',\n",
    "'Nice' :'provence-alpes-c-te-d-azur',\n",
    "'Brest' :'bretagne',\n",
    "'Montpellier' :'languedoc-roussillon',\n",
    "'Lens' :'nord-pas-de-calais',\n",
    "'Paris' :'ile-de-france',\n",
    "'Nantes' :'pays-de-la-loire',\n",
    "'Marseille' :'provence-alpes-c-te-d-azur',\n",
    "'Monaco' :'provence-alpes-c-te-d-azur',\n",
    "'Reims' :'champagne-ardenne',\n",
    "'Lyon' :'rh-ne-alpes',\n",
    "'Rennes' :'bretagne',\n",
    "'Dijon' :'bourgogne',\n",
    "'Strasbourg' :'alsace'}"
   ]
  },
  {
   "cell_type": "code",
   "execution_count": null,
   "metadata": {
    "ExecuteTime": {
     "end_time": "2021-07-16T07:13:27.452204Z",
     "start_time": "2021-07-16T07:13:09.455Z"
    }
   },
   "outputs": [],
   "source": [
    "football_df"
   ]
  },
  {
   "cell_type": "code",
   "execution_count": null,
   "metadata": {
    "ExecuteTime": {
     "end_time": "2021-07-16T07:13:27.457317Z",
     "start_time": "2021-07-16T07:13:09.457Z"
    }
   },
   "outputs": [],
   "source": [
    "region_df = []\n",
    "for i in zip(football_df['Année'], football_df['Mois'], football_df['Jour'], football_df['Lieu du match']):\n",
    "    ville = [i[3]]\n",
    "    for city in ville:\n",
    "        region_df.append(regions[city])"
   ]
  },
  {
   "cell_type": "code",
   "execution_count": null,
   "metadata": {
    "ExecuteTime": {
     "end_time": "2021-07-16T07:13:27.483487Z",
     "start_time": "2021-07-16T07:13:09.461Z"
    }
   },
   "outputs": [],
   "source": [
    "football_df['Région'] = region_df\n",
    "football_df"
   ]
  },
  {
   "cell_type": "code",
   "execution_count": null,
   "metadata": {
    "ExecuteTime": {
     "end_time": "2021-07-16T07:13:27.494695Z",
     "start_time": "2021-07-16T07:13:09.463Z"
    }
   },
   "outputs": [],
   "source": [
    "!pip install unidecode\n",
    "import unidecode\n",
    "meteo_urls = []\n",
    "for i in zip(football_df['Région'], football_df['Lieu du match'],football_df['Année'], football_df['Mois'], football_df['Jour']):\n",
    "    meteo_urls.append(f'https://www.historique-meteo.net/france/{i[0]}/{unidecode.unidecode(i[1]).lower()}/{i[2]}/{i[3]}/{i[4]}/')"
   ]
  },
  {
   "cell_type": "code",
   "execution_count": null,
   "metadata": {
    "ExecuteTime": {
     "end_time": "2021-07-16T07:13:27.499250Z",
     "start_time": "2021-07-16T07:13:09.467Z"
    },
    "scrolled": false
   },
   "outputs": [],
   "source": [
    "meteo_urls"
   ]
  },
  {
   "cell_type": "code",
   "execution_count": null,
   "metadata": {
    "ExecuteTime": {
     "end_time": "2021-07-16T07:13:27.504089Z",
     "start_time": "2021-07-16T07:13:09.468Z"
    }
   },
   "outputs": [],
   "source": [
    "def creac():\n",
    "    temp_max = df_meteo[0].iloc[1].strip('°')\n",
    "    temp_min = df_meteo[1].iloc[1].strip('°')\n",
    "    # transform str en int\n",
    "    temp_max = int(temp_max)\n",
    "    temp_min = int(temp_min)    \n",
    "    mean_temp.append((temp_max+temp_min)/2)\n",
    "    precipitations.append(precip)"
   ]
  },
  {
   "cell_type": "code",
   "execution_count": null,
   "metadata": {
    "ExecuteTime": {
     "end_time": "2021-07-16T07:13:27.507973Z",
     "start_time": "2021-07-16T07:13:09.471Z"
    }
   },
   "outputs": [],
   "source": [
    "mean_temp = []\n",
    "precipitations = []\n",
    "for link in meteo_urls:\n",
    "    response = requests.get(link)\n",
    "    variable_meteo = pd.read_html(response.text)\n",
    "    variable_meteo[0]= variable_meteo[0].drop([variable_meteo[0].columns[1],\n",
    "                                               variable_meteo[0].columns[2],\n",
    "                                               variable_meteo[0].columns[4],\n",
    "                                               variable_meteo[0].columns[5]],axis=1)\n",
    "    if len(variable_meteo[0]) == 15:\n",
    "        variable_meteo[0].drop([2,3,5,6,7,8,9,10,11,12,13],axis=0,inplace=True)\n",
    "        df_meteo = variable_meteo[0].transpose()\n",
    "        precip = df_meteo[4].iloc[1].strip('mm')\n",
    "        precip = int(precip)\n",
    "    else:\n",
    "        variable_meteo[0].drop(variable_meteo[0].index[2:],axis=0,inplace=True)\n",
    "        df_meteo = variable_meteo[0].transpose()\n",
    "        precip = 0\n",
    "    creac()"
   ]
  },
  {
   "cell_type": "code",
   "execution_count": null,
   "metadata": {
    "ExecuteTime": {
     "end_time": "2021-07-16T07:13:27.525443Z",
     "start_time": "2021-07-16T07:13:09.473Z"
    }
   },
   "outputs": [],
   "source": [
    "len(mean_temp)"
   ]
  },
  {
   "cell_type": "code",
   "execution_count": null,
   "metadata": {
    "ExecuteTime": {
     "end_time": "2021-07-16T07:13:27.529278Z",
     "start_time": "2021-07-16T07:13:09.475Z"
    }
   },
   "outputs": [],
   "source": [
    "len(precipitations)"
   ]
  },
  {
   "cell_type": "code",
   "execution_count": null,
   "metadata": {
    "ExecuteTime": {
     "end_time": "2021-07-16T07:13:27.537939Z",
     "start_time": "2021-07-16T07:13:09.520Z"
    }
   },
   "outputs": [],
   "source": [
    "football_df['Temperature moyenne'] = mean_temp\n",
    "football_df['Précipitations en mm'] = precipitations\n",
    "football_df"
   ]
  },
  {
   "cell_type": "code",
   "execution_count": null,
   "metadata": {
    "ExecuteTime": {
     "end_time": "2021-07-16T07:13:27.546011Z",
     "start_time": "2021-07-16T07:13:09.525Z"
    }
   },
   "outputs": [],
   "source": [
    "football_df.to_pickle('Data/football.pkl')"
   ]
  },
  {
   "cell_type": "code",
   "execution_count": null,
   "metadata": {},
   "outputs": [],
   "source": []
  },
  {
   "cell_type": "code",
   "execution_count": null,
   "metadata": {
    "ExecuteTime": {
     "end_time": "2021-06-25T07:20:27.702529Z",
     "start_time": "2021-06-25T07:20:27.678612Z"
    }
   },
   "outputs": [],
   "source": []
  },
  {
   "cell_type": "code",
   "execution_count": null,
   "metadata": {},
   "outputs": [],
   "source": []
  },
  {
   "cell_type": "code",
   "execution_count": null,
   "metadata": {},
   "outputs": [],
   "source": []
  },
  {
   "cell_type": "code",
   "execution_count": null,
   "metadata": {},
   "outputs": [],
   "source": []
  }
 ],
 "metadata": {
  "kernelspec": {
   "display_name": "Python 3",
   "language": "python",
   "name": "python3"
  },
  "language_info": {
   "codemirror_mode": {
    "name": "ipython",
    "version": 3
   },
   "file_extension": ".py",
   "mimetype": "text/x-python",
   "name": "python",
   "nbconvert_exporter": "python",
   "pygments_lexer": "ipython3",
   "version": "3.8.5"
  },
  "latex_envs": {
   "LaTeX_envs_menu_present": true,
   "autoclose": false,
   "autocomplete": true,
   "bibliofile": "biblio.bib",
   "cite_by": "apalike",
   "current_citInitial": 1,
   "eqLabelWithNumbers": true,
   "eqNumInitial": 1,
   "hotkeys": {
    "equation": "Ctrl-E",
    "itemize": "Ctrl-I"
   },
   "labels_anchors": false,
   "latex_user_defs": false,
   "report_style_numbering": false,
   "user_envs_cfg": false
  },
  "toc": {
   "base_numbering": 1,
   "nav_menu": {},
   "number_sections": true,
   "sideBar": true,
   "skip_h1_title": false,
   "title_cell": "Table of Contents",
   "title_sidebar": "Contents",
   "toc_cell": false,
   "toc_position": {},
   "toc_section_display": true,
   "toc_window_display": false
  }
 },
 "nbformat": 4,
 "nbformat_minor": 4
}
